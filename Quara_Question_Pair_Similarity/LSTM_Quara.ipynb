{
 "cells": [
  {
   "cell_type": "code",
   "execution_count": 1,
   "id": "6478d9ba",
   "metadata": {
    "execution": {
     "iopub.execute_input": "2022-03-27T10:43:34.579678Z",
     "iopub.status.busy": "2022-03-27T10:43:34.578844Z",
     "iopub.status.idle": "2022-03-27T10:43:38.935975Z",
     "shell.execute_reply": "2022-03-27T10:43:38.934969Z",
     "shell.execute_reply.started": "2022-03-27T09:45:36.737056Z"
    },
    "papermill": {
     "duration": 4.403763,
     "end_time": "2022-03-27T10:43:38.936159",
     "exception": false,
     "start_time": "2022-03-27T10:43:34.532396",
     "status": "completed"
    },
    "tags": []
   },
   "outputs": [],
   "source": [
    "import pandas as pd\n",
    "import numpy as np\n",
    "from tqdm import tqdm\n",
    "from keras.models import Sequential\n",
    "from keras.layers.core import Dense, Activation, Dropout\n",
    "from keras.layers.embeddings import Embedding\n",
    "from keras.layers.recurrent import LSTM, GRU\n",
    "from keras.layers import BatchNormalization\n",
    "from keras.utils import np_utils\n",
    "#from keras.engine import Merge\n",
    "from keras.layers import TimeDistributed, Lambda\n",
    "from keras.layers import Convolution1D, GlobalMaxPooling1D\n",
    "from keras.callbacks import ModelCheckpoint\n",
    "from keras import backend as K\n",
    "from keras.layers.advanced_activations import PReLU\n",
    "from keras.preprocessing import sequence, text"
   ]
  },
  {
   "cell_type": "code",
   "execution_count": 2,
   "id": "500e8078",
   "metadata": {
    "execution": {
     "iopub.execute_input": "2022-03-27T10:43:39.018708Z",
     "iopub.status.busy": "2022-03-27T10:43:39.010943Z",
     "iopub.status.idle": "2022-03-27T10:43:39.681977Z",
     "shell.execute_reply": "2022-03-27T10:43:39.680998Z",
     "shell.execute_reply.started": "2022-03-27T09:42:31.707609Z"
    },
    "papermill": {
     "duration": 0.710545,
     "end_time": "2022-03-27T10:43:39.682133",
     "exception": false,
     "start_time": "2022-03-27T10:43:38.971588",
     "status": "completed"
    },
    "tags": []
   },
   "outputs": [],
   "source": [
    "!wget https://ml.azure.com/fileexplorerAzNB?wsid=/subscriptions/8ed3e7d5-c78d-49cb-ad0a-46c3a5f6d9a6/resourcegroups/WD/workspaces/wheatDetection&tid=15bfb374-e29e-4015-ad22-1ac402610644&activeFilePath=Users/akshaychacharkar27/LSTM_Quara/EmbeddingsMatrix.npy"
   ]
  },
  {
   "cell_type": "code",
   "execution_count": 3,
   "id": "91fe91ef",
   "metadata": {
    "execution": {
     "iopub.execute_input": "2022-03-27T10:43:39.756437Z",
     "iopub.status.busy": "2022-03-27T10:43:39.755668Z",
     "iopub.status.idle": "2022-03-27T10:43:41.027728Z",
     "shell.execute_reply": "2022-03-27T10:43:41.027016Z",
     "shell.execute_reply.started": "2022-03-27T09:45:41.707596Z"
    },
    "papermill": {
     "duration": 1.31067,
     "end_time": "2022-03-27T10:43:41.027871",
     "exception": false,
     "start_time": "2022-03-27T10:43:39.717201",
     "status": "completed"
    },
    "tags": []
   },
   "outputs": [
    {
     "name": "stdout",
     "output_type": "stream",
     "text": [
      "Archive:  ../input/quora-question-pairs/train.csv.zip\r\n",
      "  inflating: train.csv               \r\n"
     ]
    }
   ],
   "source": [
    "!unzip ../input/quora-question-pairs/train.csv.zip"
   ]
  },
  {
   "cell_type": "code",
   "execution_count": 4,
   "id": "20fa4da9",
   "metadata": {
    "execution": {
     "iopub.execute_input": "2022-03-27T10:43:41.101985Z",
     "iopub.status.busy": "2022-03-27T10:43:41.101260Z",
     "iopub.status.idle": "2022-03-27T10:43:46.505676Z",
     "shell.execute_reply": "2022-03-27T10:43:46.505185Z",
     "shell.execute_reply.started": "2022-03-27T09:45:23.102085Z"
    },
    "papermill": {
     "duration": 5.443345,
     "end_time": "2022-03-27T10:43:46.505804",
     "exception": false,
     "start_time": "2022-03-27T10:43:41.062459",
     "status": "completed"
    },
    "tags": []
   },
   "outputs": [
    {
     "name": "stdout",
     "output_type": "stream",
     "text": [
      "Archive:  ../input/quora-question-pairs/test.csv.zip\r\n",
      "  inflating: test.csv                \r\n"
     ]
    }
   ],
   "source": [
    "!unzip ../input/quora-question-pairs/test.csv.zip"
   ]
  },
  {
   "cell_type": "code",
   "execution_count": 5,
   "id": "a584575a",
   "metadata": {
    "execution": {
     "iopub.execute_input": "2022-03-27T10:43:46.583816Z",
     "iopub.status.busy": "2022-03-27T10:43:46.582944Z",
     "iopub.status.idle": "2022-03-27T10:43:47.849642Z",
     "shell.execute_reply": "2022-03-27T10:43:47.849143Z",
     "shell.execute_reply.started": "2022-03-27T09:45:49.392011Z"
    },
    "papermill": {
     "duration": 1.307041,
     "end_time": "2022-03-27T10:43:47.849766",
     "exception": false,
     "start_time": "2022-03-27T10:43:46.542725",
     "status": "completed"
    },
    "tags": []
   },
   "outputs": [
    {
     "data": {
      "text/html": [
       "<div>\n",
       "<style scoped>\n",
       "    .dataframe tbody tr th:only-of-type {\n",
       "        vertical-align: middle;\n",
       "    }\n",
       "\n",
       "    .dataframe tbody tr th {\n",
       "        vertical-align: top;\n",
       "    }\n",
       "\n",
       "    .dataframe thead th {\n",
       "        text-align: right;\n",
       "    }\n",
       "</style>\n",
       "<table border=\"1\" class=\"dataframe\">\n",
       "  <thead>\n",
       "    <tr style=\"text-align: right;\">\n",
       "      <th></th>\n",
       "      <th>id</th>\n",
       "      <th>qid1</th>\n",
       "      <th>qid2</th>\n",
       "      <th>question1</th>\n",
       "      <th>question2</th>\n",
       "      <th>is_duplicate</th>\n",
       "    </tr>\n",
       "  </thead>\n",
       "  <tbody>\n",
       "    <tr>\n",
       "      <th>0</th>\n",
       "      <td>0</td>\n",
       "      <td>1</td>\n",
       "      <td>2</td>\n",
       "      <td>What is the step by step guide to invest in sh...</td>\n",
       "      <td>What is the step by step guide to invest in sh...</td>\n",
       "      <td>0</td>\n",
       "    </tr>\n",
       "    <tr>\n",
       "      <th>1</th>\n",
       "      <td>1</td>\n",
       "      <td>3</td>\n",
       "      <td>4</td>\n",
       "      <td>What is the story of Kohinoor (Koh-i-Noor) Dia...</td>\n",
       "      <td>What would happen if the Indian government sto...</td>\n",
       "      <td>0</td>\n",
       "    </tr>\n",
       "    <tr>\n",
       "      <th>2</th>\n",
       "      <td>2</td>\n",
       "      <td>5</td>\n",
       "      <td>6</td>\n",
       "      <td>How can I increase the speed of my internet co...</td>\n",
       "      <td>How can Internet speed be increased by hacking...</td>\n",
       "      <td>0</td>\n",
       "    </tr>\n",
       "    <tr>\n",
       "      <th>3</th>\n",
       "      <td>3</td>\n",
       "      <td>7</td>\n",
       "      <td>8</td>\n",
       "      <td>Why am I mentally very lonely? How can I solve...</td>\n",
       "      <td>Find the remainder when [math]23^{24}[/math] i...</td>\n",
       "      <td>0</td>\n",
       "    </tr>\n",
       "    <tr>\n",
       "      <th>4</th>\n",
       "      <td>4</td>\n",
       "      <td>9</td>\n",
       "      <td>10</td>\n",
       "      <td>Which one dissolve in water quikly sugar, salt...</td>\n",
       "      <td>Which fish would survive in salt water?</td>\n",
       "      <td>0</td>\n",
       "    </tr>\n",
       "  </tbody>\n",
       "</table>\n",
       "</div>"
      ],
      "text/plain": [
       "   id  qid1  qid2                                          question1  \\\n",
       "0   0     1     2  What is the step by step guide to invest in sh...   \n",
       "1   1     3     4  What is the story of Kohinoor (Koh-i-Noor) Dia...   \n",
       "2   2     5     6  How can I increase the speed of my internet co...   \n",
       "3   3     7     8  Why am I mentally very lonely? How can I solve...   \n",
       "4   4     9    10  Which one dissolve in water quikly sugar, salt...   \n",
       "\n",
       "                                           question2  is_duplicate  \n",
       "0  What is the step by step guide to invest in sh...             0  \n",
       "1  What would happen if the Indian government sto...             0  \n",
       "2  How can Internet speed be increased by hacking...             0  \n",
       "3  Find the remainder when [math]23^{24}[/math] i...             0  \n",
       "4            Which fish would survive in salt water?             0  "
      ]
     },
     "execution_count": 5,
     "metadata": {},
     "output_type": "execute_result"
    }
   ],
   "source": [
    "data = pd.read_csv('./train.csv')\n",
    "data.head()"
   ]
  },
  {
   "cell_type": "code",
   "execution_count": 6,
   "id": "a5ed2192",
   "metadata": {
    "execution": {
     "iopub.execute_input": "2022-03-27T10:43:47.929560Z",
     "iopub.status.busy": "2022-03-27T10:43:47.928735Z",
     "iopub.status.idle": "2022-03-27T10:43:56.453186Z",
     "shell.execute_reply": "2022-03-27T10:43:56.454277Z",
     "shell.execute_reply.started": "2022-03-27T09:45:52.872055Z"
    },
    "papermill": {
     "duration": 8.566386,
     "end_time": "2022-03-27T10:43:56.454512",
     "exception": false,
     "start_time": "2022-03-27T10:43:47.888126",
     "status": "completed"
    },
    "tags": []
   },
   "outputs": [
    {
     "name": "stderr",
     "output_type": "stream",
     "text": [
      "/opt/conda/lib/python3.7/site-packages/IPython/core/interactiveshell.py:3457: DtypeWarning: Columns (0) have mixed types.Specify dtype option on import or set low_memory=False.\n",
      "  exec(code_obj, self.user_global_ns, self.user_ns)\n"
     ]
    },
    {
     "data": {
      "text/html": [
       "<div>\n",
       "<style scoped>\n",
       "    .dataframe tbody tr th:only-of-type {\n",
       "        vertical-align: middle;\n",
       "    }\n",
       "\n",
       "    .dataframe tbody tr th {\n",
       "        vertical-align: top;\n",
       "    }\n",
       "\n",
       "    .dataframe thead th {\n",
       "        text-align: right;\n",
       "    }\n",
       "</style>\n",
       "<table border=\"1\" class=\"dataframe\">\n",
       "  <thead>\n",
       "    <tr style=\"text-align: right;\">\n",
       "      <th></th>\n",
       "      <th>test_id</th>\n",
       "      <th>question1</th>\n",
       "      <th>question2</th>\n",
       "    </tr>\n",
       "  </thead>\n",
       "  <tbody>\n",
       "    <tr>\n",
       "      <th>0</th>\n",
       "      <td>0</td>\n",
       "      <td>How does the Surface Pro himself 4 compare wit...</td>\n",
       "      <td>Why did Microsoft choose core m3 and not core ...</td>\n",
       "    </tr>\n",
       "    <tr>\n",
       "      <th>1</th>\n",
       "      <td>1</td>\n",
       "      <td>Should I have a hair transplant at age 24? How...</td>\n",
       "      <td>How much cost does hair transplant require?</td>\n",
       "    </tr>\n",
       "    <tr>\n",
       "      <th>2</th>\n",
       "      <td>2</td>\n",
       "      <td>What but is the best way to send money from Ch...</td>\n",
       "      <td>What you send money to China?</td>\n",
       "    </tr>\n",
       "    <tr>\n",
       "      <th>3</th>\n",
       "      <td>3</td>\n",
       "      <td>Which food not emulsifiers?</td>\n",
       "      <td>What foods fibre?</td>\n",
       "    </tr>\n",
       "    <tr>\n",
       "      <th>4</th>\n",
       "      <td>4</td>\n",
       "      <td>How \"aberystwyth\" start reading?</td>\n",
       "      <td>How their can I start reading?</td>\n",
       "    </tr>\n",
       "  </tbody>\n",
       "</table>\n",
       "</div>"
      ],
      "text/plain": [
       "  test_id                                          question1  \\\n",
       "0       0  How does the Surface Pro himself 4 compare wit...   \n",
       "1       1  Should I have a hair transplant at age 24? How...   \n",
       "2       2  What but is the best way to send money from Ch...   \n",
       "3       3                        Which food not emulsifiers?   \n",
       "4       4                   How \"aberystwyth\" start reading?   \n",
       "\n",
       "                                           question2  \n",
       "0  Why did Microsoft choose core m3 and not core ...  \n",
       "1        How much cost does hair transplant require?  \n",
       "2                      What you send money to China?  \n",
       "3                                  What foods fibre?  \n",
       "4                     How their can I start reading?  "
      ]
     },
     "execution_count": 6,
     "metadata": {},
     "output_type": "execute_result"
    }
   ],
   "source": [
    "data_test = pd.read_csv('./test.csv')\n",
    "data_test.head()"
   ]
  },
  {
   "cell_type": "code",
   "execution_count": 7,
   "id": "ecb6af81",
   "metadata": {
    "execution": {
     "iopub.execute_input": "2022-03-27T10:43:56.585242Z",
     "iopub.status.busy": "2022-03-27T10:43:56.583846Z",
     "iopub.status.idle": "2022-03-27T10:43:56.585941Z",
     "shell.execute_reply": "2022-03-27T10:43:56.584513Z",
     "shell.execute_reply.started": "2022-03-27T09:46:01.411338Z"
    },
    "papermill": {
     "duration": 0.073546,
     "end_time": "2022-03-27T10:43:56.586103",
     "exception": false,
     "start_time": "2022-03-27T10:43:56.512557",
     "status": "completed"
    },
    "tags": []
   },
   "outputs": [],
   "source": [
    "y = data.is_duplicate.values"
   ]
  },
  {
   "cell_type": "code",
   "execution_count": 8,
   "id": "1b035f32",
   "metadata": {
    "execution": {
     "iopub.execute_input": "2022-03-27T10:43:56.707251Z",
     "iopub.status.busy": "2022-03-27T10:43:56.706490Z",
     "iopub.status.idle": "2022-03-27T10:43:56.710712Z",
     "shell.execute_reply": "2022-03-27T10:43:56.711293Z",
     "shell.execute_reply.started": "2022-03-27T09:46:01.420650Z"
    },
    "papermill": {
     "duration": 0.06808,
     "end_time": "2022-03-27T10:43:56.711469",
     "exception": false,
     "start_time": "2022-03-27T10:43:56.643389",
     "status": "completed"
    },
    "tags": []
   },
   "outputs": [
    {
     "data": {
      "text/plain": [
       "array([0, 0, 0, ..., 0, 0, 0])"
      ]
     },
     "execution_count": 8,
     "metadata": {},
     "output_type": "execute_result"
    }
   ],
   "source": [
    "y"
   ]
  },
  {
   "cell_type": "code",
   "execution_count": 9,
   "id": "7fb1861d",
   "metadata": {
    "execution": {
     "iopub.execute_input": "2022-03-27T10:44:01.339055Z",
     "iopub.status.busy": "2022-03-27T10:43:59.792229Z",
     "iopub.status.idle": "2022-03-27T10:44:24.906880Z",
     "shell.execute_reply": "2022-03-27T10:44:24.906402Z",
     "shell.execute_reply.started": "2022-03-27T09:46:01.432923Z"
    },
    "papermill": {
     "duration": 28.141728,
     "end_time": "2022-03-27T10:44:24.907050",
     "exception": false,
     "start_time": "2022-03-27T10:43:56.765322",
     "status": "completed"
    },
    "tags": []
   },
   "outputs": [],
   "source": [
    "tk = text.Tokenizer(num_words=200000)\n",
    "\n",
    "max_len = 40\n",
    "tk.fit_on_texts(list(data.question1.values.astype(str)) + list(data.question2.values.astype(str)))\n",
    "x1 = tk.texts_to_sequences(data.question1.values.astype(str))\n",
    "x1 = sequence.pad_sequences(x1, maxlen=max_len)"
   ]
  },
  {
   "cell_type": "code",
   "execution_count": 10,
   "id": "26bf093d",
   "metadata": {
    "execution": {
     "iopub.execute_input": "2022-03-27T10:44:26.191934Z",
     "iopub.status.busy": "2022-03-27T10:44:26.191116Z",
     "iopub.status.idle": "2022-03-27T10:44:36.398893Z",
     "shell.execute_reply": "2022-03-27T10:44:36.398426Z",
     "shell.execute_reply.started": "2022-03-27T10:15:13.951736Z"
    },
    "papermill": {
     "duration": 11.455082,
     "end_time": "2022-03-27T10:44:36.399048",
     "exception": false,
     "start_time": "2022-03-27T10:44:24.943966",
     "status": "completed"
    },
    "tags": []
   },
   "outputs": [],
   "source": [
    "x2 = tk.texts_to_sequences(data.question2.values.astype(str))\n",
    "x2 = sequence.pad_sequences(x2, maxlen=max_len)"
   ]
  },
  {
   "cell_type": "code",
   "execution_count": 11,
   "id": "2f3ea615",
   "metadata": {
    "execution": {
     "iopub.execute_input": "2022-03-27T10:44:36.476169Z",
     "iopub.status.busy": "2022-03-27T10:44:36.475447Z",
     "iopub.status.idle": "2022-03-27T10:50:31.929842Z",
     "shell.execute_reply": "2022-03-27T10:50:31.930327Z",
     "shell.execute_reply.started": "2022-03-27T09:46:29.770526Z"
    },
    "papermill": {
     "duration": 355.495241,
     "end_time": "2022-03-27T10:50:31.930509",
     "exception": false,
     "start_time": "2022-03-27T10:44:36.435268",
     "status": "completed"
    },
    "tags": []
   },
   "outputs": [
    {
     "name": "stdout",
     "output_type": "stream",
     "text": [
      "--2022-03-27 10:44:37--  https://nlp.stanford.edu/data/glove.42B.300d.zip\r\n",
      "Resolving nlp.stanford.edu (nlp.stanford.edu)... 171.64.67.140\r\n",
      "Connecting to nlp.stanford.edu (nlp.stanford.edu)|171.64.67.140|:443... connected.\r\n",
      "HTTP request sent, awaiting response... 301 Moved Permanently\r\n",
      "Location: http://downloads.cs.stanford.edu/nlp/data/glove.42B.300d.zip [following]\r\n",
      "--2022-03-27 10:44:37--  http://downloads.cs.stanford.edu/nlp/data/glove.42B.300d.zip\r\n",
      "Resolving downloads.cs.stanford.edu (downloads.cs.stanford.edu)... 171.64.64.22\r\n",
      "Connecting to downloads.cs.stanford.edu (downloads.cs.stanford.edu)|171.64.64.22|:80... connected.\r\n",
      "HTTP request sent, awaiting response... 200 OK\r\n",
      "Length: 1877800501 (1.7G) [application/zip]\r\n",
      "Saving to: ‘glove.42B.300d.zip’\r\n",
      "\r\n",
      "glove.42B.300d.zip  100%[===================>]   1.75G  5.02MB/s    in 5m 54s  \r\n",
      "\r\n",
      "2022-03-27 10:50:31 (5.05 MB/s) - ‘glove.42B.300d.zip’ saved [1877800501/1877800501]\r\n",
      "\r\n"
     ]
    }
   ],
   "source": [
    "!wget https://nlp.stanford.edu/data/glove.42B.300d.zip"
   ]
  },
  {
   "cell_type": "code",
   "execution_count": 12,
   "id": "459376e5",
   "metadata": {
    "execution": {
     "iopub.execute_input": "2022-03-27T10:50:32.301118Z",
     "iopub.status.busy": "2022-03-27T10:50:32.286862Z",
     "iopub.status.idle": "2022-03-27T10:51:19.946358Z",
     "shell.execute_reply": "2022-03-27T10:51:19.947254Z",
     "shell.execute_reply.started": "2022-03-27T09:52:26.896904Z"
    },
    "papermill": {
     "duration": 47.840395,
     "end_time": "2022-03-27T10:51:19.947648",
     "exception": false,
     "start_time": "2022-03-27T10:50:32.107253",
     "status": "completed"
    },
    "tags": []
   },
   "outputs": [
    {
     "name": "stdout",
     "output_type": "stream",
     "text": [
      "Archive:  ./glove.42B.300d.zip\r\n",
      "  inflating: glove.42B.300d.txt      \r\n"
     ]
    }
   ],
   "source": [
    "!unzip ./glove.42B.300d.zip"
   ]
  },
  {
   "cell_type": "code",
   "execution_count": 13,
   "id": "92a82944",
   "metadata": {
    "execution": {
     "iopub.execute_input": "2022-03-27T10:51:20.487972Z",
     "iopub.status.busy": "2022-03-27T10:51:20.487196Z",
     "iopub.status.idle": "2022-03-27T10:51:20.497855Z",
     "shell.execute_reply": "2022-03-27T10:51:20.499121Z",
     "shell.execute_reply.started": "2022-03-27T09:53:14.454414Z"
    },
    "papermill": {
     "duration": 0.311792,
     "end_time": "2022-03-27T10:51:20.499333",
     "exception": false,
     "start_time": "2022-03-27T10:51:20.187541",
     "status": "completed"
    },
    "tags": []
   },
   "outputs": [],
   "source": [
    "ytrain_enc = np_utils.to_categorical(y)"
   ]
  },
  {
   "cell_type": "code",
   "execution_count": 14,
   "id": "e9d5ebc3",
   "metadata": {
    "execution": {
     "iopub.execute_input": "2022-03-27T10:51:21.101580Z",
     "iopub.status.busy": "2022-03-27T10:51:21.100807Z",
     "iopub.status.idle": "2022-03-27T10:51:21.105197Z",
     "shell.execute_reply": "2022-03-27T10:51:21.105766Z",
     "shell.execute_reply.started": "2022-03-27T09:53:14.469374Z"
    },
    "papermill": {
     "duration": 0.327567,
     "end_time": "2022-03-27T10:51:21.105946",
     "exception": false,
     "start_time": "2022-03-27T10:51:20.778379",
     "status": "completed"
    },
    "tags": []
   },
   "outputs": [
    {
     "data": {
      "text/plain": [
       "array([[1., 0.],\n",
       "       [1., 0.],\n",
       "       [1., 0.],\n",
       "       ...,\n",
       "       [1., 0.],\n",
       "       [1., 0.],\n",
       "       [1., 0.]], dtype=float32)"
      ]
     },
     "execution_count": 14,
     "metadata": {},
     "output_type": "execute_result"
    }
   ],
   "source": [
    "ytrain_enc"
   ]
  },
  {
   "cell_type": "code",
   "execution_count": 15,
   "id": "f7f4e65c",
   "metadata": {
    "execution": {
     "iopub.execute_input": "2022-03-27T10:51:21.621018Z",
     "iopub.status.busy": "2022-03-27T10:51:21.620214Z",
     "iopub.status.idle": "2022-03-27T10:51:21.622267Z",
     "shell.execute_reply": "2022-03-27T10:51:21.622677Z",
     "shell.execute_reply.started": "2022-03-27T09:53:15.581811Z"
    },
    "papermill": {
     "duration": 0.22837,
     "end_time": "2022-03-27T10:51:21.622806",
     "exception": false,
     "start_time": "2022-03-27T10:51:21.394436",
     "status": "completed"
    },
    "tags": []
   },
   "outputs": [],
   "source": [
    "word_index = tk.word_index"
   ]
  },
  {
   "cell_type": "code",
   "execution_count": 16,
   "id": "253bff11",
   "metadata": {
    "execution": {
     "iopub.execute_input": "2022-03-27T10:51:21.990387Z",
     "iopub.status.busy": "2022-03-27T10:51:21.989754Z",
     "iopub.status.idle": "2022-03-27T10:54:06.953148Z",
     "shell.execute_reply": "2022-03-27T10:54:06.953628Z",
     "shell.execute_reply.started": "2022-03-27T09:53:15.615007Z"
    },
    "papermill": {
     "duration": 165.155117,
     "end_time": "2022-03-27T10:54:06.953831",
     "exception": false,
     "start_time": "2022-03-27T10:51:21.798714",
     "status": "completed"
    },
    "tags": []
   },
   "outputs": [
    {
     "name": "stderr",
     "output_type": "stream",
     "text": [
      "1917494it [02:44, 11626.92it/s]"
     ]
    },
    {
     "name": "stdout",
     "output_type": "stream",
     "text": [
      "Found 1917494 word vectors.\n"
     ]
    },
    {
     "name": "stderr",
     "output_type": "stream",
     "text": [
      "\n"
     ]
    }
   ],
   "source": [
    "embeddings_index = {}\n",
    "f = open('./glove.42B.300d.txt')\n",
    "for line in tqdm(f):\n",
    "    values = line.split()\n",
    "    word = values[0]\n",
    "    coefs = np.asarray(values[1:], dtype='float32')\n",
    "    embeddings_index[word] = coefs\n",
    "f.close()\n",
    "\n",
    "print('Found %s word vectors.' % len(embeddings_index))"
   ]
  },
  {
   "cell_type": "code",
   "execution_count": 17,
   "id": "f03dd6cc",
   "metadata": {
    "execution": {
     "iopub.execute_input": "2022-03-27T10:54:08.436965Z",
     "iopub.status.busy": "2022-03-27T10:54:08.436085Z",
     "iopub.status.idle": "2022-03-27T10:54:08.826162Z",
     "shell.execute_reply": "2022-03-27T10:54:08.826610Z",
     "shell.execute_reply.started": "2022-03-27T09:55:52.241228Z"
    },
    "papermill": {
     "duration": 1.154751,
     "end_time": "2022-03-27T10:54:08.826766",
     "exception": false,
     "start_time": "2022-03-27T10:54:07.672015",
     "status": "completed"
    },
    "tags": []
   },
   "outputs": [
    {
     "name": "stderr",
     "output_type": "stream",
     "text": [
      "100%|██████████| 95596/95596 [00:00<00:00, 249177.77it/s]\n"
     ]
    }
   ],
   "source": [
    "embedding_matrix = np.zeros((len(word_index) + 1, 300))\n",
    "for word, i in tqdm(word_index.items()):\n",
    "    embedding_vector = embeddings_index.get(word)\n",
    "    if embedding_vector is not None:\n",
    "        embedding_matrix[i] = embedding_vector"
   ]
  },
  {
   "cell_type": "code",
   "execution_count": 18,
   "id": "87e171b7",
   "metadata": {
    "execution": {
     "iopub.execute_input": "2022-03-27T10:54:10.251003Z",
     "iopub.status.busy": "2022-03-27T10:54:10.250006Z",
     "iopub.status.idle": "2022-03-27T10:54:10.252053Z",
     "shell.execute_reply": "2022-03-27T10:54:10.252496Z",
     "shell.execute_reply.started": "2022-03-27T09:55:52.618045Z"
    },
    "papermill": {
     "duration": 0.710682,
     "end_time": "2022-03-27T10:54:10.252636",
     "exception": false,
     "start_time": "2022-03-27T10:54:09.541954",
     "status": "completed"
    },
    "tags": []
   },
   "outputs": [],
   "source": [
    "max_features = 200000\n",
    "filter_length = 5\n",
    "nb_filter = 64\n",
    "pool_length = 4"
   ]
  },
  {
   "cell_type": "code",
   "execution_count": 19,
   "id": "a6e282ac",
   "metadata": {
    "execution": {
     "iopub.execute_input": "2022-03-27T10:54:11.734406Z",
     "iopub.status.busy": "2022-03-27T10:54:11.733428Z",
     "iopub.status.idle": "2022-03-27T10:54:11.737039Z",
     "shell.execute_reply": "2022-03-27T10:54:11.737664Z",
     "shell.execute_reply.started": "2022-03-27T09:55:52.626220Z"
    },
    "papermill": {
     "duration": 0.779161,
     "end_time": "2022-03-27T10:54:11.737857",
     "exception": false,
     "start_time": "2022-03-27T10:54:10.958696",
     "status": "completed"
    },
    "tags": []
   },
   "outputs": [
    {
     "name": "stdout",
     "output_type": "stream",
     "text": [
      "Build model...\n"
     ]
    }
   ],
   "source": [
    "print('Build model...')"
   ]
  },
  {
   "cell_type": "code",
   "execution_count": 20,
   "id": "b5029845",
   "metadata": {
    "execution": {
     "iopub.execute_input": "2022-03-27T10:54:13.175893Z",
     "iopub.status.busy": "2022-03-27T10:54:13.174747Z",
     "iopub.status.idle": "2022-03-27T10:54:13.480370Z",
     "shell.execute_reply": "2022-03-27T10:54:13.480872Z",
     "shell.execute_reply.started": "2022-03-27T09:55:52.635821Z"
    },
    "papermill": {
     "duration": 1.025314,
     "end_time": "2022-03-27T10:54:13.481078",
     "exception": false,
     "start_time": "2022-03-27T10:54:12.455764",
     "status": "completed"
    },
    "tags": []
   },
   "outputs": [],
   "source": [
    "import tensorflow as tf\n",
    "from keras.layers import TimeDistributed,Lambda\n",
    "from keras.layers.core import Dense, Activation, Dropout,Flatten\n",
    "from keras.regularizers import l2\n",
    "from keras.layers.embeddings import Embedding\n",
    "from keras.layers import Input,BatchNormalization\n",
    "from keras.layers import Conv1D, MaxPool1D\n",
    "from keras.callbacks import ModelCheckpoint\n",
    "from keras.models import Model\n",
    "from tensorflow.keras.callbacks import LearningRateScheduler\n",
    "import os\n",
    "import datetime\n",
    "from keras.callbacks import EarlyStopping\n",
    "import keras.backend as K\n",
    "from keras.layers import concatenate"
   ]
  },
  {
   "cell_type": "code",
   "execution_count": 21,
   "id": "127cddd6",
   "metadata": {
    "execution": {
     "iopub.execute_input": "2022-03-27T10:54:15.238005Z",
     "iopub.status.busy": "2022-03-27T10:54:15.237362Z",
     "iopub.status.idle": "2022-03-27T10:54:17.877634Z",
     "shell.execute_reply": "2022-03-27T10:54:17.877122Z",
     "shell.execute_reply.started": "2022-03-27T10:05:13.546082Z"
    },
    "papermill": {
     "duration": 3.400649,
     "end_time": "2022-03-27T10:54:17.877764",
     "exception": false,
     "start_time": "2022-03-27T10:54:14.477115",
     "status": "completed"
    },
    "tags": []
   },
   "outputs": [
    {
     "name": "stderr",
     "output_type": "stream",
     "text": [
      "2022-03-27 10:54:15.329930: I tensorflow/stream_executor/cuda/cuda_gpu_executor.cc:937] successful NUMA node read from SysFS had negative value (-1), but there must be at least one NUMA node, so returning NUMA node zero\n",
      "2022-03-27 10:54:15.421190: I tensorflow/stream_executor/cuda/cuda_gpu_executor.cc:937] successful NUMA node read from SysFS had negative value (-1), but there must be at least one NUMA node, so returning NUMA node zero\n",
      "2022-03-27 10:54:15.421963: I tensorflow/stream_executor/cuda/cuda_gpu_executor.cc:937] successful NUMA node read from SysFS had negative value (-1), but there must be at least one NUMA node, so returning NUMA node zero\n",
      "2022-03-27 10:54:15.423543: I tensorflow/core/platform/cpu_feature_guard.cc:142] This TensorFlow binary is optimized with oneAPI Deep Neural Network Library (oneDNN) to use the following CPU instructions in performance-critical operations:  AVX2 AVX512F FMA\n",
      "To enable them in other operations, rebuild TensorFlow with the appropriate compiler flags.\n",
      "2022-03-27 10:54:15.423938: I tensorflow/stream_executor/cuda/cuda_gpu_executor.cc:937] successful NUMA node read from SysFS had negative value (-1), but there must be at least one NUMA node, so returning NUMA node zero\n",
      "2022-03-27 10:54:15.424784: I tensorflow/stream_executor/cuda/cuda_gpu_executor.cc:937] successful NUMA node read from SysFS had negative value (-1), but there must be at least one NUMA node, so returning NUMA node zero\n",
      "2022-03-27 10:54:15.425539: I tensorflow/stream_executor/cuda/cuda_gpu_executor.cc:937] successful NUMA node read from SysFS had negative value (-1), but there must be at least one NUMA node, so returning NUMA node zero\n",
      "2022-03-27 10:54:17.213701: I tensorflow/stream_executor/cuda/cuda_gpu_executor.cc:937] successful NUMA node read from SysFS had negative value (-1), but there must be at least one NUMA node, so returning NUMA node zero\n",
      "2022-03-27 10:54:17.214565: I tensorflow/stream_executor/cuda/cuda_gpu_executor.cc:937] successful NUMA node read from SysFS had negative value (-1), but there must be at least one NUMA node, so returning NUMA node zero\n",
      "2022-03-27 10:54:17.215322: I tensorflow/stream_executor/cuda/cuda_gpu_executor.cc:937] successful NUMA node read from SysFS had negative value (-1), but there must be at least one NUMA node, so returning NUMA node zero\n",
      "2022-03-27 10:54:17.216550: I tensorflow/core/common_runtime/gpu/gpu_device.cc:1510] Created device /job:localhost/replica:0/task:0/device:GPU:0 with 15403 MB memory:  -> device: 0, name: Tesla P100-PCIE-16GB, pci bus id: 0000:00:04.0, compute capability: 6.0\n",
      "2022-03-27 10:54:17.704591: W tensorflow/core/framework/cpu_allocator_impl.cc:80] Allocation of 114716400 exceeds 10% of free system memory.\n"
     ]
    }
   ],
   "source": [
    "input_1 = Input(shape=(max_len,),name = 'Input_1')\n",
    "embedding_1 = Embedding(len(word_index) + 1,300,weights=[embedding_matrix],input_length=max_len,trainable=False,\n",
    "                            name = 'embedding_1')\n",
    "embedded_sequences_1 = embedding_1(input_1)\n",
    "timedist_1 = TimeDistributed(Dense(300, activation='relu'))(embedded_sequences_1)\n",
    "lambdalayer_1 = Lambda(lambda x: K.sum(x, axis=1), output_shape=(300,))(timedist_1)\n",
    "model_1 = Model(inputs=input_1,outputs=lambdalayer_1)"
   ]
  },
  {
   "cell_type": "code",
   "execution_count": 22,
   "id": "4bc78d21",
   "metadata": {
    "execution": {
     "iopub.execute_input": "2022-03-27T10:54:19.394859Z",
     "iopub.status.busy": "2022-03-27T10:54:19.393798Z",
     "iopub.status.idle": "2022-03-27T10:54:19.400035Z",
     "shell.execute_reply": "2022-03-27T10:54:19.399549Z",
     "shell.execute_reply.started": "2022-03-27T10:05:16.050972Z"
    },
    "papermill": {
     "duration": 0.761392,
     "end_time": "2022-03-27T10:54:19.400170",
     "exception": false,
     "start_time": "2022-03-27T10:54:18.638778",
     "status": "completed"
    },
    "tags": []
   },
   "outputs": [
    {
     "name": "stdout",
     "output_type": "stream",
     "text": [
      "Model: \"model\"\n",
      "_________________________________________________________________\n",
      "Layer (type)                 Output Shape              Param #   \n",
      "=================================================================\n",
      "Input_1 (InputLayer)         [(None, 40)]              0         \n",
      "_________________________________________________________________\n",
      "embedding_1 (Embedding)      (None, 40, 300)           28679100  \n",
      "_________________________________________________________________\n",
      "time_distributed (TimeDistri (None, 40, 300)           90300     \n",
      "_________________________________________________________________\n",
      "lambda (Lambda)              (None, 300)               0         \n",
      "=================================================================\n",
      "Total params: 28,769,400\n",
      "Trainable params: 90,300\n",
      "Non-trainable params: 28,679,100\n",
      "_________________________________________________________________\n"
     ]
    }
   ],
   "source": [
    "model_1.summary()"
   ]
  },
  {
   "cell_type": "code",
   "execution_count": 23,
   "id": "fb498f29",
   "metadata": {
    "execution": {
     "iopub.execute_input": "2022-03-27T10:54:20.890855Z",
     "iopub.status.busy": "2022-03-27T10:54:20.889892Z",
     "iopub.status.idle": "2022-03-27T10:54:21.086136Z",
     "shell.execute_reply": "2022-03-27T10:54:21.085583Z",
     "shell.execute_reply.started": "2022-03-27T10:05:28.900606Z"
    },
    "papermill": {
     "duration": 0.951662,
     "end_time": "2022-03-27T10:54:21.086274",
     "exception": false,
     "start_time": "2022-03-27T10:54:20.134612",
     "status": "completed"
    },
    "tags": []
   },
   "outputs": [
    {
     "name": "stderr",
     "output_type": "stream",
     "text": [
      "2022-03-27 10:54:20.938962: W tensorflow/core/framework/cpu_allocator_impl.cc:80] Allocation of 114716400 exceeds 10% of free system memory.\n"
     ]
    }
   ],
   "source": [
    "input_2 = Input(shape=(max_len,),name = 'Input_2')\n",
    "embedding_2 = Embedding(len(word_index) + 1,300,weights=[embedding_matrix],input_length=max_len,trainable=False,\n",
    "                            name = 'embedding_2')\n",
    "embedded_sequences_2 = embedding_2(input_2)\n",
    "timedist_2 = TimeDistributed(Dense(300, activation='relu'))(embedded_sequences_2)\n",
    "lambdalayer_2 = Lambda(lambda x: K.sum(x, axis=1), output_shape=(300,))(timedist_2)\n",
    "model_2 = Model(inputs=input_2,outputs=lambdalayer_2)"
   ]
  },
  {
   "cell_type": "code",
   "execution_count": 24,
   "id": "d9e0e68f",
   "metadata": {
    "execution": {
     "iopub.execute_input": "2022-03-27T10:54:22.561614Z",
     "iopub.status.busy": "2022-03-27T10:54:22.560699Z",
     "iopub.status.idle": "2022-03-27T10:54:22.566942Z",
     "shell.execute_reply": "2022-03-27T10:54:22.566430Z",
     "shell.execute_reply.started": "2022-03-27T10:05:31.440712Z"
    },
    "papermill": {
     "duration": 0.738191,
     "end_time": "2022-03-27T10:54:22.567096",
     "exception": false,
     "start_time": "2022-03-27T10:54:21.828905",
     "status": "completed"
    },
    "tags": []
   },
   "outputs": [
    {
     "name": "stdout",
     "output_type": "stream",
     "text": [
      "Model: \"model_1\"\n",
      "_________________________________________________________________\n",
      "Layer (type)                 Output Shape              Param #   \n",
      "=================================================================\n",
      "Input_2 (InputLayer)         [(None, 40)]              0         \n",
      "_________________________________________________________________\n",
      "embedding_2 (Embedding)      (None, 40, 300)           28679100  \n",
      "_________________________________________________________________\n",
      "time_distributed_1 (TimeDist (None, 40, 300)           90300     \n",
      "_________________________________________________________________\n",
      "lambda_1 (Lambda)            (None, 300)               0         \n",
      "=================================================================\n",
      "Total params: 28,769,400\n",
      "Trainable params: 90,300\n",
      "Non-trainable params: 28,679,100\n",
      "_________________________________________________________________\n"
     ]
    }
   ],
   "source": [
    "model_2.summary()"
   ]
  },
  {
   "cell_type": "code",
   "execution_count": 25,
   "id": "4a8a95c5",
   "metadata": {
    "execution": {
     "iopub.execute_input": "2022-03-27T10:54:24.084203Z",
     "iopub.status.busy": "2022-03-27T10:54:24.083031Z",
     "iopub.status.idle": "2022-03-27T10:54:24.341903Z",
     "shell.execute_reply": "2022-03-27T10:54:24.341387Z",
     "shell.execute_reply.started": "2022-03-27T10:06:14.412962Z"
    },
    "papermill": {
     "duration": 1.040877,
     "end_time": "2022-03-27T10:54:24.342058",
     "exception": false,
     "start_time": "2022-03-27T10:54:23.301181",
     "status": "completed"
    },
    "tags": []
   },
   "outputs": [
    {
     "name": "stderr",
     "output_type": "stream",
     "text": [
      "2022-03-27 10:54:24.140949: W tensorflow/core/framework/cpu_allocator_impl.cc:80] Allocation of 114716400 exceeds 10% of free system memory.\n"
     ]
    }
   ],
   "source": [
    "input_3 = Input(shape=(max_len,),name = 'Input_3')\n",
    "embedding_3 = Embedding(len(word_index) + 1,300,weights=[embedding_matrix],input_length=max_len,trainable=False,\n",
    "                            name = 'embedding_3')(input_3)\n",
    "\n",
    "Conv1D_L1_p = Conv1D(filters=nb_filter,kernel_size=filter_length,strides=1,padding='same',data_format='channels_last',\n",
    "              activation='relu',kernel_initializer=tf.keras.initializers.he_normal(seed=30)\n",
    "                                            ,kernel_regularizer=l2(0.00001),\n",
    "                                            name='Conv1D_L1_p')(embedding_3)\n",
    "drop_1 =Dropout(0.2)(Conv1D_L1_p)\n",
    "\n",
    "\n",
    "Conv1D_L2_p = Conv1D(filters=nb_filter,kernel_size=filter_length,strides=1,padding='same',data_format='channels_last',\n",
    "              activation='relu',kernel_initializer=tf.keras.initializers.he_normal(seed=30)\n",
    "                                            ,kernel_regularizer=l2(0.00001),\n",
    "                                            name='Conv1D_L2_p')(drop_1)\n",
    "\n",
    "Pool_Max_1 = tf.keras.layers.GlobalMaxPooling1D()(Conv1D_L2_p)\n",
    "drop_2 =Dropout(0.2)(Pool_Max_1)\n",
    "\n",
    "DnsL_1 = Dense(300,activation='relu',\n",
    "             kernel_initializer=tf.keras.initializers.he_normal(seed=30),\n",
    "             kernel_regularizer=l2(0.001))(drop_2)\n",
    "drop_3 =Dropout(0.2)(DnsL_1)\n",
    "batch_N=BatchNormalization()(drop_3)\n",
    "model_3 = Model(inputs=input_3,outputs=batch_N)"
   ]
  },
  {
   "cell_type": "code",
   "execution_count": 26,
   "id": "bade7ba4",
   "metadata": {
    "execution": {
     "iopub.execute_input": "2022-03-27T10:54:26.092255Z",
     "iopub.status.busy": "2022-03-27T10:54:26.091365Z",
     "iopub.status.idle": "2022-03-27T10:54:26.098520Z",
     "shell.execute_reply": "2022-03-27T10:54:26.099154Z",
     "shell.execute_reply.started": "2022-03-27T10:06:17.427707Z"
    },
    "papermill": {
     "duration": 0.809537,
     "end_time": "2022-03-27T10:54:26.099349",
     "exception": false,
     "start_time": "2022-03-27T10:54:25.289812",
     "status": "completed"
    },
    "tags": []
   },
   "outputs": [
    {
     "name": "stdout",
     "output_type": "stream",
     "text": [
      "Model: \"model_2\"\n",
      "_________________________________________________________________\n",
      "Layer (type)                 Output Shape              Param #   \n",
      "=================================================================\n",
      "Input_3 (InputLayer)         [(None, 40)]              0         \n",
      "_________________________________________________________________\n",
      "embedding_3 (Embedding)      (None, 40, 300)           28679100  \n",
      "_________________________________________________________________\n",
      "Conv1D_L1_p (Conv1D)         (None, 40, 64)            96064     \n",
      "_________________________________________________________________\n",
      "dropout (Dropout)            (None, 40, 64)            0         \n",
      "_________________________________________________________________\n",
      "Conv1D_L2_p (Conv1D)         (None, 40, 64)            20544     \n",
      "_________________________________________________________________\n",
      "global_max_pooling1d (Global (None, 64)                0         \n",
      "_________________________________________________________________\n",
      "dropout_1 (Dropout)          (None, 64)                0         \n",
      "_________________________________________________________________\n",
      "dense_2 (Dense)              (None, 300)               19500     \n",
      "_________________________________________________________________\n",
      "dropout_2 (Dropout)          (None, 300)               0         \n",
      "_________________________________________________________________\n",
      "batch_normalization (BatchNo (None, 300)               1200      \n",
      "=================================================================\n",
      "Total params: 28,816,408\n",
      "Trainable params: 136,708\n",
      "Non-trainable params: 28,679,700\n",
      "_________________________________________________________________\n"
     ]
    }
   ],
   "source": [
    "model_3.summary()"
   ]
  },
  {
   "cell_type": "code",
   "execution_count": 27,
   "id": "6a93310e",
   "metadata": {
    "execution": {
     "iopub.execute_input": "2022-03-27T10:54:27.587149Z",
     "iopub.status.busy": "2022-03-27T10:54:27.584083Z",
     "iopub.status.idle": "2022-03-27T10:54:27.816104Z",
     "shell.execute_reply": "2022-03-27T10:54:27.816831Z",
     "shell.execute_reply.started": "2022-03-27T10:06:31.841979Z"
    },
    "papermill": {
     "duration": 0.985396,
     "end_time": "2022-03-27T10:54:27.817068",
     "exception": false,
     "start_time": "2022-03-27T10:54:26.831672",
     "status": "completed"
    },
    "tags": []
   },
   "outputs": [
    {
     "name": "stderr",
     "output_type": "stream",
     "text": [
      "2022-03-27 10:54:27.632293: W tensorflow/core/framework/cpu_allocator_impl.cc:80] Allocation of 114716400 exceeds 10% of free system memory.\n"
     ]
    }
   ],
   "source": [
    "input_4 = Input(shape=(max_len,),name = 'Input_4')\n",
    "embedding_4 = Embedding(len(word_index) + 1,300,weights=[embedding_matrix],input_length=max_len,trainable=False,\n",
    "                            name = 'embedding_4')(input_4)\n",
    "\n",
    "Conv1D_L1_p4 = Conv1D(filters=nb_filter,kernel_size=filter_length,strides=1,padding='same',data_format='channels_last',\n",
    "              activation='relu',kernel_initializer=tf.keras.initializers.he_normal(seed=30)\n",
    "                                            ,kernel_regularizer=l2(0.00001),\n",
    "                                            name='Conv1D_L1_p4')(embedding_4)\n",
    "drop_1_4 =Dropout(0.2)(Conv1D_L1_p4)\n",
    "\n",
    "\n",
    "Conv1D_L2_p4 = Conv1D(filters=nb_filter,kernel_size=filter_length,strides=1,padding='same',data_format='channels_last',\n",
    "              activation='relu',kernel_initializer=tf.keras.initializers.he_normal(seed=30)\n",
    "                                            ,kernel_regularizer=l2(0.00001),\n",
    "                                            name='Conv1D_L2_p4')(drop_1_4)\n",
    "\n",
    "Pool_Max_1_4 = tf.keras.layers.GlobalMaxPooling1D()(Conv1D_L2_p4)\n",
    "drop_2_4 =Dropout(0.2)(Pool_Max_1_4)\n",
    "\n",
    "DnsL_1_4 = Dense(300,activation='relu',\n",
    "             kernel_initializer=tf.keras.initializers.he_normal(seed=30),\n",
    "             kernel_regularizer=l2(0.001))(drop_2_4)\n",
    "drop_3_4 = Dropout(0.2)(DnsL_1_4)\n",
    "batch_N_4 = BatchNormalization()(drop_3_4)\n",
    "model_4 = Model(inputs=input_4,outputs=batch_N_4)"
   ]
  },
  {
   "cell_type": "code",
   "execution_count": 28,
   "id": "9c242ee8",
   "metadata": {
    "execution": {
     "iopub.execute_input": "2022-03-27T10:54:29.342675Z",
     "iopub.status.busy": "2022-03-27T10:54:29.341842Z",
     "iopub.status.idle": "2022-03-27T10:54:29.351193Z",
     "shell.execute_reply": "2022-03-27T10:54:29.351609Z",
     "shell.execute_reply.started": "2022-03-27T10:06:35.377189Z"
    },
    "papermill": {
     "duration": 0.77809,
     "end_time": "2022-03-27T10:54:29.351798",
     "exception": false,
     "start_time": "2022-03-27T10:54:28.573708",
     "status": "completed"
    },
    "tags": []
   },
   "outputs": [
    {
     "name": "stdout",
     "output_type": "stream",
     "text": [
      "Model: \"model_3\"\n",
      "_________________________________________________________________\n",
      "Layer (type)                 Output Shape              Param #   \n",
      "=================================================================\n",
      "Input_4 (InputLayer)         [(None, 40)]              0         \n",
      "_________________________________________________________________\n",
      "embedding_4 (Embedding)      (None, 40, 300)           28679100  \n",
      "_________________________________________________________________\n",
      "Conv1D_L1_p4 (Conv1D)        (None, 40, 64)            96064     \n",
      "_________________________________________________________________\n",
      "dropout_3 (Dropout)          (None, 40, 64)            0         \n",
      "_________________________________________________________________\n",
      "Conv1D_L2_p4 (Conv1D)        (None, 40, 64)            20544     \n",
      "_________________________________________________________________\n",
      "global_max_pooling1d_1 (Glob (None, 64)                0         \n",
      "_________________________________________________________________\n",
      "dropout_4 (Dropout)          (None, 64)                0         \n",
      "_________________________________________________________________\n",
      "dense_3 (Dense)              (None, 300)               19500     \n",
      "_________________________________________________________________\n",
      "dropout_5 (Dropout)          (None, 300)               0         \n",
      "_________________________________________________________________\n",
      "batch_normalization_1 (Batch (None, 300)               1200      \n",
      "=================================================================\n",
      "Total params: 28,816,408\n",
      "Trainable params: 136,708\n",
      "Non-trainable params: 28,679,700\n",
      "_________________________________________________________________\n"
     ]
    }
   ],
   "source": [
    "model_4.summary()"
   ]
  },
  {
   "cell_type": "code",
   "execution_count": 29,
   "id": "4700e098",
   "metadata": {
    "execution": {
     "iopub.execute_input": "2022-03-27T10:54:30.856474Z",
     "iopub.status.busy": "2022-03-27T10:54:30.855520Z",
     "iopub.status.idle": "2022-03-27T10:54:31.245184Z",
     "shell.execute_reply": "2022-03-27T10:54:31.244608Z",
     "shell.execute_reply.started": "2022-03-27T10:13:05.032907Z"
    },
    "papermill": {
     "duration": 1.147208,
     "end_time": "2022-03-27T10:54:31.245363",
     "exception": false,
     "start_time": "2022-03-27T10:54:30.098155",
     "status": "completed"
    },
    "tags": []
   },
   "outputs": [
    {
     "name": "stderr",
     "output_type": "stream",
     "text": [
      "2022-03-27 10:54:30.901692: W tensorflow/core/framework/cpu_allocator_impl.cc:80] Allocation of 114716400 exceeds 10% of free system memory.\n"
     ]
    }
   ],
   "source": [
    "Input_LSTM_1 = Input(shape=(max_len,),name = 'Input_LSTM_1')\n",
    "embedding_Q1 = Embedding(len(word_index) + 1,300,weights=[embedding_matrix],input_length=max_len,\n",
    "                         trainable=False,name = 'embedding_Q1')(Input_LSTM_1)\n",
    "drop_5_1 =Dropout(0.2)(embedding_Q1)\n",
    "LSTM_Q1 = LSTM(name='LSTM_Q1', units=300,dropout = 0.2,recurrent_dropout=0.2)(drop_5_1)\n",
    "model_5 = Model(inputs=Input_LSTM_1,outputs=LSTM_Q1)"
   ]
  },
  {
   "cell_type": "code",
   "execution_count": 30,
   "id": "fc5fdf32",
   "metadata": {
    "execution": {
     "iopub.execute_input": "2022-03-27T10:54:32.724747Z",
     "iopub.status.busy": "2022-03-27T10:54:32.723885Z",
     "iopub.status.idle": "2022-03-27T10:54:32.729459Z",
     "shell.execute_reply": "2022-03-27T10:54:32.730103Z",
     "shell.execute_reply.started": "2022-03-27T10:13:07.931608Z"
    },
    "papermill": {
     "duration": 0.774786,
     "end_time": "2022-03-27T10:54:32.730283",
     "exception": false,
     "start_time": "2022-03-27T10:54:31.955497",
     "status": "completed"
    },
    "tags": []
   },
   "outputs": [
    {
     "name": "stdout",
     "output_type": "stream",
     "text": [
      "Model: \"model_4\"\n",
      "_________________________________________________________________\n",
      "Layer (type)                 Output Shape              Param #   \n",
      "=================================================================\n",
      "Input_LSTM_1 (InputLayer)    [(None, 40)]              0         \n",
      "_________________________________________________________________\n",
      "embedding_Q1 (Embedding)     (None, 40, 300)           28679100  \n",
      "_________________________________________________________________\n",
      "dropout_6 (Dropout)          (None, 40, 300)           0         \n",
      "_________________________________________________________________\n",
      "LSTM_Q1 (LSTM)               (None, 300)               721200    \n",
      "=================================================================\n",
      "Total params: 29,400,300\n",
      "Trainable params: 721,200\n",
      "Non-trainable params: 28,679,100\n",
      "_________________________________________________________________\n"
     ]
    }
   ],
   "source": [
    "model_5.summary()"
   ]
  },
  {
   "cell_type": "code",
   "execution_count": 31,
   "id": "06459061",
   "metadata": {
    "execution": {
     "iopub.execute_input": "2022-03-27T10:54:34.154718Z",
     "iopub.status.busy": "2022-03-27T10:54:34.153811Z",
     "iopub.status.idle": "2022-03-27T10:54:34.477268Z",
     "shell.execute_reply": "2022-03-27T10:54:34.476384Z",
     "shell.execute_reply.started": "2022-03-27T10:13:43.526572Z"
    },
    "papermill": {
     "duration": 1.036525,
     "end_time": "2022-03-27T10:54:34.477425",
     "exception": false,
     "start_time": "2022-03-27T10:54:33.440900",
     "status": "completed"
    },
    "tags": []
   },
   "outputs": [],
   "source": [
    "Input_LSTM_2 = Input(shape=(max_len,),name = 'Input_LSTM_2')\n",
    "embedding_Q2 = Embedding(len(word_index) + 1,300,weights=[embedding_matrix],input_length=max_len,\n",
    "                         trainable=False,name = 'embedding_Q2')(Input_LSTM_2)\n",
    "drop_6_1 =Dropout(0.2)(embedding_Q2)\n",
    "LSTM_Q2 = LSTM(name='LSTM_Q2', units=300,dropout = 0.2,recurrent_dropout=0.2)(drop_6_1)\n",
    "model_6 = Model(inputs=Input_LSTM_2,outputs=LSTM_Q2)"
   ]
  },
  {
   "cell_type": "code",
   "execution_count": 32,
   "id": "157edc8f",
   "metadata": {
    "execution": {
     "iopub.execute_input": "2022-03-27T10:54:35.976838Z",
     "iopub.status.busy": "2022-03-27T10:54:35.974925Z",
     "iopub.status.idle": "2022-03-27T10:54:35.982485Z",
     "shell.execute_reply": "2022-03-27T10:54:35.983639Z",
     "shell.execute_reply.started": "2022-03-27T10:13:45.801666Z"
    },
    "papermill": {
     "duration": 0.803061,
     "end_time": "2022-03-27T10:54:35.983957",
     "exception": false,
     "start_time": "2022-03-27T10:54:35.180896",
     "status": "completed"
    },
    "tags": []
   },
   "outputs": [
    {
     "name": "stdout",
     "output_type": "stream",
     "text": [
      "Model: \"model_5\"\n",
      "_________________________________________________________________\n",
      "Layer (type)                 Output Shape              Param #   \n",
      "=================================================================\n",
      "Input_LSTM_2 (InputLayer)    [(None, 40)]              0         \n",
      "_________________________________________________________________\n",
      "embedding_Q2 (Embedding)     (None, 40, 300)           28679100  \n",
      "_________________________________________________________________\n",
      "dropout_7 (Dropout)          (None, 40, 300)           0         \n",
      "_________________________________________________________________\n",
      "LSTM_Q2 (LSTM)               (None, 300)               721200    \n",
      "=================================================================\n",
      "Total params: 29,400,300\n",
      "Trainable params: 721,200\n",
      "Non-trainable params: 28,679,100\n",
      "_________________________________________________________________\n"
     ]
    }
   ],
   "source": [
    "model_6.summary()"
   ]
  },
  {
   "cell_type": "code",
   "execution_count": 33,
   "id": "7a3ba1c1",
   "metadata": {
    "execution": {
     "iopub.execute_input": "2022-03-27T10:54:38.061057Z",
     "iopub.status.busy": "2022-03-27T10:54:38.060139Z",
     "iopub.status.idle": "2022-03-27T10:54:38.079747Z",
     "shell.execute_reply": "2022-03-27T10:54:38.080754Z",
     "shell.execute_reply.started": "2022-03-27T10:13:50.011934Z"
    },
    "papermill": {
     "duration": 1.213063,
     "end_time": "2022-03-27T10:54:38.080948",
     "exception": false,
     "start_time": "2022-03-27T10:54:36.867885",
     "status": "completed"
    },
    "tags": []
   },
   "outputs": [],
   "source": [
    "merged_layers = concatenate([model_1.output,model_2.output,model_3.output,model_4.output,\n",
    "                                                    model_5.output,model_6.output])\n",
    "x = BatchNormalization()(merged_layers)"
   ]
  },
  {
   "cell_type": "code",
   "execution_count": 34,
   "id": "195006ef",
   "metadata": {
    "execution": {
     "iopub.execute_input": "2022-03-27T10:54:39.584855Z",
     "iopub.status.busy": "2022-03-27T10:54:39.582971Z",
     "iopub.status.idle": "2022-03-27T10:54:39.620127Z",
     "shell.execute_reply": "2022-03-27T10:54:39.619596Z",
     "shell.execute_reply.started": "2022-03-27T10:13:52.862364Z"
    },
    "papermill": {
     "duration": 0.760875,
     "end_time": "2022-03-27T10:54:39.620264",
     "exception": false,
     "start_time": "2022-03-27T10:54:38.859389",
     "status": "completed"
    },
    "tags": []
   },
   "outputs": [],
   "source": [
    "dnsl_f = Dense(300)(x)\n",
    "prelu_f = PReLU()(dnsl_f)\n",
    "dropout_f = Dropout(0.2)(prelu_f)\n",
    "bn_f = BatchNormalization()(dropout_f)\n",
    "#x = Dense(2)(x)\n",
    "#out = Activation('softmax')(x)\n",
    "out = Dense(units=1,activation='sigmoid',kernel_initializer=tf.keras.initializers.glorot_normal(seed=3),name='Output')(bn_f)"
   ]
  },
  {
   "cell_type": "code",
   "execution_count": 35,
   "id": "911a6ad7",
   "metadata": {
    "execution": {
     "iopub.execute_input": "2022-03-27T10:54:41.070174Z",
     "iopub.status.busy": "2022-03-27T10:54:41.066918Z",
     "iopub.status.idle": "2022-03-27T10:54:41.072954Z",
     "shell.execute_reply": "2022-03-27T10:54:41.072515Z",
     "shell.execute_reply.started": "2022-03-27T10:13:55.147376Z"
    },
    "papermill": {
     "duration": 0.748566,
     "end_time": "2022-03-27T10:54:41.073094",
     "exception": false,
     "start_time": "2022-03-27T10:54:40.324528",
     "status": "completed"
    },
    "tags": []
   },
   "outputs": [],
   "source": [
    "merged_model = Model([model_1.input, model_2.input, model_3.input,\n",
    "                      model_4.input, model_5.input, model_6.input], [out])"
   ]
  },
  {
   "cell_type": "code",
   "execution_count": 36,
   "id": "34546750",
   "metadata": {
    "execution": {
     "iopub.execute_input": "2022-03-27T10:54:42.511694Z",
     "iopub.status.busy": "2022-03-27T10:54:42.510754Z",
     "iopub.status.idle": "2022-03-27T10:54:42.517662Z",
     "shell.execute_reply": "2022-03-27T10:54:42.517181Z",
     "shell.execute_reply.started": "2022-03-27T10:39:53.680750Z"
    },
    "papermill": {
     "duration": 0.732065,
     "end_time": "2022-03-27T10:54:42.517795",
     "exception": false,
     "start_time": "2022-03-27T10:54:41.785730",
     "status": "completed"
    },
    "tags": []
   },
   "outputs": [],
   "source": [
    "optimizer=tf.keras.optimizers.Adam(learning_rate=0.01)\n",
    "merged_model.compile(optimizer=optimizer, loss='binary_crossentropy',metrics=['accuracy'])\n",
    "filepath= \"best_model.h5\"\n",
    "checkpoint = ModelCheckpoint(filepath=filepath, monitor='val_accuracy',  verbose=2, save_best_only=True, mode='auto')"
   ]
  },
  {
   "cell_type": "code",
   "execution_count": 37,
   "id": "c850d179",
   "metadata": {
    "execution": {
     "iopub.execute_input": "2022-03-27T10:54:43.946696Z",
     "iopub.status.busy": "2022-03-27T10:54:43.945834Z",
     "iopub.status.idle": "2022-03-27T10:54:43.960674Z",
     "shell.execute_reply": "2022-03-27T10:54:43.961115Z",
     "shell.execute_reply.started": "2022-03-27T10:39:56.175919Z"
    },
    "papermill": {
     "duration": 0.745447,
     "end_time": "2022-03-27T10:54:43.961265",
     "exception": false,
     "start_time": "2022-03-27T10:54:43.215818",
     "status": "completed"
    },
    "tags": []
   },
   "outputs": [
    {
     "name": "stdout",
     "output_type": "stream",
     "text": [
      "Model: \"model_6\"\n",
      "__________________________________________________________________________________________________\n",
      "Layer (type)                    Output Shape         Param #     Connected to                     \n",
      "==================================================================================================\n",
      "Input_3 (InputLayer)            [(None, 40)]         0                                            \n",
      "__________________________________________________________________________________________________\n",
      "Input_4 (InputLayer)            [(None, 40)]         0                                            \n",
      "__________________________________________________________________________________________________\n",
      "embedding_3 (Embedding)         (None, 40, 300)      28679100    Input_3[0][0]                    \n",
      "__________________________________________________________________________________________________\n",
      "embedding_4 (Embedding)         (None, 40, 300)      28679100    Input_4[0][0]                    \n",
      "__________________________________________________________________________________________________\n",
      "Conv1D_L1_p (Conv1D)            (None, 40, 64)       96064       embedding_3[0][0]                \n",
      "__________________________________________________________________________________________________\n",
      "Conv1D_L1_p4 (Conv1D)           (None, 40, 64)       96064       embedding_4[0][0]                \n",
      "__________________________________________________________________________________________________\n",
      "dropout (Dropout)               (None, 40, 64)       0           Conv1D_L1_p[0][0]                \n",
      "__________________________________________________________________________________________________\n",
      "dropout_3 (Dropout)             (None, 40, 64)       0           Conv1D_L1_p4[0][0]               \n",
      "__________________________________________________________________________________________________\n",
      "Conv1D_L2_p (Conv1D)            (None, 40, 64)       20544       dropout[0][0]                    \n",
      "__________________________________________________________________________________________________\n",
      "Conv1D_L2_p4 (Conv1D)           (None, 40, 64)       20544       dropout_3[0][0]                  \n",
      "__________________________________________________________________________________________________\n",
      "global_max_pooling1d (GlobalMax (None, 64)           0           Conv1D_L2_p[0][0]                \n",
      "__________________________________________________________________________________________________\n",
      "global_max_pooling1d_1 (GlobalM (None, 64)           0           Conv1D_L2_p4[0][0]               \n",
      "__________________________________________________________________________________________________\n",
      "Input_1 (InputLayer)            [(None, 40)]         0                                            \n",
      "__________________________________________________________________________________________________\n",
      "Input_2 (InputLayer)            [(None, 40)]         0                                            \n",
      "__________________________________________________________________________________________________\n",
      "dropout_1 (Dropout)             (None, 64)           0           global_max_pooling1d[0][0]       \n",
      "__________________________________________________________________________________________________\n",
      "dropout_4 (Dropout)             (None, 64)           0           global_max_pooling1d_1[0][0]     \n",
      "__________________________________________________________________________________________________\n",
      "Input_LSTM_1 (InputLayer)       [(None, 40)]         0                                            \n",
      "__________________________________________________________________________________________________\n",
      "Input_LSTM_2 (InputLayer)       [(None, 40)]         0                                            \n",
      "__________________________________________________________________________________________________\n",
      "embedding_1 (Embedding)         (None, 40, 300)      28679100    Input_1[0][0]                    \n",
      "__________________________________________________________________________________________________\n",
      "embedding_2 (Embedding)         (None, 40, 300)      28679100    Input_2[0][0]                    \n",
      "__________________________________________________________________________________________________\n",
      "dense_2 (Dense)                 (None, 300)          19500       dropout_1[0][0]                  \n",
      "__________________________________________________________________________________________________\n",
      "dense_3 (Dense)                 (None, 300)          19500       dropout_4[0][0]                  \n",
      "__________________________________________________________________________________________________\n",
      "embedding_Q1 (Embedding)        (None, 40, 300)      28679100    Input_LSTM_1[0][0]               \n",
      "__________________________________________________________________________________________________\n",
      "embedding_Q2 (Embedding)        (None, 40, 300)      28679100    Input_LSTM_2[0][0]               \n",
      "__________________________________________________________________________________________________\n",
      "time_distributed (TimeDistribut (None, 40, 300)      90300       embedding_1[0][0]                \n",
      "__________________________________________________________________________________________________\n",
      "time_distributed_1 (TimeDistrib (None, 40, 300)      90300       embedding_2[0][0]                \n",
      "__________________________________________________________________________________________________\n",
      "dropout_2 (Dropout)             (None, 300)          0           dense_2[0][0]                    \n",
      "__________________________________________________________________________________________________\n",
      "dropout_5 (Dropout)             (None, 300)          0           dense_3[0][0]                    \n",
      "__________________________________________________________________________________________________\n",
      "dropout_6 (Dropout)             (None, 40, 300)      0           embedding_Q1[0][0]               \n",
      "__________________________________________________________________________________________________\n",
      "dropout_7 (Dropout)             (None, 40, 300)      0           embedding_Q2[0][0]               \n",
      "__________________________________________________________________________________________________\n",
      "lambda (Lambda)                 (None, 300)          0           time_distributed[0][0]           \n",
      "__________________________________________________________________________________________________\n",
      "lambda_1 (Lambda)               (None, 300)          0           time_distributed_1[0][0]         \n",
      "__________________________________________________________________________________________________\n",
      "batch_normalization (BatchNorma (None, 300)          1200        dropout_2[0][0]                  \n",
      "__________________________________________________________________________________________________\n",
      "batch_normalization_1 (BatchNor (None, 300)          1200        dropout_5[0][0]                  \n",
      "__________________________________________________________________________________________________\n",
      "LSTM_Q1 (LSTM)                  (None, 300)          721200      dropout_6[0][0]                  \n",
      "__________________________________________________________________________________________________\n",
      "LSTM_Q2 (LSTM)                  (None, 300)          721200      dropout_7[0][0]                  \n",
      "__________________________________________________________________________________________________\n",
      "concatenate (Concatenate)       (None, 1800)         0           lambda[0][0]                     \n",
      "                                                                 lambda_1[0][0]                   \n",
      "                                                                 batch_normalization[0][0]        \n",
      "                                                                 batch_normalization_1[0][0]      \n",
      "                                                                 LSTM_Q1[0][0]                    \n",
      "                                                                 LSTM_Q2[0][0]                    \n",
      "__________________________________________________________________________________________________\n",
      "batch_normalization_2 (BatchNor (None, 1800)         7200        concatenate[0][0]                \n",
      "__________________________________________________________________________________________________\n",
      "dense_4 (Dense)                 (None, 300)          540300      batch_normalization_2[0][0]      \n",
      "__________________________________________________________________________________________________\n",
      "p_re_lu (PReLU)                 (None, 300)          300         dense_4[0][0]                    \n",
      "__________________________________________________________________________________________________\n",
      "dropout_8 (Dropout)             (None, 300)          0           p_re_lu[0][0]                    \n",
      "__________________________________________________________________________________________________\n",
      "batch_normalization_3 (BatchNor (None, 300)          1200        dropout_8[0][0]                  \n",
      "__________________________________________________________________________________________________\n",
      "Output (Dense)                  (None, 1)            301         batch_normalization_3[0][0]      \n",
      "==================================================================================================\n",
      "Total params: 174,521,517\n",
      "Trainable params: 2,441,517\n",
      "Non-trainable params: 172,080,000\n",
      "__________________________________________________________________________________________________\n"
     ]
    }
   ],
   "source": [
    "merged_model.summary()"
   ]
  },
  {
   "cell_type": "code",
   "execution_count": 38,
   "id": "6a9225f5",
   "metadata": {
    "execution": {
     "iopub.execute_input": "2022-03-27T10:54:45.368521Z",
     "iopub.status.busy": "2022-03-27T10:54:45.367331Z",
     "iopub.status.idle": "2022-03-27T10:54:47.095083Z",
     "shell.execute_reply": "2022-03-27T10:54:47.095776Z",
     "shell.execute_reply.started": "2022-03-27T10:40:06.021844Z"
    },
    "papermill": {
     "duration": 2.427325,
     "end_time": "2022-03-27T10:54:47.096000",
     "exception": false,
     "start_time": "2022-03-27T10:54:44.668675",
     "status": "completed"
    },
    "tags": []
   },
   "outputs": [
    {
     "data": {
      "image/png": "[encoded data removed]",
      "text/plain": [
       "<IPython.core.display.Image object>"
      ]
     },
     "execution_count": 38,
     "metadata": {},
     "output_type": "execute_result"
    }
   ],
   "source": [
    "from tensorflow.keras.utils import plot_model\n",
    "plot_model(merged_model, 'merged_model.png', show_shapes=True)"
   ]
  },
  {
   "cell_type": "code",
   "execution_count": 39,
   "id": "54890796",
   "metadata": {
    "execution": {
     "iopub.execute_input": "2022-03-27T10:54:48.648842Z",
     "iopub.status.busy": "2022-03-27T10:54:48.648187Z",
     "iopub.status.idle": "2022-03-27T18:08:19.447167Z",
     "shell.execute_reply": "2022-03-27T18:08:19.446636Z",
     "shell.execute_reply.started": "2022-03-27T10:41:06.761656Z"
    },
    "papermill": {
     "duration": 26011.519269,
     "end_time": "2022-03-27T18:08:19.447316",
     "exception": false,
     "start_time": "2022-03-27T10:54:47.928047",
     "status": "completed"
    },
    "tags": []
   },
   "outputs": [
    {
     "name": "stderr",
     "output_type": "stream",
     "text": [
      "2022-03-27 10:54:48.649039: I tensorflow/core/profiler/lib/profiler_session.cc:131] Profiler session initializing.\n",
      "2022-03-27 10:54:48.649086: I tensorflow/core/profiler/lib/profiler_session.cc:146] Profiler session started.\n",
      "2022-03-27 10:54:48.652158: I tensorflow/core/profiler/internal/gpu/cupti_tracer.cc:1614] Profiler found 1 GPUs\n",
      "2022-03-27 10:54:49.048867: I tensorflow/core/profiler/lib/profiler_session.cc:164] Profiler session tear down.\n",
      "2022-03-27 10:54:49.049100: I tensorflow/core/profiler/internal/gpu/cupti_tracer.cc:1748] CUPTI activity buffer flushed\n",
      "2022-03-27 10:54:49.588274: I tensorflow/compiler/mlir/mlir_graph_optimization_pass.cc:185] None of the MLIR Optimization Passes are enabled (registered 2)\n"
     ]
    },
    {
     "name": "stdout",
     "output_type": "stream",
     "text": [
      "Epoch 1/50\n"
     ]
    },
    {
     "name": "stderr",
     "output_type": "stream",
     "text": [
      "2022-03-27 10:54:59.298566: I tensorflow/stream_executor/cuda/cuda_dnn.cc:369] Loaded cuDNN version 8005\n"
     ]
    },
    {
     "name": "stdout",
     "output_type": "stream",
     "text": [
      "  1/948 [..............................] - ETA: 3:48:23 - loss: 2.1187 - accuracy: 0.5026"
     ]
    },
    {
     "name": "stderr",
     "output_type": "stream",
     "text": [
      "2022-03-27 10:55:04.444337: I tensorflow/core/profiler/lib/profiler_session.cc:131] Profiler session initializing.\n",
      "2022-03-27 10:55:04.444391: I tensorflow/core/profiler/lib/profiler_session.cc:146] Profiler session started.\n"
     ]
    },
    {
     "name": "stdout",
     "output_type": "stream",
     "text": [
      "  2/948 [..............................] - ETA: 23:34 - loss: 2.6953 - accuracy: 0.5378  "
     ]
    },
    {
     "name": "stderr",
     "output_type": "stream",
     "text": [
      "2022-03-27 10:55:05.631873: I tensorflow/core/profiler/lib/profiler_session.cc:66] Profiler session collecting data.\n",
      "2022-03-27 10:55:05.651778: I tensorflow/core/profiler/internal/gpu/cupti_tracer.cc:1748] CUPTI activity buffer flushed\n",
      "2022-03-27 10:55:05.972516: I tensorflow/core/profiler/internal/gpu/cupti_collector.cc:673]  GpuTracer has collected 19554 callback api events and 19551 activity events. \n",
      "2022-03-27 10:55:06.443961: I tensorflow/core/profiler/lib/profiler_session.cc:164] Profiler session tear down.\n",
      "2022-03-27 10:55:07.328065: I tensorflow/core/profiler/rpc/client/save_profile.cc:136] Creating directory: logs1/fits/20220327-105448/train/plugins/profile/2022_03_27_10_55_06\n",
      "\n",
      "2022-03-27 10:55:07.821149: I tensorflow/core/profiler/rpc/client/save_profile.cc:142] Dumped gzipped tool data for trace.json.gz to logs1/fits/20220327-105448/train/plugins/profile/2022_03_27_10_55_06/ee6a43626f4b.trace.json.gz\n",
      "2022-03-27 10:55:08.401370: I tensorflow/core/profiler/rpc/client/save_profile.cc:136] Creating directory: logs1/fits/20220327-105448/train/plugins/profile/2022_03_27_10_55_06\n",
      "\n",
      "2022-03-27 10:55:08.417914: I tensorflow/core/profiler/rpc/client/save_profile.cc:142] Dumped gzipped tool data for memory_profile.json.gz to logs1/fits/20220327-105448/train/plugins/profile/2022_03_27_10_55_06/ee6a43626f4b.memory_profile.json.gz\n",
      "2022-03-27 10:55:08.434025: I tensorflow/core/profiler/rpc/client/capture_profile.cc:251] Creating directory: logs1/fits/20220327-105448/train/plugins/profile/2022_03_27_10_55_06\n",
      "Dumped tool data for xplane.pb to logs1/fits/20220327-105448/train/plugins/profile/2022_03_27_10_55_06/ee6a43626f4b.xplane.pb\n",
      "Dumped tool data for overview_page.pb to logs1/fits/20220327-105448/train/plugins/profile/2022_03_27_10_55_06/ee6a43626f4b.overview_page.pb\n",
      "Dumped tool data for input_pipeline.pb to logs1/fits/20220327-105448/train/plugins/profile/2022_03_27_10_55_06/ee6a43626f4b.input_pipeline.pb\n",
      "Dumped tool data for tensorflow_stats.pb to logs1/fits/20220327-105448/train/plugins/profile/2022_03_27_10_55_06/ee6a43626f4b.tensorflow_stats.pb\n",
      "Dumped tool data for kernel_stats.pb to logs1/fits/20220327-105448/train/plugins/profile/2022_03_27_10_55_06/ee6a43626f4b.kernel_stats.pb\n",
      "\n"
     ]
    },
    {
     "name": "stdout",
     "output_type": "stream",
     "text": [
      "948/948 [==============================] - 522s 536ms/step - loss: 0.5671 - accuracy: 0.7417 - val_loss: 0.4809 - val_accuracy: 0.7706\n",
      "\n",
      "Epoch 00001: val_accuracy improved from -inf to 0.77061, saving model to best_model.h5\n",
      "Epoch 2/50\n",
      "948/948 [==============================] - 539s 568ms/step - loss: 0.4601 - accuracy: 0.7786 - val_loss: 0.4363 - val_accuracy: 0.7892\n",
      "\n",
      "Epoch 00002: val_accuracy improved from 0.77061 to 0.78916, saving model to best_model.h5\n",
      "Epoch 3/50\n",
      "948/948 [==============================] - 502s 529ms/step - loss: 0.4258 - accuracy: 0.7967 - val_loss: 0.4138 - val_accuracy: 0.7996\n",
      "\n",
      "Epoch 00003: val_accuracy improved from 0.78916 to 0.79957, saving model to best_model.h5\n",
      "Epoch 4/50\n",
      "948/948 [==============================] - 499s 527ms/step - loss: 0.4020 - accuracy: 0.8089 - val_loss: 0.4044 - val_accuracy: 0.8076\n",
      "\n",
      "Epoch 00004: val_accuracy improved from 0.79957 to 0.80759, saving model to best_model.h5\n",
      "Epoch 5/50\n",
      "948/948 [==============================] - 518s 546ms/step - loss: 0.3829 - accuracy: 0.8208 - val_loss: 0.4040 - val_accuracy: 0.8076\n",
      "\n",
      "Epoch 00005: val_accuracy improved from 0.80759 to 0.80761, saving model to best_model.h5\n",
      "Epoch 6/50\n",
      "948/948 [==============================] - 489s 516ms/step - loss: 0.3688 - accuracy: 0.8287 - val_loss: 0.3949 - val_accuracy: 0.8118\n",
      "\n",
      "Epoch 00006: val_accuracy improved from 0.80761 to 0.81179, saving model to best_model.h5\n",
      "Epoch 7/50\n",
      "948/948 [==============================] - 490s 517ms/step - loss: 0.3528 - accuracy: 0.8371 - val_loss: 0.3949 - val_accuracy: 0.8180\n",
      "\n",
      "Epoch 00007: val_accuracy improved from 0.81179 to 0.81795, saving model to best_model.h5\n",
      "Epoch 8/50\n",
      "948/948 [==============================] - 507s 535ms/step - loss: 0.3404 - accuracy: 0.8437 - val_loss: 0.3903 - val_accuracy: 0.8155\n",
      "\n",
      "Epoch 00008: val_accuracy did not improve from 0.81795\n",
      "Epoch 9/50\n",
      "948/948 [==============================] - 496s 524ms/step - loss: 0.3285 - accuracy: 0.8510 - val_loss: 0.3932 - val_accuracy: 0.8164\n",
      "\n",
      "Epoch 00009: val_accuracy did not improve from 0.81795\n",
      "Epoch 10/50\n",
      "948/948 [==============================] - 489s 516ms/step - loss: 0.3174 - accuracy: 0.8567 - val_loss: 0.4048 - val_accuracy: 0.8120\n",
      "\n",
      "Epoch 00010: val_accuracy did not improve from 0.81795\n",
      "Epoch 11/50\n",
      "948/948 [==============================] - 485s 512ms/step - loss: 0.3076 - accuracy: 0.8619 - val_loss: 0.3930 - val_accuracy: 0.8194\n",
      "\n",
      "Epoch 00011: val_accuracy improved from 0.81795 to 0.81939, saving model to best_model.h5\n",
      "Epoch 12/50\n",
      "948/948 [==============================] - 491s 517ms/step - loss: 0.2976 - accuracy: 0.8671 - val_loss: 0.3938 - val_accuracy: 0.8207\n",
      "\n",
      "Epoch 00012: val_accuracy improved from 0.81939 to 0.82070, saving model to best_model.h5\n",
      "Epoch 13/50\n",
      "948/948 [==============================] - 492s 519ms/step - loss: 0.2894 - accuracy: 0.8711 - val_loss: 0.3946 - val_accuracy: 0.8265\n",
      "\n",
      "Epoch 00013: val_accuracy improved from 0.82070 to 0.82646, saving model to best_model.h5\n",
      "Epoch 14/50\n",
      "948/948 [==============================] - 483s 509ms/step - loss: 0.2809 - accuracy: 0.8759 - val_loss: 0.4008 - val_accuracy: 0.8243\n",
      "\n",
      "Epoch 00014: val_accuracy did not improve from 0.82646\n",
      "Epoch 15/50\n",
      "948/948 [==============================] - 483s 509ms/step - loss: 0.2736 - accuracy: 0.8798 - val_loss: 0.4233 - val_accuracy: 0.8225\n",
      "\n",
      "Epoch 00015: val_accuracy did not improve from 0.82646\n",
      "Epoch 16/50\n",
      "948/948 [==============================] - 486s 513ms/step - loss: 0.2669 - accuracy: 0.8828 - val_loss: 0.4005 - val_accuracy: 0.8258\n",
      "\n",
      "Epoch 00016: val_accuracy did not improve from 0.82646\n",
      "Epoch 17/50\n",
      "948/948 [==============================] - 483s 510ms/step - loss: 0.2580 - accuracy: 0.8869 - val_loss: 0.4092 - val_accuracy: 0.8273\n",
      "\n",
      "Epoch 00017: val_accuracy improved from 0.82646 to 0.82730, saving model to best_model.h5\n",
      "Epoch 18/50\n",
      "948/948 [==============================] - 471s 497ms/step - loss: 0.2524 - accuracy: 0.8902 - val_loss: 0.4273 - val_accuracy: 0.8169\n",
      "\n",
      "Epoch 00018: val_accuracy did not improve from 0.82730\n",
      "Epoch 19/50\n",
      "948/948 [==============================] - 484s 511ms/step - loss: 0.2475 - accuracy: 0.8922 - val_loss: 0.4127 - val_accuracy: 0.8262\n",
      "\n",
      "Epoch 00019: val_accuracy did not improve from 0.82730\n",
      "Epoch 20/50\n",
      "948/948 [==============================] - 487s 514ms/step - loss: 0.2421 - accuracy: 0.8950 - val_loss: 0.4196 - val_accuracy: 0.8300\n",
      "\n",
      "Epoch 00020: val_accuracy improved from 0.82730 to 0.83002, saving model to best_model.h5\n",
      "Epoch 21/50\n",
      "948/948 [==============================] - 478s 505ms/step - loss: 0.2348 - accuracy: 0.8987 - val_loss: 0.4255 - val_accuracy: 0.8278\n",
      "\n",
      "Epoch 00021: val_accuracy did not improve from 0.83002\n",
      "Epoch 22/50\n",
      "948/948 [==============================] - 491s 518ms/step - loss: 0.2303 - accuracy: 0.9009 - val_loss: 0.4364 - val_accuracy: 0.8286\n",
      "\n",
      "Epoch 00022: val_accuracy did not improve from 0.83002\n",
      "Epoch 23/50\n",
      "948/948 [==============================] - 484s 511ms/step - loss: 0.2267 - accuracy: 0.9025 - val_loss: 0.4305 - val_accuracy: 0.8274\n",
      "\n",
      "Epoch 00023: val_accuracy did not improve from 0.83002\n",
      "Epoch 24/50\n",
      "948/948 [==============================] - 480s 506ms/step - loss: 0.2215 - accuracy: 0.9051 - val_loss: 0.4280 - val_accuracy: 0.8244\n",
      "\n",
      "Epoch 00024: val_accuracy did not improve from 0.83002\n",
      "Epoch 25/50\n",
      "948/948 [==============================] - 494s 521ms/step - loss: 0.2178 - accuracy: 0.9068 - val_loss: 0.4579 - val_accuracy: 0.8268\n",
      "\n",
      "Epoch 00025: val_accuracy did not improve from 0.83002\n",
      "Epoch 26/50\n",
      "948/948 [==============================] - 485s 512ms/step - loss: 0.2132 - accuracy: 0.9095 - val_loss: 0.4488 - val_accuracy: 0.8292\n",
      "\n",
      "Epoch 00026: val_accuracy did not improve from 0.83002\n",
      "Epoch 27/50\n",
      "948/948 [==============================] - 494s 521ms/step - loss: 0.2102 - accuracy: 0.9105 - val_loss: 0.4353 - val_accuracy: 0.8293\n",
      "\n",
      "Epoch 00027: val_accuracy did not improve from 0.83002\n",
      "Epoch 28/50\n",
      "948/948 [==============================] - 484s 510ms/step - loss: 0.2056 - accuracy: 0.9128 - val_loss: 0.4530 - val_accuracy: 0.8316\n",
      "\n",
      "Epoch 00028: val_accuracy improved from 0.83002 to 0.83158, saving model to best_model.h5\n",
      "Epoch 29/50\n",
      "948/948 [==============================] - 498s 525ms/step - loss: 0.2008 - accuracy: 0.9148 - val_loss: 0.4999 - val_accuracy: 0.8162\n",
      "\n",
      "Epoch 00029: val_accuracy did not improve from 0.83158\n",
      "Epoch 30/50\n",
      "948/948 [==============================] - 471s 496ms/step - loss: 0.1997 - accuracy: 0.9156 - val_loss: 0.4694 - val_accuracy: 0.8264\n",
      "\n",
      "Epoch 00030: val_accuracy did not improve from 0.83158\n",
      "Epoch 31/50\n",
      "948/948 [==============================] - 470s 496ms/step - loss: 0.1957 - accuracy: 0.9174 - val_loss: 0.4681 - val_accuracy: 0.8303\n",
      "\n",
      "Epoch 00031: val_accuracy did not improve from 0.83158\n",
      "Epoch 32/50\n",
      "948/948 [==============================] - 482s 508ms/step - loss: 0.1920 - accuracy: 0.9194 - val_loss: 0.4705 - val_accuracy: 0.8315\n",
      "\n",
      "Epoch 00032: val_accuracy did not improve from 0.83158\n",
      "Epoch 33/50\n",
      "948/948 [==============================] - 487s 514ms/step - loss: 0.1893 - accuracy: 0.9204 - val_loss: 0.4979 - val_accuracy: 0.8293\n",
      "\n",
      "Epoch 00033: val_accuracy did not improve from 0.83158\n",
      "Epoch 34/50\n",
      "948/948 [==============================] - 482s 508ms/step - loss: 0.1883 - accuracy: 0.9212 - val_loss: 0.4641 - val_accuracy: 0.8284\n",
      "\n",
      "Epoch 00034: val_accuracy did not improve from 0.83158\n",
      "Epoch 35/50\n",
      "948/948 [==============================] - 488s 515ms/step - loss: 0.1846 - accuracy: 0.9227 - val_loss: 0.4760 - val_accuracy: 0.8273\n",
      "\n",
      "Epoch 00035: val_accuracy did not improve from 0.83158\n",
      "Epoch 36/50\n",
      "948/948 [==============================] - 484s 510ms/step - loss: 0.1820 - accuracy: 0.9237 - val_loss: 0.4702 - val_accuracy: 0.8276\n",
      "\n",
      "Epoch 00036: val_accuracy did not improve from 0.83158\n",
      "Epoch 37/50\n",
      "948/948 [==============================] - 482s 508ms/step - loss: 0.1806 - accuracy: 0.9244 - val_loss: 0.4950 - val_accuracy: 0.8302\n",
      "\n",
      "Epoch 00037: val_accuracy did not improve from 0.83158\n",
      "Epoch 38/50\n",
      "948/948 [==============================] - 471s 496ms/step - loss: 0.1769 - accuracy: 0.9262 - val_loss: 0.5082 - val_accuracy: 0.8216\n",
      "\n",
      "Epoch 00038: val_accuracy did not improve from 0.83158\n",
      "Epoch 39/50\n",
      "948/948 [==============================] - 485s 512ms/step - loss: 0.1746 - accuracy: 0.9273 - val_loss: 0.4788 - val_accuracy: 0.8291\n",
      "\n",
      "Epoch 00039: val_accuracy did not improve from 0.83158\n",
      "Epoch 40/50\n",
      "948/948 [==============================] - 489s 516ms/step - loss: 0.1726 - accuracy: 0.9278 - val_loss: 0.5158 - val_accuracy: 0.8269\n",
      "\n",
      "Epoch 00040: val_accuracy did not improve from 0.83158\n",
      "Epoch 41/50\n",
      "948/948 [==============================] - 487s 513ms/step - loss: 0.1704 - accuracy: 0.9288 - val_loss: 0.5040 - val_accuracy: 0.8297\n",
      "\n",
      "Epoch 00041: val_accuracy did not improve from 0.83158\n",
      "Epoch 42/50\n",
      "948/948 [==============================] - 491s 518ms/step - loss: 0.1688 - accuracy: 0.9299 - val_loss: 0.5082 - val_accuracy: 0.8327\n",
      "\n",
      "Epoch 00042: val_accuracy improved from 0.83158 to 0.83269, saving model to best_model.h5\n",
      "Epoch 43/50\n",
      "948/948 [==============================] - 491s 518ms/step - loss: 0.1659 - accuracy: 0.9309 - val_loss: 0.5087 - val_accuracy: 0.8262\n",
      "\n",
      "Epoch 00043: val_accuracy did not improve from 0.83269\n",
      "Epoch 44/50\n",
      "948/948 [==============================] - 476s 502ms/step - loss: 0.1653 - accuracy: 0.9311 - val_loss: 0.5005 - val_accuracy: 0.8292\n",
      "\n",
      "Epoch 00044: val_accuracy did not improve from 0.83269\n",
      "Epoch 45/50\n",
      "948/948 [==============================] - 515s 544ms/step - loss: 0.1623 - accuracy: 0.9326 - val_loss: 0.5047 - val_accuracy: 0.8295\n",
      "\n",
      "Epoch 00045: val_accuracy did not improve from 0.83269\n",
      "Epoch 46/50\n",
      "948/948 [==============================] - 498s 526ms/step - loss: 0.1609 - accuracy: 0.9336 - val_loss: 0.5087 - val_accuracy: 0.8326\n",
      "\n",
      "Epoch 00046: val_accuracy did not improve from 0.83269\n",
      "Epoch 47/50\n",
      "948/948 [==============================] - 492s 519ms/step - loss: 0.1583 - accuracy: 0.9345 - val_loss: 0.5174 - val_accuracy: 0.8295\n",
      "\n",
      "Epoch 00047: val_accuracy did not improve from 0.83269\n",
      "Epoch 48/50\n",
      "948/948 [==============================] - 508s 536ms/step - loss: 0.1579 - accuracy: 0.9344 - val_loss: 0.5215 - val_accuracy: 0.8327\n",
      "\n",
      "Epoch 00048: val_accuracy improved from 0.83269 to 0.83274, saving model to best_model.h5\n",
      "Epoch 49/50\n",
      "948/948 [==============================] - 509s 537ms/step - loss: 0.1561 - accuracy: 0.9356 - val_loss: 0.5197 - val_accuracy: 0.8295\n",
      "\n",
      "Epoch 00049: val_accuracy did not improve from 0.83274\n",
      "Epoch 50/50\n",
      "948/948 [==============================] - 512s 540ms/step - loss: 0.1540 - accuracy: 0.9368 - val_loss: 0.5335 - val_accuracy: 0.8315\n",
      "\n",
      "Epoch 00050: val_accuracy did not improve from 0.83274\n"
     ]
    },
    {
     "data": {
      "text/plain": [
       "<keras.callbacks.History at 0x7f64386cc290>"
      ]
     },
     "execution_count": 39,
     "metadata": {},
     "output_type": "execute_result"
    }
   ],
   "source": [
    "log_dir = os.path.join(\"logs1\",'fits', datetime.datetime.now().strftime(\"%Y%m%d-%H%M%S\"))\n",
    "tensorboard_callback = tf.keras.callbacks.TensorBoard(log_dir=log_dir,histogram_freq=1,write_graph=True)\n",
    "\n",
    "merged_model.fit([x1, x2, x1, x2, x1, x2],\n",
    "                 y=y,epochs=50,batch_size=384,\n",
    "                 verbose=1, validation_split=0.1, shuffle=True,\n",
    "                 callbacks=[checkpoint,tensorboard_callback])"
   ]
  },
  {
   "cell_type": "code",
   "execution_count": 40,
   "id": "08038941",
   "metadata": {
    "execution": {
     "iopub.execute_input": "2022-03-27T18:08:52.296886Z",
     "iopub.status.busy": "2022-03-27T18:08:52.296021Z",
     "iopub.status.idle": "2022-03-27T18:08:53.595140Z",
     "shell.execute_reply": "2022-03-27T18:08:53.594661Z"
    },
    "papermill": {
     "duration": 17.918679,
     "end_time": "2022-03-27T18:08:53.595281",
     "exception": false,
     "start_time": "2022-03-27T18:08:35.676602",
     "status": "completed"
    },
    "tags": []
   },
   "outputs": [],
   "source": [
    "merged_model.save(\"LSTM_Quara.h5\")"
   ]
  }
 ],
 "metadata": {
  "kernelspec": {
   "display_name": "Python 3",
   "language": "python",
   "name": "python3"
  },
  "language_info": {
   "codemirror_mode": {
    "name": "ipython",
    "version": 3
   },
   "file_extension": ".py",
   "mimetype": "text/x-python",
   "name": "python",
   "nbconvert_exporter": "python",
   "pygments_lexer": "ipython3",
   "version": "3.7.12"
  },
  "papermill": {
   "default_parameters": {},
   "duration": 26747.196093,
   "end_time": "2022-03-27T18:09:13.601679",
   "environment_variables": {},
   "exception": null,
   "input_path": "__notebook__.ipynb",
   "output_path": "__notebook__.ipynb",
   "parameters": {},
   "start_time": "2022-03-27T10:43:26.405586",
   "version": "2.3.3"
  }
 },
 "nbformat": 4,
 "nbformat_minor": 5
}
