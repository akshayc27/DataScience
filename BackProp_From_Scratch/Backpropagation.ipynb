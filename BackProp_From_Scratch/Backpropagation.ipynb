{
 "cells": [
  {
   "cell_type": "markdown",
   "metadata": {
    "id": "y871RZtRhCEH"
   },
   "source": [
    "# <font color='red'>Backpropagation</font>"
   ]
  },
  {
   "cell_type": "markdown",
   "metadata": {
    "id": "0huUQ0byiI0I"
   },
   "source": [
    "## <font color='red'>Loading data </font>"
   ]
  },
  {
   "cell_type": "code",
   "execution_count": 1,
   "metadata": {
    "id": "1hSje5CBgcUb"
   },
   "outputs": [
    {
     "name": "stdout",
     "output_type": "stream",
     "text": [
      "(506, 6)\n",
      "(506, 5) (506,)\n"
     ]
    }
   ],
   "source": [
    "import pickle\n",
    "import numpy as np\n",
    "from tqdm import tqdm\n",
    "import matplotlib.pyplot as plt\n",
    "\n",
    "with open('data.pkl', 'rb') as f:\n",
    "    data = pickle.load(f)\n",
    "print(data.shape)\n",
    "X = data[:, :5]\n",
    "y = data[:, -1]\n",
    "print(X.shape, y.shape)"
   ]
  },
  {
   "cell_type": "code",
   "execution_count": 2,
   "metadata": {},
   "outputs": [
    {
     "data": {
      "text/plain": [
       "array([[-1.2879095 , -0.12001342, -1.45900038, -0.66660821, -0.14421743,\n",
       "         1.85884913],\n",
       "       [-0.59338101,  0.36716642, -0.30309415, -0.98732948, -0.74026221,\n",
       "         1.81901037],\n",
       "       [-0.59338101, -0.26581176, -0.30309415, -0.98732948, -0.74026221,\n",
       "         1.81989281],\n",
       "       ...,\n",
       "       [ 0.11573841,  0.79744934,  1.17646583, -0.80321172,  0.15812412,\n",
       "         1.59974823],\n",
       "       [ 0.11573841,  0.73699637,  1.17646583, -0.80321172,  0.15812412,\n",
       "         1.5997457 ],\n",
       "       [ 0.11573841,  0.43473151,  1.17646583, -0.80321172,  0.15812412,\n",
       "         1.59957717]])"
      ]
     },
     "execution_count": 2,
     "metadata": {},
     "output_type": "execute_result"
    }
   ],
   "source": [
    "data"
   ]
  },
  {
   "cell_type": "code",
   "execution_count": 3,
   "metadata": {},
   "outputs": [
    {
     "data": {
      "text/plain": [
       "array([-1.2879095 , -0.12001342, -1.45900038, -0.66660821, -0.14421743])"
      ]
     },
     "execution_count": 3,
     "metadata": {},
     "output_type": "execute_result"
    }
   ],
   "source": [
    "X[0]"
   ]
  },
  {
   "cell_type": "code",
   "execution_count": 4,
   "metadata": {},
   "outputs": [
    {
     "data": {
      "text/plain": [
       "1.858849127371369"
      ]
     },
     "execution_count": 4,
     "metadata": {},
     "output_type": "execute_result"
    }
   ],
   "source": [
    "y[0]"
   ]
  },
  {
   "cell_type": "markdown",
   "metadata": {
    "id": "5JL-0soQistC"
   },
   "source": [
    "# <font color='red'>Computational graph</font>"
   ]
  },
  {
   "cell_type": "markdown",
   "metadata": {
    "id": "nREnTTJ3i0Vd"
   },
   "source": [
    "<img src='https://i.imgur.com/seSGbNS.png'>"
   ]
  },
  {
   "cell_type": "markdown",
   "metadata": {
    "id": "DSPX_H_4i_HT"
   },
   "source": [
    "\n",
    "*  **If you observe the graph, we are having input features [f1, f2, f3, f4, f5] and 9 weights [w1, w2, w3, w4, w5, w6,    w7, w8, w9]**.<br><br>\n",
    "*  **The final output of this graph is a value L which is computed as (Y-Y')^2** "
   ]
  },
  {
   "cell_type": "markdown",
   "metadata": {
    "id": "D54eDEv6jkO4"
   },
   "source": [
    "## <font color='red'> Implementing Forward propagation, Backpropagation and Gradient checking </font>"
   ]
  },
  {
   "cell_type": "markdown",
   "metadata": {
    "id": "RwEcPWLffTKI"
   },
   "source": [
    "## <font color='blue'>Forward propagation </font>"
   ]
  },
  {
   "cell_type": "markdown",
   "metadata": {
    "id": "FCZrm-gkfTKI"
   },
   "source": [
    "\n",
    "*  <b>\n",
    "    Forward propagation</b>(Write your code in<font color='blue'> def forward_propagation()</b></font>)<br><br>\n",
    "    For easy debugging, we will break the computational graph into 3 parts.\n",
    "\n",
    "    <font color='green'><b>Part 1</b></font></b>\n",
    "    <img src='https://i.imgur.com/0xUaxy6.png'><br><br>\n",
    "    <font color='green'><b>Part 2</b></font></b><br>\n",
    "    <img src='https://i.imgur.com/J29pAJL.png'><br><br>\n",
    "    <font color='green'><b>Part 3</b></font></b>\n",
    "    <img src='https://i.imgur.com/vMyCsd9.png'>"
   ]
  },
  {
   "cell_type": "code",
   "execution_count": 6,
   "metadata": {},
   "outputs": [],
   "source": [
    "import math"
   ]
  },
  {
   "cell_type": "code",
   "execution_count": 7,
   "metadata": {
    "id": "ADCovl2FfTKJ"
   },
   "outputs": [],
   "source": [
    "def sigmoid(z):\n",
    "    '''In this function, we will compute the sigmoid(z)'''\n",
    "    # we can use this function in forward and backward propagation\n",
    "    # write the code to compute the sigmoid value of z and return that value \n",
    "    val = 1 / (1 + math.exp(-z))\n",
    "    return val"
   ]
  },
  {
   "cell_type": "code",
   "execution_count": 8,
   "metadata": {
    "id": "dLJ-OYwefTKJ"
   },
   "outputs": [
    {
     "data": {
      "text/plain": [
       "True"
      ]
     },
     "execution_count": 8,
     "metadata": {},
     "output_type": "execute_result"
    }
   ],
   "source": [
    "def grader_sigmoid(z):\n",
    "  #if you have written the code correctly then the grader function will output true\n",
    "  val=sigmoid(z)\n",
    "  assert(val==0.8807970779778823)\n",
    "  return True\n",
    "grader_sigmoid(2)"
   ]
  },
  {
   "cell_type": "code",
   "execution_count": 9,
   "metadata": {},
   "outputs": [],
   "source": [
    "from sympy import Symbol, Derivative"
   ]
  },
  {
   "cell_type": "code",
   "execution_count": 10,
   "metadata": {
    "id": "KD3piNkifTKJ"
   },
   "outputs": [],
   "source": [
    "y_hat = 0\n",
    "part_3 = 0\n",
    "def forward_propagation(x, y, w):\n",
    "        '''In this function, we will compute the forward propagation '''\n",
    "        # X: input data point, note that in this assignment you are having 5-d data points\n",
    "        # y: output varible\n",
    "        # W: weight array, its of length 9, W[0] corresponds to w1 in graph, W[1] corresponds to w2 in graph,..., W[8] corresponds to w9 in graph.  \n",
    "        # you have to return the following variables\n",
    "        # exp= part1 (compute the forward propagation until exp and then store the values in exp)\n",
    "        # tanh =part2(compute the forward propagation until tanh and then store the values in tanh)\n",
    "        # sig = part3(compute the forward propagation until sigmoid and then store the values in sig)\n",
    "        # we are computing one of the values for better understanding\n",
    "        \n",
    "        val_1= (w[0]*x[0]+w[1]*x[1]) * (w[0]*x[0]+w[1]*x[1]) + w[5]\n",
    "        part_1 = np.exp(val_1)\n",
    "        \n",
    "        val_2 = (part_1 + w[6])\n",
    "        part_2 = math.tanh(val_2)\n",
    "        \n",
    "        val_3 = math.sin(w[2]*x[2]) * ((w[3] * x[3]) + (w[4] * x[4])) + w[7]\n",
    "        part_3 = sigmoid(val_3)\n",
    "        \n",
    "        y_hat = part_2 + (part_3 * w[8])\n",
    "        \n",
    "        dy_pred = (-2) * (y - y_hat)\n",
    "        \n",
    "    \n",
    "        Loss = (y - y_hat) ** 2\n",
    "        \n",
    "        # after computing part1,part2 and part3 compute the value of y' from the main Computational graph using required equations\n",
    "        # write code to compute the value of L=(y-y')^2 and store it in variable loss\n",
    "        # compute derivative of L  w.r.to y' and store it in dy_pred \n",
    "        # Create a dictionary to store all the intermediate values i.e. dy_pred ,loss,exp,tanh,sigmoid\n",
    "        # we will be using the dictionary to find values in backpropagation, you can add other keys in dictionary as well\n",
    "        \n",
    "        forward_dict={}\n",
    "        forward_dict['exp']= part_1\n",
    "        forward_dict['sigmoid'] = part_3\n",
    "        forward_dict['tanh'] = part_2\n",
    "        forward_dict['loss'] = Loss\n",
    "        forward_dict['dy_pred'] = dy_pred\n",
    "        forward_dict['y_hat'] = y_hat\n",
    "        \n",
    "        return forward_dict"
   ]
  },
  {
   "cell_type": "code",
   "execution_count": 11,
   "metadata": {},
   "outputs": [
    {
     "data": {
      "text/plain": [
       "array([1.14498615, 1.10584621, 1.14002452, 1.13582027, 1.11385062])"
      ]
     },
     "execution_count": 11,
     "metadata": {},
     "output_type": "execute_result"
    }
   ],
   "source": [
    "w=np.ones(9)*0.1\n",
    "val_1= (w[0]*X[0]+w[1]*X[1]) * (w[0]*X[0]+w[1]*X[1]) + w[5]\n",
    "part_1 = np.exp(val_1)\n",
    "part_1"
   ]
  },
  {
   "cell_type": "code",
   "execution_count": 12,
   "metadata": {},
   "outputs": [
    {
     "data": {
      "text/plain": [
       "array([0.1, 0.1, 0.1, 0.1, 0.1, 0.1, 0.1, 0.1, 0.1])"
      ]
     },
     "execution_count": 12,
     "metadata": {},
     "output_type": "execute_result"
    }
   ],
   "source": [
    "w=np.ones(9)*0.1\n",
    "w"
   ]
  },
  {
   "cell_type": "code",
   "execution_count": 13,
   "metadata": {
    "id": "vP0iV7f4fTKK",
    "scrolled": true
   },
   "outputs": [
    {
     "data": {
      "text/plain": [
       "True"
      ]
     },
     "execution_count": 13,
     "metadata": {},
     "output_type": "execute_result"
    }
   ],
   "source": [
    "def grader_forwardprop(data):\n",
    "    dl = (data['dy_pred']==-1.9285278284819143)\n",
    "    loss=(data['loss']==0.9298048963072919)\n",
    "    part1=(data['exp']==1.1272967040973583)\n",
    "    part2=(data['tanh']==0.8417934192562146)\n",
    "    part3=(data['sigmoid']==0.5279179387419721)\n",
    "    assert(dl and loss and part1 and part2 and part3)\n",
    "    return True\n",
    "w=np.ones(9)*0.1\n",
    "d1=forward_propagation(X[0],y[0],w)\n",
    "grader_forwardprop(d1)"
   ]
  },
  {
   "cell_type": "markdown",
   "metadata": {
    "id": "4YVYD18xfTKL"
   },
   "source": [
    "## <font color='blue'>Backward propagation</font>"
   ]
  },
  {
   "cell_type": "code",
   "execution_count": 14,
   "metadata": {
    "id": "Ld1PMQtffTKL"
   },
   "outputs": [],
   "source": [
    "def backward_propagation(x,y,w,forward_dict):\n",
    "    '''In this function, we will compute the backward propagation '''\n",
    "    # forward_dict: the outputs of the forward_propagation() function\n",
    "    # write code to compute the gradients of each weight [w1,w2,w3,...,w9]\n",
    "    # Hint: you can use dict type to store the required variables \n",
    "    # dw1 = # in dw1 compute derivative of L w.r.to w1\n",
    "    # dw2 = # in dw2 compute derivative of L w.r.to w2\n",
    "    # dw3 = # in dw3 compute derivative of L w.r.to w3\n",
    "    # dw4 = # in dw4 compute derivative of L w.r.to w4\n",
    "    # dw5 = # in dw5 compute derivative of L w.r.to w5\n",
    "    # dw6 = # in dw6 compute derivative of L w.r.to w6\n",
    "    # dw7 = # in dw7 compute derivative of L w.r.to w7\n",
    "    # dw8 = # in dw8 compute derivative of L w.r.to w8\n",
    "    # dw9 = # in dw9 compute derivative of L w.r.to w9\n",
    "    \n",
    "    tnsqrt = forward_dict['tanh'] * forward_dict['tanh'] \n",
    "    sgmdvt = forward_dict['sigmoid'] * (1 - forward_dict['sigmoid'] )\n",
    "    \n",
    "    #val_1= (w[0]*x[0]+w[1]*x[1]) * (w[0]*x[0]+w[1]*x[1]) + w[5]\n",
    "    #part_1 = np.exp(val_1)\n",
    "    \n",
    "    dw1 = forward_dict['dy_pred'] * (1- tnsqrt) * forward_dict['exp'] * (w[0]*x[0]+w[1]*x[1]) * 2 * x[0]\n",
    "    \n",
    "    dw2 = forward_dict['dy_pred'] * (1- tnsqrt) * forward_dict['exp'] * (w[0]*x[0]+w[1]*x[1]) * 2 * x[1] \n",
    "    \n",
    "    dw3 = forward_dict['dy_pred'] * w[8] * sgmdvt * math.cos(w[2]*x[2]) * ((w[3] * x[3]) + (w[4] * x[4])) * x[2]\n",
    "    \n",
    "    dw4 = forward_dict['dy_pred'] * w[8] * sgmdvt * math.sin(w[2]*x[2]) * x[3]\n",
    "    \n",
    "    dw5 = forward_dict['dy_pred'] * w[8] * sgmdvt * math.sin(w[2]*x[2]) * x[4]\n",
    "    \n",
    "    dw6 = forward_dict['dy_pred'] *(1- tnsqrt) * forward_dict['exp']\n",
    "    \n",
    "    dw7 = forward_dict['dy_pred'] * (1 - tnsqrt)\n",
    "    \n",
    "    dw8 = forward_dict['dy_pred'] * w[8] * sgmdvt\n",
    "    \n",
    "    dw9 = forward_dict['dy_pred'] * forward_dict['sigmoid'] \n",
    "    backward_dict={}\n",
    "    #store the variables dw1,dw2 etc. in a dict as backward_dict['dw1']= dw1,backward_dict['dw2']= dw2...\n",
    "    \n",
    "    backward_dict['dw1']= dw1\n",
    "    backward_dict['dw2']= dw2\n",
    "    backward_dict['dw3']= dw3\n",
    "    backward_dict['dw4']= dw4\n",
    "    backward_dict['dw5']= dw5\n",
    "    backward_dict['dw6']= dw6\n",
    "    backward_dict['dw7']= dw7\n",
    "    backward_dict['dw8']= dw8\n",
    "    backward_dict['dw9']= dw9\n",
    "    \n",
    "    \n",
    "    return backward_dict"
   ]
  },
  {
   "cell_type": "code",
   "execution_count": 15,
   "metadata": {
    "id": "0ipQbNXOfTKM"
   },
   "outputs": [
    {
     "data": {
      "text/plain": [
       "True"
      ]
     },
     "execution_count": 15,
     "metadata": {},
     "output_type": "execute_result"
    }
   ],
   "source": [
    "def grader_backprop(data):\n",
    "    dw1=(np.round(data['dw1'],6)==-0.229733)\n",
    "    dw2=(np.round(data['dw2'],6)==-0.021408)\n",
    "    dw3=(np.round(data['dw3'],6)==-0.005625)\n",
    "    dw4=(np.round(data['dw4'],6)==-0.004658)\n",
    "    dw5=(np.round(data['dw5'],6)==-0.001008)\n",
    "    dw6=(np.round(data['dw6'],6)==-0.633475)\n",
    "    dw7=(np.round(data['dw7'],6)==-0.561942)\n",
    "    dw8=(np.round(data['dw8'],6)==-0.048063)\n",
    "    dw9=(np.round(data['dw9'],6)==-1.018104)\n",
    "    assert(dw1 and dw2 and dw3 and dw4 and dw5 and dw6 and dw7 and dw8 and dw9)\n",
    "    return True \n",
    "w=np.ones(9)*0.1\n",
    "forward_dict=forward_propagation(X[0],y[0],w)\n",
    "backward_dict=backward_propagation(X[0],y[0],w,forward_dict)\n",
    "grader_backprop(backward_dict)"
   ]
  },
  {
   "cell_type": "code",
   "execution_count": 16,
   "metadata": {},
   "outputs": [
    {
     "data": {
      "text/plain": [
       "-0.22973323498702"
      ]
     },
     "execution_count": 16,
     "metadata": {},
     "output_type": "execute_result"
    }
   ],
   "source": [
    "backward_dict['dw1']"
   ]
  },
  {
   "cell_type": "markdown",
   "metadata": {
    "id": "STS4NrQQc6OH"
   },
   "source": [
    " ## <font color='blue'>Gradient clipping</font>"
   ]
  },
  {
   "cell_type": "markdown",
   "metadata": {
    "id": "XY7ivRNzdPok"
   },
   "source": [
    "<b> Check this  <a href='https://towardsdatascience.com/how-to-debug-a-neural-network-with-gradient-checking-41deec0357a9'>blog link</a> for more details on Gradient clipping"
   ]
  },
  {
   "cell_type": "markdown",
   "metadata": {
    "id": "BrsfpDoidtZ5"
   },
   "source": [
    " we know that the derivative of any function is\n",
    " \n",
    " $$\\lim_{\\epsilon\\to0}\\frac{f(x+\\epsilon)-f(x-\\epsilon)}{2\\epsilon}$$\n"
   ]
  },
  {
   "cell_type": "markdown",
   "metadata": {
    "id": "vUcmt0kPd02f"
   },
   "source": [
    "*  The definition above can be used as a numerical approximation of the derivative. Taking an epsilon small enough, the calculated approximation will have an error in the range of epsilon squared. \n",
    "\n",
    "*  In other words, if epsilon is 0.001, the approximation will be off by 0.00001.\n",
    "\n",
    "Therefore, we can use this to approximate the gradient, and in turn make sure that backpropagation is implemented properly. This forms the basis of <b>gradient checking!</b>"
   ]
  },
  {
   "cell_type": "markdown",
   "metadata": {
    "id": "pFSu16KCeU0x"
   },
   "source": [
    "## <Font color='blue'>Gradient checking example</font>"
   ]
  },
  {
   "cell_type": "markdown",
   "metadata": {
    "id": "Gz0mmT_xecfC"
   },
   "source": [
    "<font >\n",
    "lets understand the concept with a simple example:\n",
    "$f(w1,w2,x1,x2)=w_{1}^{2} . x_{1} + w_{2} . x_{2}$ \n",
    "\n",
    "from the above function , lets assume $w_{1}=1$, $w_{2}=2$, $x_{1}=3$, $x_{2}=4$ the gradient of $f$ w.r.t $w_{1}$ is\n",
    "\n",
    "\\begin{array} {lcl}\n",
    "\\frac{df}{dw_{1}} = dw_{1} &=&2.w_{1}.x_{1} \\\\& = &2.1.3\\\\& = &6\n",
    "\\end{array}\n",
    "\n",
    "\n",
    "let calculate the aproximate gradient of $w_{1}$ as mentinoned in the above formula and considering $\\epsilon=0.0001$\n",
    "\n",
    "\\begin{array} {lcl}\n",
    "dw_1^{approx} & = & \\frac{f(w1+\\epsilon,w2,x1,x2)-f(w1-\\epsilon,w2,x1,x2)}{2\\epsilon} \\\\ & = & \\frac{((1+0.0001)^{2} . 3 + 2 . 4) - ((1-0.0001)^{2} . 3 + 2 . 4)}{2\\epsilon} \\\\ & = & \\frac{(1.00020001 . 3 + 2 . 4) - (0.99980001. 3 + 2 . 4)}{2*0.0001} \\\\ & = & \\frac{(11.00060003) - (10.99940003)}{0.0002}\\\\ & = & 5.99999999999\n",
    "\\end{array}\n",
    "\n",
    "Then, we apply the following formula for gradient check: <i>gradient_check</i> = \n",
    "$\\frac{\\left\\Vert\\left (dW-dW^{approx}\\rm\\right) \\right\\Vert_2}{\\left\\Vert\\left (dW\\rm\\right) \\right\\Vert_2+\\left\\Vert\\left (dW^{approx}\\rm\\right) \\right\\Vert_2}$\n",
    "\n",
    "The equation above is basically the Euclidean distance normalized by the sum of the norm of the vectors. We use normalization in case that one of the vectors is very small.\n",
    "As a value for epsilon, we usually opt for 1e-7. Therefore, if gradient check return a value less than 1e-7, then it means that backpropagation was implemented correctly. Otherwise, there is potentially a mistake in your implementation. If the value exceeds 1e-3, then you are sure that the code is not correct.\n",
    "\n",
    "in our example: <i>gradient_check</i> $ = \\frac{(6 - 5.999999999994898)}{(6 + 5.999999999994898)} = 4.2514140356330737e^{-13}$\n",
    "\n",
    "you can mathamatically derive the same thing like this\n",
    "\n",
    "\\begin{array} {lcl}\n",
    "dw_1^{approx} & = & \\frac{f(w1+\\epsilon,w2,x1,x2)-f(w1-\\epsilon,w2,x1,x2)}{2\\epsilon} \\\\ & = & \\frac{((w_{1}+\\epsilon)^{2} . x_{1} + w_{2} . x_{2}) - ((w_{1}-\\epsilon)^{2} . x_{1} + w_{2} . x_{2})}{2\\epsilon} \\\\ & = & \\frac{4. \\epsilon.w_{1}. x_{1}}{2\\epsilon} \\\\ & = &  2.w_{1}.x_{1}\n",
    "\\end{array}\n"
   ]
  },
  {
   "cell_type": "markdown",
   "metadata": {
    "id": "f1BFQQaCermK"
   },
   "source": [
    "## <font color='red'> Implement Gradient checking </font> <br>\n",
    " (Write your code in <font color='blue'> def gradient_checking()</font>)"
   ]
  },
  {
   "cell_type": "markdown",
   "metadata": {
    "id": "GqpfA3AqfJba"
   },
   "source": [
    "**Algorithm** \n",
    "\n"
   ]
  },
  {
   "cell_type": "markdown",
   "metadata": {
    "id": "FL39KeRFfNoD"
   },
   "source": [
    "<pre>\n",
    "<font color='darkblue'>\n",
    "W = initilize_randomly\n",
    "def gradient_checking(data_point, W):<font color='grey'>\n",
    "    # compute the L value using forward_propagation()\n",
    "    # compute the gradients of W using backword_propagation()</font>\n",
    "    approx_gradients = []\n",
    "    for each wi weight value in W:<font color='grey'>\n",
    "        # add a small value to weight wi, and then find the values of L with the updated weights\n",
    "        # subtract a small value to weight wi, and then find the values of L with the updated weights\n",
    "        # compute the approximation gradients of weight wi</font>\n",
    "        approx_gradients.append(approximation gradients of weight wi)<font color='grey'>\n",
    "    # compare the gradient of weights W from backword_propagation() with the aproximation gradients of weights with <br>  gradient_check formula</font>\n",
    "    return gradient_check</font>\n",
    "<b>NOTE: you can do sanity check by checking all the return values of gradient_checking(),<br> they have to be zero. if not you have bug in your code\n",
    "</pre></b>"
   ]
  },
  {
   "cell_type": "code",
   "execution_count": 17,
   "metadata": {},
   "outputs": [],
   "source": [
    "w=[ 0.00271756,  0.01260512,  0.00167639, -0.00207756,  0.00720768,\n",
    "   0.00114524,  0.00684168,  0.02242521,  0.01296444]"
   ]
  },
  {
   "cell_type": "code",
   "execution_count": 18,
   "metadata": {
    "scrolled": false
   },
   "outputs": [
    {
     "data": {
      "text/plain": [
       "{'dw1': -0.011663051229887736,\n",
       " 'dw2': -0.0010868175306762123,\n",
       " 'dw3': 3.5520107457967047e-06,\n",
       " 'dw4': -1.1490564996805255e-05,\n",
       " 'dw5': -2.485927655890358e-06,\n",
       " 'dw6': -0.9032758006126373,\n",
       " 'dw7': -0.9022192541758162,\n",
       " 'dw8': -0.0070475910045734325,\n",
       " 'dw9': -1.0995465311667147}"
      ]
     },
     "execution_count": 18,
     "metadata": {},
     "output_type": "execute_result"
    }
   ],
   "source": [
    "forward_dict=forward_propagation(X[0],y[0],w)\n",
    "backward_dict=backward_propagation(X[0],y[0],w,forward_dict)\n",
    "backward_dict"
   ]
  },
  {
   "cell_type": "code",
   "execution_count": 19,
   "metadata": {},
   "outputs": [
    {
     "data": {
      "text/plain": [
       "[-0.011663051229887736,\n",
       " -0.0010868175306762123,\n",
       " 3.5520107457967047e-06,\n",
       " -1.1490564996805255e-05,\n",
       " -2.485927655890358e-06,\n",
       " -0.9032758006126373,\n",
       " -0.9022192541758162,\n",
       " -0.0070475910045734325,\n",
       " -1.0995465311667147]"
      ]
     },
     "execution_count": 19,
     "metadata": {},
     "output_type": "execute_result"
    }
   ],
   "source": [
    "list(backward_dict.values())"
   ]
  },
  {
   "cell_type": "code",
   "execution_count": 20,
   "metadata": {
    "id": "XBoJRqAwfTKO"
   },
   "outputs": [],
   "source": [
    "def gradient_checking(x,y,w,eps):\n",
    "    # compute the dict value using forward_propagation()\n",
    "    # compute the actual gradients of W using backword_propagation()\n",
    "    forward_dict=forward_propagation(x,y,w)\n",
    "    backward_dict=backward_propagation(x,y,w,forward_dict)\n",
    "    \n",
    "    #we are storing the original gradients for the given datapoints in a list\n",
    "    \n",
    "    original_gradients_list=list(backward_dict.values())\n",
    "    # make sure that the order is correct i.e. first element in the list corresponds to  dw1 ,second element is dw2 etc.\n",
    "    # you can use reverse function if the values are in reverse order\n",
    "    \n",
    "    approx_gradients_list=[]\n",
    "    #now we have to write code for approx gradients, here you have to make sure that you update only one weight at a time\n",
    "    #write your code here and append the approximate gradient value for each weight in  approx_gradients_list\n",
    "    \n",
    "    for i in range(len(w)):\n",
    "        currnt = w[i]\n",
    "        w[i] = currnt + eps\n",
    "        forward_dict=forward_propagation(x,y,w)\n",
    "        L1 = forward_dict['loss']\n",
    "        w[i] = currnt - eps\n",
    "        forward_dict=forward_propagation(x,y,w)\n",
    "        L2 = forward_dict['loss']\n",
    "        \n",
    "        approx_grad_wi = (L1 - L2) / (2* eps)\n",
    "        approx_gradients_list.append(approx_grad_wi)\n",
    "        \n",
    "        \n",
    "    #performing gradient check operation\n",
    "    original_gradients_list=np.array(original_gradients_list)\n",
    "    approx_gradients_list=np.array(approx_gradients_list)\n",
    "    gradient_check_value =(original_gradients_list-approx_gradients_list)/(original_gradients_list+approx_gradients_list)\n",
    "    \n",
    "    return gradient_check_value\n",
    "    "
   ]
  },
  {
   "cell_type": "code",
   "execution_count": 21,
   "metadata": {
    "id": "aWSU56GffTKO"
   },
   "outputs": [
    {
     "name": "stdout",
     "output_type": "stream",
     "text": [
      "[-1.73921918e-08  1.28741906e-05 -2.55164399e-04 -1.05871856e-05\n",
      " -1.95446016e-04 -1.16536595e-10 -9.63625495e-08 -1.06774472e-07\n",
      " -1.43339489e-08]\n"
     ]
    },
    {
     "data": {
      "text/plain": [
       "True"
      ]
     },
     "execution_count": 21,
     "metadata": {},
     "output_type": "execute_result"
    }
   ],
   "source": [
    "def grader_grad_check(value):\n",
    "    print(value)\n",
    "    assert(np.all(value <= 10**-3))\n",
    "    return True \n",
    "\n",
    "w=[ 0.00271756,  0.01260512,  0.00167639, -0.00207756,  0.00720768,\n",
    "   0.00114524,  0.00684168,  0.02242521,  0.01296444]\n",
    "\n",
    "eps=10**-7\n",
    "value= gradient_checking(X[0],y[0],w,eps)\n",
    "grader_grad_check(value)"
   ]
  },
  {
   "cell_type": "markdown",
   "metadata": {
    "id": "7zt05soYh1RM"
   },
   "source": [
    "* As a part of this task, you will be implementing 2  optimizers(methods to update weight)\n",
    "* Use the same computational graph that was mentioned above to do this task\n",
    "* The weights have been initialized from normal distribution with mean=0 and std=0.01. The initialization of weights is very important otherwiswe you can face vanishing gradient and exploding gradients problem."
   ]
  },
  {
   "cell_type": "markdown",
   "metadata": {
    "id": "CAyi7aSAicbr"
   },
   "source": [
    "**Check below video for reference purpose**"
   ]
  },
  {
   "cell_type": "markdown",
   "metadata": {
    "id": "jmefh7ktjbaR"
   },
   "source": [
    "<font color='blue'><b>Algorithm</b>"
   ]
  },
  {
   "cell_type": "markdown",
   "metadata": {
    "id": "nAc4NudkjdNa"
   },
   "source": [
    "<pre>\n",
    "    for each epoch(1-20):\n",
    "        for each data point in your data:\n",
    "            using the functions forward_propagation() and backword_propagation() compute the gradients of weights\n",
    "            update the weigts with help of gradients  \n",
    "</pre>"
   ]
  },
  {
   "cell_type": "markdown",
   "metadata": {
    "id": "_fdmPNqtjm3X"
   },
   "source": [
    "## <font color='red'> Implement below tasks</b>"
   ]
  },
  {
   "cell_type": "markdown",
   "metadata": {
    "id": "Ll9-CRsLjx_D"
   },
   "source": [
    "\n",
    "*  <b>Task 2.1</b>: you will be implementing the above algorithm with <b>Vanilla update</b> of weights<br><br>\n",
    "*  <b>Task 2.2</b>: you will be implementing the above algorithm with <b>Momentum update</b> of weights<br><br>\n",
    "*  <b>Task 2.3</b>: you will be implementing the above algorithm with <b>Adam update</b> of weights<br><br>\n"
   ]
  },
  {
   "cell_type": "markdown",
   "metadata": {
    "id": "atp082demrUR"
   },
   "source": [
    "**Note : If you get any assertion error while running grader functions, please print the variables in grader functions and check which variable is returning False .Recheck your logic for that variable .**"
   ]
  },
  {
   "cell_type": "markdown",
   "metadata": {
    "id": "cv_hZFWalS2z"
   },
   "source": [
    "### <font color='blue'>2.1 Algorithm with Vanilla update of weights</font>"
   ]
  },
  {
   "cell_type": "code",
   "execution_count": 23,
   "metadata": {
    "id": "KlVuEsRjQoW5"
   },
   "outputs": [],
   "source": [
    "train_loss_v = []\n",
    "def vanilaUpdate(X_train,eta0,epochs,w):\n",
    "    \n",
    "    for j in range(epochs):\n",
    "        inter_loss = []\n",
    "        for i in range(len(X_train)):\n",
    "            forward_dict=forward_propagation(X_train[i],y[i],w)\n",
    "            \n",
    "            backward_dict=backward_propagation(X_train[i],y[i],w,forward_dict)\n",
    "            dw = np.array(list(backward_dict.values()))\n",
    "            w = w - (eta0 * dw)\n",
    "            inter_loss.append(forward_dict['loss'])\n",
    "\n",
    "        train_loss_v.append(np.mean(inter_loss))\n",
    "        print(\"epoch No :\",j,end=\"\\t\")\n",
    "        print(\"Loss :\",np.mean(inter_loss))\n",
    " \n",
    "    return w"
   ]
  },
  {
   "cell_type": "code",
   "execution_count": 24,
   "metadata": {
    "id": "HuDaxRnCQoW5"
   },
   "outputs": [
    {
     "name": "stdout",
     "output_type": "stream",
     "text": [
      "[0.00271746, 0.01260502, 0.00167629, -0.00207766, 0.00720758, 0.00114514, 0.00684158, 0.02242511, 0.012964340000000001]\n",
      "epoch No : 0\tLoss : 0.9906877485343311\n",
      "epoch No : 1\tLoss : 0.8914692674599634\n",
      "epoch No : 2\tLoss : 0.8099594440068556\n",
      "epoch No : 3\tLoss : 0.7412259470544349\n",
      "epoch No : 4\tLoss : 0.6820491632145764\n",
      "epoch No : 5\tLoss : 0.6302463684715147\n",
      "epoch No : 6\tLoss : 0.5842884820896366\n",
      "epoch No : 7\tLoss : 0.5430733921767518\n",
      "epoch No : 8\tLoss : 0.5057867081766028\n",
      "epoch No : 9\tLoss : 0.47181327690119784\n",
      "epoch No : 10\tLoss : 0.4406792358082338\n",
      "epoch No : 11\tLoss : 0.4120130316946212\n",
      "epoch No : 12\tLoss : 0.38551856169027743\n",
      "epoch No : 13\tLoss : 0.3609562666347231\n",
      "epoch No : 14\tLoss : 0.3381295658113445\n",
      "epoch No : 15\tLoss : 0.31687495719014547\n",
      "epoch No : 16\tLoss : 0.2970546829913006\n",
      "epoch No : 17\tLoss : 0.2785512231717963\n",
      "epoch No : 18\tLoss : 0.2612631130438977\n",
      "epoch No : 19\tLoss : 0.24510173465636134\n"
     ]
    },
    {
     "data": {
      "text/plain": [
       "array([ 0.01907502,  0.03149075,  0.00195998, -0.00194013,  0.00731665,\n",
       "        0.35801917,  0.30641089,  0.14602163,  0.71867958])"
      ]
     },
     "execution_count": 24,
     "metadata": {},
     "output_type": "execute_result"
    }
   ],
   "source": [
    "eta0=0.0001\n",
    "epochs=20\n",
    "print(w)\n",
    "vanilaUpdate(X,eta0,epochs,w)"
   ]
  },
  {
   "cell_type": "markdown",
   "metadata": {
    "id": "V4RWWrZ7lWap"
   },
   "source": [
    "### <font color='blue'>2.2 Algorithm with Momentum update of weights</font>"
   ]
  },
  {
   "cell_type": "markdown",
   "metadata": {
    "id": "oM2BAasL6zz4"
   },
   "source": [
    "<img src='https://i.imgur.com/gyPSXhS.png'>"
   ]
  },
  {
   "cell_type": "markdown",
   "metadata": {
    "id": "2iCc4sIE-4A-"
   },
   "source": [
    "Here Gamma referes to the momentum coefficient, eta is leaning rate and v_t is moving average of our gradients at timestep t"
   ]
  },
  {
   "cell_type": "markdown",
   "metadata": {
    "id": "-KTmDomaQoW5"
   },
   "source": []
  },
  {
   "cell_type": "code",
   "execution_count": 25,
   "metadata": {},
   "outputs": [],
   "source": [
    "train_loss_m = []\n",
    "def momentumUpdate(X_train,eta0,epochs,w,gamma):\n",
    "    v_prev = 0\n",
    "    for j in range(epochs):\n",
    "        inter_loss = []\n",
    "        for i in range(len(X_train)):\n",
    "            forward_dict=forward_propagation(X_train[i],y[i],w)\n",
    "            backward_dict=backward_propagation(X_train[i],y[i],w,forward_dict)\n",
    "            dw = np.array(list(backward_dict.values()))\n",
    "            \n",
    "            v = (gamma * v_prev) + (eta0 * dw)\n",
    "            \n",
    "            w = w - v\n",
    "            \n",
    "            v_prev = v\n",
    "        \n",
    "            inter_loss.append(forward_dict['loss'])\n",
    "\n",
    "        train_loss_m.append(np.mean(inter_loss))\n",
    "        print(\"epoch No :\",j,end=\"\\t\")\n",
    "        print(\"Loss :\",np.mean(inter_loss))\n",
    "            \n",
    "    return w"
   ]
  },
  {
   "cell_type": "code",
   "execution_count": 26,
   "metadata": {},
   "outputs": [
    {
     "name": "stdout",
     "output_type": "stream",
     "text": [
      "[0.00271746, 0.01260502, 0.00167629, -0.00207766, 0.00720758, 0.00114514, 0.00684158, 0.02242511, 0.012964340000000001]\n",
      "epoch No : 0\tLoss : 0.6907689464638022\n",
      "epoch No : 1\tLoss : 0.33189409869585795\n",
      "epoch No : 2\tLoss : 0.1733873453218329\n",
      "epoch No : 3\tLoss : 0.09430741504828742\n",
      "epoch No : 4\tLoss : 0.05713614406344189\n",
      "epoch No : 5\tLoss : 0.04106294607186752\n",
      "epoch No : 6\tLoss : 0.03464551332969455\n",
      "epoch No : 7\tLoss : 0.032279883251263734\n",
      "epoch No : 8\tLoss : 0.03149309303965892\n",
      "epoch No : 9\tLoss : 0.03127790550858522\n",
      "epoch No : 10\tLoss : 0.03125013361913477\n",
      "epoch No : 11\tLoss : 0.031272732748596356\n",
      "epoch No : 12\tLoss : 0.03130125748353921\n",
      "epoch No : 13\tLoss : 0.03132388839986447\n",
      "epoch No : 14\tLoss : 0.03133928085215153\n",
      "epoch No : 15\tLoss : 0.031348837027597345\n",
      "epoch No : 16\tLoss : 0.03135424514384684\n",
      "epoch No : 17\tLoss : 0.03135684139329974\n",
      "epoch No : 18\tLoss : 0.03135754793511056\n",
      "epoch No : 19\tLoss : 0.031356958324924196\n"
     ]
    },
    {
     "data": {
      "text/plain": [
       "array([0.03772262, 0.04948852, 0.01131505, 0.00146758, 0.01337534,\n",
       "       0.50651104, 0.40387316, 0.42767226, 1.35914326])"
      ]
     },
     "execution_count": 26,
     "metadata": {},
     "output_type": "execute_result"
    }
   ],
   "source": [
    "eta0=0.0001\n",
    "epochs=20\n",
    "g = 0.9\n",
    "print(w)\n",
    "momentumUpdate(X,eta0,epochs,w,g)"
   ]
  },
  {
   "cell_type": "markdown",
   "metadata": {
    "id": "Agtmr_lZQoW6"
   },
   "source": [
    "### <font color='blue'>2.3 Algorithm with Adam update of weights</font>"
   ]
  },
  {
   "cell_type": "markdown",
   "metadata": {
    "id": "WRYiT2KKQoW6"
   },
   "source": [
    "<img src='https://i.imgur.com/GDR8UFP.jpg'>"
   ]
  },
  {
   "cell_type": "code",
   "execution_count": 27,
   "metadata": {
    "id": "0YffVQ2LQoW6"
   },
   "outputs": [],
   "source": [
    "import numpy as np\n",
    "train_loss_a = []\n",
    "def AdamUpdate(X_train,eta0,epochs,w,beta_1,beta_2,eps):\n",
    "    m_prev = 0\n",
    "    v_prev = 0\n",
    "    for t in range(epochs):\n",
    "        inter_loss = []\n",
    "        for i in range(len(X_train)):\n",
    "            forward_dict=forward_propagation(X_train[i],y[i],w)\n",
    "            backward_dict=backward_propagation(X_train[i],y[i],w,forward_dict)\n",
    "            dw = np.array(list(backward_dict.values()))\n",
    "            \n",
    "            m = (beta_1 * m_prev) + ((1 - beta_1) * dw)\n",
    "            \n",
    "            v = (beta_2 * v_prev) + ((1 - beta_2) * (dw**2))\n",
    "            \n",
    "            m_hat = m/(1 - (beta_1**(t+1)) )\n",
    "            v_hat = v/(1 - (beta_2**(t+1)) )\n",
    "            \n",
    "            sr = np.sqrt(v_hat)\n",
    "            w = w - (eta0/sr + eps) * m_hat\n",
    "            \n",
    "            m_prev = m\n",
    "            v_prev = v\n",
    "        \n",
    "            inter_loss.append(forward_dict['loss'])\n",
    "\n",
    "        train_loss_a.append(np.mean(inter_loss))\n",
    "        print(\"epoch No :\",t,end=\"\\t\")\n",
    "        print(\"Loss :\",np.mean(inter_loss))\n",
    "            \n",
    "    return w"
   ]
  },
  {
   "cell_type": "code",
   "execution_count": 28,
   "metadata": {},
   "outputs": [
    {
     "name": "stdout",
     "output_type": "stream",
     "text": [
      "[0.00271746, 0.01260502, 0.00167629, -0.00207766, 0.00720758, 0.00114514, 0.00684158, 0.02242511, 0.012964340000000001]\n",
      "epoch No : 0\tLoss : 0.5382304003909644\n",
      "epoch No : 1\tLoss : 0.2556716348231495\n",
      "epoch No : 2\tLoss : 0.1583133965157599\n",
      "epoch No : 3\tLoss : 0.10134489319161617\n",
      "epoch No : 4\tLoss : 0.06450700553866746\n",
      "epoch No : 5\tLoss : 0.04006103600139304\n",
      "epoch No : 6\tLoss : 0.024031546723058555\n",
      "epoch No : 7\tLoss : 0.013933255330501637\n",
      "epoch No : 8\tLoss : 0.007965930596304995\n",
      "epoch No : 9\tLoss : 0.00471168811102941\n",
      "epoch No : 10\tLoss : 0.0030576927147607717\n",
      "epoch No : 11\tLoss : 0.0022135564428607973\n",
      "epoch No : 12\tLoss : 0.0017157343960657171\n",
      "epoch No : 13\tLoss : 0.0013576875305438812\n",
      "epoch No : 14\tLoss : 0.0010746724449321823\n",
      "epoch No : 15\tLoss : 0.0008514139142218007\n",
      "epoch No : 16\tLoss : 0.0006796881892599136\n",
      "epoch No : 17\tLoss : 0.0005489545090615768\n",
      "epoch No : 18\tLoss : 0.00044807567723667324\n",
      "epoch No : 19\tLoss : 0.0003677858924152262\n"
     ]
    },
    {
     "data": {
      "text/plain": [
       "array([ 0.47758597,  0.45666917, -0.99420947, -1.0375236 , -0.82816739,\n",
       "        0.54139033,  0.45277442,  1.01560472,  1.00683094])"
      ]
     },
     "execution_count": 28,
     "metadata": {},
     "output_type": "execute_result"
    }
   ],
   "source": [
    "eta0=0.001\n",
    "epochs=20\n",
    "beta_1 = 0.9\n",
    "beta_2 = 0.999\n",
    "eps=10**-8\n",
    "print(w)\n",
    "AdamUpdate(X,eta0,epochs,w,beta_1,beta_2,eps)"
   ]
  },
  {
   "cell_type": "markdown",
   "metadata": {
    "id": "7627cy8YlnYO"
   },
   "source": [
    "<font color='blue'>Comparision plot between epochs and loss with different optimizers. Make sure that loss is conerging with increaing epochs</font>"
   ]
  },
  {
   "cell_type": "code",
   "execution_count": 29,
   "metadata": {
    "id": "scleSfIXl_bC"
   },
   "outputs": [],
   "source": [
    "#plot the graph between loss vs epochs for all 3 optimizers."
   ]
  },
  {
   "cell_type": "code",
   "execution_count": 30,
   "metadata": {},
   "outputs": [
    {
     "data": {
      "image/png": "[encoded data removed]",
      "text/plain": [
       "<Figure size 432x288 with 1 Axes>"
      ]
     },
     "metadata": {
      "needs_background": "light"
     },
     "output_type": "display_data"
    }
   ],
   "source": [
    "import matplotlib.pyplot as plt\n",
    "epoch = [ i for i in range(epochs) ]\n",
    "\n",
    "figure,ax = plt.subplots()\n",
    "ax.plot(epoch,train_loss_v,label = \"Vanilla\")\n",
    "ax.plot(epoch,train_loss_m,label = \"Momentum\")\n",
    "ax.plot(epoch,train_loss_a,label = \"Adam\")\n",
    "ax.legend()\n",
    "plt.xlabel(\"epochs\")\n",
    "plt.ylabel(\"Loss\")\n",
    "plt.show()"
   ]
  },
  {
   "cell_type": "code",
   "execution_count": null,
   "metadata": {},
   "outputs": [],
   "source": []
  },
  {
   "cell_type": "markdown",
   "metadata": {
    "id": "YfDWEOCr69uQ"
   },
   "source": [
    "<font color='blue'><b>You can go through the following blog to understand the implementation of other optimizers .</font>\n",
    "   <br> [Gradients update blog](https://cs231n.github.io/neural-networks-3/) </br>"
   ]
  },
  {
   "cell_type": "code",
   "execution_count": null,
   "metadata": {
    "id": "IsoSyrCQ6_xb"
   },
   "outputs": [],
   "source": []
  }
 ],
 "metadata": {
  "colab": {
   "collapsed_sections": [],
   "name": "Backpropagation_Assignment.ipynb",
   "provenance": []
  },
  "kernelspec": {
   "display_name": "Python 3",
   "language": "python",
   "name": "python3"
  },
  "language_info": {
   "codemirror_mode": {
    "name": "ipython",
    "version": 3
   },
   "file_extension": ".py",
   "mimetype": "text/x-python",
   "name": "python",
   "nbconvert_exporter": "python",
   "pygments_lexer": "ipython3",
   "version": "3.6.5"
  }
 },
 "nbformat": 4,
 "nbformat_minor": 1
}
