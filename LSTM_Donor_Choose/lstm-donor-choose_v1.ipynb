{
 "cells": [
  {
   "cell_type": "markdown",
   "metadata": {
    "papermill": {
     "duration": 0.100766,
     "end_time": "2022-03-01T18:26:04.487224",
     "exception": false,
     "start_time": "2022-03-01T18:26:04.386458",
     "status": "completed"
    },
    "tags": []
   },
   "source": [
    "## Assignment : 14"
   ]
  },
  {
   "cell_type": "markdown",
   "metadata": {
    "papermill": {
     "duration": 0.109012,
     "end_time": "2022-03-01T18:26:04.724885",
     "exception": false,
     "start_time": "2022-03-01T18:26:04.615873",
     "status": "completed"
    },
    "tags": []
   },
   "source": [
    "<pre>\n",
    "1. You can work with preprocessed_data.csv for the assignment. You can get the data from - <a href='https://drive.google.com/drive/u/0/folders/1CJnItndeSSJu7aragQoXWZS9-0apN6pp'>Data folder </a>\n",
    "2. Load the data in your notebook.\n",
    "3. After step 2 you have to train 3 types of models as discussed below. \n",
    "4. For all the model use <a href='https://scikit-learn.org/stable/modules/model_evaluation.html#roc-metrics'>'auc'</a> as a metric. check <a  href='https://stackoverflow.com/a/46844409'>this</a> and <a  href='https://www.kaggle.com/c/santander-customer-transaction-prediction/discussion/80807'>this</a> for using auc as a metric \n",
    "5. You are free to choose any number of layers/hiddden units but you have to use same type of architectures shown below. \n",
    "6. You can use any one of the optimizers and choice of Learning rate and momentum.\n",
    "7. For all the model's use <a href='https://www.youtube.com/watch?v=2U6Jl7oqRkM'>TensorBoard</a> and plot the Metric value and Loss with epoch. While submitting, take a screenshot of plots and include those images in a separate pad and write your observations about them.\n",
    "8. Make sure that you are using GPU to train the given models.\n",
    "</pre>"
   ]
  },
  {
   "cell_type": "code",
   "execution_count": 1,
   "metadata": {
    "execution": {
     "iopub.execute_input": "2022-03-01T18:26:04.972105Z",
     "iopub.status.busy": "2022-03-01T18:26:04.970577Z",
     "iopub.status.idle": "2022-03-01T18:26:04.973095Z",
     "shell.execute_reply": "2022-03-01T18:26:04.974018Z",
     "shell.execute_reply.started": "2022-03-01T17:37:37.261216Z"
    },
    "papermill": {
     "duration": 0.117614,
     "end_time": "2022-03-01T18:26:04.974242",
     "exception": false,
     "start_time": "2022-03-01T18:26:04.856628",
     "status": "completed"
    },
    "tags": []
   },
   "outputs": [],
   "source": [
    "#you can use gdown modules to import dataset for the assignment\n",
    "#for importing any file from drive to Colab you can write the syntax as !gdown --id file_id\n",
    "#you can run the below cell to import the required preprocessed data.csv file and glove vector"
   ]
  },
  {
   "cell_type": "code",
   "execution_count": 2,
   "metadata": {
    "execution": {
     "iopub.execute_input": "2022-03-01T18:26:05.175472Z",
     "iopub.status.busy": "2022-03-01T18:26:05.174944Z",
     "iopub.status.idle": "2022-03-01T18:26:27.045213Z",
     "shell.execute_reply": "2022-03-01T18:26:27.044709Z",
     "shell.execute_reply.started": "2022-03-01T17:37:37.279900Z"
    },
    "papermill": {
     "duration": 21.974047,
     "end_time": "2022-03-01T18:26:27.045356",
     "exception": false,
     "start_time": "2022-03-01T18:26:05.071309",
     "status": "completed"
    },
    "tags": []
   },
   "outputs": [
    {
     "name": "stdout",
     "output_type": "stream",
     "text": [
      "Collecting gdown\r\n",
      "  Downloading gdown-4.4.0.tar.gz (14 kB)\r\n",
      "  Installing build dependencies ... \u001b[?25l-\b \b\\\b \b|\b \b/\b \b-\b \bdone\r\n",
      "\u001b[?25h  Getting requirements to build wheel ... \u001b[?25l-\b \b\\\b \b|\b \bdone\r\n",
      "\u001b[?25h  Preparing metadata (pyproject.toml) ... \u001b[?25l-\b \b\\\b \b|\b \bdone\r\n",
      "\u001b[?25hRequirement already satisfied: six in /opt/conda/lib/python3.7/site-packages (from gdown) (1.16.0)\r\n",
      "Requirement already satisfied: requests[socks] in /opt/conda/lib/python3.7/site-packages (from gdown) (2.26.0)\r\n",
      "Requirement already satisfied: tqdm in /opt/conda/lib/python3.7/site-packages (from gdown) (4.62.3)\r\n",
      "Requirement already satisfied: beautifulsoup4 in /opt/conda/lib/python3.7/site-packages (from gdown) (4.10.0)\r\n",
      "Requirement already satisfied: filelock in /opt/conda/lib/python3.7/site-packages (from gdown) (3.4.2)\r\n",
      "Requirement already satisfied: soupsieve>1.2 in /opt/conda/lib/python3.7/site-packages (from beautifulsoup4->gdown) (2.3.1)\r\n",
      "Requirement already satisfied: certifi>=2017.4.17 in /opt/conda/lib/python3.7/site-packages (from requests[socks]->gdown) (2021.10.8)\r\n",
      "Requirement already satisfied: charset-normalizer~=2.0.0 in /opt/conda/lib/python3.7/site-packages (from requests[socks]->gdown) (2.0.9)\r\n",
      "Requirement already satisfied: idna<4,>=2.5 in /opt/conda/lib/python3.7/site-packages (from requests[socks]->gdown) (3.1)\r\n",
      "Requirement already satisfied: urllib3<1.27,>=1.21.1 in /opt/conda/lib/python3.7/site-packages (from requests[socks]->gdown) (1.26.7)\r\n",
      "Requirement already satisfied: PySocks!=1.5.7,>=1.5.6 in /opt/conda/lib/python3.7/site-packages (from requests[socks]->gdown) (1.7.1)\r\n",
      "Building wheels for collected packages: gdown\r\n",
      "  Building wheel for gdown (pyproject.toml) ... \u001b[?25l-\b \b\\\b \b|\b \b/\b \b-\b \bdone\r\n",
      "\u001b[?25h  Created wheel for gdown: filename=gdown-4.4.0-py3-none-any.whl size=14775 sha256=40ce7d11829560c4b0ee3beac7e1a4d72232882609b1ed4d78d0ad321a49ca8e\r\n",
      "  Stored in directory: /root/.cache/pip/wheels/fb/c3/0e/c4d8ff8bfcb0461afff199471449f642179b74968c15b7a69c\r\n",
      "Successfully built gdown\r\n",
      "Installing collected packages: gdown\r\n",
      "Successfully installed gdown-4.4.0\r\n",
      "\u001b[33mWARNING: Running pip as the 'root' user can result in broken permissions and conflicting behaviour with the system package manager. It is recommended to use a virtual environment instead: https://pip.pypa.io/warnings/venv\u001b[0m\r\n"
     ]
    }
   ],
   "source": [
    "!pip install gdown"
   ]
  },
  {
   "cell_type": "code",
   "execution_count": 3,
   "metadata": {
    "execution": {
     "iopub.execute_input": "2022-03-01T18:26:27.261411Z",
     "iopub.status.busy": "2022-03-01T18:26:27.260679Z",
     "iopub.status.idle": "2022-03-01T18:26:32.591164Z",
     "shell.execute_reply": "2022-03-01T18:26:32.590310Z",
     "shell.execute_reply.started": "2022-03-01T17:37:58.975260Z"
    },
    "papermill": {
     "duration": 5.440022,
     "end_time": "2022-03-01T18:26:32.591306",
     "exception": false,
     "start_time": "2022-03-01T18:26:27.151284",
     "status": "completed"
    },
    "tags": []
   },
   "outputs": [
    {
     "name": "stdout",
     "output_type": "stream",
     "text": [
      "/opt/conda/lib/python3.7/site-packages/gdown/cli.py:131: FutureWarning: Option `--id` was deprecated in version 4.3.1 and will be removed in 5.0. You don't need to pass it anymore to use a file ID.\r\n",
      "  category=FutureWarning,\r\n",
      "Downloading...\r\n",
      "From: https://drive.google.com/uc?id=1GpATd_pM4mcnWWIs28-s1lgqdAg2Wdv-\r\n",
      "To: /kaggle/working/preprocessed_data.csv\r\n",
      "100%|█████████████████████████████████████████| 124M/124M [00:00<00:00, 279MB/s]\r\n",
      "/opt/conda/lib/python3.7/site-packages/gdown/cli.py:131: FutureWarning: Option `--id` was deprecated in version 4.3.1 and will be removed in 5.0. You don't need to pass it anymore to use a file ID.\r\n",
      "  category=FutureWarning,\r\n",
      "Downloading...\r\n",
      "From: https://drive.google.com/uc?id=1pGd5tLwA30M7wkbJKdXHaae9tYVDICJ_\r\n",
      "To: /kaggle/working/glove_vectors\r\n",
      "100%|█████████████████████████████████████████| 128M/128M [00:00<00:00, 252MB/s]\r\n"
     ]
    }
   ],
   "source": [
    "!gdown --id 1GpATd_pM4mcnWWIs28-s1lgqdAg2Wdv-\n",
    "!gdown --id 1pGd5tLwA30M7wkbJKdXHaae9tYVDICJ_"
   ]
  },
  {
   "cell_type": "markdown",
   "metadata": {
    "papermill": {
     "duration": 0.109748,
     "end_time": "2022-03-01T18:26:32.811247",
     "exception": false,
     "start_time": "2022-03-01T18:26:32.701499",
     "status": "completed"
    },
    "tags": []
   },
   "source": [
    "## <font color='red'> Model-1 </font>\n",
    "Build and Train deep neural network as shown below"
   ]
  },
  {
   "cell_type": "markdown",
   "metadata": {
    "papermill": {
     "duration": 0.107827,
     "end_time": "2022-03-01T18:26:33.027285",
     "exception": false,
     "start_time": "2022-03-01T18:26:32.919458",
     "status": "completed"
    },
    "tags": []
   },
   "source": [
    "<img src='https://i.imgur.com/w395Yk9.png'>\n",
    "ref: https://i.imgur.com/w395Yk9.png"
   ]
  },
  {
   "cell_type": "markdown",
   "metadata": {
    "papermill": {
     "duration": 0.120553,
     "end_time": "2022-03-01T18:26:33.264523",
     "exception": false,
     "start_time": "2022-03-01T18:26:33.143970",
     "status": "completed"
    },
    "tags": []
   },
   "source": [
    "- __Input_seq_total_text_data__ --- You have to give Total text data columns. After this use the Embedding layer to get word vectors. Use given predefined glove word vectors, don't train any word vectors. After this use LSTM and get the LSTM output and Flatten that output. \n",
    "- __Input_school_state__ --- Give 'school_state' column as input to embedding layer and Train the Keras Embedding layer. \n",
    "- __Project_grade_category__  --- Give 'project_grade_category' column as input to embedding layer and Train the Keras Embedding layer.\n",
    "- __Input_clean_categories__ --- Give 'input_clean_categories' column as input to embedding layer and Train the Keras Embedding layer.\n",
    "- __Input_clean_subcategories__ --- Give 'input_clean_subcategories' column as input to embedding layer and Train the Keras Embedding layer.\n",
    "- __Input_clean_subcategories__ --- Give 'input_teacher_prefix' column as input to embedding layer and Train the Keras Embedding layer.\n",
    "- __Input_remaining_teacher_number_of_previously_posted_projects._resource_summary_contains_numerical_digits._price._quantity__ ---concatenate remaining columns and add a Dense layer after that. \n",
    "\n"
   ]
  },
  {
   "cell_type": "markdown",
   "metadata": {
    "papermill": {
     "duration": 0.119077,
     "end_time": "2022-03-01T18:26:33.504409",
     "exception": false,
     "start_time": "2022-03-01T18:26:33.385332",
     "status": "completed"
    },
    "tags": []
   },
   "source": [
    "Below is an example of embedding layer for a categorical columns. In below code all are dummy values, we gave only for referance. "
   ]
  },
  {
   "cell_type": "code",
   "execution_count": 4,
   "metadata": {
    "execution": {
     "iopub.execute_input": "2022-03-01T18:26:33.750931Z",
     "iopub.status.busy": "2022-03-01T18:26:33.750093Z",
     "iopub.status.idle": "2022-03-01T18:26:33.752301Z",
     "shell.execute_reply": "2022-03-01T18:26:33.752713Z",
     "shell.execute_reply.started": "2022-03-01T17:38:04.764831Z"
    },
    "papermill": {
     "duration": 0.129716,
     "end_time": "2022-03-01T18:26:33.752852",
     "exception": false,
     "start_time": "2022-03-01T18:26:33.623136",
     "status": "completed"
    },
    "tags": []
   },
   "outputs": [],
   "source": [
    "# https://stats.stackexchange.com/questions/270546/how-does-keras-embedding-layer-work\n",
    "#input_layer = Input(shape=(n,))\n",
    "#embedding = Embedding(no_1, no_2, input_length=n)(input_layer)\n",
    "#flatten = Flatten()(embedding)"
   ]
  },
  {
   "cell_type": "markdown",
   "metadata": {
    "papermill": {
     "duration": 0.121204,
     "end_time": "2022-03-01T18:26:33.992841",
     "exception": false,
     "start_time": "2022-03-01T18:26:33.871637",
     "status": "completed"
    },
    "tags": []
   },
   "source": [
    "### 1. Go through this blog, if you have any doubt on using predefined Embedding values in Embedding layer - https://machinelearningmastery.com/use-word-embedding-layers-deep-learning-keras/\n",
    "### 2. Please go through this link https://keras.io/getting-started/functional-api-guide/ and check the 'Multi-input and multi-output models' then you will get to know how to give multiple inputs. "
   ]
  },
  {
   "cell_type": "markdown",
   "metadata": {
    "papermill": {
     "duration": 0.108356,
     "end_time": "2022-03-01T18:26:34.216438",
     "exception": false,
     "start_time": "2022-03-01T18:26:34.108082",
     "status": "completed"
    },
    "tags": []
   },
   "source": [
    "# <font color='red'> Model-1 </font>"
   ]
  },
  {
   "cell_type": "code",
   "execution_count": 5,
   "metadata": {
    "execution": {
     "iopub.execute_input": "2022-03-01T18:26:34.458968Z",
     "iopub.status.busy": "2022-03-01T18:26:34.458133Z",
     "iopub.status.idle": "2022-03-01T18:26:39.060567Z",
     "shell.execute_reply": "2022-03-01T18:26:39.060049Z",
     "shell.execute_reply.started": "2022-03-01T17:38:04.770751Z"
    },
    "papermill": {
     "duration": 4.735499,
     "end_time": "2022-03-01T18:26:39.060697",
     "exception": false,
     "start_time": "2022-03-01T18:26:34.325198",
     "status": "completed"
    },
    "tags": []
   },
   "outputs": [],
   "source": [
    "# import all the libraries\n",
    "#make sure that you import your libraries from tf.keras and not just keras\n",
    "import tensorflow\n",
    "from tensorflow.keras.layers import Input,Dense,LSTM"
   ]
  },
  {
   "cell_type": "code",
   "execution_count": 6,
   "metadata": {
    "execution": {
     "iopub.execute_input": "2022-03-01T18:26:39.303854Z",
     "iopub.status.busy": "2022-03-01T18:26:39.302918Z",
     "iopub.status.idle": "2022-03-01T18:26:40.708373Z",
     "shell.execute_reply": "2022-03-01T18:26:40.708921Z",
     "shell.execute_reply.started": "2022-03-01T17:38:09.996538Z"
    },
    "papermill": {
     "duration": 1.532237,
     "end_time": "2022-03-01T18:26:40.709078",
     "exception": false,
     "start_time": "2022-03-01T18:26:39.176841",
     "status": "completed"
    },
    "tags": []
   },
   "outputs": [],
   "source": [
    "#read the csv file\n",
    "import pandas as pd\n",
    "df = pd.read_csv('preprocessed_data.csv')"
   ]
  },
  {
   "cell_type": "code",
   "execution_count": 7,
   "metadata": {
    "execution": {
     "iopub.execute_input": "2022-03-01T18:26:41.023306Z",
     "iopub.status.busy": "2022-03-01T18:26:41.022539Z",
     "iopub.status.idle": "2022-03-01T18:26:41.048827Z",
     "shell.execute_reply": "2022-03-01T18:26:41.049471Z",
     "shell.execute_reply.started": "2022-03-01T17:38:11.180707Z"
    },
    "papermill": {
     "duration": 0.219087,
     "end_time": "2022-03-01T18:26:41.049669",
     "exception": false,
     "start_time": "2022-03-01T18:26:40.830582",
     "status": "completed"
    },
    "tags": []
   },
   "outputs": [
    {
     "data": {
      "text/html": [
       "<div>\n",
       "<style scoped>\n",
       "    .dataframe tbody tr th:only-of-type {\n",
       "        vertical-align: middle;\n",
       "    }\n",
       "\n",
       "    .dataframe tbody tr th {\n",
       "        vertical-align: top;\n",
       "    }\n",
       "\n",
       "    .dataframe thead th {\n",
       "        text-align: right;\n",
       "    }\n",
       "</style>\n",
       "<table border=\"1\" class=\"dataframe\">\n",
       "  <thead>\n",
       "    <tr style=\"text-align: right;\">\n",
       "      <th></th>\n",
       "      <th>school_state</th>\n",
       "      <th>teacher_prefix</th>\n",
       "      <th>project_grade_category</th>\n",
       "      <th>teacher_number_of_previously_posted_projects</th>\n",
       "      <th>project_is_approved</th>\n",
       "      <th>clean_categories</th>\n",
       "      <th>clean_subcategories</th>\n",
       "      <th>essay</th>\n",
       "      <th>price</th>\n",
       "    </tr>\n",
       "  </thead>\n",
       "  <tbody>\n",
       "    <tr>\n",
       "      <th>0</th>\n",
       "      <td>ca</td>\n",
       "      <td>mrs</td>\n",
       "      <td>grades_prek_2</td>\n",
       "      <td>53</td>\n",
       "      <td>1</td>\n",
       "      <td>math_science</td>\n",
       "      <td>appliedsciences health_lifescience</td>\n",
       "      <td>i fortunate enough use fairy tale stem kits cl...</td>\n",
       "      <td>725.05</td>\n",
       "    </tr>\n",
       "    <tr>\n",
       "      <th>1</th>\n",
       "      <td>ut</td>\n",
       "      <td>ms</td>\n",
       "      <td>grades_3_5</td>\n",
       "      <td>4</td>\n",
       "      <td>1</td>\n",
       "      <td>specialneeds</td>\n",
       "      <td>specialneeds</td>\n",
       "      <td>imagine 8 9 years old you third grade classroo...</td>\n",
       "      <td>213.03</td>\n",
       "    </tr>\n",
       "    <tr>\n",
       "      <th>2</th>\n",
       "      <td>ca</td>\n",
       "      <td>mrs</td>\n",
       "      <td>grades_prek_2</td>\n",
       "      <td>10</td>\n",
       "      <td>1</td>\n",
       "      <td>literacy_language</td>\n",
       "      <td>literacy</td>\n",
       "      <td>having class 24 students comes diverse learner...</td>\n",
       "      <td>329.00</td>\n",
       "    </tr>\n",
       "    <tr>\n",
       "      <th>3</th>\n",
       "      <td>ga</td>\n",
       "      <td>mrs</td>\n",
       "      <td>grades_prek_2</td>\n",
       "      <td>2</td>\n",
       "      <td>1</td>\n",
       "      <td>appliedlearning</td>\n",
       "      <td>earlydevelopment</td>\n",
       "      <td>i recently read article giving students choice...</td>\n",
       "      <td>481.04</td>\n",
       "    </tr>\n",
       "    <tr>\n",
       "      <th>4</th>\n",
       "      <td>wa</td>\n",
       "      <td>mrs</td>\n",
       "      <td>grades_3_5</td>\n",
       "      <td>2</td>\n",
       "      <td>1</td>\n",
       "      <td>literacy_language</td>\n",
       "      <td>literacy</td>\n",
       "      <td>my students crave challenge eat obstacles brea...</td>\n",
       "      <td>17.74</td>\n",
       "    </tr>\n",
       "  </tbody>\n",
       "</table>\n",
       "</div>"
      ],
      "text/plain": [
       "  school_state teacher_prefix project_grade_category  \\\n",
       "0           ca            mrs          grades_prek_2   \n",
       "1           ut             ms             grades_3_5   \n",
       "2           ca            mrs          grades_prek_2   \n",
       "3           ga            mrs          grades_prek_2   \n",
       "4           wa            mrs             grades_3_5   \n",
       "\n",
       "   teacher_number_of_previously_posted_projects  project_is_approved  \\\n",
       "0                                            53                    1   \n",
       "1                                             4                    1   \n",
       "2                                            10                    1   \n",
       "3                                             2                    1   \n",
       "4                                             2                    1   \n",
       "\n",
       "    clean_categories                 clean_subcategories  \\\n",
       "0       math_science  appliedsciences health_lifescience   \n",
       "1       specialneeds                        specialneeds   \n",
       "2  literacy_language                            literacy   \n",
       "3    appliedlearning                    earlydevelopment   \n",
       "4  literacy_language                            literacy   \n",
       "\n",
       "                                               essay   price  \n",
       "0  i fortunate enough use fairy tale stem kits cl...  725.05  \n",
       "1  imagine 8 9 years old you third grade classroo...  213.03  \n",
       "2  having class 24 students comes diverse learner...  329.00  \n",
       "3  i recently read article giving students choice...  481.04  \n",
       "4  my students crave challenge eat obstacles brea...   17.74  "
      ]
     },
     "execution_count": 7,
     "metadata": {},
     "output_type": "execute_result"
    }
   ],
   "source": [
    "df.head()"
   ]
  },
  {
   "cell_type": "code",
   "execution_count": 8,
   "metadata": {
    "execution": {
     "iopub.execute_input": "2022-03-01T18:26:41.436497Z",
     "iopub.status.busy": "2022-03-01T18:26:41.428930Z",
     "iopub.status.idle": "2022-03-01T18:26:41.444197Z",
     "shell.execute_reply": "2022-03-01T18:26:41.445202Z",
     "shell.execute_reply.started": "2022-03-01T17:38:11.204521Z"
    },
    "papermill": {
     "duration": 0.207037,
     "end_time": "2022-03-01T18:26:41.445397",
     "exception": false,
     "start_time": "2022-03-01T18:26:41.238360",
     "status": "completed"
    },
    "tags": []
   },
   "outputs": [],
   "source": [
    "y = df['project_is_approved'].values\n",
    "df = df.drop('project_is_approved',axis = 1)"
   ]
  },
  {
   "cell_type": "code",
   "execution_count": 9,
   "metadata": {
    "execution": {
     "iopub.execute_input": "2022-03-01T18:26:41.831068Z",
     "iopub.status.busy": "2022-03-01T18:26:41.830178Z",
     "iopub.status.idle": "2022-03-01T18:26:41.834910Z",
     "shell.execute_reply": "2022-03-01T18:26:41.835519Z",
     "shell.execute_reply.started": "2022-03-01T17:38:11.228053Z"
    },
    "papermill": {
     "duration": 0.210657,
     "end_time": "2022-03-01T18:26:41.835713",
     "exception": false,
     "start_time": "2022-03-01T18:26:41.625056",
     "status": "completed"
    },
    "tags": []
   },
   "outputs": [
    {
     "data": {
      "text/plain": [
       "array([1, 1, 1, ..., 1, 1, 1])"
      ]
     },
     "execution_count": 9,
     "metadata": {},
     "output_type": "execute_result"
    }
   ],
   "source": [
    "y"
   ]
  },
  {
   "cell_type": "code",
   "execution_count": 10,
   "metadata": {
    "execution": {
     "iopub.execute_input": "2022-03-01T18:26:42.132765Z",
     "iopub.status.busy": "2022-03-01T18:26:42.132255Z",
     "iopub.status.idle": "2022-03-01T18:26:42.137343Z",
     "shell.execute_reply": "2022-03-01T18:26:42.136861Z",
     "shell.execute_reply.started": "2022-03-01T17:38:11.241202Z"
    },
    "papermill": {
     "duration": 0.130459,
     "end_time": "2022-03-01T18:26:42.137457",
     "exception": false,
     "start_time": "2022-03-01T18:26:42.006998",
     "status": "completed"
    },
    "tags": []
   },
   "outputs": [
    {
     "data": {
      "text/html": [
       "<div>\n",
       "<style scoped>\n",
       "    .dataframe tbody tr th:only-of-type {\n",
       "        vertical-align: middle;\n",
       "    }\n",
       "\n",
       "    .dataframe tbody tr th {\n",
       "        vertical-align: top;\n",
       "    }\n",
       "\n",
       "    .dataframe thead th {\n",
       "        text-align: right;\n",
       "    }\n",
       "</style>\n",
       "<table border=\"1\" class=\"dataframe\">\n",
       "  <thead>\n",
       "    <tr style=\"text-align: right;\">\n",
       "      <th></th>\n",
       "      <th>school_state</th>\n",
       "      <th>teacher_prefix</th>\n",
       "      <th>project_grade_category</th>\n",
       "      <th>teacher_number_of_previously_posted_projects</th>\n",
       "      <th>clean_categories</th>\n",
       "      <th>clean_subcategories</th>\n",
       "      <th>essay</th>\n",
       "      <th>price</th>\n",
       "    </tr>\n",
       "  </thead>\n",
       "  <tbody>\n",
       "    <tr>\n",
       "      <th>0</th>\n",
       "      <td>ca</td>\n",
       "      <td>mrs</td>\n",
       "      <td>grades_prek_2</td>\n",
       "      <td>53</td>\n",
       "      <td>math_science</td>\n",
       "      <td>appliedsciences health_lifescience</td>\n",
       "      <td>i fortunate enough use fairy tale stem kits cl...</td>\n",
       "      <td>725.05</td>\n",
       "    </tr>\n",
       "    <tr>\n",
       "      <th>1</th>\n",
       "      <td>ut</td>\n",
       "      <td>ms</td>\n",
       "      <td>grades_3_5</td>\n",
       "      <td>4</td>\n",
       "      <td>specialneeds</td>\n",
       "      <td>specialneeds</td>\n",
       "      <td>imagine 8 9 years old you third grade classroo...</td>\n",
       "      <td>213.03</td>\n",
       "    </tr>\n",
       "    <tr>\n",
       "      <th>2</th>\n",
       "      <td>ca</td>\n",
       "      <td>mrs</td>\n",
       "      <td>grades_prek_2</td>\n",
       "      <td>10</td>\n",
       "      <td>literacy_language</td>\n",
       "      <td>literacy</td>\n",
       "      <td>having class 24 students comes diverse learner...</td>\n",
       "      <td>329.00</td>\n",
       "    </tr>\n",
       "    <tr>\n",
       "      <th>3</th>\n",
       "      <td>ga</td>\n",
       "      <td>mrs</td>\n",
       "      <td>grades_prek_2</td>\n",
       "      <td>2</td>\n",
       "      <td>appliedlearning</td>\n",
       "      <td>earlydevelopment</td>\n",
       "      <td>i recently read article giving students choice...</td>\n",
       "      <td>481.04</td>\n",
       "    </tr>\n",
       "    <tr>\n",
       "      <th>4</th>\n",
       "      <td>wa</td>\n",
       "      <td>mrs</td>\n",
       "      <td>grades_3_5</td>\n",
       "      <td>2</td>\n",
       "      <td>literacy_language</td>\n",
       "      <td>literacy</td>\n",
       "      <td>my students crave challenge eat obstacles brea...</td>\n",
       "      <td>17.74</td>\n",
       "    </tr>\n",
       "  </tbody>\n",
       "</table>\n",
       "</div>"
      ],
      "text/plain": [
       "  school_state teacher_prefix project_grade_category  \\\n",
       "0           ca            mrs          grades_prek_2   \n",
       "1           ut             ms             grades_3_5   \n",
       "2           ca            mrs          grades_prek_2   \n",
       "3           ga            mrs          grades_prek_2   \n",
       "4           wa            mrs             grades_3_5   \n",
       "\n",
       "   teacher_number_of_previously_posted_projects   clean_categories  \\\n",
       "0                                            53       math_science   \n",
       "1                                             4       specialneeds   \n",
       "2                                            10  literacy_language   \n",
       "3                                             2    appliedlearning   \n",
       "4                                             2  literacy_language   \n",
       "\n",
       "                  clean_subcategories  \\\n",
       "0  appliedsciences health_lifescience   \n",
       "1                        specialneeds   \n",
       "2                            literacy   \n",
       "3                    earlydevelopment   \n",
       "4                            literacy   \n",
       "\n",
       "                                               essay   price  \n",
       "0  i fortunate enough use fairy tale stem kits cl...  725.05  \n",
       "1  imagine 8 9 years old you third grade classroo...  213.03  \n",
       "2  having class 24 students comes diverse learner...  329.00  \n",
       "3  i recently read article giving students choice...  481.04  \n",
       "4  my students crave challenge eat obstacles brea...   17.74  "
      ]
     },
     "execution_count": 10,
     "metadata": {},
     "output_type": "execute_result"
    }
   ],
   "source": [
    "df.head()"
   ]
  },
  {
   "cell_type": "code",
   "execution_count": 11,
   "metadata": {
    "execution": {
     "iopub.execute_input": "2022-03-01T18:26:42.380745Z",
     "iopub.status.busy": "2022-03-01T18:26:42.379277Z",
     "iopub.status.idle": "2022-03-01T18:26:42.383161Z",
     "shell.execute_reply": "2022-03-01T18:26:42.382697Z",
     "shell.execute_reply.started": "2022-03-01T17:38:11.254987Z"
    },
    "papermill": {
     "duration": 0.128644,
     "end_time": "2022-03-01T18:26:42.383291",
     "exception": false,
     "start_time": "2022-03-01T18:26:42.254647",
     "status": "completed"
    },
    "tags": []
   },
   "outputs": [
    {
     "data": {
      "text/plain": [
       "(109248, 8)"
      ]
     },
     "execution_count": 11,
     "metadata": {},
     "output_type": "execute_result"
    }
   ],
   "source": [
    "df.shape"
   ]
  },
  {
   "cell_type": "code",
   "execution_count": 12,
   "metadata": {
    "execution": {
     "iopub.execute_input": "2022-03-01T18:26:42.610037Z",
     "iopub.status.busy": "2022-03-01T18:26:42.609533Z",
     "iopub.status.idle": "2022-03-01T18:26:43.208205Z",
     "shell.execute_reply": "2022-03-01T18:26:43.207470Z",
     "shell.execute_reply.started": "2022-03-01T17:38:11.263863Z"
    },
    "papermill": {
     "duration": 0.714161,
     "end_time": "2022-03-01T18:26:43.208347",
     "exception": false,
     "start_time": "2022-03-01T18:26:42.494186",
     "status": "completed"
    },
    "tags": []
   },
   "outputs": [],
   "source": [
    "# perform stratified train test split on the dataset\n",
    "from sklearn.model_selection import train_test_split\n",
    "X_train ,X_test ,y_train,y_test = train_test_split(df,y,test_size = 0.3,stratify = y)"
   ]
  },
  {
   "cell_type": "code",
   "execution_count": 13,
   "metadata": {
    "execution": {
     "iopub.execute_input": "2022-03-01T18:26:43.461546Z",
     "iopub.status.busy": "2022-03-01T18:26:43.460297Z",
     "iopub.status.idle": "2022-03-01T18:26:43.464103Z",
     "shell.execute_reply": "2022-03-01T18:26:43.463679Z",
     "shell.execute_reply.started": "2022-03-01T17:38:11.912669Z"
    },
    "papermill": {
     "duration": 0.130338,
     "end_time": "2022-03-01T18:26:43.464247",
     "exception": false,
     "start_time": "2022-03-01T18:26:43.333909",
     "status": "completed"
    },
    "tags": []
   },
   "outputs": [
    {
     "data": {
      "text/plain": [
       "((76473, 8), (32775, 8), (76473,), (32775,))"
      ]
     },
     "execution_count": 13,
     "metadata": {},
     "output_type": "execute_result"
    }
   ],
   "source": [
    "X_train.shape,X_test.shape,y_train.shape,y_test.shape"
   ]
  },
  {
   "cell_type": "code",
   "execution_count": 14,
   "metadata": {
    "execution": {
     "iopub.execute_input": "2022-03-01T18:26:43.693443Z",
     "iopub.status.busy": "2022-03-01T18:26:43.692751Z",
     "iopub.status.idle": "2022-03-01T18:26:43.695358Z",
     "shell.execute_reply": "2022-03-01T18:26:43.695841Z",
     "shell.execute_reply.started": "2022-03-01T17:38:11.921303Z"
    },
    "papermill": {
     "duration": 0.118133,
     "end_time": "2022-03-01T18:26:43.695964",
     "exception": false,
     "start_time": "2022-03-01T18:26:43.577831",
     "status": "completed"
    },
    "tags": []
   },
   "outputs": [
    {
     "data": {
      "text/plain": [
       "array([1, 1, 1, 0, 1])"
      ]
     },
     "execution_count": 14,
     "metadata": {},
     "output_type": "execute_result"
    }
   ],
   "source": [
    "y_train[:5]"
   ]
  },
  {
   "cell_type": "code",
   "execution_count": 15,
   "metadata": {
    "execution": {
     "iopub.execute_input": "2022-03-01T18:26:43.923294Z",
     "iopub.status.busy": "2022-03-01T18:26:43.922454Z",
     "iopub.status.idle": "2022-03-01T18:26:43.927119Z",
     "shell.execute_reply": "2022-03-01T18:26:43.926728Z",
     "shell.execute_reply.started": "2022-03-01T17:38:11.932513Z"
    },
    "papermill": {
     "duration": 0.119782,
     "end_time": "2022-03-01T18:26:43.927254",
     "exception": false,
     "start_time": "2022-03-01T18:26:43.807472",
     "status": "completed"
    },
    "tags": []
   },
   "outputs": [],
   "source": [
    "from keras.utils import np_utils\n",
    "y_train_encoded = np_utils.to_categorical(y_train)\n",
    "y_test_encoded = np_utils.to_categorical(y_test)"
   ]
  },
  {
   "cell_type": "code",
   "execution_count": 16,
   "metadata": {
    "execution": {
     "iopub.execute_input": "2022-03-01T18:26:44.156602Z",
     "iopub.status.busy": "2022-03-01T18:26:44.155709Z",
     "iopub.status.idle": "2022-03-01T18:26:44.159773Z",
     "shell.execute_reply": "2022-03-01T18:26:44.160186Z",
     "shell.execute_reply.started": "2022-03-01T17:38:11.941160Z"
    },
    "papermill": {
     "duration": 0.121354,
     "end_time": "2022-03-01T18:26:44.160315",
     "exception": false,
     "start_time": "2022-03-01T18:26:44.038961",
     "status": "completed"
    },
    "tags": []
   },
   "outputs": [
    {
     "name": "stdout",
     "output_type": "stream",
     "text": [
      "(76473, 2)\n"
     ]
    },
    {
     "data": {
      "text/plain": [
       "array([[0., 1.],\n",
       "       [0., 1.],\n",
       "       [0., 1.],\n",
       "       [1., 0.],\n",
       "       [0., 1.]], dtype=float32)"
      ]
     },
     "execution_count": 16,
     "metadata": {},
     "output_type": "execute_result"
    }
   ],
   "source": [
    "print(y_train_encoded.shape)\n",
    "y_train_encoded[:5]"
   ]
  },
  {
   "cell_type": "markdown",
   "metadata": {
    "papermill": {
     "duration": 0.137976,
     "end_time": "2022-03-01T18:26:44.420910",
     "exception": false,
     "start_time": "2022-03-01T18:26:44.282934",
     "status": "completed"
    },
    "tags": []
   },
   "source": [
    "## 1.1 Text Vectorization"
   ]
  },
  {
   "cell_type": "code",
   "execution_count": 17,
   "metadata": {
    "execution": {
     "iopub.execute_input": "2022-03-01T18:26:44.653688Z",
     "iopub.status.busy": "2022-03-01T18:26:44.652809Z",
     "iopub.status.idle": "2022-03-01T18:26:44.655038Z",
     "shell.execute_reply": "2022-03-01T18:26:44.654546Z",
     "shell.execute_reply.started": "2022-03-01T17:38:11.950606Z"
    },
    "papermill": {
     "duration": 0.11723,
     "end_time": "2022-03-01T18:26:44.655163",
     "exception": false,
     "start_time": "2022-03-01T18:26:44.537933",
     "status": "completed"
    },
    "tags": []
   },
   "outputs": [],
   "source": [
    "#since the data is already preprocessed, we can directly move to vectorization part\n",
    "#first we will vectorize the text data\n",
    "#for vectorization of text data in deep learning we use tokenizer, you can go through below references\n",
    "# https://www.kdnuggets.com/2020/03/tensorflow-keras-tokenization-text-data-prep.html\n",
    "#https://stackoverflow.com/questions/51956000/what-does-keras-tokenizer-method-exactly-do\n",
    "# after text vectorization you should get train_padded_docs and test_padded_docs"
   ]
  },
  {
   "cell_type": "code",
   "execution_count": 18,
   "metadata": {
    "execution": {
     "iopub.execute_input": "2022-03-01T18:26:44.884298Z",
     "iopub.status.busy": "2022-03-01T18:26:44.883565Z",
     "iopub.status.idle": "2022-03-01T18:26:44.886058Z",
     "shell.execute_reply": "2022-03-01T18:26:44.885663Z",
     "shell.execute_reply.started": "2022-03-01T17:38:11.958603Z"
    },
    "papermill": {
     "duration": 0.118163,
     "end_time": "2022-03-01T18:26:44.886197",
     "exception": false,
     "start_time": "2022-03-01T18:26:44.768034",
     "status": "completed"
    },
    "tags": []
   },
   "outputs": [],
   "source": [
    "import numpy as np"
   ]
  },
  {
   "cell_type": "code",
   "execution_count": 19,
   "metadata": {
    "execution": {
     "iopub.execute_input": "2022-03-01T18:26:45.126294Z",
     "iopub.status.busy": "2022-03-01T18:26:45.115126Z",
     "iopub.status.idle": "2022-03-01T18:26:45.155452Z",
     "shell.execute_reply": "2022-03-01T18:26:45.154998Z",
     "shell.execute_reply.started": "2022-03-01T17:38:11.968089Z"
    },
    "papermill": {
     "duration": 0.158031,
     "end_time": "2022-03-01T18:26:45.155579",
     "exception": false,
     "start_time": "2022-03-01T18:26:44.997548",
     "status": "completed"
    },
    "tags": []
   },
   "outputs": [
    {
     "data": {
      "text/plain": [
       "(1469.0, 2657)"
      ]
     },
     "execution_count": 19,
     "metadata": {},
     "output_type": "execute_result"
    }
   ],
   "source": [
    "X_train_essay = X_train['essay'].astype(str)\n",
    "X_test_essay = X_test['essay'].astype(str)\n",
    "\n",
    "len_array_texts = [ len(x) for x in X_train_essay.values]\n",
    "\n",
    "np.percentile(len_array_texts,90),max(len_array_texts)"
   ]
  },
  {
   "cell_type": "code",
   "execution_count": 20,
   "metadata": {
    "execution": {
     "iopub.execute_input": "2022-03-01T18:26:45.438376Z",
     "iopub.status.busy": "2022-03-01T18:26:45.402537Z",
     "iopub.status.idle": "2022-03-01T18:27:04.249518Z",
     "shell.execute_reply": "2022-03-01T18:27:04.248597Z",
     "shell.execute_reply.started": "2022-03-01T17:38:12.017756Z"
    },
    "papermill": {
     "duration": 18.978869,
     "end_time": "2022-03-01T18:27:04.249663",
     "exception": false,
     "start_time": "2022-03-01T18:26:45.270794",
     "status": "completed"
    },
    "tags": []
   },
   "outputs": [],
   "source": [
    "from keras.preprocessing import sequence, text\n",
    "tk = text.Tokenizer()\n",
    "tk.fit_on_texts(X_train_essay.values)\n",
    "\n",
    "max_len = 2000\n",
    "X_train_essay_seq = tk.texts_to_sequences(X_train_essay.values)\n",
    "X_train_essay_padded = sequence.pad_sequences(X_train_essay_seq, maxlen=max_len)\n",
    "\n",
    "X_test_essay_seq = tk.texts_to_sequences(X_test_essay.values)\n",
    "X_test_essay_padded = sequence.pad_sequences(X_test_essay_seq, maxlen=max_len)"
   ]
  },
  {
   "cell_type": "code",
   "execution_count": 21,
   "metadata": {
    "execution": {
     "iopub.execute_input": "2022-03-01T18:27:04.502632Z",
     "iopub.status.busy": "2022-03-01T18:27:04.501925Z",
     "iopub.status.idle": "2022-03-01T18:27:04.504768Z",
     "shell.execute_reply": "2022-03-01T18:27:04.505225Z",
     "shell.execute_reply.started": "2022-03-01T17:38:31.265071Z"
    },
    "papermill": {
     "duration": 0.128265,
     "end_time": "2022-03-01T18:27:04.505359",
     "exception": false,
     "start_time": "2022-03-01T18:27:04.377094",
     "status": "completed"
    },
    "tags": []
   },
   "outputs": [
    {
     "data": {
      "text/plain": [
       "48946"
      ]
     },
     "execution_count": 21,
     "metadata": {},
     "output_type": "execute_result"
    }
   ],
   "source": [
    "len(tk.word_docs)"
   ]
  },
  {
   "cell_type": "code",
   "execution_count": 22,
   "metadata": {
    "execution": {
     "iopub.execute_input": "2022-03-01T18:27:04.751492Z",
     "iopub.status.busy": "2022-03-01T18:27:04.750813Z",
     "iopub.status.idle": "2022-03-01T18:27:04.753489Z",
     "shell.execute_reply": "2022-03-01T18:27:04.752961Z",
     "shell.execute_reply.started": "2022-03-01T17:38:31.272962Z"
    },
    "papermill": {
     "duration": 0.121388,
     "end_time": "2022-03-01T18:27:04.753599",
     "exception": false,
     "start_time": "2022-03-01T18:27:04.632211",
     "status": "completed"
    },
    "tags": []
   },
   "outputs": [],
   "source": [
    "#after getting the padded_docs you have to use predefined glove vectors to get 300 dim representation for each word\n",
    "# we will be storing this data in form of an embedding matrix and will use it while defining our model\n",
    "# Please go through following blog's 'Example of Using Pre-Trained GloVe Embedding' section to understand how to create embedding matrix\n",
    "# https://machinelearningmastery.com/use-word-embedding-layers-deep-learning-keras/"
   ]
  },
  {
   "cell_type": "code",
   "execution_count": 23,
   "metadata": {
    "execution": {
     "iopub.execute_input": "2022-03-01T18:27:04.985106Z",
     "iopub.status.busy": "2022-03-01T18:27:04.984328Z",
     "iopub.status.idle": "2022-03-01T18:33:47.928552Z",
     "shell.execute_reply": "2022-03-01T18:33:47.929002Z",
     "shell.execute_reply.started": "2022-03-01T17:38:31.281640Z"
    },
    "papermill": {
     "duration": 403.062561,
     "end_time": "2022-03-01T18:33:47.929172",
     "exception": false,
     "start_time": "2022-03-01T18:27:04.866611",
     "status": "completed"
    },
    "tags": []
   },
   "outputs": [
    {
     "name": "stdout",
     "output_type": "stream",
     "text": [
      "--2022-03-01 18:27:05--  https://nlp.stanford.edu/data/glove.42B.300d.zip\r\n",
      "Resolving nlp.stanford.edu (nlp.stanford.edu)... 171.64.67.140\r\n",
      "Connecting to nlp.stanford.edu (nlp.stanford.edu)|171.64.67.140|:443... connected.\r\n",
      "HTTP request sent, awaiting response... 301 Moved Permanently\r\n",
      "Location: http://downloads.cs.stanford.edu/nlp/data/glove.42B.300d.zip [following]\r\n",
      "--2022-03-01 18:27:05--  http://downloads.cs.stanford.edu/nlp/data/glove.42B.300d.zip\r\n",
      "Resolving downloads.cs.stanford.edu (downloads.cs.stanford.edu)... 171.64.64.22\r\n",
      "Connecting to downloads.cs.stanford.edu (downloads.cs.stanford.edu)|171.64.64.22|:80... connected.\r\n",
      "HTTP request sent, awaiting response... 200 OK\r\n",
      "Length: 1877800501 (1.7G) [application/zip]\r\n",
      "Saving to: ‘glove.42B.300d.zip’\r\n",
      "\r\n",
      "glove.42B.300d.zip  100%[===================>]   1.75G  5.03MB/s    in 5m 53s  \r\n",
      "\r\n",
      "2022-03-01 18:32:59 (5.07 MB/s) - ‘glove.42B.300d.zip’ saved [1877800501/1877800501]\r\n",
      "\r\n",
      "Archive:  glove.42B.300d.zip\r\n",
      "  inflating: glove.42B.300d.txt      \r\n"
     ]
    }
   ],
   "source": [
    "!wget https://nlp.stanford.edu/data/glove.42B.300d.zip\n",
    "!unzip glove.42B.300d.zip"
   ]
  },
  {
   "cell_type": "code",
   "execution_count": 24,
   "metadata": {
    "execution": {
     "iopub.execute_input": "2022-03-01T18:33:48.531472Z",
     "iopub.status.busy": "2022-03-01T18:33:48.529592Z",
     "iopub.status.idle": "2022-03-01T18:36:29.160092Z",
     "shell.execute_reply": "2022-03-01T18:36:29.160697Z",
     "shell.execute_reply.started": "2022-03-01T17:45:14.371921Z"
    },
    "papermill": {
     "duration": 160.98289,
     "end_time": "2022-03-01T18:36:29.160875",
     "exception": false,
     "start_time": "2022-03-01T18:33:48.177985",
     "status": "completed"
    },
    "tags": []
   },
   "outputs": [
    {
     "name": "stderr",
     "output_type": "stream",
     "text": [
      "1917494it [02:40, 11938.22it/s]"
     ]
    },
    {
     "name": "stdout",
     "output_type": "stream",
     "text": [
      "Found 1917494 word vectors.\n"
     ]
    },
    {
     "name": "stderr",
     "output_type": "stream",
     "text": [
      "\n"
     ]
    }
   ],
   "source": [
    "from tqdm import tqdm\n",
    "\n",
    "word_index = tk.word_index\n",
    "\n",
    "embeddings_index = {}\n",
    "f = open(\"glove.42B.300d.txt\",'r', encoding=\"utf8\")\n",
    "for line in tqdm(f):\n",
    "    values = line.split()\n",
    "    word = values[0]\n",
    "    coefs = np.asarray(values[1:], dtype='float32') #np.array([float(val) for val in values[1:]]) #np.asarray(values[1:], dtype='float32')\n",
    "    embeddings_index[word] = coefs\n",
    "f.close()\n",
    "print('Found %s word vectors.' % len(embeddings_index))"
   ]
  },
  {
   "cell_type": "code",
   "execution_count": 25,
   "metadata": {
    "execution": {
     "iopub.execute_input": "2022-03-01T18:36:30.698586Z",
     "iopub.status.busy": "2022-03-01T18:36:30.697877Z",
     "iopub.status.idle": "2022-03-01T18:36:30.902973Z",
     "shell.execute_reply": "2022-03-01T18:36:30.903583Z",
     "shell.execute_reply.started": "2022-03-01T17:47:52.293789Z"
    },
    "papermill": {
     "duration": 0.93722,
     "end_time": "2022-03-01T18:36:30.903784",
     "exception": false,
     "start_time": "2022-03-01T18:36:29.966564",
     "status": "completed"
    },
    "tags": []
   },
   "outputs": [
    {
     "name": "stderr",
     "output_type": "stream",
     "text": [
      "100%|██████████| 48946/48946 [00:00<00:00, 246568.79it/s]\n"
     ]
    }
   ],
   "source": [
    "embedding_matrix = np.zeros((len(word_index) + 1, 300))\n",
    "\n",
    "for word, i in tqdm(word_index.items()):\n",
    "  embedding_vector = embeddings_index.get(word)\n",
    "  if embedding_vector is not None:\n",
    "    embedding_matrix[i] = embedding_vector"
   ]
  },
  {
   "cell_type": "markdown",
   "metadata": {
    "papermill": {
     "duration": 0.753783,
     "end_time": "2022-03-01T18:36:32.426364",
     "exception": false,
     "start_time": "2022-03-01T18:36:31.672581",
     "status": "completed"
    },
    "tags": []
   },
   "source": [
    "## 1.2 Categorical feature Vectorization"
   ]
  },
  {
   "cell_type": "code",
   "execution_count": 26,
   "metadata": {
    "execution": {
     "iopub.execute_input": "2022-03-01T18:36:34.118336Z",
     "iopub.status.busy": "2022-03-01T18:36:34.116703Z",
     "iopub.status.idle": "2022-03-01T18:36:34.118908Z",
     "shell.execute_reply": "2022-03-01T18:36:34.119329Z",
     "shell.execute_reply.started": "2022-03-01T17:47:52.504091Z"
    },
    "papermill": {
     "duration": 0.981297,
     "end_time": "2022-03-01T18:36:34.119466",
     "exception": false,
     "start_time": "2022-03-01T18:36:33.138169",
     "status": "completed"
    },
    "tags": []
   },
   "outputs": [],
   "source": [
    "# for model 1 and model 2, we have to assign a unique number to each feature in a particular categorical column.\n",
    "# you can either use tokenizer,label encoder or ordinal encoder to perform the task\n",
    "# label encoder gives an error for 'unseen values' (values present in test but not in train)\n",
    "# handle unseen values with label encoder - https://stackoverflow.com/a/56876351\n",
    "# ordinal encoder also gives error with unseen values but you can use modify handle_unknown parameter\n",
    "# documentation of ordianl encoder https://scikit-learn.org/stable/modules/generated/sklearn.preprocessing.OrdinalEncoder.html\n",
    "# after categorical feature vectorization you will have column_train_data and column_test_data.\n"
   ]
  },
  {
   "cell_type": "code",
   "execution_count": 27,
   "metadata": {
    "execution": {
     "iopub.execute_input": "2022-03-01T18:36:35.598230Z",
     "iopub.status.busy": "2022-03-01T18:36:35.597628Z",
     "iopub.status.idle": "2022-03-01T18:36:35.600489Z",
     "shell.execute_reply": "2022-03-01T18:36:35.600885Z",
     "shell.execute_reply.started": "2022-03-01T17:47:52.509570Z"
    },
    "papermill": {
     "duration": 0.761924,
     "end_time": "2022-03-01T18:36:35.601015",
     "exception": false,
     "start_time": "2022-03-01T18:36:34.839091",
     "status": "completed"
    },
    "tags": []
   },
   "outputs": [
    {
     "data": {
      "text/html": [
       "<div>\n",
       "<style scoped>\n",
       "    .dataframe tbody tr th:only-of-type {\n",
       "        vertical-align: middle;\n",
       "    }\n",
       "\n",
       "    .dataframe tbody tr th {\n",
       "        vertical-align: top;\n",
       "    }\n",
       "\n",
       "    .dataframe thead th {\n",
       "        text-align: right;\n",
       "    }\n",
       "</style>\n",
       "<table border=\"1\" class=\"dataframe\">\n",
       "  <thead>\n",
       "    <tr style=\"text-align: right;\">\n",
       "      <th></th>\n",
       "      <th>school_state</th>\n",
       "      <th>teacher_prefix</th>\n",
       "      <th>project_grade_category</th>\n",
       "      <th>teacher_number_of_previously_posted_projects</th>\n",
       "      <th>clean_categories</th>\n",
       "      <th>clean_subcategories</th>\n",
       "      <th>essay</th>\n",
       "      <th>price</th>\n",
       "    </tr>\n",
       "  </thead>\n",
       "  <tbody>\n",
       "    <tr>\n",
       "      <th>0</th>\n",
       "      <td>ca</td>\n",
       "      <td>mrs</td>\n",
       "      <td>grades_prek_2</td>\n",
       "      <td>53</td>\n",
       "      <td>math_science</td>\n",
       "      <td>appliedsciences health_lifescience</td>\n",
       "      <td>i fortunate enough use fairy tale stem kits cl...</td>\n",
       "      <td>725.05</td>\n",
       "    </tr>\n",
       "    <tr>\n",
       "      <th>1</th>\n",
       "      <td>ut</td>\n",
       "      <td>ms</td>\n",
       "      <td>grades_3_5</td>\n",
       "      <td>4</td>\n",
       "      <td>specialneeds</td>\n",
       "      <td>specialneeds</td>\n",
       "      <td>imagine 8 9 years old you third grade classroo...</td>\n",
       "      <td>213.03</td>\n",
       "    </tr>\n",
       "    <tr>\n",
       "      <th>2</th>\n",
       "      <td>ca</td>\n",
       "      <td>mrs</td>\n",
       "      <td>grades_prek_2</td>\n",
       "      <td>10</td>\n",
       "      <td>literacy_language</td>\n",
       "      <td>literacy</td>\n",
       "      <td>having class 24 students comes diverse learner...</td>\n",
       "      <td>329.00</td>\n",
       "    </tr>\n",
       "  </tbody>\n",
       "</table>\n",
       "</div>"
      ],
      "text/plain": [
       "  school_state teacher_prefix project_grade_category  \\\n",
       "0           ca            mrs          grades_prek_2   \n",
       "1           ut             ms             grades_3_5   \n",
       "2           ca            mrs          grades_prek_2   \n",
       "\n",
       "   teacher_number_of_previously_posted_projects   clean_categories  \\\n",
       "0                                            53       math_science   \n",
       "1                                             4       specialneeds   \n",
       "2                                            10  literacy_language   \n",
       "\n",
       "                  clean_subcategories  \\\n",
       "0  appliedsciences health_lifescience   \n",
       "1                        specialneeds   \n",
       "2                            literacy   \n",
       "\n",
       "                                               essay   price  \n",
       "0  i fortunate enough use fairy tale stem kits cl...  725.05  \n",
       "1  imagine 8 9 years old you third grade classroo...  213.03  \n",
       "2  having class 24 students comes diverse learner...  329.00  "
      ]
     },
     "execution_count": 27,
     "metadata": {},
     "output_type": "execute_result"
    }
   ],
   "source": [
    "df.head(3)"
   ]
  },
  {
   "cell_type": "code",
   "execution_count": 28,
   "metadata": {
    "execution": {
     "iopub.execute_input": "2022-03-01T18:36:37.057451Z",
     "iopub.status.busy": "2022-03-01T18:36:37.056773Z",
     "iopub.status.idle": "2022-03-01T18:36:37.059558Z",
     "shell.execute_reply": "2022-03-01T18:36:37.060013Z",
     "shell.execute_reply.started": "2022-03-01T17:47:52.546492Z"
    },
    "papermill": {
     "duration": 0.724273,
     "end_time": "2022-03-01T18:36:37.060144",
     "exception": false,
     "start_time": "2022-03-01T18:36:36.335871",
     "status": "completed"
    },
    "tags": []
   },
   "outputs": [
    {
     "data": {
      "text/plain": [
       "['school_state',\n",
       " 'teacher_prefix',\n",
       " 'project_grade_category',\n",
       " 'clean_categories',\n",
       " 'clean_subcategories',\n",
       " 'essay']"
      ]
     },
     "execution_count": 28,
     "metadata": {},
     "output_type": "execute_result"
    }
   ],
   "source": [
    "cat_cols = [ col for col in X_train.columns if X_train[col].dtype == 'object' ]\n",
    "cat_cols"
   ]
  },
  {
   "cell_type": "code",
   "execution_count": 29,
   "metadata": {
    "execution": {
     "iopub.execute_input": "2022-03-01T18:36:38.483946Z",
     "iopub.status.busy": "2022-03-01T18:36:38.483055Z",
     "iopub.status.idle": "2022-03-01T18:36:38.485669Z",
     "shell.execute_reply": "2022-03-01T18:36:38.485130Z",
     "shell.execute_reply.started": "2022-03-01T17:47:52.554397Z"
    },
    "papermill": {
     "duration": 0.716964,
     "end_time": "2022-03-01T18:36:38.485802",
     "exception": false,
     "start_time": "2022-03-01T18:36:37.768838",
     "status": "completed"
    },
    "tags": []
   },
   "outputs": [],
   "source": [
    "#School State"
   ]
  },
  {
   "cell_type": "code",
   "execution_count": 30,
   "metadata": {
    "execution": {
     "iopub.execute_input": "2022-03-01T18:36:39.965197Z",
     "iopub.status.busy": "2022-03-01T18:36:39.964553Z",
     "iopub.status.idle": "2022-03-01T18:36:39.967270Z",
     "shell.execute_reply": "2022-03-01T18:36:39.967765Z",
     "shell.execute_reply.started": "2022-03-01T17:47:52.562658Z"
    },
    "papermill": {
     "duration": 0.758488,
     "end_time": "2022-03-01T18:36:39.967912",
     "exception": false,
     "start_time": "2022-03-01T18:36:39.209424",
     "status": "completed"
    },
    "tags": []
   },
   "outputs": [
    {
     "data": {
      "text/plain": [
       "array(['ga', 'tn', 'al', 'ca', 'tx'], dtype=object)"
      ]
     },
     "execution_count": 30,
     "metadata": {},
     "output_type": "execute_result"
    }
   ],
   "source": [
    "X_train['school_state'].values[:5]"
   ]
  },
  {
   "cell_type": "code",
   "execution_count": 31,
   "metadata": {
    "execution": {
     "iopub.execute_input": "2022-03-01T18:36:41.541702Z",
     "iopub.status.busy": "2022-03-01T18:36:41.521066Z",
     "iopub.status.idle": "2022-03-01T18:36:42.002733Z",
     "shell.execute_reply": "2022-03-01T18:36:42.002080Z",
     "shell.execute_reply.started": "2022-03-01T17:47:52.572784Z"
    },
    "papermill": {
     "duration": 1.253554,
     "end_time": "2022-03-01T18:36:42.002869",
     "exception": false,
     "start_time": "2022-03-01T18:36:40.749315",
     "status": "completed"
    },
    "tags": []
   },
   "outputs": [],
   "source": [
    "tk_ss = text.Tokenizer()\n",
    "tk_ss.fit_on_texts(X_train['school_state'].values)"
   ]
  },
  {
   "cell_type": "code",
   "execution_count": 32,
   "metadata": {
    "execution": {
     "iopub.execute_input": "2022-03-01T18:36:43.475230Z",
     "iopub.status.busy": "2022-03-01T18:36:43.474644Z",
     "iopub.status.idle": "2022-03-01T18:36:43.477326Z",
     "shell.execute_reply": "2022-03-01T18:36:43.477722Z",
     "shell.execute_reply.started": "2022-03-01T17:47:53.067270Z"
    },
    "papermill": {
     "duration": 0.718531,
     "end_time": "2022-03-01T18:36:43.477846",
     "exception": false,
     "start_time": "2022-03-01T18:36:42.759315",
     "status": "completed"
    },
    "tags": []
   },
   "outputs": [
    {
     "data": {
      "text/plain": [
       "51"
      ]
     },
     "execution_count": 32,
     "metadata": {},
     "output_type": "execute_result"
    }
   ],
   "source": [
    "len(tk_ss.word_docs)"
   ]
  },
  {
   "cell_type": "code",
   "execution_count": 33,
   "metadata": {
    "execution": {
     "iopub.execute_input": "2022-03-01T18:36:45.263159Z",
     "iopub.status.busy": "2022-03-01T18:36:45.242762Z",
     "iopub.status.idle": "2022-03-01T18:36:46.498242Z",
     "shell.execute_reply": "2022-03-01T18:36:46.497733Z",
     "shell.execute_reply.started": "2022-03-01T17:47:53.074667Z"
    },
    "papermill": {
     "duration": 2.264207,
     "end_time": "2022-03-01T18:36:46.498381",
     "exception": false,
     "start_time": "2022-03-01T18:36:44.234174",
     "status": "completed"
    },
    "tags": []
   },
   "outputs": [],
   "source": [
    "#https://machinelearningknowledge.ai/keras-tokenizer-tutorial-with-examples-for-fit_on_texts-texts_to_sequences-texts_to_matrix-sequences_to_matrix/#Example_1_texts_to_matrix_with_mode_binary\n",
    "X_train_school_state = tk_ss.texts_to_matrix(X_train['school_state'].values, mode='binary')\n",
    "X_test_school_state = tk_ss.texts_to_matrix(X_test['school_state'].values, mode='binary')"
   ]
  },
  {
   "cell_type": "code",
   "execution_count": 34,
   "metadata": {
    "execution": {
     "iopub.execute_input": "2022-03-01T18:36:47.962056Z",
     "iopub.status.busy": "2022-03-01T18:36:47.961427Z",
     "iopub.status.idle": "2022-03-01T18:36:47.964046Z",
     "shell.execute_reply": "2022-03-01T18:36:47.964468Z",
     "shell.execute_reply.started": "2022-03-01T17:47:54.290570Z"
    },
    "papermill": {
     "duration": 0.725165,
     "end_time": "2022-03-01T18:36:47.964603",
     "exception": false,
     "start_time": "2022-03-01T18:36:47.239438",
     "status": "completed"
    },
    "tags": []
   },
   "outputs": [
    {
     "data": {
      "text/plain": [
       "52"
      ]
     },
     "execution_count": 34,
     "metadata": {},
     "output_type": "execute_result"
    }
   ],
   "source": [
    "X_train_school_state.shape[1]"
   ]
  },
  {
   "cell_type": "code",
   "execution_count": 35,
   "metadata": {
    "execution": {
     "iopub.execute_input": "2022-03-01T18:36:49.427455Z",
     "iopub.status.busy": "2022-03-01T18:36:49.426719Z",
     "iopub.status.idle": "2022-03-01T18:36:49.429541Z",
     "shell.execute_reply": "2022-03-01T18:36:49.429969Z",
     "shell.execute_reply.started": "2022-03-01T17:47:54.296475Z"
    },
    "papermill": {
     "duration": 0.753918,
     "end_time": "2022-03-01T18:36:49.430111",
     "exception": false,
     "start_time": "2022-03-01T18:36:48.676193",
     "status": "completed"
    },
    "tags": []
   },
   "outputs": [
    {
     "data": {
      "text/plain": [
       "array([0., 1., 0., 0., 0., 0., 0., 0., 0., 0., 0., 0., 0., 0., 0., 0., 0.,\n",
       "       0., 0., 0., 0., 0., 0., 0., 0., 0., 0., 0., 0., 0., 0., 0., 0., 0.,\n",
       "       0., 0., 0., 0., 0., 0., 0., 0., 0., 0., 0., 0., 0., 0., 0., 0., 0.,\n",
       "       0.])"
      ]
     },
     "execution_count": 35,
     "metadata": {},
     "output_type": "execute_result"
    }
   ],
   "source": [
    "X_test_school_state[0]"
   ]
  },
  {
   "cell_type": "code",
   "execution_count": 36,
   "metadata": {
    "execution": {
     "iopub.execute_input": "2022-03-01T18:36:51.409597Z",
     "iopub.status.busy": "2022-03-01T18:36:51.408668Z",
     "iopub.status.idle": "2022-03-01T18:36:51.411760Z",
     "shell.execute_reply": "2022-03-01T18:36:51.411256Z",
     "shell.execute_reply.started": "2022-03-01T17:47:54.313842Z"
    },
    "papermill": {
     "duration": 1.09907,
     "end_time": "2022-03-01T18:36:51.411891",
     "exception": false,
     "start_time": "2022-03-01T18:36:50.312821",
     "status": "completed"
    },
    "tags": []
   },
   "outputs": [],
   "source": [
    "#teacher_prefix"
   ]
  },
  {
   "cell_type": "code",
   "execution_count": 37,
   "metadata": {
    "execution": {
     "iopub.execute_input": "2022-03-01T18:36:52.899520Z",
     "iopub.status.busy": "2022-03-01T18:36:52.898753Z",
     "iopub.status.idle": "2022-03-01T18:36:52.901782Z",
     "shell.execute_reply": "2022-03-01T18:36:52.902183Z",
     "shell.execute_reply.started": "2022-03-01T17:47:54.320512Z"
    },
    "papermill": {
     "duration": 0.750575,
     "end_time": "2022-03-01T18:36:52.902323",
     "exception": false,
     "start_time": "2022-03-01T18:36:52.151748",
     "status": "completed"
    },
    "tags": []
   },
   "outputs": [
    {
     "data": {
      "text/plain": [
       "mrs        40024\n",
       "ms         27364\n",
       "mr          7400\n",
       "teacher     1674\n",
       "dr            11\n",
       "Name: teacher_prefix, dtype: int64"
      ]
     },
     "execution_count": 37,
     "metadata": {},
     "output_type": "execute_result"
    }
   ],
   "source": [
    "X_train['teacher_prefix'].value_counts()"
   ]
  },
  {
   "cell_type": "code",
   "execution_count": 38,
   "metadata": {
    "execution": {
     "iopub.execute_input": "2022-03-01T18:36:54.434726Z",
     "iopub.status.busy": "2022-03-01T18:36:54.429659Z",
     "iopub.status.idle": "2022-03-01T18:36:56.051188Z",
     "shell.execute_reply": "2022-03-01T18:36:56.050708Z",
     "shell.execute_reply.started": "2022-03-01T17:47:54.341652Z"
    },
    "papermill": {
     "duration": 2.400305,
     "end_time": "2022-03-01T18:36:56.051327",
     "exception": false,
     "start_time": "2022-03-01T18:36:53.651022",
     "status": "completed"
    },
    "tags": []
   },
   "outputs": [],
   "source": [
    "filters_ = '!\"#$%&()*+,-./:;<=>?@[\\\\]`{|}~\\t\\n'\n",
    "tk_tp = text.Tokenizer()\n",
    "tk_tp.fit_on_texts(X_train['teacher_prefix'].values)\n",
    "X_train_teacher_prefix = tk_tp.texts_to_matrix(X_train['teacher_prefix'].values, mode='binary')\n",
    "X_test_teacher_prefix = tk_tp.texts_to_matrix(X_test['teacher_prefix'].values, mode='binary')"
   ]
  },
  {
   "cell_type": "code",
   "execution_count": 39,
   "metadata": {
    "execution": {
     "iopub.execute_input": "2022-03-01T18:36:57.558709Z",
     "iopub.status.busy": "2022-03-01T18:36:57.557013Z",
     "iopub.status.idle": "2022-03-01T18:36:57.559302Z",
     "shell.execute_reply": "2022-03-01T18:36:57.559700Z",
     "shell.execute_reply.started": "2022-03-01T17:47:55.665221Z"
    },
    "papermill": {
     "duration": 0.769527,
     "end_time": "2022-03-01T18:36:57.559843",
     "exception": false,
     "start_time": "2022-03-01T18:36:56.790316",
     "status": "completed"
    },
    "tags": []
   },
   "outputs": [],
   "source": [
    "#project_grade_category"
   ]
  },
  {
   "cell_type": "code",
   "execution_count": 40,
   "metadata": {
    "execution": {
     "iopub.execute_input": "2022-03-01T18:36:59.019461Z",
     "iopub.status.busy": "2022-03-01T18:36:59.018616Z",
     "iopub.status.idle": "2022-03-01T18:36:59.024322Z",
     "shell.execute_reply": "2022-03-01T18:36:59.024725Z",
     "shell.execute_reply.started": "2022-03-01T17:47:55.670422Z"
    },
    "papermill": {
     "duration": 0.745153,
     "end_time": "2022-03-01T18:36:59.024869",
     "exception": false,
     "start_time": "2022-03-01T18:36:58.279716",
     "status": "completed"
    },
    "tags": []
   },
   "outputs": [
    {
     "data": {
      "text/plain": [
       "grades_prek_2    31170\n",
       "grades_3_5       25880\n",
       "grades_6_8       11736\n",
       "grades_9_12       7687\n",
       "Name: project_grade_category, dtype: int64"
      ]
     },
     "execution_count": 40,
     "metadata": {},
     "output_type": "execute_result"
    }
   ],
   "source": [
    "X_train['project_grade_category'].value_counts()"
   ]
  },
  {
   "cell_type": "code",
   "execution_count": 41,
   "metadata": {
    "execution": {
     "iopub.execute_input": "2022-03-01T18:37:00.525819Z",
     "iopub.status.busy": "2022-03-01T18:37:00.500316Z",
     "iopub.status.idle": "2022-03-01T18:37:02.169297Z",
     "shell.execute_reply": "2022-03-01T18:37:02.169743Z",
     "shell.execute_reply.started": "2022-03-01T17:47:55.691518Z"
    },
    "papermill": {
     "duration": 2.420088,
     "end_time": "2022-03-01T18:37:02.169919",
     "exception": false,
     "start_time": "2022-03-01T18:36:59.749831",
     "status": "completed"
    },
    "tags": []
   },
   "outputs": [],
   "source": [
    "filters_ = '!\"#$%&()*+,-./:;<=>?@[\\\\]`{|}~\\t\\n'\n",
    "tk_pgc = text.Tokenizer(filters = filters_)\n",
    "tk_pgc.fit_on_texts(X_train['project_grade_category'].values)\n",
    "X_train_pgc = tk_pgc.texts_to_matrix(X_train['project_grade_category'].values, mode='binary')\n",
    "X_test_pgc = tk_pgc.texts_to_matrix(X_test['project_grade_category'].values, mode='binary')"
   ]
  },
  {
   "cell_type": "code",
   "execution_count": 42,
   "metadata": {
    "execution": {
     "iopub.execute_input": "2022-03-01T18:37:03.623102Z",
     "iopub.status.busy": "2022-03-01T18:37:03.622322Z",
     "iopub.status.idle": "2022-03-01T18:37:03.625092Z",
     "shell.execute_reply": "2022-03-01T18:37:03.625515Z",
     "shell.execute_reply.started": "2022-03-01T17:47:57.702248Z"
    },
    "papermill": {
     "duration": 0.732034,
     "end_time": "2022-03-01T18:37:03.625651",
     "exception": false,
     "start_time": "2022-03-01T18:37:02.893617",
     "status": "completed"
    },
    "tags": []
   },
   "outputs": [
    {
     "data": {
      "text/plain": [
       "array([0., 0., 1., 0., 0.])"
      ]
     },
     "execution_count": 42,
     "metadata": {},
     "output_type": "execute_result"
    }
   ],
   "source": [
    "X_train_pgc[0]"
   ]
  },
  {
   "cell_type": "code",
   "execution_count": 43,
   "metadata": {
    "execution": {
     "iopub.execute_input": "2022-03-01T18:37:05.082484Z",
     "iopub.status.busy": "2022-03-01T18:37:05.081640Z",
     "iopub.status.idle": "2022-03-01T18:37:05.083943Z",
     "shell.execute_reply": "2022-03-01T18:37:05.083456Z",
     "shell.execute_reply.started": "2022-03-01T17:47:57.711188Z"
    },
    "papermill": {
     "duration": 0.729554,
     "end_time": "2022-03-01T18:37:05.084049",
     "exception": false,
     "start_time": "2022-03-01T18:37:04.354495",
     "status": "completed"
    },
    "tags": []
   },
   "outputs": [],
   "source": [
    "#clean_categories"
   ]
  },
  {
   "cell_type": "code",
   "execution_count": 44,
   "metadata": {
    "execution": {
     "iopub.execute_input": "2022-03-01T18:37:06.687520Z",
     "iopub.status.busy": "2022-03-01T18:37:06.686802Z",
     "iopub.status.idle": "2022-03-01T18:37:06.707891Z",
     "shell.execute_reply": "2022-03-01T18:37:06.709076Z",
     "shell.execute_reply.started": "2022-03-01T17:47:57.717350Z"
    },
    "papermill": {
     "duration": 0.898734,
     "end_time": "2022-03-01T18:37:06.709292",
     "exception": false,
     "start_time": "2022-03-01T18:37:05.810558",
     "status": "completed"
    },
    "tags": []
   },
   "outputs": [
    {
     "data": {
      "text/plain": [
       "literacy_language                       16521\n",
       "math_science                            11957\n",
       "literacy_language math_science          10289\n",
       "health_sports                            7146\n",
       "music_arts                               3608\n",
       "specialneeds                             2992\n",
       "literacy_language specialneeds           2789\n",
       "appliedlearning                          2678\n",
       "math_science literacy_language           1567\n",
       "appliedlearning literacy_language        1535\n",
       "math_science specialneeds                1296\n",
       "history_civics                           1276\n",
       "literacy_language music_arts             1234\n",
       "math_science music_arts                  1151\n",
       "appliedlearning specialneeds             1039\n",
       "health_sports specialneeds                998\n",
       "history_civics literacy_language          972\n",
       "warmth care_hunger                        903\n",
       "math_science appliedlearning              854\n",
       "appliedlearning math_science              736\n",
       "health_sports literacy_language           564\n",
       "literacy_language history_civics          535\n",
       "appliedlearning music_arts                519\n",
       "literacy_language appliedlearning         448\n",
       "math_science history_civics               445\n",
       "appliedlearning health_sports             428\n",
       "math_science health_sports                289\n",
       "history_civics math_science               229\n",
       "history_civics music_arts                 223\n",
       "specialneeds music_arts                   219\n",
       "health_sports math_science                188\n",
       "history_civics specialneeds               173\n",
       "health_sports appliedlearning             124\n",
       "appliedlearning history_civics            116\n",
       "health_sports music_arts                  110\n",
       "music_arts specialneeds                    93\n",
       "literacy_language health_sports            49\n",
       "specialneeds health_sports                 32\n",
       "history_civics appliedlearning             28\n",
       "health_sports history_civics               28\n",
       "health_sports warmth care_hunger           15\n",
       "specialneeds warmth care_hunger            15\n",
       "music_arts health_sports                   14\n",
       "music_arts history_civics                  10\n",
       "math_science warmth care_hunger             8\n",
       "appliedlearning warmth care_hunger          8\n",
       "history_civics health_sports                7\n",
       "literacy_language warmth care_hunger        7\n",
       "music_arts appliedlearning                  6\n",
       "music_arts warmth care_hunger               1\n",
       "history_civics warmth care_hunger           1\n",
       "Name: clean_categories, dtype: int64"
      ]
     },
     "execution_count": 44,
     "metadata": {},
     "output_type": "execute_result"
    }
   ],
   "source": [
    "X_train['clean_categories'].value_counts()"
   ]
  },
  {
   "cell_type": "code",
   "execution_count": 45,
   "metadata": {
    "execution": {
     "iopub.execute_input": "2022-03-01T18:37:08.258512Z",
     "iopub.status.busy": "2022-03-01T18:37:08.253204Z",
     "iopub.status.idle": "2022-03-01T18:37:10.073275Z",
     "shell.execute_reply": "2022-03-01T18:37:10.073731Z",
     "shell.execute_reply.started": "2022-03-01T17:47:57.740613Z"
    },
    "papermill": {
     "duration": 2.546559,
     "end_time": "2022-03-01T18:37:10.073908",
     "exception": false,
     "start_time": "2022-03-01T18:37:07.527349",
     "status": "completed"
    },
    "tags": []
   },
   "outputs": [],
   "source": [
    "filters_ = '!\"#$%&()*+,-./:;<=>?@[\\\\]`{|}~\\t\\n'\n",
    "tk_cc = text.Tokenizer(filters = filters_)\n",
    "tk_cc.fit_on_texts(X_train['clean_categories'].values)\n",
    "X_train_cc = tk_cc.texts_to_matrix(X_train['clean_categories'].values, mode='binary')\n",
    "X_test_cc = tk_cc.texts_to_matrix(X_test['clean_categories'].values, mode='binary')"
   ]
  },
  {
   "cell_type": "code",
   "execution_count": 46,
   "metadata": {
    "execution": {
     "iopub.execute_input": "2022-03-01T18:37:11.514765Z",
     "iopub.status.busy": "2022-03-01T18:37:11.514063Z",
     "iopub.status.idle": "2022-03-01T18:37:11.516837Z",
     "shell.execute_reply": "2022-03-01T18:37:11.517283Z",
     "shell.execute_reply.started": "2022-03-01T17:47:59.568175Z"
    },
    "papermill": {
     "duration": 0.729038,
     "end_time": "2022-03-01T18:37:11.517434",
     "exception": false,
     "start_time": "2022-03-01T18:37:10.788396",
     "status": "completed"
    },
    "tags": []
   },
   "outputs": [
    {
     "data": {
      "text/plain": [
       "'history_civics literacy_language'"
      ]
     },
     "execution_count": 46,
     "metadata": {},
     "output_type": "execute_result"
    }
   ],
   "source": [
    "X_train['clean_categories'].values[1]"
   ]
  },
  {
   "cell_type": "code",
   "execution_count": 47,
   "metadata": {
    "execution": {
     "iopub.execute_input": "2022-03-01T18:37:12.951712Z",
     "iopub.status.busy": "2022-03-01T18:37:12.950356Z",
     "iopub.status.idle": "2022-03-01T18:37:12.954459Z",
     "shell.execute_reply": "2022-03-01T18:37:12.953948Z",
     "shell.execute_reply.started": "2022-03-01T17:47:59.577580Z"
    },
    "papermill": {
     "duration": 0.722733,
     "end_time": "2022-03-01T18:37:12.954585",
     "exception": false,
     "start_time": "2022-03-01T18:37:12.231852",
     "status": "completed"
    },
    "tags": []
   },
   "outputs": [
    {
     "data": {
      "text/plain": [
       "array([0., 1., 0., 0., 0., 0., 0., 1., 0., 0.])"
      ]
     },
     "execution_count": 47,
     "metadata": {},
     "output_type": "execute_result"
    }
   ],
   "source": [
    "X_train_cc[1]"
   ]
  },
  {
   "cell_type": "code",
   "execution_count": 48,
   "metadata": {
    "execution": {
     "iopub.execute_input": "2022-03-01T18:37:14.509371Z",
     "iopub.status.busy": "2022-03-01T18:37:14.508525Z",
     "iopub.status.idle": "2022-03-01T18:37:14.510907Z",
     "shell.execute_reply": "2022-03-01T18:37:14.510503Z",
     "shell.execute_reply.started": "2022-03-01T17:47:59.587037Z"
    },
    "papermill": {
     "duration": 0.73809,
     "end_time": "2022-03-01T18:37:14.511019",
     "exception": false,
     "start_time": "2022-03-01T18:37:13.772929",
     "status": "completed"
    },
    "tags": []
   },
   "outputs": [],
   "source": [
    "#clean_subcategories"
   ]
  },
  {
   "cell_type": "code",
   "execution_count": 49,
   "metadata": {
    "execution": {
     "iopub.execute_input": "2022-03-01T18:37:16.066402Z",
     "iopub.status.busy": "2022-03-01T18:37:16.061339Z",
     "iopub.status.idle": "2022-03-01T18:37:17.855744Z",
     "shell.execute_reply": "2022-03-01T18:37:17.856892Z",
     "shell.execute_reply.started": "2022-03-01T17:47:59.595130Z"
    },
    "papermill": {
     "duration": 2.599101,
     "end_time": "2022-03-01T18:37:17.857109",
     "exception": false,
     "start_time": "2022-03-01T18:37:15.258008",
     "status": "completed"
    },
    "tags": []
   },
   "outputs": [],
   "source": [
    "filters_ = '!\"#$%&()*+,-./:;<=>?@[\\\\]`{|}~\\t\\n'\n",
    "tk_csc = text.Tokenizer(filters = filters_)\n",
    "tk_csc.fit_on_texts(X_train['clean_subcategories'].values)\n",
    "X_train_csc = tk_csc.texts_to_matrix(X_train['clean_subcategories'].values, mode='binary')\n",
    "X_test_csc = tk_csc.texts_to_matrix(X_test['clean_subcategories'].values, mode='binary')"
   ]
  },
  {
   "cell_type": "code",
   "execution_count": 50,
   "metadata": {
    "execution": {
     "iopub.execute_input": "2022-03-01T18:37:19.352048Z",
     "iopub.status.busy": "2022-03-01T18:37:19.351427Z",
     "iopub.status.idle": "2022-03-01T18:37:19.354240Z",
     "shell.execute_reply": "2022-03-01T18:37:19.354680Z",
     "shell.execute_reply.started": "2022-03-01T17:48:01.479856Z"
    },
    "papermill": {
     "duration": 0.753807,
     "end_time": "2022-03-01T18:37:19.354829",
     "exception": false,
     "start_time": "2022-03-01T18:37:18.601022",
     "status": "completed"
    },
    "tags": []
   },
   "outputs": [
    {
     "data": {
      "text/plain": [
       "'history_geography literature_writing'"
      ]
     },
     "execution_count": 50,
     "metadata": {},
     "output_type": "execute_result"
    }
   ],
   "source": [
    "X_train['clean_subcategories'].values[1]"
   ]
  },
  {
   "cell_type": "code",
   "execution_count": 51,
   "metadata": {
    "execution": {
     "iopub.execute_input": "2022-03-01T18:37:20.804790Z",
     "iopub.status.busy": "2022-03-01T18:37:20.804214Z",
     "iopub.status.idle": "2022-03-01T18:37:20.806911Z",
     "shell.execute_reply": "2022-03-01T18:37:20.807333Z",
     "shell.execute_reply.started": "2022-03-01T17:48:01.486067Z"
    },
    "papermill": {
     "duration": 0.721917,
     "end_time": "2022-03-01T18:37:20.807468",
     "exception": false,
     "start_time": "2022-03-01T18:37:20.085551",
     "status": "completed"
    },
    "tags": []
   },
   "outputs": [
    {
     "data": {
      "text/plain": [
       "array([0., 0., 0., 1., 0., 0., 0., 0., 0., 0., 0., 0., 0., 0., 1., 0., 0.,\n",
       "       0., 0., 0., 0., 0., 0., 0., 0., 0., 0., 0., 0., 0., 0.])"
      ]
     },
     "execution_count": 51,
     "metadata": {},
     "output_type": "execute_result"
    }
   ],
   "source": [
    "X_train_csc[1]"
   ]
  },
  {
   "cell_type": "markdown",
   "metadata": {
    "papermill": {
     "duration": 0.715404,
     "end_time": "2022-03-01T18:37:22.233737",
     "exception": false,
     "start_time": "2022-03-01T18:37:21.518333",
     "status": "completed"
    },
    "tags": []
   },
   "source": [
    "## 1.3 Numerical feature Vectorization"
   ]
  },
  {
   "cell_type": "code",
   "execution_count": 52,
   "metadata": {
    "execution": {
     "iopub.execute_input": "2022-03-01T18:37:24.183047Z",
     "iopub.status.busy": "2022-03-01T18:37:24.182279Z",
     "iopub.status.idle": "2022-03-01T18:37:24.185663Z",
     "shell.execute_reply": "2022-03-01T18:37:24.186142Z",
     "shell.execute_reply.started": "2022-03-01T17:48:01.499586Z"
    },
    "papermill": {
     "duration": 1.087265,
     "end_time": "2022-03-01T18:37:24.186311",
     "exception": false,
     "start_time": "2022-03-01T18:37:23.099046",
     "status": "completed"
    },
    "tags": []
   },
   "outputs": [
    {
     "data": {
      "text/html": [
       "<div>\n",
       "<style scoped>\n",
       "    .dataframe tbody tr th:only-of-type {\n",
       "        vertical-align: middle;\n",
       "    }\n",
       "\n",
       "    .dataframe tbody tr th {\n",
       "        vertical-align: top;\n",
       "    }\n",
       "\n",
       "    .dataframe thead th {\n",
       "        text-align: right;\n",
       "    }\n",
       "</style>\n",
       "<table border=\"1\" class=\"dataframe\">\n",
       "  <thead>\n",
       "    <tr style=\"text-align: right;\">\n",
       "      <th></th>\n",
       "      <th>school_state</th>\n",
       "      <th>teacher_prefix</th>\n",
       "      <th>project_grade_category</th>\n",
       "      <th>teacher_number_of_previously_posted_projects</th>\n",
       "      <th>clean_categories</th>\n",
       "      <th>clean_subcategories</th>\n",
       "      <th>essay</th>\n",
       "      <th>price</th>\n",
       "    </tr>\n",
       "  </thead>\n",
       "  <tbody>\n",
       "    <tr>\n",
       "      <th>0</th>\n",
       "      <td>ca</td>\n",
       "      <td>mrs</td>\n",
       "      <td>grades_prek_2</td>\n",
       "      <td>53</td>\n",
       "      <td>math_science</td>\n",
       "      <td>appliedsciences health_lifescience</td>\n",
       "      <td>i fortunate enough use fairy tale stem kits cl...</td>\n",
       "      <td>725.05</td>\n",
       "    </tr>\n",
       "    <tr>\n",
       "      <th>1</th>\n",
       "      <td>ut</td>\n",
       "      <td>ms</td>\n",
       "      <td>grades_3_5</td>\n",
       "      <td>4</td>\n",
       "      <td>specialneeds</td>\n",
       "      <td>specialneeds</td>\n",
       "      <td>imagine 8 9 years old you third grade classroo...</td>\n",
       "      <td>213.03</td>\n",
       "    </tr>\n",
       "    <tr>\n",
       "      <th>2</th>\n",
       "      <td>ca</td>\n",
       "      <td>mrs</td>\n",
       "      <td>grades_prek_2</td>\n",
       "      <td>10</td>\n",
       "      <td>literacy_language</td>\n",
       "      <td>literacy</td>\n",
       "      <td>having class 24 students comes diverse learner...</td>\n",
       "      <td>329.00</td>\n",
       "    </tr>\n",
       "    <tr>\n",
       "      <th>3</th>\n",
       "      <td>ga</td>\n",
       "      <td>mrs</td>\n",
       "      <td>grades_prek_2</td>\n",
       "      <td>2</td>\n",
       "      <td>appliedlearning</td>\n",
       "      <td>earlydevelopment</td>\n",
       "      <td>i recently read article giving students choice...</td>\n",
       "      <td>481.04</td>\n",
       "    </tr>\n",
       "    <tr>\n",
       "      <th>4</th>\n",
       "      <td>wa</td>\n",
       "      <td>mrs</td>\n",
       "      <td>grades_3_5</td>\n",
       "      <td>2</td>\n",
       "      <td>literacy_language</td>\n",
       "      <td>literacy</td>\n",
       "      <td>my students crave challenge eat obstacles brea...</td>\n",
       "      <td>17.74</td>\n",
       "    </tr>\n",
       "  </tbody>\n",
       "</table>\n",
       "</div>"
      ],
      "text/plain": [
       "  school_state teacher_prefix project_grade_category  \\\n",
       "0           ca            mrs          grades_prek_2   \n",
       "1           ut             ms             grades_3_5   \n",
       "2           ca            mrs          grades_prek_2   \n",
       "3           ga            mrs          grades_prek_2   \n",
       "4           wa            mrs             grades_3_5   \n",
       "\n",
       "   teacher_number_of_previously_posted_projects   clean_categories  \\\n",
       "0                                            53       math_science   \n",
       "1                                             4       specialneeds   \n",
       "2                                            10  literacy_language   \n",
       "3                                             2    appliedlearning   \n",
       "4                                             2  literacy_language   \n",
       "\n",
       "                  clean_subcategories  \\\n",
       "0  appliedsciences health_lifescience   \n",
       "1                        specialneeds   \n",
       "2                            literacy   \n",
       "3                    earlydevelopment   \n",
       "4                            literacy   \n",
       "\n",
       "                                               essay   price  \n",
       "0  i fortunate enough use fairy tale stem kits cl...  725.05  \n",
       "1  imagine 8 9 years old you third grade classroo...  213.03  \n",
       "2  having class 24 students comes diverse learner...  329.00  \n",
       "3  i recently read article giving students choice...  481.04  \n",
       "4  my students crave challenge eat obstacles brea...   17.74  "
      ]
     },
     "execution_count": 52,
     "metadata": {},
     "output_type": "execute_result"
    }
   ],
   "source": [
    "df.head()"
   ]
  },
  {
   "cell_type": "code",
   "execution_count": 53,
   "metadata": {
    "execution": {
     "iopub.execute_input": "2022-03-01T18:37:25.672800Z",
     "iopub.status.busy": "2022-03-01T18:37:25.672082Z",
     "iopub.status.idle": "2022-03-01T18:37:25.674740Z",
     "shell.execute_reply": "2022-03-01T18:37:25.675157Z",
     "shell.execute_reply.started": "2022-03-01T17:48:01.516615Z"
    },
    "papermill": {
     "duration": 0.750863,
     "end_time": "2022-03-01T18:37:25.675292",
     "exception": false,
     "start_time": "2022-03-01T18:37:24.924429",
     "status": "completed"
    },
    "tags": []
   },
   "outputs": [
    {
     "data": {
      "text/plain": [
       "['teacher_number_of_previously_posted_projects', 'price']"
      ]
     },
     "execution_count": 53,
     "metadata": {},
     "output_type": "execute_result"
    }
   ],
   "source": [
    "num_cols = [ col for col in X_train.columns if X_train[col].dtype != 'object' ]\n",
    "num_cols"
   ]
  },
  {
   "cell_type": "code",
   "execution_count": 54,
   "metadata": {
    "execution": {
     "iopub.execute_input": "2022-03-01T18:37:27.109423Z",
     "iopub.status.busy": "2022-03-01T18:37:27.107925Z",
     "iopub.status.idle": "2022-03-01T18:37:27.109982Z",
     "shell.execute_reply": "2022-03-01T18:37:27.110458Z",
     "shell.execute_reply.started": "2022-03-01T17:48:01.524184Z"
    },
    "papermill": {
     "duration": 0.722959,
     "end_time": "2022-03-01T18:37:27.110649",
     "exception": false,
     "start_time": "2022-03-01T18:37:26.387690",
     "status": "completed"
    },
    "tags": []
   },
   "outputs": [],
   "source": [
    "# you have to standardise the numerical columns\n",
    "# stack both the numerical features\n",
    "#after numerical feature vectorization you will have numerical_data_train and numerical_data_test"
   ]
  },
  {
   "cell_type": "code",
   "execution_count": 55,
   "metadata": {
    "execution": {
     "iopub.execute_input": "2022-03-01T18:37:28.863585Z",
     "iopub.status.busy": "2022-03-01T18:37:28.862766Z",
     "iopub.status.idle": "2022-03-01T18:37:28.875165Z",
     "shell.execute_reply": "2022-03-01T18:37:28.875890Z",
     "shell.execute_reply.started": "2022-03-01T17:48:01.531728Z"
    },
    "papermill": {
     "duration": 1.025418,
     "end_time": "2022-03-01T18:37:28.876070",
     "exception": false,
     "start_time": "2022-03-01T18:37:27.850652",
     "status": "completed"
    },
    "tags": []
   },
   "outputs": [
    {
     "data": {
      "text/html": [
       "<div>\n",
       "<style scoped>\n",
       "    .dataframe tbody tr th:only-of-type {\n",
       "        vertical-align: middle;\n",
       "    }\n",
       "\n",
       "    .dataframe tbody tr th {\n",
       "        vertical-align: top;\n",
       "    }\n",
       "\n",
       "    .dataframe thead th {\n",
       "        text-align: right;\n",
       "    }\n",
       "</style>\n",
       "<table border=\"1\" class=\"dataframe\">\n",
       "  <thead>\n",
       "    <tr style=\"text-align: right;\">\n",
       "      <th></th>\n",
       "      <th>school_state</th>\n",
       "      <th>teacher_prefix</th>\n",
       "      <th>project_grade_category</th>\n",
       "      <th>teacher_number_of_previously_posted_projects</th>\n",
       "      <th>clean_categories</th>\n",
       "      <th>clean_subcategories</th>\n",
       "      <th>essay</th>\n",
       "      <th>price</th>\n",
       "    </tr>\n",
       "  </thead>\n",
       "  <tbody>\n",
       "    <tr>\n",
       "      <th>81389</th>\n",
       "      <td>ga</td>\n",
       "      <td>mrs</td>\n",
       "      <td>grades_3_5</td>\n",
       "      <td>0</td>\n",
       "      <td>literacy_language</td>\n",
       "      <td>esl literature_writing</td>\n",
       "      <td>my third fourth fifth grade esol students come...</td>\n",
       "      <td>274.73</td>\n",
       "    </tr>\n",
       "    <tr>\n",
       "      <th>66920</th>\n",
       "      <td>tn</td>\n",
       "      <td>ms</td>\n",
       "      <td>grades_3_5</td>\n",
       "      <td>1</td>\n",
       "      <td>history_civics literacy_language</td>\n",
       "      <td>history_geography literature_writing</td>\n",
       "      <td>our school awesome community school students t...</td>\n",
       "      <td>220.46</td>\n",
       "    </tr>\n",
       "    <tr>\n",
       "      <th>40287</th>\n",
       "      <td>al</td>\n",
       "      <td>ms</td>\n",
       "      <td>grades_3_5</td>\n",
       "      <td>0</td>\n",
       "      <td>specialneeds</td>\n",
       "      <td>specialneeds</td>\n",
       "      <td>my students attend large school title 1 we get...</td>\n",
       "      <td>616.09</td>\n",
       "    </tr>\n",
       "  </tbody>\n",
       "</table>\n",
       "</div>"
      ],
      "text/plain": [
       "      school_state teacher_prefix project_grade_category  \\\n",
       "81389           ga            mrs             grades_3_5   \n",
       "66920           tn             ms             grades_3_5   \n",
       "40287           al             ms             grades_3_5   \n",
       "\n",
       "       teacher_number_of_previously_posted_projects  \\\n",
       "81389                                             0   \n",
       "66920                                             1   \n",
       "40287                                             0   \n",
       "\n",
       "                       clean_categories                   clean_subcategories  \\\n",
       "81389                 literacy_language                esl literature_writing   \n",
       "66920  history_civics literacy_language  history_geography literature_writing   \n",
       "40287                      specialneeds                          specialneeds   \n",
       "\n",
       "                                                   essay   price  \n",
       "81389  my third fourth fifth grade esol students come...  274.73  \n",
       "66920  our school awesome community school students t...  220.46  \n",
       "40287  my students attend large school title 1 we get...  616.09  "
      ]
     },
     "execution_count": 55,
     "metadata": {},
     "output_type": "execute_result"
    }
   ],
   "source": [
    "X_train.head(3)"
   ]
  },
  {
   "cell_type": "code",
   "execution_count": 56,
   "metadata": {
    "execution": {
     "iopub.execute_input": "2022-03-01T18:37:30.334773Z",
     "iopub.status.busy": "2022-03-01T18:37:30.333890Z",
     "iopub.status.idle": "2022-03-01T18:37:30.335591Z",
     "shell.execute_reply": "2022-03-01T18:37:30.336087Z",
     "shell.execute_reply.started": "2022-03-01T17:48:01.547636Z"
    },
    "papermill": {
     "duration": 0.727977,
     "end_time": "2022-03-01T18:37:30.336251",
     "exception": false,
     "start_time": "2022-03-01T18:37:29.608274",
     "status": "completed"
    },
    "tags": []
   },
   "outputs": [],
   "source": [
    "from sklearn.preprocessing import StandardScaler\n",
    "std_scaler= StandardScaler()"
   ]
  },
  {
   "cell_type": "code",
   "execution_count": 57,
   "metadata": {
    "execution": {
     "iopub.execute_input": "2022-03-01T18:37:31.794435Z",
     "iopub.status.busy": "2022-03-01T18:37:31.793578Z",
     "iopub.status.idle": "2022-03-01T18:37:31.803589Z",
     "shell.execute_reply": "2022-03-01T18:37:31.804025Z",
     "shell.execute_reply.started": "2022-03-01T17:48:01.556805Z"
    },
    "papermill": {
     "duration": 0.734717,
     "end_time": "2022-03-01T18:37:31.804185",
     "exception": false,
     "start_time": "2022-03-01T18:37:31.069468",
     "status": "completed"
    },
    "tags": []
   },
   "outputs": [
    {
     "data": {
      "text/html": [
       "<div>\n",
       "<style scoped>\n",
       "    .dataframe tbody tr th:only-of-type {\n",
       "        vertical-align: middle;\n",
       "    }\n",
       "\n",
       "    .dataframe tbody tr th {\n",
       "        vertical-align: top;\n",
       "    }\n",
       "\n",
       "    .dataframe thead th {\n",
       "        text-align: right;\n",
       "    }\n",
       "</style>\n",
       "<table border=\"1\" class=\"dataframe\">\n",
       "  <thead>\n",
       "    <tr style=\"text-align: right;\">\n",
       "      <th></th>\n",
       "      <th>ttppp</th>\n",
       "      <th>price</th>\n",
       "    </tr>\n",
       "  </thead>\n",
       "  <tbody>\n",
       "  </tbody>\n",
       "</table>\n",
       "</div>"
      ],
      "text/plain": [
       "Empty DataFrame\n",
       "Columns: [ttppp, price]\n",
       "Index: []"
      ]
     },
     "execution_count": 57,
     "metadata": {},
     "output_type": "execute_result"
    }
   ],
   "source": [
    "df_num_tr = pd.DataFrame(columns= ['ttppp','price'])\n",
    "df_num_tr.head()"
   ]
  },
  {
   "cell_type": "code",
   "execution_count": 58,
   "metadata": {
    "execution": {
     "iopub.execute_input": "2022-03-01T18:37:33.298524Z",
     "iopub.status.busy": "2022-03-01T18:37:33.289165Z",
     "iopub.status.idle": "2022-03-01T18:37:33.301916Z",
     "shell.execute_reply": "2022-03-01T18:37:33.301460Z",
     "shell.execute_reply.started": "2022-03-01T17:48:01.569775Z"
    },
    "papermill": {
     "duration": 0.751925,
     "end_time": "2022-03-01T18:37:33.302041",
     "exception": false,
     "start_time": "2022-03-01T18:37:32.550116",
     "status": "completed"
    },
    "tags": []
   },
   "outputs": [
    {
     "data": {
      "text/html": [
       "<div>\n",
       "<style scoped>\n",
       "    .dataframe tbody tr th:only-of-type {\n",
       "        vertical-align: middle;\n",
       "    }\n",
       "\n",
       "    .dataframe tbody tr th {\n",
       "        vertical-align: top;\n",
       "    }\n",
       "\n",
       "    .dataframe thead th {\n",
       "        text-align: right;\n",
       "    }\n",
       "</style>\n",
       "<table border=\"1\" class=\"dataframe\">\n",
       "  <thead>\n",
       "    <tr style=\"text-align: right;\">\n",
       "      <th></th>\n",
       "      <th>teacher_number_of_previously_posted_projects</th>\n",
       "      <th>price</th>\n",
       "    </tr>\n",
       "  </thead>\n",
       "  <tbody>\n",
       "    <tr>\n",
       "      <th>81389</th>\n",
       "      <td>0</td>\n",
       "      <td>274.73</td>\n",
       "    </tr>\n",
       "    <tr>\n",
       "      <th>66920</th>\n",
       "      <td>1</td>\n",
       "      <td>220.46</td>\n",
       "    </tr>\n",
       "    <tr>\n",
       "      <th>40287</th>\n",
       "      <td>0</td>\n",
       "      <td>616.09</td>\n",
       "    </tr>\n",
       "    <tr>\n",
       "      <th>95942</th>\n",
       "      <td>7</td>\n",
       "      <td>38.68</td>\n",
       "    </tr>\n",
       "    <tr>\n",
       "      <th>17176</th>\n",
       "      <td>0</td>\n",
       "      <td>301.51</td>\n",
       "    </tr>\n",
       "  </tbody>\n",
       "</table>\n",
       "</div>"
      ],
      "text/plain": [
       "       teacher_number_of_previously_posted_projects   price\n",
       "81389                                             0  274.73\n",
       "66920                                             1  220.46\n",
       "40287                                             0  616.09\n",
       "95942                                             7   38.68\n",
       "17176                                             0  301.51"
      ]
     },
     "execution_count": 58,
     "metadata": {},
     "output_type": "execute_result"
    }
   ],
   "source": [
    "num_cols_train = X_train[['teacher_number_of_previously_posted_projects','price']]\n",
    "num_cols_test = X_test[['teacher_number_of_previously_posted_projects','price']]\n",
    "num_cols_train.head()"
   ]
  },
  {
   "cell_type": "code",
   "execution_count": 59,
   "metadata": {
    "execution": {
     "iopub.execute_input": "2022-03-01T18:37:34.819255Z",
     "iopub.status.busy": "2022-03-01T18:37:34.818298Z",
     "iopub.status.idle": "2022-03-01T18:37:34.824979Z",
     "shell.execute_reply": "2022-03-01T18:37:34.824543Z",
     "shell.execute_reply.started": "2022-03-01T17:48:01.586165Z"
    },
    "papermill": {
     "duration": 0.760574,
     "end_time": "2022-03-01T18:37:34.825093",
     "exception": false,
     "start_time": "2022-03-01T18:37:34.064519",
     "status": "completed"
    },
    "tags": []
   },
   "outputs": [],
   "source": [
    "X_train_num = std_scaler.fit_transform(num_cols_train.values)\n",
    "X_test_num = std_scaler.transform(num_cols_test.values)"
   ]
  },
  {
   "cell_type": "code",
   "execution_count": 60,
   "metadata": {
    "execution": {
     "iopub.execute_input": "2022-03-01T18:37:36.346509Z",
     "iopub.status.busy": "2022-03-01T18:37:36.345739Z",
     "iopub.status.idle": "2022-03-01T18:37:36.348747Z",
     "shell.execute_reply": "2022-03-01T18:37:36.349204Z",
     "shell.execute_reply.started": "2022-03-01T17:48:01.598623Z"
    },
    "papermill": {
     "duration": 0.7772,
     "end_time": "2022-03-01T18:37:36.349362",
     "exception": false,
     "start_time": "2022-03-01T18:37:35.572162",
     "status": "completed"
    },
    "tags": []
   },
   "outputs": [
    {
     "data": {
      "text/plain": [
       "array([[-0.40126523, -0.06775399],\n",
       "       [-0.36562272, -0.21138251],\n",
       "       [-0.40126523,  0.83567392],\n",
       "       ...,\n",
       "       [-0.40126523,  1.04139061],\n",
       "       [-0.40126523,  0.03498526],\n",
       "       [-0.40126523, -0.45084278]])"
      ]
     },
     "execution_count": 60,
     "metadata": {},
     "output_type": "execute_result"
    }
   ],
   "source": [
    "X_train_num"
   ]
  },
  {
   "cell_type": "code",
   "execution_count": 61,
   "metadata": {
    "execution": {
     "iopub.execute_input": "2022-03-01T18:37:37.829071Z",
     "iopub.status.busy": "2022-03-01T18:37:37.828556Z",
     "iopub.status.idle": "2022-03-01T18:37:37.832824Z",
     "shell.execute_reply": "2022-03-01T18:37:37.833246Z",
     "shell.execute_reply.started": "2022-03-01T17:48:01.606187Z"
    },
    "papermill": {
     "duration": 0.762214,
     "end_time": "2022-03-01T18:37:37.833379",
     "exception": false,
     "start_time": "2022-03-01T18:37:37.071165",
     "status": "completed"
    },
    "tags": []
   },
   "outputs": [
    {
     "data": {
      "text/html": [
       "<div>\n",
       "<style scoped>\n",
       "    .dataframe tbody tr th:only-of-type {\n",
       "        vertical-align: middle;\n",
       "    }\n",
       "\n",
       "    .dataframe tbody tr th {\n",
       "        vertical-align: top;\n",
       "    }\n",
       "\n",
       "    .dataframe thead th {\n",
       "        text-align: right;\n",
       "    }\n",
       "</style>\n",
       "<table border=\"1\" class=\"dataframe\">\n",
       "  <thead>\n",
       "    <tr style=\"text-align: right;\">\n",
       "      <th></th>\n",
       "      <th>ttppp</th>\n",
       "      <th>price</th>\n",
       "    </tr>\n",
       "  </thead>\n",
       "  <tbody>\n",
       "    <tr>\n",
       "      <th>0</th>\n",
       "      <td>-0.401265</td>\n",
       "      <td>-0.067754</td>\n",
       "    </tr>\n",
       "    <tr>\n",
       "      <th>1</th>\n",
       "      <td>-0.365623</td>\n",
       "      <td>-0.211383</td>\n",
       "    </tr>\n",
       "    <tr>\n",
       "      <th>2</th>\n",
       "      <td>-0.401265</td>\n",
       "      <td>0.835674</td>\n",
       "    </tr>\n",
       "    <tr>\n",
       "      <th>3</th>\n",
       "      <td>-0.151768</td>\n",
       "      <td>-0.692473</td>\n",
       "    </tr>\n",
       "    <tr>\n",
       "      <th>4</th>\n",
       "      <td>-0.401265</td>\n",
       "      <td>0.003121</td>\n",
       "    </tr>\n",
       "  </tbody>\n",
       "</table>\n",
       "</div>"
      ],
      "text/plain": [
       "      ttppp     price\n",
       "0 -0.401265 -0.067754\n",
       "1 -0.365623 -0.211383\n",
       "2 -0.401265  0.835674\n",
       "3 -0.151768 -0.692473\n",
       "4 -0.401265  0.003121"
      ]
     },
     "execution_count": 61,
     "metadata": {},
     "output_type": "execute_result"
    }
   ],
   "source": [
    "df_num_tr = pd.DataFrame(X_train_num,columns = ['ttppp','price'])\n",
    "df_num_te = pd.DataFrame(X_test_num,columns = ['ttppp','price'])\n",
    "df_num_tr.head()"
   ]
  },
  {
   "cell_type": "markdown",
   "metadata": {
    "papermill": {
     "duration": 0.723733,
     "end_time": "2022-03-01T18:37:39.276727",
     "exception": false,
     "start_time": "2022-03-01T18:37:38.552994",
     "status": "completed"
    },
    "tags": []
   },
   "source": [
    "## 1.4 Defining the model"
   ]
  },
  {
   "cell_type": "markdown",
   "metadata": {
    "papermill": {
     "duration": 0.718111,
     "end_time": "2022-03-01T18:37:41.020948",
     "exception": false,
     "start_time": "2022-03-01T18:37:40.302837",
     "status": "completed"
    },
    "tags": []
   },
   "source": [
    "<img src='https://i.imgur.com/w395Yk9.png'>"
   ]
  },
  {
   "cell_type": "code",
   "execution_count": 62,
   "metadata": {
    "execution": {
     "iopub.execute_input": "2022-03-01T18:37:42.596484Z",
     "iopub.status.busy": "2022-03-01T18:37:42.595580Z",
     "iopub.status.idle": "2022-03-01T18:37:42.597319Z",
     "shell.execute_reply": "2022-03-01T18:37:42.597809Z",
     "shell.execute_reply.started": "2022-03-01T17:48:01.619760Z"
    },
    "papermill": {
     "duration": 0.771871,
     "end_time": "2022-03-01T18:37:42.597943",
     "exception": false,
     "start_time": "2022-03-01T18:37:41.826072",
     "status": "completed"
    },
    "tags": []
   },
   "outputs": [],
   "source": [
    "# as of now we have vectorized all our features now we will define our model.\n",
    "# as it is clear from above image that the given model has multiple input layers and hence we have to use functional API\n",
    "# Please go through - https://keras.io/guides/functional_api/\n",
    "# it is a good programming practise to define your complete model i.e all inputs , intermediate and output layers at one place.\n",
    "# while defining your model make sure that you use variable names while defining any length,dimension or size.\n",
    "#for ex.- you should write the code as 'input_text = Input(shape=(pad_length,))' and not as 'input_text = Input(shape=(300,))'\n",
    "# the embedding layer for text data should be non trainable\n",
    "# the embedding layer for categorical data should be trainable\n",
    "# https://stats.stackexchange.com/questions/270546/how-does-keras-embedding-layer-work\n",
    "# https://towardsdatascience.com/deep-embeddings-for-categorical-variables-cat2vec-b05c8ab63ac0\n",
    "#print model.summary() after you have defined the model\n",
    "#plot the model using utils.plot_model module and make sure that it is similar to the above image"
   ]
  },
  {
   "cell_type": "code",
   "execution_count": 63,
   "metadata": {
    "execution": {
     "iopub.execute_input": "2022-03-01T18:37:44.080299Z",
     "iopub.status.busy": "2022-03-01T18:37:44.079721Z",
     "iopub.status.idle": "2022-03-01T18:37:44.092845Z",
     "shell.execute_reply": "2022-03-01T18:37:44.092412Z",
     "shell.execute_reply.started": "2022-03-01T17:48:01.627423Z"
    },
    "papermill": {
     "duration": 0.781684,
     "end_time": "2022-03-01T18:37:44.092955",
     "exception": false,
     "start_time": "2022-03-01T18:37:43.311271",
     "status": "completed"
    },
    "tags": []
   },
   "outputs": [],
   "source": [
    "from keras.layers.core import Dense, Activation, Dropout,Flatten\n",
    "from keras.regularizers import l2\n",
    "from keras.layers.embeddings import Embedding\n",
    "from keras.layers import Input,BatchNormalization\n",
    "from keras.layers import Conv1D, MaxPool1D\n",
    "from keras.callbacks import ModelCheckpoint\n",
    "from keras.models import Model\n",
    "from tensorflow.keras.callbacks import LearningRateScheduler\n",
    "import os\n",
    "import datetime\n",
    "from keras.callbacks import EarlyStopping\n",
    "import keras.backend as K\n",
    "import sklearn"
   ]
  },
  {
   "cell_type": "code",
   "execution_count": 64,
   "metadata": {
    "execution": {
     "iopub.execute_input": "2022-03-01T18:37:45.587649Z",
     "iopub.status.busy": "2022-03-01T18:37:45.586994Z",
     "iopub.status.idle": "2022-03-01T18:37:45.589666Z",
     "shell.execute_reply": "2022-03-01T18:37:45.590067Z",
     "shell.execute_reply.started": "2022-03-01T17:48:01.670973Z"
    },
    "papermill": {
     "duration": 0.751463,
     "end_time": "2022-03-01T18:37:45.590228",
     "exception": false,
     "start_time": "2022-03-01T18:37:44.838765",
     "status": "completed"
    },
    "tags": []
   },
   "outputs": [
    {
     "data": {
      "text/plain": [
       "2000"
      ]
     },
     "execution_count": 64,
     "metadata": {},
     "output_type": "execute_result"
    }
   ],
   "source": [
    "max_len"
   ]
  },
  {
   "cell_type": "code",
   "execution_count": 65,
   "metadata": {
    "execution": {
     "iopub.execute_input": "2022-03-01T18:37:47.029669Z",
     "iopub.status.busy": "2022-03-01T18:37:47.029023Z",
     "iopub.status.idle": "2022-03-01T18:37:47.031914Z",
     "shell.execute_reply": "2022-03-01T18:37:47.032411Z",
     "shell.execute_reply.started": "2022-03-01T17:48:01.678086Z"
    },
    "papermill": {
     "duration": 0.724718,
     "end_time": "2022-03-01T18:37:47.032559",
     "exception": false,
     "start_time": "2022-03-01T18:37:46.307841",
     "status": "completed"
    },
    "tags": []
   },
   "outputs": [
    {
     "data": {
      "text/plain": [
       "array([[0., 1., 0., 0., 0., 0.],\n",
       "       [0., 0., 1., 0., 0., 0.],\n",
       "       [0., 0., 1., 0., 0., 0.],\n",
       "       ...,\n",
       "       [0., 0., 1., 0., 0., 0.],\n",
       "       [0., 0., 1., 0., 0., 0.],\n",
       "       [0., 0., 1., 0., 0., 0.]])"
      ]
     },
     "execution_count": 65,
     "metadata": {},
     "output_type": "execute_result"
    }
   ],
   "source": [
    "X_train_teacher_prefix"
   ]
  },
  {
   "cell_type": "code",
   "execution_count": 66,
   "metadata": {
    "execution": {
     "iopub.execute_input": "2022-03-01T18:37:48.536767Z",
     "iopub.status.busy": "2022-03-01T18:37:48.535738Z",
     "iopub.status.idle": "2022-03-01T18:37:48.538068Z",
     "shell.execute_reply": "2022-03-01T18:37:48.537547Z",
     "shell.execute_reply.started": "2022-03-01T18:21:22.601234Z"
    },
    "papermill": {
     "duration": 0.744235,
     "end_time": "2022-03-01T18:37:48.538341",
     "exception": false,
     "start_time": "2022-03-01T18:37:47.794106",
     "status": "completed"
    },
    "tags": []
   },
   "outputs": [],
   "source": [
    "out_dimention = 5"
   ]
  },
  {
   "cell_type": "code",
   "execution_count": 67,
   "metadata": {
    "execution": {
     "iopub.execute_input": "2022-03-01T18:37:50.015871Z",
     "iopub.status.busy": "2022-03-01T18:37:50.015050Z",
     "iopub.status.idle": "2022-03-01T18:37:53.390437Z",
     "shell.execute_reply": "2022-03-01T18:37:53.389909Z",
     "shell.execute_reply.started": "2022-03-01T17:48:01.688261Z"
    },
    "papermill": {
     "duration": 4.136423,
     "end_time": "2022-03-01T18:37:53.390582",
     "exception": false,
     "start_time": "2022-03-01T18:37:49.254159",
     "status": "completed"
    },
    "tags": []
   },
   "outputs": [
    {
     "name": "stderr",
     "output_type": "stream",
     "text": [
      "2022-03-01 18:37:50.116743: I tensorflow/stream_executor/cuda/cuda_gpu_executor.cc:937] successful NUMA node read from SysFS had negative value (-1), but there must be at least one NUMA node, so returning NUMA node zero\n",
      "2022-03-01 18:37:50.229664: I tensorflow/stream_executor/cuda/cuda_gpu_executor.cc:937] successful NUMA node read from SysFS had negative value (-1), but there must be at least one NUMA node, so returning NUMA node zero\n",
      "2022-03-01 18:37:50.230381: I tensorflow/stream_executor/cuda/cuda_gpu_executor.cc:937] successful NUMA node read from SysFS had negative value (-1), but there must be at least one NUMA node, so returning NUMA node zero\n",
      "2022-03-01 18:37:50.232352: I tensorflow/core/platform/cpu_feature_guard.cc:142] This TensorFlow binary is optimized with oneAPI Deep Neural Network Library (oneDNN) to use the following CPU instructions in performance-critical operations:  AVX2 AVX512F FMA\n",
      "To enable them in other operations, rebuild TensorFlow with the appropriate compiler flags.\n",
      "2022-03-01 18:37:50.232697: I tensorflow/stream_executor/cuda/cuda_gpu_executor.cc:937] successful NUMA node read from SysFS had negative value (-1), but there must be at least one NUMA node, so returning NUMA node zero\n",
      "2022-03-01 18:37:50.233622: I tensorflow/stream_executor/cuda/cuda_gpu_executor.cc:937] successful NUMA node read from SysFS had negative value (-1), but there must be at least one NUMA node, so returning NUMA node zero\n",
      "2022-03-01 18:37:50.234525: I tensorflow/stream_executor/cuda/cuda_gpu_executor.cc:937] successful NUMA node read from SysFS had negative value (-1), but there must be at least one NUMA node, so returning NUMA node zero\n",
      "2022-03-01 18:37:52.246300: I tensorflow/stream_executor/cuda/cuda_gpu_executor.cc:937] successful NUMA node read from SysFS had negative value (-1), but there must be at least one NUMA node, so returning NUMA node zero\n",
      "2022-03-01 18:37:52.247117: I tensorflow/stream_executor/cuda/cuda_gpu_executor.cc:937] successful NUMA node read from SysFS had negative value (-1), but there must be at least one NUMA node, so returning NUMA node zero\n",
      "2022-03-01 18:37:52.247861: I tensorflow/stream_executor/cuda/cuda_gpu_executor.cc:937] successful NUMA node read from SysFS had negative value (-1), but there must be at least one NUMA node, so returning NUMA node zero\n",
      "2022-03-01 18:37:52.249225: I tensorflow/core/common_runtime/gpu/gpu_device.cc:1510] Created device /job:localhost/replica:0/task:0/device:GPU:0 with 15403 MB memory:  -> device: 0, name: Tesla P100-PCIE-16GB, pci bus id: 0000:00:04.0, compute capability: 6.0\n",
      "2022-03-01 18:37:52.656971: W tensorflow/core/framework/cpu_allocator_impl.cc:80] Allocation of 58736400 exceeds 10% of free system memory.\n"
     ]
    }
   ],
   "source": [
    "#essay\n",
    "input_essay = Input(shape=(max_len,),name = 'Input_Essay')\n",
    "embedding_essay = Embedding(len(word_index) + 1,300,weights=[embedding_matrix],input_length=max_len,trainable=False,name = 'embedding_essay')(input_essay)\n",
    "LSTM_essay = LSTM(name='LSTM_essay', units=25,return_sequences=True)(embedding_essay)\n",
    "flatten_essay = Flatten(data_format='channels_last',name='Flatten_essay')(LSTM_essay)\n",
    "model_e = Model(inputs=input_essay,outputs=flatten_essay)\n",
    "\n",
    "#School State\n",
    "input_ss = Input(shape=(len(tk_ss.word_index) + 1,),name = 'Input_ss')\n",
    "embedding_ss = Embedding(len(tk_ss.word_index) + 1,out_dimention,input_length=X_train_school_state.shape[1],trainable=True,name = 'embedding_ss')(input_ss)\n",
    "flatten_ss = Flatten(data_format='channels_last',name='Flatten_ss')(embedding_ss)\n",
    "model_ss = Model(inputs=input_ss,outputs=flatten_ss)\n",
    "\n",
    "#project_grade_category\n",
    "input_pgc = Input(shape=(len(tk_pgc.word_index) + 1,),name = 'Input_pgc')\n",
    "embedding_pgc = Embedding(len(tk_pgc.word_index) + 1,out_dimention,input_length=X_train_pgc.shape[1],trainable=True,name = 'embedding_pgc')(input_pgc)\n",
    "flatten_pgc = Flatten(data_format='channels_last',name='Flatten_pgc')(embedding_pgc)\n",
    "model_pgc = Model(inputs=input_pgc,outputs=flatten_pgc)\n",
    "\n",
    "#clean_categories\n",
    "input_cc = Input(shape=(len(tk_cc.word_index) + 1,),name = 'Input_cc')\n",
    "embedding_cc = Embedding(len(tk_cc.word_index) + 1,out_dimention,input_length=X_train_cc.shape[1],trainable=True,name = 'embedding_cc')(input_cc)\n",
    "flatten_cc = Flatten(data_format='channels_last',name='Flatten_cc')(embedding_cc)\n",
    "model_cc = Model(inputs=input_cc,outputs=flatten_cc)\n",
    "\n",
    "#clean_subcategories\n",
    "input_csc = Input(shape=(len(tk_csc.word_index) + 1,),name = 'Input_csc')\n",
    "embedding_csc = Embedding(len(tk_csc.word_index) + 1,out_dimention,input_length=X_train_csc.shape[1],trainable=True,name = 'embedding_csc')(input_csc)\n",
    "flatten_csc = Flatten(data_format='channels_last',name='Flatten_csc')(embedding_csc)\n",
    "model_csc = Model(inputs=input_csc,outputs=flatten_csc)\n",
    "\n",
    "#teacher prefix\n",
    "input_tp = Input(shape=(len(tk_tp.word_index) + 1,),name = 'Input_tp')\n",
    "embedding_tp = Embedding(len(tk_tp.word_index) + 1,out_dimention,input_length=X_train_teacher_prefix.shape[1],trainable=True,name = 'embedding_tp')(input_tp)\n",
    "flatten_tp = Flatten(data_format='channels_last',name='Flatten_tp')(embedding_tp)\n",
    "model_tp = Model(inputs=input_tp,outputs=flatten_tp)\n",
    "\n",
    "#numerical data\n",
    "input_num = Input(shape=(2,),name = 'Input_num')\n",
    "dense_num = Dense(25,activation='relu',kernel_initializer=tensorflow.keras.initializers.he_normal(seed=30),kernel_regularizer=l2(0.001))(input_num)\n",
    "model_num = Model(inputs=input_num,outputs=dense_num)\n",
    "\n",
    "concat_Layer = tensorflow.keras.layers.concatenate([model_e.output,model_ss.output,model_pgc.output,model_cc.output,model_csc.output,model_tp.output,model_num.output])\n",
    "\n",
    "DnsL = Dense(100,activation='relu',kernel_initializer=tensorflow.keras.initializers.he_normal(seed=30),kernel_regularizer=l2(0.001))(concat_Layer)\n",
    "DnsL  =  Dropout(0.3)(DnsL)\n",
    "\n",
    "\n",
    "DnsL = Dense(50,activation='relu',kernel_initializer=tensorflow.keras.initializers.he_normal(seed=30),kernel_regularizer=l2(0.001))(DnsL)\n",
    "\n",
    "DnsL  =  Dropout(0.3)(DnsL)\n",
    "\n",
    "DnsL = Dense(25,activation='relu',kernel_initializer=tensorflow.keras.initializers.he_normal(seed=30),kernel_regularizer=l2(0.001))(DnsL)\n",
    "\n",
    "\n",
    "Output = Dense(units=2,activation='softmax',kernel_initializer=tensorflow.keras.initializers.glorot_normal(seed=3),name='Output')(DnsL)"
   ]
  },
  {
   "cell_type": "code",
   "execution_count": 68,
   "metadata": {
    "execution": {
     "iopub.execute_input": "2022-03-01T18:37:54.971768Z",
     "iopub.status.busy": "2022-03-01T18:37:54.969546Z",
     "iopub.status.idle": "2022-03-01T18:37:54.979679Z",
     "shell.execute_reply": "2022-03-01T18:37:54.980347Z",
     "shell.execute_reply.started": "2022-03-01T17:48:04.769221Z"
    },
    "papermill": {
     "duration": 0.827079,
     "end_time": "2022-03-01T18:37:54.980573",
     "exception": false,
     "start_time": "2022-03-01T18:37:54.153494",
     "status": "completed"
    },
    "tags": []
   },
   "outputs": [],
   "source": [
    "\n",
    "model_1= Model(inputs=[model_e.input,model_ss.input,model_pgc.input,model_cc.input,model_csc.input,model_tp.input,model_num.input],outputs=Output)"
   ]
  },
  {
   "cell_type": "code",
   "execution_count": 69,
   "metadata": {
    "execution": {
     "iopub.execute_input": "2022-03-01T18:37:56.936078Z",
     "iopub.status.busy": "2022-03-01T18:37:56.934341Z",
     "iopub.status.idle": "2022-03-01T18:37:56.947978Z",
     "shell.execute_reply": "2022-03-01T18:37:56.948646Z",
     "shell.execute_reply.started": "2022-03-01T17:48:04.784540Z"
    },
    "papermill": {
     "duration": 0.764345,
     "end_time": "2022-03-01T18:37:56.948833",
     "exception": false,
     "start_time": "2022-03-01T18:37:56.184488",
     "status": "completed"
    },
    "tags": []
   },
   "outputs": [
    {
     "name": "stdout",
     "output_type": "stream",
     "text": [
      "Model: \"model_7\"\n",
      "__________________________________________________________________________________________________\n",
      "Layer (type)                    Output Shape         Param #     Connected to                     \n",
      "==================================================================================================\n",
      "Input_Essay (InputLayer)        [(None, 2000)]       0                                            \n",
      "__________________________________________________________________________________________________\n",
      "embedding_essay (Embedding)     (None, 2000, 300)    14684100    Input_Essay[0][0]                \n",
      "__________________________________________________________________________________________________\n",
      "Input_ss (InputLayer)           [(None, 52)]         0                                            \n",
      "__________________________________________________________________________________________________\n",
      "Input_pgc (InputLayer)          [(None, 5)]          0                                            \n",
      "__________________________________________________________________________________________________\n",
      "Input_cc (InputLayer)           [(None, 10)]         0                                            \n",
      "__________________________________________________________________________________________________\n",
      "Input_csc (InputLayer)          [(None, 31)]         0                                            \n",
      "__________________________________________________________________________________________________\n",
      "Input_tp (InputLayer)           [(None, 6)]          0                                            \n",
      "__________________________________________________________________________________________________\n",
      "LSTM_essay (LSTM)               (None, 2000, 25)     32600       embedding_essay[0][0]            \n",
      "__________________________________________________________________________________________________\n",
      "embedding_ss (Embedding)        (None, 52, 5)        260         Input_ss[0][0]                   \n",
      "__________________________________________________________________________________________________\n",
      "embedding_pgc (Embedding)       (None, 5, 5)         25          Input_pgc[0][0]                  \n",
      "__________________________________________________________________________________________________\n",
      "embedding_cc (Embedding)        (None, 10, 5)        50          Input_cc[0][0]                   \n",
      "__________________________________________________________________________________________________\n",
      "embedding_csc (Embedding)       (None, 31, 5)        155         Input_csc[0][0]                  \n",
      "__________________________________________________________________________________________________\n",
      "embedding_tp (Embedding)        (None, 6, 5)         30          Input_tp[0][0]                   \n",
      "__________________________________________________________________________________________________\n",
      "Input_num (InputLayer)          [(None, 2)]          0                                            \n",
      "__________________________________________________________________________________________________\n",
      "Flatten_essay (Flatten)         (None, 50000)        0           LSTM_essay[0][0]                 \n",
      "__________________________________________________________________________________________________\n",
      "Flatten_ss (Flatten)            (None, 260)          0           embedding_ss[0][0]               \n",
      "__________________________________________________________________________________________________\n",
      "Flatten_pgc (Flatten)           (None, 25)           0           embedding_pgc[0][0]              \n",
      "__________________________________________________________________________________________________\n",
      "Flatten_cc (Flatten)            (None, 50)           0           embedding_cc[0][0]               \n",
      "__________________________________________________________________________________________________\n",
      "Flatten_csc (Flatten)           (None, 155)          0           embedding_csc[0][0]              \n",
      "__________________________________________________________________________________________________\n",
      "Flatten_tp (Flatten)            (None, 30)           0           embedding_tp[0][0]               \n",
      "__________________________________________________________________________________________________\n",
      "dense (Dense)                   (None, 25)           75          Input_num[0][0]                  \n",
      "__________________________________________________________________________________________________\n",
      "concatenate (Concatenate)       (None, 50545)        0           Flatten_essay[0][0]              \n",
      "                                                                 Flatten_ss[0][0]                 \n",
      "                                                                 Flatten_pgc[0][0]                \n",
      "                                                                 Flatten_cc[0][0]                 \n",
      "                                                                 Flatten_csc[0][0]                \n",
      "                                                                 Flatten_tp[0][0]                 \n",
      "                                                                 dense[0][0]                      \n",
      "__________________________________________________________________________________________________\n",
      "dense_1 (Dense)                 (None, 100)          5054600     concatenate[0][0]                \n",
      "__________________________________________________________________________________________________\n",
      "dropout (Dropout)               (None, 100)          0           dense_1[0][0]                    \n",
      "__________________________________________________________________________________________________\n",
      "dense_2 (Dense)                 (None, 50)           5050        dropout[0][0]                    \n",
      "__________________________________________________________________________________________________\n",
      "dropout_1 (Dropout)             (None, 50)           0           dense_2[0][0]                    \n",
      "__________________________________________________________________________________________________\n",
      "dense_3 (Dense)                 (None, 25)           1275        dropout_1[0][0]                  \n",
      "__________________________________________________________________________________________________\n",
      "Output (Dense)                  (None, 2)            52          dense_3[0][0]                    \n",
      "==================================================================================================\n",
      "Total params: 19,778,272\n",
      "Trainable params: 5,094,172\n",
      "Non-trainable params: 14,684,100\n",
      "__________________________________________________________________________________________________\n"
     ]
    }
   ],
   "source": [
    "model_1.summary()"
   ]
  },
  {
   "cell_type": "code",
   "execution_count": 70,
   "metadata": {
    "execution": {
     "iopub.execute_input": "2022-03-01T18:37:58.460927Z",
     "iopub.status.busy": "2022-03-01T18:37:58.459781Z",
     "iopub.status.idle": "2022-03-01T18:37:59.682466Z",
     "shell.execute_reply": "2022-03-01T18:37:59.682890Z",
     "shell.execute_reply.started": "2022-03-01T17:48:04.802079Z"
    },
    "papermill": {
     "duration": 1.991986,
     "end_time": "2022-03-01T18:37:59.683044",
     "exception": false,
     "start_time": "2022-03-01T18:37:57.691058",
     "status": "completed"
    },
    "tags": []
   },
   "outputs": [
    {
     "data": {
      "image/png": "[encoded data removed]",
      "text/plain": [
       "<IPython.core.display.Image object>"
      ]
     },
     "execution_count": 70,
     "metadata": {},
     "output_type": "execute_result"
    }
   ],
   "source": [
    "from tensorflow.keras.utils import plot_model\n",
    "plot_model(model_1, 'model_1.png', show_shapes=True)"
   ]
  },
  {
   "cell_type": "markdown",
   "metadata": {
    "papermill": {
     "duration": 0.722372,
     "end_time": "2022-03-01T18:38:01.184912",
     "exception": false,
     "start_time": "2022-03-01T18:38:00.462540",
     "status": "completed"
    },
    "tags": []
   },
   "source": [
    "## 1.5 Compiling and fititng your model"
   ]
  },
  {
   "cell_type": "code",
   "execution_count": 71,
   "metadata": {
    "execution": {
     "iopub.execute_input": "2022-03-01T18:38:02.966283Z",
     "iopub.status.busy": "2022-03-01T18:38:02.965452Z",
     "iopub.status.idle": "2022-03-01T18:38:02.967221Z",
     "shell.execute_reply": "2022-03-01T18:38:02.967660Z",
     "shell.execute_reply.started": "2022-03-01T17:48:06.097562Z"
    },
    "papermill": {
     "duration": 0.732955,
     "end_time": "2022-03-01T18:38:02.967793",
     "exception": false,
     "start_time": "2022-03-01T18:38:02.234838",
     "status": "completed"
    },
    "tags": []
   },
   "outputs": [],
   "source": [
    "#define custom auc as metric , do not use tf.keras.metrics\n",
    "# https://stackoverflow.com/a/46844409 - custom AUC reference 1\n",
    "# https://www.kaggle.com/c/santander-customer-transaction-prediction/discussion/80807  - custom AUC reference 2\n",
    "# compile and fit your model"
   ]
  },
  {
   "cell_type": "code",
   "execution_count": 72,
   "metadata": {
    "execution": {
     "iopub.execute_input": "2022-03-01T18:38:04.480192Z",
     "iopub.status.busy": "2022-03-01T18:38:04.479364Z",
     "iopub.status.idle": "2022-03-01T18:38:04.481806Z",
     "shell.execute_reply": "2022-03-01T18:38:04.481397Z",
     "shell.execute_reply.started": "2022-03-01T17:48:06.104836Z"
    },
    "papermill": {
     "duration": 0.763233,
     "end_time": "2022-03-01T18:38:04.481922",
     "exception": false,
     "start_time": "2022-03-01T18:38:03.718689",
     "status": "completed"
    },
    "tags": []
   },
   "outputs": [],
   "source": [
    "#https://www.tensorflow.org/api_docs/python/tf/py_function\n",
    "# https://stackoverflow.com/a/46844409 - custom AUC reference 1\n",
    "# https://www.kaggle.com/c/santander-customer-transaction-prediction/discussion/80807  - custom AUC reference 2\n",
    "\n",
    "from sklearn.metrics import roc_auc_score\n",
    "import tensorflow as tf\n",
    "def auc1(y_true, y_pred):\n",
    "    if len(np.unique(y_true[:,1])) == 1:\n",
    "        return 0.5\n",
    "    else:\n",
    "        return roc_auc_score(y_true, y_pred)\n",
    "\n",
    "def aucroc(y_true, y_pred):\n",
    "    return tf.py_function(auc1, (y_true, y_pred), tf.double) #tf.compat.v1.py_func(roc_auc_score, (y_true, y_pred), tf.double)\n",
    "\n",
    "def changeLearningRate(epoch,lr):\n",
    "  if epoch<30:\n",
    "    lr=0.0001\n",
    "    return lr\n",
    "  else :\n",
    "    lr=0.00001\n",
    "    return lr"
   ]
  },
  {
   "cell_type": "code",
   "execution_count": 73,
   "metadata": {
    "execution": {
     "iopub.execute_input": "2022-03-01T18:38:06.047962Z",
     "iopub.status.busy": "2022-03-01T18:38:06.047023Z",
     "iopub.status.idle": "2022-03-01T18:38:06.054560Z",
     "shell.execute_reply": "2022-03-01T18:38:06.055461Z",
     "shell.execute_reply.started": "2022-03-01T17:48:06.118118Z"
    },
    "papermill": {
     "duration": 0.819792,
     "end_time": "2022-03-01T18:38:06.055641",
     "exception": false,
     "start_time": "2022-03-01T18:38:05.235849",
     "status": "completed"
    },
    "tags": []
   },
   "outputs": [],
   "source": [
    "#lrschedule = tensorflow.keras.callbacks.LearningRateScheduler(changeLearningRate)\n",
    "\n",
    "optimizer=tensorflow.keras.optimizers.Adam(learning_rate=0.01)\n",
    "model_1.compile(optimizer=optimizer, loss='categorical_crossentropy',metrics=['accuracy',aucroc])\n",
    "\n",
    "#earlystop = EarlyStopping(monitor='val_accuracy', min_delta=0.0005, patience=3, verbose=1)\n",
    "\n",
    "filepath= \"best_model_L1.h5\" #\"model_save/weights-{epoch:02d}-{val_accuracy:.4f}.hdf5\"\n",
    "checkpoint = ModelCheckpoint(filepath=filepath, monitor='val_accuracy',  verbose=1, save_best_only=True, mode='auto')"
   ]
  },
  {
   "cell_type": "code",
   "execution_count": 74,
   "metadata": {
    "execution": {
     "iopub.execute_input": "2022-03-01T18:38:07.523179Z",
     "iopub.status.busy": "2022-03-01T18:38:07.522520Z",
     "iopub.status.idle": "2022-03-01T18:51:35.593485Z",
     "shell.execute_reply": "2022-03-01T18:51:35.594196Z",
     "shell.execute_reply.started": "2022-03-01T17:48:06.142409Z"
    },
    "papermill": {
     "duration": 808.807908,
     "end_time": "2022-03-01T18:51:35.594436",
     "exception": false,
     "start_time": "2022-03-01T18:38:06.786528",
     "status": "completed"
    },
    "scrolled": false,
    "tags": []
   },
   "outputs": [
    {
     "name": "stderr",
     "output_type": "stream",
     "text": [
      "2022-03-01 18:38:07.524581: I tensorflow/core/profiler/lib/profiler_session.cc:131] Profiler session initializing.\n",
      "2022-03-01 18:38:07.524630: I tensorflow/core/profiler/lib/profiler_session.cc:146] Profiler session started.\n",
      "2022-03-01 18:38:07.527786: I tensorflow/core/profiler/internal/gpu/cupti_tracer.cc:1614] Profiler found 1 GPUs\n",
      "2022-03-01 18:38:07.924283: I tensorflow/core/profiler/lib/profiler_session.cc:164] Profiler session tear down.\n",
      "2022-03-01 18:38:07.924494: I tensorflow/core/profiler/internal/gpu/cupti_tracer.cc:1748] CUPTI activity buffer flushed\n",
      "2022-03-01 18:38:08.112889: W tensorflow/core/framework/cpu_allocator_impl.cc:80] Allocation of 611784000 exceeds 10% of free system memory.\n",
      "2022-03-01 18:38:08.594641: W tensorflow/core/framework/cpu_allocator_impl.cc:80] Allocation of 15906384 exceeds 10% of free system memory.\n",
      "2022-03-01 18:38:08.642390: W tensorflow/core/framework/cpu_allocator_impl.cc:80] Allocation of 15906384 exceeds 10% of free system memory.\n",
      "2022-03-01 18:38:08.701801: I tensorflow/compiler/mlir/mlir_graph_optimization_pass.cc:185] None of the MLIR Optimization Passes are enabled (registered 2)\n"
     ]
    },
    {
     "name": "stdout",
     "output_type": "stream",
     "text": [
      "Epoch 1/10\n"
     ]
    },
    {
     "name": "stderr",
     "output_type": "stream",
     "text": [
      "2022-03-01 18:38:10.914845: W tensorflow/core/framework/cpu_allocator_impl.cc:80] Allocation of 20218000 exceeds 10% of free system memory.\n",
      "2022-03-01 18:38:12.569070: I tensorflow/stream_executor/cuda/cuda_dnn.cc:369] Loaded cuDNN version 8005\n"
     ]
    },
    {
     "name": "stdout",
     "output_type": "stream",
     "text": [
      "  1/598 [..............................] - ETA: 43:17 - loss: 1.0816 - accuracy: 0.5938 - aucroc: 0.4821"
     ]
    },
    {
     "name": "stderr",
     "output_type": "stream",
     "text": [
      "2022-03-01 18:38:13.232962: I tensorflow/core/profiler/lib/profiler_session.cc:131] Profiler session initializing.\n",
      "2022-03-01 18:38:13.233014: I tensorflow/core/profiler/lib/profiler_session.cc:146] Profiler session started.\n"
     ]
    },
    {
     "name": "stdout",
     "output_type": "stream",
     "text": [
      "  2/598 [..............................] - ETA: 6:18 - loss: 3.8160 - accuracy: 0.7148 - aucroc: 0.4703 "
     ]
    },
    {
     "name": "stderr",
     "output_type": "stream",
     "text": [
      "2022-03-01 18:38:13.772371: I tensorflow/core/profiler/lib/profiler_session.cc:66] Profiler session collecting data.\n",
      "2022-03-01 18:38:13.781894: I tensorflow/core/profiler/internal/gpu/cupti_tracer.cc:1748] CUPTI activity buffer flushed\n",
      "2022-03-01 18:38:13.997901: I tensorflow/core/profiler/internal/gpu/cupti_collector.cc:673]  GpuTracer has collected 10457 callback api events and 10450 activity events. \n",
      "2022-03-01 18:38:14.226943: I tensorflow/core/profiler/lib/profiler_session.cc:164] Profiler session tear down.\n",
      "2022-03-01 18:38:14.518784: I tensorflow/core/profiler/rpc/client/save_profile.cc:136] Creating directory: logs1/fits/20220301-183807/train/plugins/profile/2022_03_01_18_38_14\n",
      "\n",
      "2022-03-01 18:38:14.620057: I tensorflow/core/profiler/rpc/client/save_profile.cc:142] Dumped gzipped tool data for trace.json.gz to logs1/fits/20220301-183807/train/plugins/profile/2022_03_01_18_38_14/5e03f8d90de5.trace.json.gz\n"
     ]
    },
    {
     "name": "stdout",
     "output_type": "stream",
     "text": [
      "  3/598 [..............................] - ETA: 9:15 - loss: 3.1205 - accuracy: 0.7578 - aucroc: 0.4943"
     ]
    },
    {
     "name": "stderr",
     "output_type": "stream",
     "text": [
      "2022-03-01 18:38:14.839014: I tensorflow/core/profiler/rpc/client/save_profile.cc:136] Creating directory: logs1/fits/20220301-183807/train/plugins/profile/2022_03_01_18_38_14\n",
      "\n",
      "2022-03-01 18:38:14.845509: I tensorflow/core/profiler/rpc/client/save_profile.cc:142] Dumped gzipped tool data for memory_profile.json.gz to logs1/fits/20220301-183807/train/plugins/profile/2022_03_01_18_38_14/5e03f8d90de5.memory_profile.json.gz\n",
      "2022-03-01 18:38:14.849325: I tensorflow/core/profiler/rpc/client/capture_profile.cc:251] Creating directory: logs1/fits/20220301-183807/train/plugins/profile/2022_03_01_18_38_14\n",
      "Dumped tool data for xplane.pb to logs1/fits/20220301-183807/train/plugins/profile/2022_03_01_18_38_14/5e03f8d90de5.xplane.pb\n",
      "Dumped tool data for overview_page.pb to logs1/fits/20220301-183807/train/plugins/profile/2022_03_01_18_38_14/5e03f8d90de5.overview_page.pb\n",
      "Dumped tool data for input_pipeline.pb to logs1/fits/20220301-183807/train/plugins/profile/2022_03_01_18_38_14/5e03f8d90de5.input_pipeline.pb\n",
      "Dumped tool data for tensorflow_stats.pb to logs1/fits/20220301-183807/train/plugins/profile/2022_03_01_18_38_14/5e03f8d90de5.tensorflow_stats.pb\n",
      "Dumped tool data for kernel_stats.pb to logs1/fits/20220301-183807/train/plugins/profile/2022_03_01_18_38_14/5e03f8d90de5.kernel_stats.pb\n",
      "\n"
     ]
    },
    {
     "name": "stdout",
     "output_type": "stream",
     "text": [
      "598/598 [==============================] - 83s 131ms/step - loss: 0.5900 - accuracy: 0.8466 - aucroc: 0.6956 - val_loss: 0.4245 - val_accuracy: 0.8486 - val_aucroc: 0.7356\n",
      "\n",
      "Epoch 00001: val_accuracy improved from -inf to 0.84857, saving model to best_model_L1.h5\n",
      "Epoch 2/10\n",
      "598/598 [==============================] - 68s 114ms/step - loss: 0.4173 - accuracy: 0.8488 - aucroc: 0.7396 - val_loss: 0.4035 - val_accuracy: 0.8498 - val_aucroc: 0.7477\n",
      "\n",
      "Epoch 00002: val_accuracy improved from 0.84857 to 0.84982, saving model to best_model_L1.h5\n",
      "Epoch 3/10\n",
      "598/598 [==============================] - 77s 130ms/step - loss: 0.4161 - accuracy: 0.8480 - aucroc: 0.7492 - val_loss: 0.4381 - val_accuracy: 0.8486 - val_aucroc: 0.7462\n",
      "\n",
      "Epoch 00003: val_accuracy did not improve from 0.84982\n",
      "Epoch 4/10\n",
      "598/598 [==============================] - 67s 113ms/step - loss: 0.4182 - accuracy: 0.8497 - aucroc: 0.7545 - val_loss: 0.4366 - val_accuracy: 0.8516 - val_aucroc: 0.7512\n",
      "\n",
      "Epoch 00004: val_accuracy improved from 0.84982 to 0.85156, saving model to best_model_L1.h5\n",
      "Epoch 5/10\n",
      "598/598 [==============================] - 68s 113ms/step - loss: 0.4215 - accuracy: 0.8496 - aucroc: 0.7623 - val_loss: 0.4240 - val_accuracy: 0.8494 - val_aucroc: 0.7474\n",
      "\n",
      "Epoch 00005: val_accuracy did not improve from 0.85156\n",
      "Epoch 6/10\n",
      "598/598 [==============================] - 67s 112ms/step - loss: 0.4221 - accuracy: 0.8494 - aucroc: 0.7651 - val_loss: 0.4264 - val_accuracy: 0.8486 - val_aucroc: 0.7469\n",
      "\n",
      "Epoch 00006: val_accuracy did not improve from 0.85156\n",
      "Epoch 7/10\n",
      "598/598 [==============================] - 77s 128ms/step - loss: 0.4187 - accuracy: 0.8506 - aucroc: 0.7688 - val_loss: 0.4334 - val_accuracy: 0.8486 - val_aucroc: 0.7402\n",
      "\n",
      "Epoch 00007: val_accuracy did not improve from 0.85156\n",
      "Epoch 8/10\n",
      "598/598 [==============================] - 68s 113ms/step - loss: 0.4169 - accuracy: 0.8499 - aucroc: 0.7715 - val_loss: 0.4385 - val_accuracy: 0.8333 - val_aucroc: 0.7468\n",
      "\n",
      "Epoch 00008: val_accuracy did not improve from 0.85156\n",
      "Epoch 9/10\n",
      "598/598 [==============================] - 77s 128ms/step - loss: 0.4159 - accuracy: 0.8539 - aucroc: 0.7791 - val_loss: 0.4235 - val_accuracy: 0.8516 - val_aucroc: 0.7476\n",
      "\n",
      "Epoch 00009: val_accuracy improved from 0.85156 to 0.85162, saving model to best_model_L1.h5\n",
      "Epoch 10/10\n",
      "598/598 [==============================] - 76s 128ms/step - loss: 0.4139 - accuracy: 0.8553 - aucroc: 0.7804 - val_loss: 0.4426 - val_accuracy: 0.8468 - val_aucroc: 0.7419\n",
      "\n",
      "Epoch 00010: val_accuracy did not improve from 0.85162\n"
     ]
    },
    {
     "data": {
      "text/plain": [
       "<keras.callbacks.History at 0x7f02dca652d0>"
      ]
     },
     "execution_count": 74,
     "metadata": {},
     "output_type": "execute_result"
    }
   ],
   "source": [
    "log_dir = os.path.join(\"logs1\",'fits', datetime.datetime.now().strftime(\"%Y%m%d-%H%M%S\"))\n",
    "tensorboard_callback = tensorflow.keras.callbacks.TensorBoard(log_dir=log_dir,histogram_freq=1,write_graph=True)\n",
    "\n",
    "model_1.fit([X_train_essay_padded,X_train_school_state,X_train_pgc,X_train_cc,X_train_csc,X_train_teacher_prefix,df_num_tr.values],y_train_encoded,epochs=10, \n",
    "            validation_data=([X_test_essay_padded,X_test_school_state,X_test_pgc,X_test_cc,X_test_csc,X_test_teacher_prefix,df_num_te.values],y_test_encoded), \n",
    "            batch_size=128,\n",
    "           callbacks=[checkpoint,tensorboard_callback])"
   ]
  },
  {
   "cell_type": "markdown",
   "metadata": {
    "papermill": {
     "duration": 2.700105,
     "end_time": "2022-03-01T18:51:41.067708",
     "exception": false,
     "start_time": "2022-03-01T18:51:38.367603",
     "status": "completed"
    },
    "tags": []
   },
   "source": [
    "# <font color='red'> Model-2 </font>"
   ]
  },
  {
   "cell_type": "markdown",
   "metadata": {
    "papermill": {
     "duration": 2.626728,
     "end_time": "2022-03-01T18:51:46.370277",
     "exception": false,
     "start_time": "2022-03-01T18:51:43.743549",
     "status": "completed"
    },
    "tags": []
   },
   "source": [
    "Use the same model as above but for 'input_seq_total_text_data' give only some words in the sentance not all the words. Filter the words as below. "
   ]
  },
  {
   "cell_type": "markdown",
   "metadata": {
    "papermill": {
     "duration": 3.032611,
     "end_time": "2022-03-01T18:51:52.301341",
     "exception": false,
     "start_time": "2022-03-01T18:51:49.268730",
     "status": "completed"
    },
    "tags": []
   },
   "source": [
    "<pre>\n",
    "1. Fit TF-IDF vectorizer on the Train data <br>\n",
    "2. Get the idf value for each word we have in the train data. Please go through <a  href='https://stackoverflow.com/questions/23792781/tf-idf-feature-weights-using-sklearn-feature-extraction-text-tfidfvectorizer'>this</a><br>\n",
    "\n",
    "3. Do some analysis on the Idf values and based on those values choose the low and high threshold value. Because very \n",
    "frequent words and very very rare words don't give much information.\n",
    "Hint - A preferable IDF range is 2-11 for model 2. <br>\n",
    "4.Remove the low idf value and high idf value words from the train and test data. You can go through each of the\n",
    "sentence of train and test data and include only those features(words) which are present in the defined IDF range.\n",
    "5. Perform tokenization on the modified text data same as you have done for previous model.\n",
    "6. Create embedding matrix for model 2 and then use the rest of the features similar to previous model.\n",
    "7. Define the model, compile and fit the model.\n",
    "</pre>"
   ]
  },
  {
   "cell_type": "code",
   "execution_count": 75,
   "metadata": {
    "execution": {
     "iopub.execute_input": "2022-03-01T18:51:57.787118Z",
     "iopub.status.busy": "2022-03-01T18:51:57.786351Z",
     "iopub.status.idle": "2022-03-01T18:51:57.792097Z",
     "shell.execute_reply": "2022-03-01T18:51:57.792713Z",
     "shell.execute_reply.started": "2022-03-01T17:49:33.731596Z"
    },
    "papermill": {
     "duration": 2.875814,
     "end_time": "2022-03-01T18:51:57.792904",
     "exception": false,
     "start_time": "2022-03-01T18:51:54.917090",
     "status": "completed"
    },
    "tags": []
   },
   "outputs": [
    {
     "data": {
      "text/plain": [
       "81389    my third fourth fifth grade esol students come...\n",
       "66920    our school awesome community school students t...\n",
       "40287    my students attend large school title 1 we get...\n",
       "95942    my students walk class every day eager know da...\n",
       "17176    my students 4th graders rural suburban area no...\n",
       "Name: essay, dtype: object"
      ]
     },
     "execution_count": 75,
     "metadata": {},
     "output_type": "execute_result"
    }
   ],
   "source": [
    "X_train.essay[:5]"
   ]
  },
  {
   "cell_type": "code",
   "execution_count": 76,
   "metadata": {
    "execution": {
     "iopub.execute_input": "2022-03-01T18:52:03.067809Z",
     "iopub.status.busy": "2022-03-01T18:52:03.067053Z",
     "iopub.status.idle": "2022-03-01T18:52:13.963333Z",
     "shell.execute_reply": "2022-03-01T18:52:13.962833Z",
     "shell.execute_reply.started": "2022-03-01T17:49:33.740634Z"
    },
    "papermill": {
     "duration": 13.525704,
     "end_time": "2022-03-01T18:52:13.963475",
     "exception": false,
     "start_time": "2022-03-01T18:52:00.437771",
     "status": "completed"
    },
    "tags": []
   },
   "outputs": [],
   "source": [
    "from sklearn.feature_extraction.text import TfidfVectorizer\n",
    "tfidf_vec = TfidfVectorizer()\n",
    "vec_essay = tfidf_vec.fit(X_train.essay)"
   ]
  },
  {
   "cell_type": "code",
   "execution_count": 77,
   "metadata": {
    "execution": {
     "iopub.execute_input": "2022-03-01T18:52:19.303688Z",
     "iopub.status.busy": "2022-03-01T18:52:19.303033Z",
     "iopub.status.idle": "2022-03-01T18:52:19.305920Z",
     "shell.execute_reply": "2022-03-01T18:52:19.306437Z",
     "shell.execute_reply.started": "2022-03-01T17:49:45.267153Z"
    },
    "papermill": {
     "duration": 2.618921,
     "end_time": "2022-03-01T18:52:19.306584",
     "exception": false,
     "start_time": "2022-03-01T18:52:16.687663",
     "status": "completed"
    },
    "tags": []
   },
   "outputs": [
    {
     "data": {
      "text/plain": [
       "array([ 7.15710976,  5.93297128, 11.55155891, ..., 11.55155891,\n",
       "       11.1460938 , 11.55155891])"
      ]
     },
     "execution_count": 77,
     "metadata": {},
     "output_type": "execute_result"
    }
   ],
   "source": [
    "essay_idf = tfidf_vec.idf_ \n",
    "essay_idf"
   ]
  },
  {
   "cell_type": "code",
   "execution_count": 78,
   "metadata": {
    "execution": {
     "iopub.execute_input": "2022-03-01T18:52:25.387449Z",
     "iopub.status.busy": "2022-03-01T18:52:25.386805Z",
     "iopub.status.idle": "2022-03-01T18:52:25.389533Z",
     "shell.execute_reply": "2022-03-01T18:52:25.389939Z",
     "shell.execute_reply.started": "2022-03-01T17:49:45.276641Z"
    },
    "papermill": {
     "duration": 3.004463,
     "end_time": "2022-03-01T18:52:25.390073",
     "exception": false,
     "start_time": "2022-03-01T18:52:22.385610",
     "status": "completed"
    },
    "tags": []
   },
   "outputs": [
    {
     "data": {
      "text/plain": [
       "48910"
      ]
     },
     "execution_count": 78,
     "metadata": {},
     "output_type": "execute_result"
    }
   ],
   "source": [
    "len(essay_idf)"
   ]
  },
  {
   "cell_type": "code",
   "execution_count": 79,
   "metadata": {
    "execution": {
     "iopub.execute_input": "2022-03-01T18:52:30.857517Z",
     "iopub.status.busy": "2022-03-01T18:52:30.856713Z",
     "iopub.status.idle": "2022-03-01T18:52:30.916704Z",
     "shell.execute_reply": "2022-03-01T18:52:30.918355Z",
     "shell.execute_reply.started": "2022-03-01T17:49:45.285198Z"
    },
    "papermill": {
     "duration": 2.898936,
     "end_time": "2022-03-01T18:52:30.918536",
     "exception": false,
     "start_time": "2022-03-01T18:52:28.019600",
     "status": "completed"
    },
    "tags": []
   },
   "outputs": [
    {
     "data": {
      "text/plain": [
       "15077"
      ]
     },
     "execution_count": 79,
     "metadata": {},
     "output_type": "execute_result"
    }
   ],
   "source": [
    "idf_values_inrange = [ idf_val for idf_val in essay_idf if(idf_val >= 2 and idf_val <= 10) ]\n",
    "len(idf_values_inrange)"
   ]
  },
  {
   "cell_type": "code",
   "execution_count": 80,
   "metadata": {
    "execution": {
     "iopub.execute_input": "2022-03-01T18:52:36.230781Z",
     "iopub.status.busy": "2022-03-01T18:52:36.229877Z",
     "iopub.status.idle": "2022-03-01T18:52:36.233774Z",
     "shell.execute_reply": "2022-03-01T18:52:36.233278Z",
     "shell.execute_reply.started": "2022-03-01T17:49:45.332171Z"
    },
    "papermill": {
     "duration": 2.670274,
     "end_time": "2022-03-01T18:52:36.233924",
     "exception": false,
     "start_time": "2022-03-01T18:52:33.563650",
     "status": "completed"
    },
    "tags": []
   },
   "outputs": [],
   "source": [
    "#https://stackoverflow.com/questions/34232190/scikit-learn-tfidfvectorizer-how-to-get-top-n-terms-with-highest-tf-idf-score\n",
    "idf_sorting = np.argsort(idf_values_inrange)[::-1]"
   ]
  },
  {
   "cell_type": "code",
   "execution_count": 81,
   "metadata": {
    "execution": {
     "iopub.execute_input": "2022-03-01T18:52:41.495951Z",
     "iopub.status.busy": "2022-03-01T18:52:41.495253Z",
     "iopub.status.idle": "2022-03-01T18:52:41.501543Z",
     "shell.execute_reply": "2022-03-01T18:52:41.502368Z",
     "shell.execute_reply.started": "2022-03-01T17:49:45.339419Z"
    },
    "papermill": {
     "duration": 2.659858,
     "end_time": "2022-03-01T18:52:41.502581",
     "exception": false,
     "start_time": "2022-03-01T18:52:38.842723",
     "status": "completed"
    },
    "tags": []
   },
   "outputs": [
    {
     "data": {
      "text/plain": [
       "array([13002,  7656,  3266, ...,  9242,  8962, 15009])"
      ]
     },
     "execution_count": 81,
     "metadata": {},
     "output_type": "execute_result"
    }
   ],
   "source": [
    "idf_sorting"
   ]
  },
  {
   "cell_type": "code",
   "execution_count": 82,
   "metadata": {
    "execution": {
     "iopub.execute_input": "2022-03-01T18:52:47.071971Z",
     "iopub.status.busy": "2022-03-01T18:52:47.071040Z",
     "iopub.status.idle": "2022-03-01T18:52:47.073370Z",
     "shell.execute_reply": "2022-03-01T18:52:47.072930Z",
     "shell.execute_reply.started": "2022-03-01T17:49:45.349268Z"
    },
    "papermill": {
     "duration": 2.71459,
     "end_time": "2022-03-01T18:52:47.073494",
     "exception": false,
     "start_time": "2022-03-01T18:52:44.358904",
     "status": "completed"
    },
    "tags": []
   },
   "outputs": [],
   "source": [
    "essay_words = vec_essay.get_feature_names()"
   ]
  },
  {
   "cell_type": "code",
   "execution_count": 83,
   "metadata": {
    "execution": {
     "iopub.execute_input": "2022-03-01T18:52:52.602098Z",
     "iopub.status.busy": "2022-03-01T18:52:52.601248Z",
     "iopub.status.idle": "2022-03-01T18:52:52.607555Z",
     "shell.execute_reply": "2022-03-01T18:52:52.608587Z",
     "shell.execute_reply.started": "2022-03-01T17:49:45.391566Z"
    },
    "papermill": {
     "duration": 2.818956,
     "end_time": "2022-03-01T18:52:52.608804",
     "exception": false,
     "start_time": "2022-03-01T18:52:49.789848",
     "status": "completed"
    },
    "tags": []
   },
   "outputs": [],
   "source": [
    "new_words = {essay_words[idx] for  idx in idf_sorting}"
   ]
  },
  {
   "cell_type": "code",
   "execution_count": 84,
   "metadata": {
    "execution": {
     "iopub.execute_input": "2022-03-01T18:52:58.515122Z",
     "iopub.status.busy": "2022-03-01T18:52:58.514225Z",
     "iopub.status.idle": "2022-03-01T18:52:58.516438Z",
     "shell.execute_reply": "2022-03-01T18:52:58.516814Z",
     "shell.execute_reply.started": "2022-03-01T17:49:45.399938Z"
    },
    "papermill": {
     "duration": 2.653297,
     "end_time": "2022-03-01T18:52:58.516959",
     "exception": false,
     "start_time": "2022-03-01T18:52:55.863662",
     "status": "completed"
    },
    "tags": []
   },
   "outputs": [],
   "source": [
    "def skip_words(sentences):\n",
    "    snt_withskipedwords = []\n",
    "    for sentence in tqdm(sentences):\n",
    "        snt = ' '.join(wd for wd in sentence.split() if wd in new_words)\n",
    "        snt_withskipedwords.append(snt)\n",
    "    return snt_withskipedwords"
   ]
  },
  {
   "cell_type": "code",
   "execution_count": 85,
   "metadata": {
    "execution": {
     "iopub.execute_input": "2022-03-01T18:53:04.150866Z",
     "iopub.status.busy": "2022-03-01T18:53:04.150044Z",
     "iopub.status.idle": "2022-03-01T18:53:07.085838Z",
     "shell.execute_reply": "2022-03-01T18:53:07.085305Z",
     "shell.execute_reply.started": "2022-03-01T17:49:45.409168Z"
    },
    "papermill": {
     "duration": 5.890639,
     "end_time": "2022-03-01T18:53:07.085959",
     "exception": false,
     "start_time": "2022-03-01T18:53:01.195320",
     "status": "completed"
    },
    "tags": []
   },
   "outputs": [
    {
     "name": "stderr",
     "output_type": "stream",
     "text": [
      "100%|██████████| 76473/76473 [00:02<00:00, 37018.71it/s]\n",
      "100%|██████████| 32775/32775 [00:00<00:00, 38156.48it/s]\n"
     ]
    }
   ],
   "source": [
    "X_train_tfidf_essay = skip_words(X_train.essay.values)\n",
    "X_test_tfidf_essay = skip_words(X_test.essay.values)\n"
   ]
  },
  {
   "cell_type": "code",
   "execution_count": 86,
   "metadata": {
    "execution": {
     "iopub.execute_input": "2022-03-01T18:53:12.408988Z",
     "iopub.status.busy": "2022-03-01T18:53:12.408313Z",
     "iopub.status.idle": "2022-03-01T18:53:12.411034Z",
     "shell.execute_reply": "2022-03-01T18:53:12.411486Z",
     "shell.execute_reply.started": "2022-03-01T17:49:48.800959Z"
    },
    "papermill": {
     "duration": 2.603997,
     "end_time": "2022-03-01T18:53:12.411622",
     "exception": false,
     "start_time": "2022-03-01T18:53:09.807625",
     "status": "completed"
    },
    "tags": []
   },
   "outputs": [
    {
     "data": {
      "text/plain": [
       "76473"
      ]
     },
     "execution_count": 86,
     "metadata": {},
     "output_type": "execute_result"
    }
   ],
   "source": [
    "len(X_train_tfidf_essay)"
   ]
  },
  {
   "cell_type": "code",
   "execution_count": 87,
   "metadata": {
    "execution": {
     "iopub.execute_input": "2022-03-01T18:53:17.956530Z",
     "iopub.status.busy": "2022-03-01T18:53:17.955623Z",
     "iopub.status.idle": "2022-03-01T18:53:17.961052Z",
     "shell.execute_reply": "2022-03-01T18:53:17.960657Z",
     "shell.execute_reply.started": "2022-03-01T17:49:48.808025Z"
    },
    "papermill": {
     "duration": 2.691071,
     "end_time": "2022-03-01T18:53:17.961191",
     "exception": false,
     "start_time": "2022-03-01T18:53:15.270120",
     "status": "completed"
    },
    "tags": []
   },
   "outputs": [
    {
     "data": {
      "text/plain": [
       "500.0"
      ]
     },
     "execution_count": 87,
     "metadata": {},
     "output_type": "execute_result"
    }
   ],
   "source": [
    "len_array_texts = [ len(x) for x in X_train_tfidf_essay]\n",
    "\n",
    "np.percentile(len_array_texts,97)"
   ]
  },
  {
   "cell_type": "code",
   "execution_count": 88,
   "metadata": {
    "execution": {
     "iopub.execute_input": "2022-03-01T18:53:23.267833Z",
     "iopub.status.busy": "2022-03-01T18:53:23.257731Z",
     "iopub.status.idle": "2022-03-01T18:53:30.096771Z",
     "shell.execute_reply": "2022-03-01T18:53:30.096268Z",
     "shell.execute_reply.started": "2022-03-01T17:49:48.846362Z"
    },
    "papermill": {
     "duration": 9.512185,
     "end_time": "2022-03-01T18:53:30.096920",
     "exception": false,
     "start_time": "2022-03-01T18:53:20.584735",
     "status": "completed"
    },
    "tags": []
   },
   "outputs": [],
   "source": [
    "tk_tfidf = text.Tokenizer()\n",
    "tk_tfidf.fit_on_texts(X_train_tfidf_essay)\n",
    "\n",
    "max_len = 500\n",
    "X_train_essay_seq_t = tk_tfidf.texts_to_sequences(X_train_tfidf_essay)\n",
    "X_train_essay_padded_t = sequence.pad_sequences(X_train_essay_seq_t, maxlen=max_len)\n",
    "\n",
    "X_test_essay_seq_t = tk_tfidf.texts_to_sequences(X_test_tfidf_essay)\n",
    "X_test_essay_padded_t = sequence.pad_sequences(X_test_essay_seq_t, maxlen=max_len)"
   ]
  },
  {
   "cell_type": "code",
   "execution_count": 89,
   "metadata": {
    "execution": {
     "iopub.execute_input": "2022-03-01T18:53:35.399510Z",
     "iopub.status.busy": "2022-03-01T18:53:35.398068Z",
     "iopub.status.idle": "2022-03-01T18:53:35.465677Z",
     "shell.execute_reply": "2022-03-01T18:53:35.465135Z",
     "shell.execute_reply.started": "2022-03-01T17:49:55.090655Z"
    },
    "papermill": {
     "duration": 2.704732,
     "end_time": "2022-03-01T18:53:35.465806",
     "exception": false,
     "start_time": "2022-03-01T18:53:32.761074",
     "status": "completed"
    },
    "tags": []
   },
   "outputs": [
    {
     "name": "stderr",
     "output_type": "stream",
     "text": [
      "100%|██████████| 15077/15077 [00:00<00:00, 295665.47it/s]\n"
     ]
    }
   ],
   "source": [
    "word_index = tk_tfidf.word_index\n",
    "embedding_matrix = np.zeros((len(word_index) + 1, 300))\n",
    "\n",
    "for word, i in tqdm(word_index.items()):\n",
    "  embedding_vector = embeddings_index.get(word)\n",
    "  if embedding_vector is not None:\n",
    "    embedding_matrix[i] = embedding_vector"
   ]
  },
  {
   "cell_type": "code",
   "execution_count": 90,
   "metadata": {
    "execution": {
     "iopub.execute_input": "2022-03-01T18:53:41.069397Z",
     "iopub.status.busy": "2022-03-01T18:53:41.068538Z",
     "iopub.status.idle": "2022-03-01T18:53:41.070592Z",
     "shell.execute_reply": "2022-03-01T18:53:41.070953Z",
     "shell.execute_reply.started": "2022-03-01T18:23:56.322242Z"
    },
    "papermill": {
     "duration": 2.721326,
     "end_time": "2022-03-01T18:53:41.071086",
     "exception": false,
     "start_time": "2022-03-01T18:53:38.349760",
     "status": "completed"
    },
    "tags": []
   },
   "outputs": [],
   "source": [
    "out_dimention = 5"
   ]
  },
  {
   "cell_type": "code",
   "execution_count": 91,
   "metadata": {
    "execution": {
     "iopub.execute_input": "2022-03-01T18:53:46.447521Z",
     "iopub.status.busy": "2022-03-01T18:53:46.441892Z",
     "iopub.status.idle": "2022-03-01T18:53:46.750071Z",
     "shell.execute_reply": "2022-03-01T18:53:46.749498Z",
     "shell.execute_reply.started": "2022-03-01T17:49:55.159966Z"
    },
    "papermill": {
     "duration": 2.978455,
     "end_time": "2022-03-01T18:53:46.750230",
     "exception": false,
     "start_time": "2022-03-01T18:53:43.771775",
     "status": "completed"
    },
    "tags": []
   },
   "outputs": [],
   "source": [
    "#essay\n",
    "input_essay = Input(shape=(max_len,),name = 'Input_Essay_tfidf')\n",
    "embedding_essay = Embedding(len(word_index) + 1,300,weights=[embedding_matrix],input_length=max_len,trainable=False,name = 'embedding_essay_tfidf')(input_essay)\n",
    "LSTM_essay = LSTM(name='LSTM_essay', units=25,return_sequences=True)(embedding_essay)\n",
    "flatten_essay = Flatten(data_format='channels_last',name='Flatten_essay')(LSTM_essay)\n",
    "model_e = Model(inputs=input_essay,outputs=flatten_essay)\n",
    "\n",
    "#School State\n",
    "input_ss = Input(shape=(len(tk_ss.word_index) + 1,),name = 'Input_ss')\n",
    "embedding_ss = Embedding(len(tk_ss.word_index) + 1,out_dimention,input_length=X_train_school_state.shape[1],trainable=True,name = 'embedding_ss')(input_ss)\n",
    "flatten_ss = Flatten(data_format='channels_last',name='Flatten_ss')(embedding_ss)\n",
    "model_ss = Model(inputs=input_ss,outputs=flatten_ss)\n",
    "\n",
    "#project_grade_category\n",
    "input_pgc = Input(shape=(len(tk_pgc.word_index) + 1,),name = 'Input_pgc')\n",
    "embedding_pgc = Embedding(len(tk_pgc.word_index) + 1,out_dimention,input_length=X_train_pgc.shape[1],trainable=True,name = 'embedding_pgc')(input_pgc)\n",
    "flatten_pgc = Flatten(data_format='channels_last',name='Flatten_pgc')(embedding_pgc)\n",
    "model_pgc = Model(inputs=input_pgc,outputs=flatten_pgc)\n",
    "\n",
    "#clean_categories\n",
    "input_cc = Input(shape=(len(tk_cc.word_index) + 1,),name = 'Input_cc')\n",
    "embedding_cc = Embedding(len(tk_cc.word_index) + 1,out_dimention,input_length=X_train_cc.shape[1],trainable=True,name = 'embedding_cc')(input_cc)\n",
    "flatten_cc = Flatten(data_format='channels_last',name='Flatten_cc')(embedding_cc)\n",
    "model_cc = Model(inputs=input_cc,outputs=flatten_cc)\n",
    "\n",
    "#clean_subcategories\n",
    "input_csc = Input(shape=(len(tk_csc.word_index) + 1,),name = 'Input_csc')\n",
    "embedding_csc = Embedding(len(tk_csc.word_index) + 1,out_dimention,input_length=X_train_csc.shape[1],trainable=True,name = 'embedding_csc')(input_csc)\n",
    "flatten_csc = Flatten(data_format='channels_last',name='Flatten_csc')(embedding_csc)\n",
    "model_csc = Model(inputs=input_csc,outputs=flatten_csc)\n",
    "\n",
    "#teacher prefix\n",
    "input_tp = Input(shape=(len(tk_tp.word_index) + 1,),name = 'Input_tp')\n",
    "embedding_tp = Embedding(len(tk_tp.word_index) + 1,out_dimention,input_length=X_train_teacher_prefix.shape[1],trainable=True,name = 'embedding_tp')(input_tp)\n",
    "flatten_tp = Flatten(data_format='channels_last',name='Flatten_tp')(embedding_tp)\n",
    "model_tp = Model(inputs=input_tp,outputs=flatten_tp)\n",
    "\n",
    "#numerical data\n",
    "input_num = Input(shape=(2,),name = 'Input_num')\n",
    "dense_num = Dense(25,activation='relu',kernel_initializer=tensorflow.keras.initializers.he_normal(seed=30),kernel_regularizer=l2(0.001))(input_num)\n",
    "model_num = Model(inputs=input_num,outputs=dense_num)\n",
    "\n",
    "concat_Layer = tensorflow.keras.layers.concatenate([model_e.output,model_ss.output,model_pgc.output,model_cc.output,model_csc.output,model_tp.output,model_num.output])\n",
    "\n",
    "DnsL = Dense(64,activation='relu',kernel_initializer=tensorflow.keras.initializers.he_normal(seed=30),kernel_regularizer=l2(0.001))(concat_Layer)\n",
    "DnsL  =  Dropout(0.2)(DnsL)\n",
    "\n",
    "\n",
    "DnsL = Dense(32,activation='relu',kernel_initializer=tensorflow.keras.initializers.he_normal(seed=30),kernel_regularizer=l2(0.001))(DnsL)\n",
    "\n",
    "DnsL  =  Dropout(0.1)(DnsL)\n",
    "\n",
    "DnsL = Dense(16,activation='relu',kernel_initializer=tensorflow.keras.initializers.he_normal(seed=30),kernel_regularizer=l2(0.001))(DnsL)\n",
    "\n",
    "\n",
    "Output = Dense(units=2,activation='softmax',kernel_initializer=tensorflow.keras.initializers.glorot_normal(seed=3),name='Output')(DnsL)"
   ]
  },
  {
   "cell_type": "code",
   "execution_count": 92,
   "metadata": {
    "execution": {
     "iopub.execute_input": "2022-03-01T18:53:52.446969Z",
     "iopub.status.busy": "2022-03-01T18:53:52.446135Z",
     "iopub.status.idle": "2022-03-01T18:53:52.451743Z",
     "shell.execute_reply": "2022-03-01T18:53:52.451278Z",
     "shell.execute_reply.started": "2022-03-01T17:49:55.503875Z"
    },
    "papermill": {
     "duration": 2.700775,
     "end_time": "2022-03-01T18:53:52.451863",
     "exception": false,
     "start_time": "2022-03-01T18:53:49.751088",
     "status": "completed"
    },
    "tags": []
   },
   "outputs": [],
   "source": [
    "model_2= Model(inputs=[model_e.input,model_ss.input,model_pgc.input,model_cc.input,model_csc.input,model_tp.input,model_num.input],outputs=Output)"
   ]
  },
  {
   "cell_type": "code",
   "execution_count": 93,
   "metadata": {
    "execution": {
     "iopub.execute_input": "2022-03-01T18:53:57.906007Z",
     "iopub.status.busy": "2022-03-01T18:53:57.897840Z",
     "iopub.status.idle": "2022-03-01T18:53:57.913877Z",
     "shell.execute_reply": "2022-03-01T18:53:57.914341Z",
     "shell.execute_reply.started": "2022-03-01T17:49:55.515061Z"
    },
    "papermill": {
     "duration": 2.677381,
     "end_time": "2022-03-01T18:53:57.914494",
     "exception": false,
     "start_time": "2022-03-01T18:53:55.237113",
     "status": "completed"
    },
    "tags": []
   },
   "outputs": [
    {
     "name": "stdout",
     "output_type": "stream",
     "text": [
      "Model: \"model_15\"\n",
      "__________________________________________________________________________________________________\n",
      "Layer (type)                    Output Shape         Param #     Connected to                     \n",
      "==================================================================================================\n",
      "Input_Essay_tfidf (InputLayer)  [(None, 500)]        0                                            \n",
      "__________________________________________________________________________________________________\n",
      "embedding_essay_tfidf (Embeddin (None, 500, 300)     4523400     Input_Essay_tfidf[0][0]          \n",
      "__________________________________________________________________________________________________\n",
      "Input_ss (InputLayer)           [(None, 52)]         0                                            \n",
      "__________________________________________________________________________________________________\n",
      "Input_pgc (InputLayer)          [(None, 5)]          0                                            \n",
      "__________________________________________________________________________________________________\n",
      "Input_cc (InputLayer)           [(None, 10)]         0                                            \n",
      "__________________________________________________________________________________________________\n",
      "Input_csc (InputLayer)          [(None, 31)]         0                                            \n",
      "__________________________________________________________________________________________________\n",
      "Input_tp (InputLayer)           [(None, 6)]          0                                            \n",
      "__________________________________________________________________________________________________\n",
      "LSTM_essay (LSTM)               (None, 500, 25)      32600       embedding_essay_tfidf[0][0]      \n",
      "__________________________________________________________________________________________________\n",
      "embedding_ss (Embedding)        (None, 52, 5)        260         Input_ss[0][0]                   \n",
      "__________________________________________________________________________________________________\n",
      "embedding_pgc (Embedding)       (None, 5, 5)         25          Input_pgc[0][0]                  \n",
      "__________________________________________________________________________________________________\n",
      "embedding_cc (Embedding)        (None, 10, 5)        50          Input_cc[0][0]                   \n",
      "__________________________________________________________________________________________________\n",
      "embedding_csc (Embedding)       (None, 31, 5)        155         Input_csc[0][0]                  \n",
      "__________________________________________________________________________________________________\n",
      "embedding_tp (Embedding)        (None, 6, 5)         30          Input_tp[0][0]                   \n",
      "__________________________________________________________________________________________________\n",
      "Input_num (InputLayer)          [(None, 2)]          0                                            \n",
      "__________________________________________________________________________________________________\n",
      "Flatten_essay (Flatten)         (None, 12500)        0           LSTM_essay[0][0]                 \n",
      "__________________________________________________________________________________________________\n",
      "Flatten_ss (Flatten)            (None, 260)          0           embedding_ss[0][0]               \n",
      "__________________________________________________________________________________________________\n",
      "Flatten_pgc (Flatten)           (None, 25)           0           embedding_pgc[0][0]              \n",
      "__________________________________________________________________________________________________\n",
      "Flatten_cc (Flatten)            (None, 50)           0           embedding_cc[0][0]               \n",
      "__________________________________________________________________________________________________\n",
      "Flatten_csc (Flatten)           (None, 155)          0           embedding_csc[0][0]              \n",
      "__________________________________________________________________________________________________\n",
      "Flatten_tp (Flatten)            (None, 30)           0           embedding_tp[0][0]               \n",
      "__________________________________________________________________________________________________\n",
      "dense_4 (Dense)                 (None, 25)           75          Input_num[0][0]                  \n",
      "__________________________________________________________________________________________________\n",
      "concatenate_1 (Concatenate)     (None, 13045)        0           Flatten_essay[0][0]              \n",
      "                                                                 Flatten_ss[0][0]                 \n",
      "                                                                 Flatten_pgc[0][0]                \n",
      "                                                                 Flatten_cc[0][0]                 \n",
      "                                                                 Flatten_csc[0][0]                \n",
      "                                                                 Flatten_tp[0][0]                 \n",
      "                                                                 dense_4[0][0]                    \n",
      "__________________________________________________________________________________________________\n",
      "dense_5 (Dense)                 (None, 64)           834944      concatenate_1[0][0]              \n",
      "__________________________________________________________________________________________________\n",
      "dropout_2 (Dropout)             (None, 64)           0           dense_5[0][0]                    \n",
      "__________________________________________________________________________________________________\n",
      "dense_6 (Dense)                 (None, 32)           2080        dropout_2[0][0]                  \n",
      "__________________________________________________________________________________________________\n",
      "dropout_3 (Dropout)             (None, 32)           0           dense_6[0][0]                    \n",
      "__________________________________________________________________________________________________\n",
      "dense_7 (Dense)                 (None, 16)           528         dropout_3[0][0]                  \n",
      "__________________________________________________________________________________________________\n",
      "Output (Dense)                  (None, 2)            34          dense_7[0][0]                    \n",
      "==================================================================================================\n",
      "Total params: 5,394,181\n",
      "Trainable params: 870,781\n",
      "Non-trainable params: 4,523,400\n",
      "__________________________________________________________________________________________________\n"
     ]
    }
   ],
   "source": [
    "model_2.summary()"
   ]
  },
  {
   "cell_type": "code",
   "execution_count": 94,
   "metadata": {
    "execution": {
     "iopub.execute_input": "2022-03-01T18:54:04.031313Z",
     "iopub.status.busy": "2022-03-01T18:54:04.030462Z",
     "iopub.status.idle": "2022-03-01T18:54:04.035655Z",
     "shell.execute_reply": "2022-03-01T18:54:04.035216Z",
     "shell.execute_reply.started": "2022-03-01T17:49:55.535333Z"
    },
    "papermill": {
     "duration": 2.697793,
     "end_time": "2022-03-01T18:54:04.035766",
     "exception": false,
     "start_time": "2022-03-01T18:54:01.337973",
     "status": "completed"
    },
    "tags": []
   },
   "outputs": [],
   "source": [
    "#lrschedule = tensorflow.keras.callbacks.LearningRateScheduler(changeLearningRate)\n",
    "\n",
    "optimizer=tensorflow.keras.optimizers.Adam(learning_rate=0.001)\n",
    "model_2.compile(optimizer=optimizer, loss='categorical_crossentropy',metrics=['accuracy',aucroc])\n",
    "\n",
    "#earlystop = EarlyStopping(monitor='val_accuracy', min_delta=0.0005, patience=3, verbose=1)\n",
    "\n",
    "filepath= \"best_model_L2.h5\" #\"model_save/weights-{epoch:02d}-{val_accuracy:.4f}.hdf5\"\n",
    "checkpoint = ModelCheckpoint(filepath=filepath, monitor='val_aucroc',  verbose=1, save_best_only=True, mode='max')"
   ]
  },
  {
   "cell_type": "code",
   "execution_count": 95,
   "metadata": {
    "execution": {
     "iopub.execute_input": "2022-03-01T18:54:09.562169Z",
     "iopub.status.busy": "2022-03-01T18:54:09.561123Z",
     "iopub.status.idle": "2022-03-01T18:58:37.912934Z",
     "shell.execute_reply": "2022-03-01T18:58:37.913492Z",
     "shell.execute_reply.started": "2022-03-01T17:49:55.549576Z"
    },
    "papermill": {
     "duration": 271.188829,
     "end_time": "2022-03-01T18:58:37.913647",
     "exception": false,
     "start_time": "2022-03-01T18:54:06.724818",
     "status": "completed"
    },
    "tags": []
   },
   "outputs": [
    {
     "name": "stderr",
     "output_type": "stream",
     "text": [
      "2022-03-01 18:54:09.560377: I tensorflow/core/profiler/lib/profiler_session.cc:131] Profiler session initializing.\n",
      "2022-03-01 18:54:09.561080: I tensorflow/core/profiler/lib/profiler_session.cc:146] Profiler session started.\n",
      "2022-03-01 18:54:09.959945: I tensorflow/core/profiler/lib/profiler_session.cc:164] Profiler session tear down.\n",
      "2022-03-01 18:54:09.960136: I tensorflow/core/profiler/internal/gpu/cupti_tracer.cc:1748] CUPTI activity buffer flushed\n"
     ]
    },
    {
     "name": "stdout",
     "output_type": "stream",
     "text": [
      "Epoch 1/10\n",
      "  1/598 [..............................] - ETA: 22:17 - loss: 0.9534 - accuracy: 0.7578 - aucroc: 0.5398"
     ]
    },
    {
     "name": "stderr",
     "output_type": "stream",
     "text": [
      "2022-03-01 18:54:12.619442: I tensorflow/core/profiler/lib/profiler_session.cc:131] Profiler session initializing.\n",
      "2022-03-01 18:54:12.619803: I tensorflow/core/profiler/lib/profiler_session.cc:146] Profiler session started.\n"
     ]
    },
    {
     "name": "stdout",
     "output_type": "stream",
     "text": [
      "  2/598 [..............................] - ETA: 3:17 - loss: 0.8944 - accuracy: 0.8320 - aucroc: 0.5156 "
     ]
    },
    {
     "name": "stderr",
     "output_type": "stream",
     "text": [
      "2022-03-01 18:54:12.950098: I tensorflow/core/profiler/lib/profiler_session.cc:66] Profiler session collecting data.\n",
      "2022-03-01 18:54:12.954132: I tensorflow/core/profiler/internal/gpu/cupti_tracer.cc:1748] CUPTI activity buffer flushed\n",
      "2022-03-01 18:54:13.115803: I tensorflow/core/profiler/internal/gpu/cupti_collector.cc:673]  GpuTracer has collected 2957 callback api events and 2950 activity events. \n",
      "2022-03-01 18:54:13.170445: I tensorflow/core/profiler/lib/profiler_session.cc:164] Profiler session tear down.\n",
      "2022-03-01 18:54:13.244179: I tensorflow/core/profiler/rpc/client/save_profile.cc:136] Creating directory: logs2/fits/20220301-185409/train/plugins/profile/2022_03_01_18_54_13\n",
      "\n",
      "2022-03-01 18:54:13.274607: I tensorflow/core/profiler/rpc/client/save_profile.cc:142] Dumped gzipped tool data for trace.json.gz to logs2/fits/20220301-185409/train/plugins/profile/2022_03_01_18_54_13/5e03f8d90de5.trace.json.gz\n",
      "2022-03-01 18:54:13.354268: I tensorflow/core/profiler/rpc/client/save_profile.cc:136] Creating directory: logs2/fits/20220301-185409/train/plugins/profile/2022_03_01_18_54_13\n",
      "\n",
      "2022-03-01 18:54:13.360043: I tensorflow/core/profiler/rpc/client/save_profile.cc:142] Dumped gzipped tool data for memory_profile.json.gz to logs2/fits/20220301-185409/train/plugins/profile/2022_03_01_18_54_13/5e03f8d90de5.memory_profile.json.gz\n",
      "2022-03-01 18:54:13.362206: I tensorflow/core/profiler/rpc/client/capture_profile.cc:251] Creating directory: logs2/fits/20220301-185409/train/plugins/profile/2022_03_01_18_54_13\n",
      "Dumped tool data for xplane.pb to logs2/fits/20220301-185409/train/plugins/profile/2022_03_01_18_54_13/5e03f8d90de5.xplane.pb\n",
      "Dumped tool data for overview_page.pb to logs2/fits/20220301-185409/train/plugins/profile/2022_03_01_18_54_13/5e03f8d90de5.overview_page.pb\n",
      "Dumped tool data for input_pipeline.pb to logs2/fits/20220301-185409/train/plugins/profile/2022_03_01_18_54_13/5e03f8d90de5.input_pipeline.pb\n",
      "Dumped tool data for tensorflow_stats.pb to logs2/fits/20220301-185409/train/plugins/profile/2022_03_01_18_54_13/5e03f8d90de5.tensorflow_stats.pb\n",
      "Dumped tool data for kernel_stats.pb to logs2/fits/20220301-185409/train/plugins/profile/2022_03_01_18_54_13/5e03f8d90de5.kernel_stats.pb\n",
      "\n"
     ]
    },
    {
     "name": "stdout",
     "output_type": "stream",
     "text": [
      "598/598 [==============================] - 26s 39ms/step - loss: 0.4857 - accuracy: 0.8484 - aucroc: 0.6755 - val_loss: 0.4389 - val_accuracy: 0.8486 - val_aucroc: 0.6993\n",
      "\n",
      "Epoch 00001: val_aucroc improved from -inf to 0.69928, saving model to best_model_L2.h5\n",
      "Epoch 2/10\n",
      "598/598 [==============================] - 22s 36ms/step - loss: 0.4208 - accuracy: 0.8486 - aucroc: 0.7076 - val_loss: 0.4125 - val_accuracy: 0.8486 - val_aucroc: 0.7046\n",
      "\n",
      "Epoch 00002: val_aucroc improved from 0.69928 to 0.70462, saving model to best_model_L2.h5\n",
      "Epoch 3/10\n",
      "598/598 [==============================] - 23s 38ms/step - loss: 0.4050 - accuracy: 0.8486 - aucroc: 0.7200 - val_loss: 0.4069 - val_accuracy: 0.8486 - val_aucroc: 0.7042\n",
      "\n",
      "Epoch 00003: val_aucroc did not improve from 0.70462\n",
      "Epoch 4/10\n",
      "598/598 [==============================] - 23s 38ms/step - loss: 0.3970 - accuracy: 0.8486 - aucroc: 0.7282 - val_loss: 0.4067 - val_accuracy: 0.8486 - val_aucroc: 0.6987\n",
      "\n",
      "Epoch 00004: val_aucroc did not improve from 0.70462\n",
      "Epoch 5/10\n",
      "598/598 [==============================] - 23s 39ms/step - loss: 0.3918 - accuracy: 0.8486 - aucroc: 0.7409 - val_loss: 0.4069 - val_accuracy: 0.8486 - val_aucroc: 0.6987\n",
      "\n",
      "Epoch 00005: val_aucroc did not improve from 0.70462\n",
      "Epoch 6/10\n",
      "598/598 [==============================] - 22s 37ms/step - loss: 0.3855 - accuracy: 0.8486 - aucroc: 0.7547 - val_loss: 0.4109 - val_accuracy: 0.8486 - val_aucroc: 0.6923\n",
      "\n",
      "Epoch 00006: val_aucroc did not improve from 0.70462\n",
      "Epoch 7/10\n",
      "598/598 [==============================] - 22s 37ms/step - loss: 0.3796 - accuracy: 0.8486 - aucroc: 0.7713 - val_loss: 0.4155 - val_accuracy: 0.8486 - val_aucroc: 0.6910\n",
      "\n",
      "Epoch 00007: val_aucroc did not improve from 0.70462\n",
      "Epoch 8/10\n",
      "598/598 [==============================] - 24s 40ms/step - loss: 0.3707 - accuracy: 0.8486 - aucroc: 0.7898 - val_loss: 0.4298 - val_accuracy: 0.8486 - val_aucroc: 0.6804\n",
      "\n",
      "Epoch 00008: val_aucroc did not improve from 0.70462\n",
      "Epoch 9/10\n",
      "598/598 [==============================] - 21s 34ms/step - loss: 0.3633 - accuracy: 0.8525 - aucroc: 0.8060 - val_loss: 0.4345 - val_accuracy: 0.8434 - val_aucroc: 0.6784\n",
      "\n",
      "Epoch 00009: val_aucroc did not improve from 0.70462\n",
      "Epoch 10/10\n",
      "598/598 [==============================] - 22s 37ms/step - loss: 0.3539 - accuracy: 0.8563 - aucroc: 0.8208 - val_loss: 0.4396 - val_accuracy: 0.8322 - val_aucroc: 0.6666\n",
      "\n",
      "Epoch 00010: val_aucroc did not improve from 0.70462\n"
     ]
    },
    {
     "data": {
      "text/plain": [
       "<keras.callbacks.History at 0x7f02dc4993d0>"
      ]
     },
     "execution_count": 95,
     "metadata": {},
     "output_type": "execute_result"
    }
   ],
   "source": [
    "log_dir = os.path.join(\"logs2\",'fits', datetime.datetime.now().strftime(\"%Y%m%d-%H%M%S\"))\n",
    "tensorboard_callback = tensorflow.keras.callbacks.TensorBoard(log_dir=log_dir,histogram_freq=1,write_graph=True)\n",
    "\n",
    "model_2.fit([X_train_essay_padded_t,X_train_school_state,X_train_pgc,X_train_cc,X_train_csc,X_train_teacher_prefix,df_num_tr.values],y_train_encoded,epochs=10, \n",
    "            validation_data=([X_test_essay_padded_t,X_test_school_state,X_test_pgc,X_test_cc,X_test_csc,X_test_teacher_prefix,df_num_te.values],y_test_encoded), \n",
    "            batch_size=128,\n",
    "           callbacks=[checkpoint,tensorboard_callback])"
   ]
  },
  {
   "cell_type": "code",
   "execution_count": 96,
   "metadata": {
    "execution": {
     "iopub.execute_input": "2022-03-01T18:58:45.479926Z",
     "iopub.status.busy": "2022-03-01T18:58:45.479022Z",
     "iopub.status.idle": "2022-03-01T18:58:45.969532Z",
     "shell.execute_reply": "2022-03-01T18:58:45.969027Z",
     "shell.execute_reply.started": "2022-03-01T17:50:23.234766Z"
    },
    "papermill": {
     "duration": 4.494395,
     "end_time": "2022-03-01T18:58:45.969656",
     "exception": false,
     "start_time": "2022-03-01T18:58:41.475261",
     "status": "completed"
    },
    "tags": []
   },
   "outputs": [
    {
     "data": {
      "image/png": "[encoded data removed]",
      "text/plain": [
       "<IPython.core.display.Image object>"
      ]
     },
     "execution_count": 96,
     "metadata": {},
     "output_type": "execute_result"
    }
   ],
   "source": [
    "from tensorflow.keras.utils import plot_model\n",
    "plot_model(model_2, 'model_2.png', show_shapes=True)"
   ]
  },
  {
   "cell_type": "markdown",
   "metadata": {
    "papermill": {
     "duration": 3.687684,
     "end_time": "2022-03-01T18:58:53.708544",
     "exception": false,
     "start_time": "2022-03-01T18:58:50.020860",
     "status": "completed"
    },
    "tags": []
   },
   "source": [
    "# <font color='red'> Model-3 </font>"
   ]
  },
  {
   "cell_type": "markdown",
   "metadata": {
    "papermill": {
     "duration": 3.698634,
     "end_time": "2022-03-01T18:59:01.329634",
     "exception": false,
     "start_time": "2022-03-01T18:58:57.631000",
     "status": "completed"
    },
    "tags": []
   },
   "source": [
    "<img src='https://i.imgur.com/fkQ8nGo.png'>\n",
    "ref: https://i.imgur.com/fkQ8nGo.png"
   ]
  },
  {
   "cell_type": "code",
   "execution_count": 97,
   "metadata": {
    "execution": {
     "iopub.execute_input": "2022-03-01T18:59:09.025747Z",
     "iopub.status.busy": "2022-03-01T18:59:09.024836Z",
     "iopub.status.idle": "2022-03-01T18:59:09.026700Z",
     "shell.execute_reply": "2022-03-01T18:59:09.027086Z",
     "shell.execute_reply.started": "2022-03-01T17:50:23.720461Z"
    },
    "papermill": {
     "duration": 4.044341,
     "end_time": "2022-03-01T18:59:09.027239",
     "exception": false,
     "start_time": "2022-03-01T18:59:04.982898",
     "status": "completed"
    },
    "tags": []
   },
   "outputs": [],
   "source": [
    "#in this model you can use the text vectorized data from model1 \n",
    "#for other than text data consider the following steps\n",
    "# you have to perform one hot encoding of categorical features. You can use onehotencoder() or countvectorizer() for the same.\n",
    "# Stack up standardised numerical features and all the one hot encoded categorical features\n",
    "#the input to conv1d layer is 3d, you can convert your 2d data to 3d using np.newaxis\n",
    "# Note - deep learning models won't work with sparse features, you have to convert them to dense features before fitting in the model."
   ]
  },
  {
   "cell_type": "code",
   "execution_count": 98,
   "metadata": {
    "execution": {
     "iopub.execute_input": "2022-03-01T18:59:16.399736Z",
     "iopub.status.busy": "2022-03-01T18:59:16.399012Z",
     "iopub.status.idle": "2022-03-01T18:59:16.401964Z",
     "shell.execute_reply": "2022-03-01T18:59:16.402404Z",
     "shell.execute_reply.started": "2022-03-01T17:50:23.726567Z"
    },
    "papermill": {
     "duration": 3.695763,
     "end_time": "2022-03-01T18:59:16.402547",
     "exception": false,
     "start_time": "2022-03-01T18:59:12.706784",
     "status": "completed"
    },
    "tags": []
   },
   "outputs": [
    {
     "data": {
      "text/plain": [
       "((76473, 52), (76473, 5), (76473, 10), (76473, 31), (76473, 6), (76473, 2))"
      ]
     },
     "execution_count": 98,
     "metadata": {},
     "output_type": "execute_result"
    }
   ],
   "source": [
    "#other than text data\n",
    "#lets compile it in one\n",
    "X_train_school_state.shape,X_train_pgc.shape,X_train_cc.shape,X_train_csc.shape,X_train_teacher_prefix.shape,df_num_tr.values.shape"
   ]
  },
  {
   "cell_type": "code",
   "execution_count": 99,
   "metadata": {
    "execution": {
     "iopub.execute_input": "2022-03-01T18:59:24.394659Z",
     "iopub.status.busy": "2022-03-01T18:59:24.393976Z",
     "iopub.status.idle": "2022-03-01T18:59:24.397827Z",
     "shell.execute_reply": "2022-03-01T18:59:24.398604Z",
     "shell.execute_reply.started": "2022-03-01T17:50:23.738457Z"
    },
    "papermill": {
     "duration": 4.141924,
     "end_time": "2022-03-01T18:59:24.398768",
     "exception": false,
     "start_time": "2022-03-01T18:59:20.256844",
     "status": "completed"
    },
    "tags": []
   },
   "outputs": [],
   "source": [
    "a = list(X_test_school_state)"
   ]
  },
  {
   "cell_type": "code",
   "execution_count": 100,
   "metadata": {
    "execution": {
     "iopub.execute_input": "2022-03-01T18:59:31.980681Z",
     "iopub.status.busy": "2022-03-01T18:59:31.980046Z",
     "iopub.status.idle": "2022-03-01T18:59:31.982796Z",
     "shell.execute_reply": "2022-03-01T18:59:31.983197Z",
     "shell.execute_reply.started": "2022-03-01T17:50:23.764400Z"
    },
    "papermill": {
     "duration": 3.911773,
     "end_time": "2022-03-01T18:59:31.983339",
     "exception": false,
     "start_time": "2022-03-01T18:59:28.071566",
     "status": "completed"
    },
    "tags": []
   },
   "outputs": [
    {
     "data": {
      "text/plain": [
       "array([0., 1., 0., 0., 0., 0., 0., 0., 0., 0., 0., 0., 0., 0., 0., 0., 0.,\n",
       "       0., 0., 0., 0., 0., 0., 0., 0., 0., 0., 0., 0., 0., 0., 0., 0., 0.,\n",
       "       0., 0., 0., 0., 0., 0., 0., 0., 0., 0., 0., 0., 0., 0., 0., 0., 0.,\n",
       "       0.])"
      ]
     },
     "execution_count": 100,
     "metadata": {},
     "output_type": "execute_result"
    }
   ],
   "source": [
    "a[0]"
   ]
  },
  {
   "cell_type": "code",
   "execution_count": 101,
   "metadata": {
    "execution": {
     "iopub.execute_input": "2022-03-01T18:59:39.228360Z",
     "iopub.status.busy": "2022-03-01T18:59:39.227066Z",
     "iopub.status.idle": "2022-03-01T18:59:39.307288Z",
     "shell.execute_reply": "2022-03-01T18:59:39.306839Z",
     "shell.execute_reply.started": "2022-03-01T17:50:25.509418Z"
    },
    "papermill": {
     "duration": 3.706313,
     "end_time": "2022-03-01T18:59:39.307429",
     "exception": false,
     "start_time": "2022-03-01T18:59:35.601116",
     "status": "completed"
    },
    "tags": []
   },
   "outputs": [
    {
     "name": "stdout",
     "output_type": "stream",
     "text": [
      "Final Data matrix\n",
      "(76473, 106)\n",
      "(32775, 106)\n"
     ]
    }
   ],
   "source": [
    "#Reference Notebook\n",
    "#https://thatascience.com/learn-numpy/concatenate-numpy-arrays/\n",
    "\n",
    "from scipy.sparse import hstack\n",
    "X_train_other = np.hstack([np.array(X_train_school_state),np.array(X_train_pgc),np.array(X_train_cc),\n",
    "                        np.array(X_train_csc),np.array(X_train_teacher_prefix),np.array(df_num_tr.values)])\n",
    "X_test_other = np.hstack([X_test_school_state,X_test_pgc,X_test_cc,X_test_csc,X_test_teacher_prefix,df_num_te.values])\n",
    "print(\"Final Data matrix\")\n",
    "print(X_train_other.shape)\n",
    "print(X_test_other.shape)"
   ]
  },
  {
   "cell_type": "code",
   "execution_count": 102,
   "metadata": {
    "execution": {
     "iopub.execute_input": "2022-03-01T18:59:46.961590Z",
     "iopub.status.busy": "2022-03-01T18:59:46.960693Z",
     "iopub.status.idle": "2022-03-01T18:59:46.963038Z",
     "shell.execute_reply": "2022-03-01T18:59:46.962646Z",
     "shell.execute_reply.started": "2022-03-01T18:01:54.675391Z"
    },
    "papermill": {
     "duration": 3.698098,
     "end_time": "2022-03-01T18:59:46.963169",
     "exception": false,
     "start_time": "2022-03-01T18:59:43.265071",
     "status": "completed"
    },
    "tags": []
   },
   "outputs": [],
   "source": [
    "from numpy import zeros, newaxis"
   ]
  },
  {
   "cell_type": "code",
   "execution_count": 103,
   "metadata": {
    "execution": {
     "iopub.execute_input": "2022-03-01T18:59:54.928306Z",
     "iopub.status.busy": "2022-03-01T18:59:54.927651Z",
     "iopub.status.idle": "2022-03-01T18:59:54.930390Z",
     "shell.execute_reply": "2022-03-01T18:59:54.930801Z",
     "shell.execute_reply.started": "2022-03-01T18:16:11.170437Z"
    },
    "papermill": {
     "duration": 4.075043,
     "end_time": "2022-03-01T18:59:54.930940",
     "exception": false,
     "start_time": "2022-03-01T18:59:50.855897",
     "status": "completed"
    },
    "tags": []
   },
   "outputs": [
    {
     "data": {
      "text/plain": [
       "(76473, 106)"
      ]
     },
     "execution_count": 103,
     "metadata": {},
     "output_type": "execute_result"
    }
   ],
   "source": [
    "X_train_other.shape"
   ]
  },
  {
   "cell_type": "code",
   "execution_count": 104,
   "metadata": {
    "execution": {
     "iopub.execute_input": "2022-03-01T19:00:02.353597Z",
     "iopub.status.busy": "2022-03-01T19:00:02.352829Z",
     "iopub.status.idle": "2022-03-01T19:00:02.354912Z",
     "shell.execute_reply": "2022-03-01T19:00:02.355317Z",
     "shell.execute_reply.started": "2022-03-01T17:50:25.613696Z"
    },
    "papermill": {
     "duration": 3.818472,
     "end_time": "2022-03-01T19:00:02.355463",
     "exception": false,
     "start_time": "2022-03-01T18:59:58.536991",
     "status": "completed"
    },
    "tags": []
   },
   "outputs": [],
   "source": [
    "max_len =2000"
   ]
  },
  {
   "cell_type": "code",
   "execution_count": 105,
   "metadata": {
    "execution": {
     "iopub.execute_input": "2022-03-01T19:00:09.633726Z",
     "iopub.status.busy": "2022-03-01T19:00:09.632777Z",
     "iopub.status.idle": "2022-03-01T19:00:09.634542Z",
     "shell.execute_reply": "2022-03-01T19:00:09.635058Z",
     "shell.execute_reply.started": "2022-03-01T18:05:34.566106Z"
    },
    "papermill": {
     "duration": 3.631725,
     "end_time": "2022-03-01T19:00:09.635220",
     "exception": false,
     "start_time": "2022-03-01T19:00:06.003495",
     "status": "completed"
    },
    "tags": []
   },
   "outputs": [],
   "source": [
    "#X_train_other_r = X_train_other[: ,:, newaxis ]\n",
    "#X_test_other_r = X_test_other[:,:, newaxis ]\n",
    "#X_train_other_r.shape,X_test_other_r.shape"
   ]
  },
  {
   "cell_type": "code",
   "execution_count": 106,
   "metadata": {
    "execution": {
     "iopub.execute_input": "2022-03-01T19:00:17.112598Z",
     "iopub.status.busy": "2022-03-01T19:00:17.111545Z",
     "iopub.status.idle": "2022-03-01T19:00:17.422054Z",
     "shell.execute_reply": "2022-03-01T19:00:17.421197Z",
     "shell.execute_reply.started": "2022-03-01T18:16:50.382727Z"
    },
    "papermill": {
     "duration": 3.901539,
     "end_time": "2022-03-01T19:00:17.422205",
     "exception": false,
     "start_time": "2022-03-01T19:00:13.520666",
     "status": "completed"
    },
    "tags": []
   },
   "outputs": [],
   "source": [
    "#https://stackoverflow.com/questions/66718335/input-0-of-layer-conv1d-is-incompatible-with-the-layer-expected-min-ndim-3-f\n",
    "#essay\n",
    "input_essay = Input(shape=(max_len,),name = 'Input_Essay')\n",
    "embedding_essay = Embedding(len(word_index) + 1,300,weights=[embedding_matrix],input_length=max_len,trainable=False,name = 'embedding_essay')(input_essay)\n",
    "LSTM_essay = LSTM(name='LSTM_essay', units=25,return_sequences=True)(embedding_essay)\n",
    "flatten_essay = Flatten(data_format='channels_last',name='Flatten_essay')(LSTM_essay)\n",
    "model_e = Model(inputs=input_essay,outputs=flatten_essay)\n",
    "\n",
    "#Other Remaining\n",
    "input_other = Input(shape=(X_train_other.shape[1],1),name = 'Input_Other')\n",
    "Conv1D_L1_p = Conv1D(filters=128,kernel_size=3,strides=1,padding='valid',data_format='channels_last',\n",
    "              activation='relu',kernel_initializer=tf.keras.initializers.he_normal(seed=30),kernel_regularizer=l2(0.00001),\n",
    "                                            name='Conv1D_L1_p')(input_other)\n",
    "\n",
    "Conv1D_L2_p = Conv1D(filters=64,kernel_size=3,strides=1,padding='valid',data_format='channels_last',\n",
    "              activation='relu',kernel_initializer=tf.keras.initializers.he_normal(seed=30),kernel_regularizer=l2(0.00001),\n",
    "                                            name='Conv1D_L2_p')(Conv1D_L1_p)\n",
    "\n",
    "flatten_other = Flatten(data_format='channels_last',name='Flatten_Other')(Conv1D_L2_p)\n",
    "model_other = Model(inputs=input_other,outputs=flatten_other)\n",
    "\n",
    "concat_Layer = tensorflow.keras.layers.concatenate([model_e.output,model_other.output])\n",
    "\n",
    "DnsL = Dense(100,activation='relu',kernel_initializer=tensorflow.keras.initializers.he_normal(seed=30),kernel_regularizer=l2(0.001))(concat_Layer)\n",
    "DnsL  =  Dropout(0.3)(DnsL)\n",
    "\n",
    "\n",
    "DnsL = Dense(50,activation='relu',kernel_initializer=tensorflow.keras.initializers.he_normal(seed=30),kernel_regularizer=l2(0.001))(DnsL)\n",
    "\n",
    "DnsL  =  Dropout(0.3)(DnsL)\n",
    "\n",
    "DnsL = Dense(25,activation='relu',kernel_initializer=tensorflow.keras.initializers.he_normal(seed=30),kernel_regularizer=l2(0.001))(DnsL)\n",
    "\n",
    "\n",
    "Output = Dense(units=2,activation='softmax',kernel_initializer=tensorflow.keras.initializers.glorot_normal(seed=3),name='Output')(DnsL)"
   ]
  },
  {
   "cell_type": "code",
   "execution_count": 107,
   "metadata": {
    "execution": {
     "iopub.execute_input": "2022-03-01T19:00:24.919409Z",
     "iopub.status.busy": "2022-03-01T19:00:24.918587Z",
     "iopub.status.idle": "2022-03-01T19:00:24.922088Z",
     "shell.execute_reply": "2022-03-01T19:00:24.923289Z",
     "shell.execute_reply.started": "2022-03-01T18:16:54.261001Z"
    },
    "papermill": {
     "duration": 3.904867,
     "end_time": "2022-03-01T19:00:24.923488",
     "exception": false,
     "start_time": "2022-03-01T19:00:21.018621",
     "status": "completed"
    },
    "tags": []
   },
   "outputs": [],
   "source": [
    "model_3= Model(inputs=[model_e.input,model_other.input],outputs=Output)"
   ]
  },
  {
   "cell_type": "code",
   "execution_count": 108,
   "metadata": {
    "execution": {
     "iopub.execute_input": "2022-03-01T19:00:32.658993Z",
     "iopub.status.busy": "2022-03-01T19:00:32.655612Z",
     "iopub.status.idle": "2022-03-01T19:00:32.663940Z",
     "shell.execute_reply": "2022-03-01T19:00:32.663526Z",
     "shell.execute_reply.started": "2022-03-01T18:16:56.770928Z"
    },
    "papermill": {
     "duration": 3.667041,
     "end_time": "2022-03-01T19:00:32.664059",
     "exception": false,
     "start_time": "2022-03-01T19:00:28.997018",
     "status": "completed"
    },
    "tags": []
   },
   "outputs": [
    {
     "name": "stdout",
     "output_type": "stream",
     "text": [
      "Model: \"model_18\"\n",
      "__________________________________________________________________________________________________\n",
      "Layer (type)                    Output Shape         Param #     Connected to                     \n",
      "==================================================================================================\n",
      "Input_Essay (InputLayer)        [(None, 2000)]       0                                            \n",
      "__________________________________________________________________________________________________\n",
      "Input_Other (InputLayer)        [(None, 106, 1)]     0                                            \n",
      "__________________________________________________________________________________________________\n",
      "embedding_essay (Embedding)     (None, 2000, 300)    4523400     Input_Essay[0][0]                \n",
      "__________________________________________________________________________________________________\n",
      "Conv1D_L1_p (Conv1D)            (None, 104, 128)     512         Input_Other[0][0]                \n",
      "__________________________________________________________________________________________________\n",
      "LSTM_essay (LSTM)               (None, 2000, 25)     32600       embedding_essay[0][0]            \n",
      "__________________________________________________________________________________________________\n",
      "Conv1D_L2_p (Conv1D)            (None, 102, 64)      24640       Conv1D_L1_p[0][0]                \n",
      "__________________________________________________________________________________________________\n",
      "Flatten_essay (Flatten)         (None, 50000)        0           LSTM_essay[0][0]                 \n",
      "__________________________________________________________________________________________________\n",
      "Flatten_Other (Flatten)         (None, 6528)         0           Conv1D_L2_p[0][0]                \n",
      "__________________________________________________________________________________________________\n",
      "concatenate_2 (Concatenate)     (None, 56528)        0           Flatten_essay[0][0]              \n",
      "                                                                 Flatten_Other[0][0]              \n",
      "__________________________________________________________________________________________________\n",
      "dense_8 (Dense)                 (None, 100)          5652900     concatenate_2[0][0]              \n",
      "__________________________________________________________________________________________________\n",
      "dropout_4 (Dropout)             (None, 100)          0           dense_8[0][0]                    \n",
      "__________________________________________________________________________________________________\n",
      "dense_9 (Dense)                 (None, 50)           5050        dropout_4[0][0]                  \n",
      "__________________________________________________________________________________________________\n",
      "dropout_5 (Dropout)             (None, 50)           0           dense_9[0][0]                    \n",
      "__________________________________________________________________________________________________\n",
      "dense_10 (Dense)                (None, 25)           1275        dropout_5[0][0]                  \n",
      "__________________________________________________________________________________________________\n",
      "Output (Dense)                  (None, 2)            52          dense_10[0][0]                   \n",
      "==================================================================================================\n",
      "Total params: 10,240,429\n",
      "Trainable params: 5,717,029\n",
      "Non-trainable params: 4,523,400\n",
      "__________________________________________________________________________________________________\n"
     ]
    }
   ],
   "source": [
    "model_3.summary()"
   ]
  },
  {
   "cell_type": "code",
   "execution_count": 109,
   "metadata": {
    "execution": {
     "iopub.execute_input": "2022-03-01T19:00:40.240020Z",
     "iopub.status.busy": "2022-03-01T19:00:40.239126Z",
     "iopub.status.idle": "2022-03-01T19:14:04.652442Z",
     "shell.execute_reply": "2022-03-01T19:14:04.651985Z",
     "shell.execute_reply.started": "2022-03-01T18:17:05.260934Z"
    },
    "papermill": {
     "duration": 807.967855,
     "end_time": "2022-03-01T19:14:04.652575",
     "exception": false,
     "start_time": "2022-03-01T19:00:36.684720",
     "status": "completed"
    },
    "tags": []
   },
   "outputs": [
    {
     "name": "stderr",
     "output_type": "stream",
     "text": [
      "2022-03-01 19:00:40.241293: I tensorflow/core/profiler/lib/profiler_session.cc:131] Profiler session initializing.\n",
      "2022-03-01 19:00:40.241343: I tensorflow/core/profiler/lib/profiler_session.cc:146] Profiler session started.\n",
      "2022-03-01 19:00:40.498002: I tensorflow/core/profiler/lib/profiler_session.cc:164] Profiler session tear down.\n",
      "2022-03-01 19:00:40.498238: I tensorflow/core/profiler/internal/gpu/cupti_tracer.cc:1748] CUPTI activity buffer flushed\n"
     ]
    },
    {
     "name": "stdout",
     "output_type": "stream",
     "text": [
      "Epoch 1/10\n",
      "  1/598 [..............................] - ETA: 1:03:16 - loss: 1.0414 - accuracy: 0.5703 - aucroc: 0.4744"
     ]
    },
    {
     "name": "stderr",
     "output_type": "stream",
     "text": [
      "2022-03-01 19:00:47.599213: I tensorflow/core/profiler/lib/profiler_session.cc:131] Profiler session initializing.\n",
      "2022-03-01 19:00:47.599257: I tensorflow/core/profiler/lib/profiler_session.cc:146] Profiler session started.\n"
     ]
    },
    {
     "name": "stdout",
     "output_type": "stream",
     "text": [
      "  2/598 [..............................] - ETA: 4:23 - loss: 3.8585 - accuracy: 0.7109 - aucroc: 0.4856   "
     ]
    },
    {
     "name": "stderr",
     "output_type": "stream",
     "text": [
      "2022-03-01 19:00:48.055398: I tensorflow/core/profiler/lib/profiler_session.cc:66] Profiler session collecting data.\n",
      "2022-03-01 19:00:48.063977: I tensorflow/core/profiler/internal/gpu/cupti_tracer.cc:1748] CUPTI activity buffer flushed\n",
      "2022-03-01 19:00:48.198835: I tensorflow/core/profiler/internal/gpu/cupti_collector.cc:673]  GpuTracer has collected 10284 callback api events and 10277 activity events. \n",
      "2022-03-01 19:00:48.313596: I tensorflow/core/profiler/lib/profiler_session.cc:164] Profiler session tear down.\n",
      "2022-03-01 19:00:48.532030: I tensorflow/core/profiler/rpc/client/save_profile.cc:136] Creating directory: logs3/fits/20220301-190040/train/plugins/profile/2022_03_01_19_00_48\n",
      "\n",
      "2022-03-01 19:00:48.641698: I tensorflow/core/profiler/rpc/client/save_profile.cc:142] Dumped gzipped tool data for trace.json.gz to logs3/fits/20220301-190040/train/plugins/profile/2022_03_01_19_00_48/5e03f8d90de5.trace.json.gz\n"
     ]
    },
    {
     "name": "stdout",
     "output_type": "stream",
     "text": [
      "  4/598 [..............................] - ETA: 4:39 - loss: 2.6740 - accuracy: 0.7207 - aucroc: 0.4880"
     ]
    },
    {
     "name": "stderr",
     "output_type": "stream",
     "text": [
      "2022-03-01 19:00:48.751918: I tensorflow/core/profiler/rpc/client/save_profile.cc:136] Creating directory: logs3/fits/20220301-190040/train/plugins/profile/2022_03_01_19_00_48\n",
      "\n",
      "2022-03-01 19:00:48.755089: I tensorflow/core/profiler/rpc/client/save_profile.cc:142] Dumped gzipped tool data for memory_profile.json.gz to logs3/fits/20220301-190040/train/plugins/profile/2022_03_01_19_00_48/5e03f8d90de5.memory_profile.json.gz\n",
      "2022-03-01 19:00:48.757314: I tensorflow/core/profiler/rpc/client/capture_profile.cc:251] Creating directory: logs3/fits/20220301-190040/train/plugins/profile/2022_03_01_19_00_48\n",
      "Dumped tool data for xplane.pb to logs3/fits/20220301-190040/train/plugins/profile/2022_03_01_19_00_48/5e03f8d90de5.xplane.pb\n",
      "Dumped tool data for overview_page.pb to logs3/fits/20220301-190040/train/plugins/profile/2022_03_01_19_00_48/5e03f8d90de5.overview_page.pb\n",
      "Dumped tool data for input_pipeline.pb to logs3/fits/20220301-190040/train/plugins/profile/2022_03_01_19_00_48/5e03f8d90de5.input_pipeline.pb\n",
      "Dumped tool data for tensorflow_stats.pb to logs3/fits/20220301-190040/train/plugins/profile/2022_03_01_19_00_48/5e03f8d90de5.tensorflow_stats.pb\n",
      "Dumped tool data for kernel_stats.pb to logs3/fits/20220301-190040/train/plugins/profile/2022_03_01_19_00_48/5e03f8d90de5.kernel_stats.pb\n",
      "\n"
     ]
    },
    {
     "name": "stdout",
     "output_type": "stream",
     "text": [
      "598/598 [==============================] - 84s 130ms/step - loss: 0.6109 - accuracy: 0.8464 - aucroc: 0.6439 - val_loss: 0.4339 - val_accuracy: 0.8486 - val_aucroc: 0.7054\n",
      "\n",
      "Epoch 00001: val_accuracy improved from -inf to 0.84857, saving model to best_model_L3.h5\n",
      "Epoch 2/10\n",
      "598/598 [==============================] - 77s 129ms/step - loss: 0.4293 - accuracy: 0.8486 - aucroc: 0.7110 - val_loss: 0.4381 - val_accuracy: 0.8486 - val_aucroc: 0.7126\n",
      "\n",
      "Epoch 00002: val_accuracy did not improve from 0.84857\n",
      "Epoch 3/10\n",
      "598/598 [==============================] - 76s 128ms/step - loss: 0.4317 - accuracy: 0.8486 - aucroc: 0.7299 - val_loss: 0.4370 - val_accuracy: 0.8486 - val_aucroc: 0.7153\n",
      "\n",
      "Epoch 00003: val_accuracy did not improve from 0.84857\n",
      "Epoch 4/10\n",
      "598/598 [==============================] - 77s 128ms/step - loss: 0.4388 - accuracy: 0.8486 - aucroc: 0.7387 - val_loss: 0.4827 - val_accuracy: 0.8486 - val_aucroc: 0.7086\n",
      "\n",
      "Epoch 00004: val_accuracy did not improve from 0.84857\n",
      "Epoch 5/10\n",
      "598/598 [==============================] - 77s 129ms/step - loss: 0.4517 - accuracy: 0.8486 - aucroc: 0.7458 - val_loss: 0.4649 - val_accuracy: 0.8486 - val_aucroc: 0.7203\n",
      "\n",
      "Epoch 00005: val_accuracy did not improve from 0.84857\n",
      "Epoch 6/10\n",
      "598/598 [==============================] - 77s 128ms/step - loss: 0.4493 - accuracy: 0.8482 - aucroc: 0.7512 - val_loss: 0.5031 - val_accuracy: 0.8486 - val_aucroc: 0.7156\n",
      "\n",
      "Epoch 00006: val_accuracy did not improve from 0.84857\n",
      "Epoch 7/10\n",
      "598/598 [==============================] - 67s 113ms/step - loss: 0.4485 - accuracy: 0.8486 - aucroc: 0.7538 - val_loss: 0.4552 - val_accuracy: 0.8486 - val_aucroc: 0.7148\n",
      "\n",
      "Epoch 00007: val_accuracy did not improve from 0.84857\n",
      "Epoch 8/10\n",
      "598/598 [==============================] - 67s 113ms/step - loss: 0.4484 - accuracy: 0.8486 - aucroc: 0.7501 - val_loss: 0.4657 - val_accuracy: 0.8486 - val_aucroc: 0.7163\n",
      "\n",
      "Epoch 00008: val_accuracy did not improve from 0.84857\n",
      "Epoch 9/10\n",
      "598/598 [==============================] - 77s 129ms/step - loss: 0.4533 - accuracy: 0.8484 - aucroc: 0.7479 - val_loss: 0.4729 - val_accuracy: 0.8486 - val_aucroc: 0.7179\n",
      "\n",
      "Epoch 00009: val_accuracy did not improve from 0.84857\n",
      "Epoch 10/10\n",
      "598/598 [==============================] - 76s 128ms/step - loss: 0.4434 - accuracy: 0.8483 - aucroc: 0.7609 - val_loss: 0.4568 - val_accuracy: 0.8486 - val_aucroc: 0.7187\n",
      "\n",
      "Epoch 00010: val_accuracy did not improve from 0.84857\n"
     ]
    },
    {
     "data": {
      "text/plain": [
       "<keras.callbacks.History at 0x7f02e2013a50>"
      ]
     },
     "execution_count": 109,
     "metadata": {},
     "output_type": "execute_result"
    }
   ],
   "source": [
    "#lrschedule = tensorflow.keras.callbacks.LearningRateScheduler(changeLearningRate)\n",
    "\n",
    "optimizer=tensorflow.keras.optimizers.Adam(learning_rate=0.01)\n",
    "model_3.compile(optimizer=optimizer, loss='categorical_crossentropy',metrics=['accuracy',aucroc])\n",
    "\n",
    "#earlystop = EarlyStopping(monitor='val_accuracy', min_delta=0.0005, patience=3, verbose=1)\n",
    "\n",
    "filepath= \"best_model_L3.h5\" #\"model_save/weights-{epoch:02d}-{val_accuracy:.4f}.hdf5\"\n",
    "checkpoint = ModelCheckpoint(filepath=filepath, monitor='val_accuracy',  verbose=1, save_best_only=True, mode='auto')\n",
    "\n",
    "log_dir = os.path.join(\"logs3\",'fits', datetime.datetime.now().strftime(\"%Y%m%d-%H%M%S\"))\n",
    "tensorboard_callback = tensorflow.keras.callbacks.TensorBoard(log_dir=log_dir,histogram_freq=1,write_graph=True)\n",
    "\n",
    "model_3.fit([X_train_essay_padded,X_train_other],y_train_encoded,epochs=10, \n",
    "            validation_data=([X_test_essay_padded,X_test_other],y_test_encoded), \n",
    "            batch_size=128,callbacks=[checkpoint,tensorboard_callback])"
   ]
  },
  {
   "cell_type": "code",
   "execution_count": 11,
   "metadata": {},
   "outputs": [
    {
     "data": {
      "image/png": "[encoded data removed]",
      "text/plain": [
       "<IPython.core.display.Image object>"
      ]
     },
     "execution_count": 11,
     "metadata": {
      "image/png": {
       "height": 700,
       "width": 700
      }
     },
     "output_type": "execute_result"
    }
   ],
   "source": [
    "from IPython.display import Image \n",
    "Image('model_3.png',width=700,height=700) "
   ]
  },
  {
   "cell_type": "markdown",
   "metadata": {},
   "source": [
    "# Observations"
   ]
  },
  {
   "cell_type": "code",
   "execution_count": 14,
   "metadata": {},
   "outputs": [
    {
     "data": {
      "text/html": [
       "<style  type=\"text/css\" >\n",
       "#T_10085186_9aa7_11ec_89e4_38d5474a7753row0_col0,#T_10085186_9aa7_11ec_89e4_38d5474a7753row0_col1,#T_10085186_9aa7_11ec_89e4_38d5474a7753row0_col2,#T_10085186_9aa7_11ec_89e4_38d5474a7753row0_col3,#T_10085186_9aa7_11ec_89e4_38d5474a7753row0_col4,#T_10085186_9aa7_11ec_89e4_38d5474a7753row1_col0,#T_10085186_9aa7_11ec_89e4_38d5474a7753row1_col1,#T_10085186_9aa7_11ec_89e4_38d5474a7753row1_col2,#T_10085186_9aa7_11ec_89e4_38d5474a7753row1_col3,#T_10085186_9aa7_11ec_89e4_38d5474a7753row1_col4,#T_10085186_9aa7_11ec_89e4_38d5474a7753row2_col0,#T_10085186_9aa7_11ec_89e4_38d5474a7753row2_col1,#T_10085186_9aa7_11ec_89e4_38d5474a7753row2_col2,#T_10085186_9aa7_11ec_89e4_38d5474a7753row2_col3,#T_10085186_9aa7_11ec_89e4_38d5474a7753row2_col4{\n",
       "            background-color:  black;\n",
       "            color:  White;\n",
       "            border-color:  white;\n",
       "        }</style><table id=\"T_10085186_9aa7_11ec_89e4_38d5474a7753\" ><thead>    <tr>        <th class=\"blank level0\" ></th>        <th class=\"col_heading level0 col0\" >Model</th>        <th class=\"col_heading level0 col1\" >Train_AUC</th>        <th class=\"col_heading level0 col2\" >val_auc</th>        <th class=\"col_heading level0 col3\" >Train_loss</th>        <th class=\"col_heading level0 col4\" >val_loss</th>    </tr></thead><tbody>\n",
       "                <tr>\n",
       "                        <th id=\"T_10085186_9aa7_11ec_89e4_38d5474a7753level0_row0\" class=\"row_heading level0 row0\" >0</th>\n",
       "                        <td id=\"T_10085186_9aa7_11ec_89e4_38d5474a7753row0_col0\" class=\"data row0 col0\" >Model 1</td>\n",
       "                        <td id=\"T_10085186_9aa7_11ec_89e4_38d5474a7753row0_col1\" class=\"data row0 col1\" >0.7545</td>\n",
       "                        <td id=\"T_10085186_9aa7_11ec_89e4_38d5474a7753row0_col2\" class=\"data row0 col2\" > 0.7512</td>\n",
       "                        <td id=\"T_10085186_9aa7_11ec_89e4_38d5474a7753row0_col3\" class=\"data row0 col3\" >0.4182</td>\n",
       "                        <td id=\"T_10085186_9aa7_11ec_89e4_38d5474a7753row0_col4\" class=\"data row0 col4\" >0.4366</td>\n",
       "            </tr>\n",
       "            <tr>\n",
       "                        <th id=\"T_10085186_9aa7_11ec_89e4_38d5474a7753level0_row1\" class=\"row_heading level0 row1\" >1</th>\n",
       "                        <td id=\"T_10085186_9aa7_11ec_89e4_38d5474a7753row1_col0\" class=\"data row1 col0\" >Model 2</td>\n",
       "                        <td id=\"T_10085186_9aa7_11ec_89e4_38d5474a7753row1_col1\" class=\"data row1 col1\" >0.7076</td>\n",
       "                        <td id=\"T_10085186_9aa7_11ec_89e4_38d5474a7753row1_col2\" class=\"data row1 col2\" >0.7046</td>\n",
       "                        <td id=\"T_10085186_9aa7_11ec_89e4_38d5474a7753row1_col3\" class=\"data row1 col3\" >0.4208</td>\n",
       "                        <td id=\"T_10085186_9aa7_11ec_89e4_38d5474a7753row1_col4\" class=\"data row1 col4\" >0.4125</td>\n",
       "            </tr>\n",
       "            <tr>\n",
       "                        <th id=\"T_10085186_9aa7_11ec_89e4_38d5474a7753level0_row2\" class=\"row_heading level0 row2\" >2</th>\n",
       "                        <td id=\"T_10085186_9aa7_11ec_89e4_38d5474a7753row2_col0\" class=\"data row2 col0\" >Model 3</td>\n",
       "                        <td id=\"T_10085186_9aa7_11ec_89e4_38d5474a7753row2_col1\" class=\"data row2 col1\" >0.7458</td>\n",
       "                        <td id=\"T_10085186_9aa7_11ec_89e4_38d5474a7753row2_col2\" class=\"data row2 col2\" >0.7203</td>\n",
       "                        <td id=\"T_10085186_9aa7_11ec_89e4_38d5474a7753row2_col3\" class=\"data row2 col3\" >0.4517</td>\n",
       "                        <td id=\"T_10085186_9aa7_11ec_89e4_38d5474a7753row2_col4\" class=\"data row2 col4\" >0.4649</td>\n",
       "            </tr>\n",
       "    </tbody></table>"
      ],
      "text/plain": [
       "<pandas.io.formats.style.Styler at 0x1f99ba58588>"
      ]
     },
     "execution_count": 14,
     "metadata": {},
     "output_type": "execute_result"
    }
   ],
   "source": [
    "#https://www.geeksforgeeks.org/set-pandas-dataframe-background-color-and-font-color-in-python/\n",
    "import pandas as pd\n",
    "table_values = [\n",
    "                [\"Model 1\",\"0.7545\",\" 0.7512\",\"0.4182\",\"0.4366\"],\n",
    "                [\"Model 2\",\"0.7076\",\"0.7046\",\"0.4208\",\"0.4125\"],\n",
    "                [\"Model 3\",\"0.7458\",\"0.7203\",\"0.4517\",\"0.4649\"],\n",
    "                ]\n",
    "\n",
    "table_summary = pd.DataFrame(table_values,columns=[ \"Model\",\"Train_AUC\",\"val_auc\",\"Train_loss\",\"val_loss\"])\n",
    "table_summary.style.set_properties(**{'background-color': 'black',                                                   \n",
    "                                    'color': 'White',                       \n",
    "                                    'border-color': 'white'})"
   ]
  },
  {
   "cell_type": "markdown",
   "metadata": {},
   "source": [
    "1) Each model is run withing 10 epochs.\n",
    "\n",
    "2) model 1 performed better than all as we are concatenating each learned embedding layer which increased the Val AUC.\n",
    "\n",
    "3) model 2 feeded on tfidf features on text data , which is performed 5% less thn model in val_AUC.\n",
    "\n",
    "4) model 3 performed better than model 2 because of convolution layer and filters."
   ]
  },
  {
   "cell_type": "code",
   "execution_count": null,
   "metadata": {},
   "outputs": [],
   "source": []
  }
 ],
 "metadata": {
  "kernelspec": {
   "display_name": "Python 3",
   "language": "python",
   "name": "python3"
  },
  "language_info": {
   "codemirror_mode": {
    "name": "ipython",
    "version": 3
   },
   "file_extension": ".py",
   "mimetype": "text/x-python",
   "name": "python",
   "nbconvert_exporter": "python",
   "pygments_lexer": "ipython3",
   "version": "3.6.5"
  },
  "papermill": {
   "default_parameters": {},
   "duration": 2908.890648,
   "end_time": "2022-03-01T19:14:25.181097",
   "environment_variables": {},
   "exception": null,
   "input_path": "__notebook__.ipynb",
   "output_path": "__notebook__.ipynb",
   "parameters": {},
   "start_time": "2022-03-01T18:25:56.290449",
   "version": "2.3.3"
  }
 },
 "nbformat": 4,
 "nbformat_minor": 5
}
