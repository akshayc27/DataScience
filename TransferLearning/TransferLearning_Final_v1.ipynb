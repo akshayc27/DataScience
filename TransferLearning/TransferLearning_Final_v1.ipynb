{
 "cells": [
  {
   "cell_type": "markdown",
   "metadata": {
    "id": "VeAFWx4nVFFh",
    "papermill": {
     "duration": 0.042329,
     "end_time": "2022-02-23T07:25:25.588376",
     "exception": false,
     "start_time": "2022-02-23T07:25:25.546047",
     "status": "completed"
    },
    "tags": []
   },
   "source": [
    "# Transfer Learning Assignment"
   ]
  },
  {
   "cell_type": "markdown",
   "metadata": {
    "id": "_0zs3TflcAEr",
    "papermill": {
     "duration": 0.038008,
     "end_time": "2022-02-23T07:25:25.666689",
     "exception": false,
     "start_time": "2022-02-23T07:25:25.628681",
     "status": "completed"
    },
    "tags": []
   },
   "source": [
    "Download all the data in rar_file in our folder</a> , it contains all the data required.\n",
    " When you unrar the file you'll get the files in the following format: <b>path/to/the/image.tif,category</b>\n",
    "            \n",
    "    where the categories are numbered 0 to 15, in the following order:\n",
    "<pre>\n",
    "    <b>0 letter\n",
    "    1 form\n",
    "    2 email\n",
    "    3 handwritten\n",
    "    4 advertisement\n",
    "    5 scientific report\n",
    "    6 scientific publication\n",
    "    7 specification\n",
    "    8 file folder\n",
    "    9 news article\n",
    "    10 budget\n",
    "    11 invoice\n",
    "    12 presentation\n",
    "    13 questionnaire\n",
    "    14 resume\n",
    "    15 memo</b>\n",
    "    \n",
    "</pre>"
   ]
  },
  {
   "cell_type": "markdown",
   "metadata": {
    "id": "RokPmWqWjAn7",
    "papermill": {
     "duration": 0.037756,
     "end_time": "2022-02-23T07:25:25.742981",
     "exception": false,
     "start_time": "2022-02-23T07:25:25.705225",
     "status": "completed"
    },
    "tags": []
   },
   "source": [
    "There is a file named as 'labels_final.csv' , it consists of two columns. First column is path which is the required path to the images and second is the class label."
   ]
  },
  {
   "cell_type": "code",
   "execution_count": 1,
   "metadata": {
    "execution": {
     "iopub.execute_input": "2022-02-23T07:25:25.827649Z",
     "iopub.status.busy": "2022-02-23T07:25:25.826022Z",
     "iopub.status.idle": "2022-02-23T07:25:25.828243Z",
     "shell.execute_reply": "2022-02-23T07:25:25.828655Z",
     "shell.execute_reply.started": "2022-02-23T05:33:21.233912Z"
    },
    "id": "vOLj3GWxgWyj",
    "papermill": {
     "duration": 0.047578,
     "end_time": "2022-02-23T07:25:25.828864",
     "exception": false,
     "start_time": "2022-02-23T07:25:25.781286",
     "status": "completed"
    },
    "tags": []
   },
   "outputs": [],
   "source": [
    "#the dataset that you are dealing with is quite large 3.7 GB and hence there are two methods to import the data to Colab \n",
    "# Method 1- you can use gdown module to get the data directly from Google drive to Colab\n",
    "# the syntax is as follows !gdown --id file_id , for ex - running the below cell will import the rvl-cdip.rar dataset\n"
   ]
  },
  {
   "cell_type": "code",
   "execution_count": 2,
   "metadata": {
    "execution": {
     "iopub.execute_input": "2022-02-23T07:25:25.913813Z",
     "iopub.status.busy": "2022-02-23T07:25:25.913274Z",
     "iopub.status.idle": "2022-02-23T07:25:29.951836Z",
     "shell.execute_reply": "2022-02-23T07:25:29.951333Z",
     "shell.execute_reply.started": "2022-02-23T05:33:21.257939Z"
    },
    "id": "mFkz8WVMYvok",
    "outputId": "2969de3d-4ecb-4837-ec51-289f4949bf24",
    "papermill": {
     "duration": 4.083815,
     "end_time": "2022-02-23T07:25:29.951971",
     "exception": false,
     "start_time": "2022-02-23T07:25:25.868156",
     "status": "completed"
    },
    "tags": []
   },
   "outputs": [],
   "source": [
    "import tensorflow as tf"
   ]
  },
  {
   "cell_type": "code",
   "execution_count": 3,
   "metadata": {
    "execution": {
     "iopub.execute_input": "2022-02-23T07:25:30.038509Z",
     "iopub.status.busy": "2022-02-23T07:25:30.037697Z",
     "iopub.status.idle": "2022-02-23T07:25:30.973607Z",
     "shell.execute_reply": "2022-02-23T07:25:30.973078Z",
     "shell.execute_reply.started": "2022-02-23T05:33:26.383421Z"
    },
    "id": "lcn5OKAEtQeZ",
    "papermill": {
     "duration": 0.981299,
     "end_time": "2022-02-23T07:25:30.973740",
     "exception": false,
     "start_time": "2022-02-23T07:25:29.992441",
     "status": "completed"
    },
    "tags": []
   },
   "outputs": [],
   "source": [
    "import os\n",
    "import numpy as np\n",
    "import pandas as pd\n",
    "from keras_preprocessing.image import ImageDataGenerator\n",
    "from tensorflow.keras import applications\n",
    "from tensorflow.keras.layers import Dense,Input,Conv2D,MaxPool2D,Activation,Dropout,Flatten"
   ]
  },
  {
   "cell_type": "code",
   "execution_count": 4,
   "metadata": {
    "execution": {
     "iopub.execute_input": "2022-02-23T07:25:31.055861Z",
     "iopub.status.busy": "2022-02-23T07:25:31.054387Z",
     "iopub.status.idle": "2022-02-23T07:25:31.056479Z",
     "shell.execute_reply": "2022-02-23T07:25:31.056875Z",
     "shell.execute_reply.started": "2022-02-23T05:33:27.530442Z"
    },
    "id": "9GVvWEPVVNnA",
    "papermill": {
     "duration": 0.044455,
     "end_time": "2022-02-23T07:25:31.057002",
     "exception": false,
     "start_time": "2022-02-23T07:25:31.012547",
     "status": "completed"
    },
    "tags": []
   },
   "outputs": [],
   "source": [
    "#from google.colab import drive\n",
    "#drive.mount('/content/drive')"
   ]
  },
  {
   "cell_type": "code",
   "execution_count": 5,
   "metadata": {
    "execution": {
     "iopub.execute_input": "2022-02-23T07:25:31.137272Z",
     "iopub.status.busy": "2022-02-23T07:25:31.136758Z",
     "iopub.status.idle": "2022-02-23T07:25:31.140232Z",
     "shell.execute_reply": "2022-02-23T07:25:31.139834Z",
     "shell.execute_reply.started": "2022-02-23T05:33:27.54237Z"
    },
    "id": "lGEEIRtdVhiL",
    "outputId": "c88ee375-4e28-48f0-b608-863f71e1d316",
    "papermill": {
     "duration": 0.044775,
     "end_time": "2022-02-23T07:25:31.140335",
     "exception": false,
     "start_time": "2022-02-23T07:25:31.095560",
     "status": "completed"
    },
    "tags": []
   },
   "outputs": [],
   "source": [
    "#cd /content/drive/MyDrive/DataScience/TF"
   ]
  },
  {
   "cell_type": "code",
   "execution_count": 6,
   "metadata": {
    "execution": {
     "iopub.execute_input": "2022-02-23T07:25:31.221189Z",
     "iopub.status.busy": "2022-02-23T07:25:31.219682Z",
     "iopub.status.idle": "2022-02-23T07:25:31.221799Z",
     "shell.execute_reply": "2022-02-23T07:25:31.222219Z",
     "shell.execute_reply.started": "2022-02-23T05:33:27.559486Z"
    },
    "id": "mjZnQxBPiaBc",
    "papermill": {
     "duration": 0.044256,
     "end_time": "2022-02-23T07:25:31.222338",
     "exception": false,
     "start_time": "2022-02-23T07:25:31.178082",
     "status": "completed"
    },
    "tags": []
   },
   "outputs": [],
   "source": [
    "#!gdown --id 1Z4TyI7FcFVEx8qdl4jO9qxvxaqLSqoEu"
   ]
  },
  {
   "cell_type": "code",
   "execution_count": 7,
   "metadata": {
    "execution": {
     "iopub.execute_input": "2022-02-23T07:25:31.302875Z",
     "iopub.status.busy": "2022-02-23T07:25:31.301399Z",
     "iopub.status.idle": "2022-02-23T07:25:31.303490Z",
     "shell.execute_reply": "2022-02-23T07:25:31.303884Z",
     "shell.execute_reply.started": "2022-02-23T05:33:27.570877Z"
    },
    "id": "kFGm5RcdhTY1",
    "papermill": {
     "duration": 0.043666,
     "end_time": "2022-02-23T07:25:31.304004",
     "exception": false,
     "start_time": "2022-02-23T07:25:31.260338",
     "status": "completed"
    },
    "tags": []
   },
   "outputs": [],
   "source": [
    "# Method -2 you can also import the data using wget function\n",
    "#https://www.youtube.com/watch?v=BPUfVq7RaY8\n"
   ]
  },
  {
   "cell_type": "code",
   "execution_count": 8,
   "metadata": {
    "execution": {
     "iopub.execute_input": "2022-02-23T07:25:31.385774Z",
     "iopub.status.busy": "2022-02-23T07:25:31.384298Z",
     "iopub.status.idle": "2022-02-23T07:25:31.386405Z",
     "shell.execute_reply": "2022-02-23T07:25:31.386810Z",
     "shell.execute_reply.started": "2022-02-23T05:33:27.578838Z"
    },
    "id": "B_0h5ZMjgW0r",
    "papermill": {
     "duration": 0.044558,
     "end_time": "2022-02-23T07:25:31.386921",
     "exception": false,
     "start_time": "2022-02-23T07:25:31.342363",
     "status": "completed"
    },
    "tags": []
   },
   "outputs": [],
   "source": [
    "#unrar the file\n",
    "#get_ipython().system_raw(\"unrar x rvl-cdip.rar\")"
   ]
  },
  {
   "cell_type": "markdown",
   "metadata": {
    "id": "SseYSo0oixjo",
    "papermill": {
     "duration": 0.037625,
     "end_time": "2022-02-23T07:25:31.463094",
     "exception": false,
     "start_time": "2022-02-23T07:25:31.425469",
     "status": "completed"
    },
    "tags": []
   },
   "source": [
    "## 2. On this image data, you have to train 3 types of models as given below You have to split the data into Train and Validation data."
   ]
  },
  {
   "cell_type": "code",
   "execution_count": 9,
   "metadata": {
    "execution": {
     "iopub.execute_input": "2022-02-23T07:25:31.543406Z",
     "iopub.status.busy": "2022-02-23T07:25:31.542505Z",
     "iopub.status.idle": "2022-02-23T07:25:32.195416Z",
     "shell.execute_reply": "2022-02-23T07:25:32.194889Z",
     "shell.execute_reply.started": "2022-02-23T05:33:27.58984Z"
    },
    "papermill": {
     "duration": 0.694667,
     "end_time": "2022-02-23T07:25:32.195565",
     "exception": false,
     "start_time": "2022-02-23T07:25:31.500898",
     "status": "completed"
    },
    "tags": []
   },
   "outputs": [
    {
     "name": "stdout",
     "output_type": "stream",
     "text": [
      "/kaggle/working\r\n"
     ]
    }
   ],
   "source": [
    "!pwd"
   ]
  },
  {
   "cell_type": "code",
   "execution_count": 10,
   "metadata": {
    "execution": {
     "iopub.execute_input": "2022-02-23T07:25:32.276731Z",
     "iopub.status.busy": "2022-02-23T07:25:32.275941Z",
     "iopub.status.idle": "2022-02-23T07:25:32.280051Z",
     "shell.execute_reply": "2022-02-23T07:25:32.279640Z",
     "shell.execute_reply.started": "2022-02-23T05:33:28.375049Z"
    },
    "papermill": {
     "duration": 0.045057,
     "end_time": "2022-02-23T07:25:32.280149",
     "exception": false,
     "start_time": "2022-02-23T07:25:32.235092",
     "status": "completed"
    },
    "tags": []
   },
   "outputs": [],
   "source": [
    "#cd /content/drive/MyDrive/DataScience/TF"
   ]
  },
  {
   "cell_type": "code",
   "execution_count": 11,
   "metadata": {
    "execution": {
     "iopub.execute_input": "2022-02-23T07:25:32.360769Z",
     "iopub.status.busy": "2022-02-23T07:25:32.360097Z",
     "iopub.status.idle": "2022-02-23T07:25:32.365662Z",
     "shell.execute_reply": "2022-02-23T07:25:32.366353Z",
     "shell.execute_reply.started": "2022-02-23T05:33:28.384846Z"
    },
    "papermill": {
     "duration": 0.047561,
     "end_time": "2022-02-23T07:25:32.366505",
     "exception": false,
     "start_time": "2022-02-23T07:25:32.318944",
     "status": "completed"
    },
    "tags": []
   },
   "outputs": [
    {
     "name": "stdout",
     "output_type": "stream",
     "text": [
      "/kaggle/input/datatf\n"
     ]
    }
   ],
   "source": [
    "cd ../input/datatf"
   ]
  },
  {
   "cell_type": "code",
   "execution_count": 12,
   "metadata": {
    "execution": {
     "iopub.execute_input": "2022-02-23T07:25:32.450100Z",
     "iopub.status.busy": "2022-02-23T07:25:32.447949Z",
     "iopub.status.idle": "2022-02-23T07:25:32.521327Z",
     "shell.execute_reply": "2022-02-23T07:25:32.520848Z",
     "shell.execute_reply.started": "2022-02-23T05:33:28.398246Z"
    },
    "id": "Bu1d-s96iy_l",
    "papermill": {
     "duration": 0.115035,
     "end_time": "2022-02-23T07:25:32.521441",
     "exception": false,
     "start_time": "2022-02-23T07:25:32.406406",
     "status": "completed"
    },
    "tags": []
   },
   "outputs": [],
   "source": [
    "#import all the required libraries\n",
    "import tensorflow as tf\n",
    "import os\n",
    "import numpy as np\n",
    "import pandas as pd\n",
    "\n",
    "df=pd.read_csv('labels_final.csv',dtype=str)"
   ]
  },
  {
   "cell_type": "code",
   "execution_count": 13,
   "metadata": {
    "execution": {
     "iopub.execute_input": "2022-02-23T07:25:32.607415Z",
     "iopub.status.busy": "2022-02-23T07:25:32.606659Z",
     "iopub.status.idle": "2022-02-23T07:25:32.617200Z",
     "shell.execute_reply": "2022-02-23T07:25:32.617635Z",
     "shell.execute_reply.started": "2022-02-23T05:33:28.499343Z"
    },
    "id": "a9HbEdnldEPk",
    "outputId": "35a216fa-f6fe-4cdc-e01a-6cad076e90c6",
    "papermill": {
     "duration": 0.057055,
     "end_time": "2022-02-23T07:25:32.617757",
     "exception": false,
     "start_time": "2022-02-23T07:25:32.560702",
     "status": "completed"
    },
    "tags": []
   },
   "outputs": [
    {
     "data": {
      "text/html": [
       "<div>\n",
       "<style scoped>\n",
       "    .dataframe tbody tr th:only-of-type {\n",
       "        vertical-align: middle;\n",
       "    }\n",
       "\n",
       "    .dataframe tbody tr th {\n",
       "        vertical-align: top;\n",
       "    }\n",
       "\n",
       "    .dataframe thead th {\n",
       "        text-align: right;\n",
       "    }\n",
       "</style>\n",
       "<table border=\"1\" class=\"dataframe\">\n",
       "  <thead>\n",
       "    <tr style=\"text-align: right;\">\n",
       "      <th></th>\n",
       "      <th>path</th>\n",
       "      <th>label</th>\n",
       "    </tr>\n",
       "  </thead>\n",
       "  <tbody>\n",
       "    <tr>\n",
       "      <th>0</th>\n",
       "      <td>imagesv/v/o/h/voh71d00/509132755+-2755.tif</td>\n",
       "      <td>3</td>\n",
       "    </tr>\n",
       "    <tr>\n",
       "      <th>1</th>\n",
       "      <td>imagesl/l/x/t/lxt19d00/502213303.tif</td>\n",
       "      <td>3</td>\n",
       "    </tr>\n",
       "    <tr>\n",
       "      <th>2</th>\n",
       "      <td>imagesx/x/e/d/xed05a00/2075325674.tif</td>\n",
       "      <td>2</td>\n",
       "    </tr>\n",
       "    <tr>\n",
       "      <th>3</th>\n",
       "      <td>imageso/o/j/b/ojb60d00/517511301+-1301.tif</td>\n",
       "      <td>3</td>\n",
       "    </tr>\n",
       "    <tr>\n",
       "      <th>4</th>\n",
       "      <td>imagesq/q/z/k/qzk17e00/2031320195.tif</td>\n",
       "      <td>7</td>\n",
       "    </tr>\n",
       "  </tbody>\n",
       "</table>\n",
       "</div>"
      ],
      "text/plain": [
       "                                         path label\n",
       "0  imagesv/v/o/h/voh71d00/509132755+-2755.tif     3\n",
       "1        imagesl/l/x/t/lxt19d00/502213303.tif     3\n",
       "2       imagesx/x/e/d/xed05a00/2075325674.tif     2\n",
       "3  imageso/o/j/b/ojb60d00/517511301+-1301.tif     3\n",
       "4       imagesq/q/z/k/qzk17e00/2031320195.tif     7"
      ]
     },
     "execution_count": 13,
     "metadata": {},
     "output_type": "execute_result"
    }
   ],
   "source": [
    "df.head()"
   ]
  },
  {
   "cell_type": "code",
   "execution_count": 14,
   "metadata": {
    "execution": {
     "iopub.execute_input": "2022-02-23T07:25:32.700936Z",
     "iopub.status.busy": "2022-02-23T07:25:32.700109Z",
     "iopub.status.idle": "2022-02-23T07:25:32.701988Z",
     "shell.execute_reply": "2022-02-23T07:25:32.702363Z",
     "shell.execute_reply.started": "2022-02-23T05:33:28.52535Z"
    },
    "papermill": {
     "duration": 0.044997,
     "end_time": "2022-02-23T07:25:32.702488",
     "exception": false,
     "start_time": "2022-02-23T07:25:32.657491",
     "status": "completed"
    },
    "tags": []
   },
   "outputs": [],
   "source": [
    "#cd /content/drive/MyDrive/DataScience/TF/data_final"
   ]
  },
  {
   "cell_type": "code",
   "execution_count": 15,
   "metadata": {
    "execution": {
     "iopub.execute_input": "2022-02-23T07:25:32.784591Z",
     "iopub.status.busy": "2022-02-23T07:25:32.783956Z",
     "iopub.status.idle": "2022-02-23T07:25:32.789823Z",
     "shell.execute_reply": "2022-02-23T07:25:32.789211Z",
     "shell.execute_reply.started": "2022-02-23T05:33:28.532715Z"
    },
    "id": "Q5DGI28vtdGE",
    "outputId": "20c0cd90-ed7a-4cee-c831-04f45232bb11",
    "papermill": {
     "duration": 0.048184,
     "end_time": "2022-02-23T07:25:32.789954",
     "exception": false,
     "start_time": "2022-02-23T07:25:32.741770",
     "status": "completed"
    },
    "tags": []
   },
   "outputs": [
    {
     "name": "stdout",
     "output_type": "stream",
     "text": [
      "/kaggle/input/datatf/data_final\n"
     ]
    }
   ],
   "source": [
    "cd ./data_final"
   ]
  },
  {
   "cell_type": "markdown",
   "metadata": {
    "id": "0zfhUhM6eO3t",
    "papermill": {
     "duration": 0.039636,
     "end_time": "2022-02-23T07:25:32.869964",
     "exception": false,
     "start_time": "2022-02-23T07:25:32.830328",
     "status": "completed"
    },
    "tags": []
   },
   "source": [
    "\n",
    "\n",
    "3. Try not to load all the images into memory, use the gernarators that we have given the reference notebooks to load the batch of images only during the train data.\n",
    "or you can use this method also\n",
    "<a href='https://medium.com/@vijayabhaskar96/tutorial-on-keras-imagedatagenerator-with-flow-from-dataframe-8bd5776e45c1'>https://medium.com/@vijayabhaskar96/tutorial-on-keras-imagedatagenerator-with-flow-from-dataframe-8bd5776e45c1</a>\n",
    "\n",
    "<a href='https://medium.com/@vijayabhaskar96/tutorial-on-keras-flow-from-dataframe-1fd4493d237c'>https://medium.com/@vijayabhaskar96/tutorial-on-keras-flow-from-dataframe-1fd4493d237c</a>\n",
    "\n",
    "Note- In the reference notebook you were dealing with jpg images, in the given dataset you are dealing with tiff images. Imagedatagenrator works with both type of images. If you want to use custom data pipeline then you have to convert your tiff images to jpg images.\n",
    "\n",
    "4. You are free to choose Learning rate, optimizer, loss function, image augmentation, any hyperparameters. but you have to use the same architechture what we are asking below. \n",
    "\n",
    "5. Use tensorboard for every model and analyse your gradients. (you need to upload the screenshots for each model for evaluation)\n",
    "\n",
    "\n",
    "6. You can check about Transfer Learning in this link - <a href='https://blog.keras.io/building-powerful-image-classification-models-using-very-little-data.html'>https://blog.keras.io/building-powerful-image-classification-models-using-very-little-data.html</a>\n",
    "\n",
    "https://www.appliedaicourse.com/lecture/11/applied-machine-learning-online-course/3426/code-example-cats-vs-dogs/8/module-8-neural-networks-computer-vision-and-deep-learning </a>\n",
    "</pre>"
   ]
  },
  {
   "cell_type": "markdown",
   "metadata": {
    "id": "cvd-X2oueO-X",
    "papermill": {
     "duration": 0.039733,
     "end_time": "2022-02-23T07:25:32.949933",
     "exception": false,
     "start_time": "2022-02-23T07:25:32.910200",
     "status": "completed"
    },
    "tags": []
   },
   "source": [
    "7. Do print model.summary() and draw model_plots for each of the model."
   ]
  },
  {
   "cell_type": "markdown",
   "metadata": {
    "id": "XZXpEZtJcAEu",
    "papermill": {
     "duration": 0.03977,
     "end_time": "2022-02-23T07:25:33.029257",
     "exception": false,
     "start_time": "2022-02-23T07:25:32.989487",
     "status": "completed"
    },
    "tags": []
   },
   "source": [
    "### Model-1"
   ]
  },
  {
   "cell_type": "markdown",
   "metadata": {
    "id": "EF12MYu1cAEy",
    "papermill": {
     "duration": 0.039226,
     "end_time": "2022-02-23T07:25:33.108827",
     "exception": false,
     "start_time": "2022-02-23T07:25:33.069601",
     "status": "completed"
    },
    "tags": []
   },
   "source": [
    "<pre>\n",
    "1. Use <a href='https://www.tensorflow.org/api_docs/python/tf/keras/applications/VGG16'>VGG-16</a> pretrained network without Fully Connected layers and initilize all the weights with Imagenet trained weights. \n",
    "2. After VGG-16 network without FC layers, add a new Conv block ( 1 Conv layer and 1 Maxpooling ), 2 FC layers and an output layer to classify 16 classes. You are free to choose any hyperparameters/parameters of conv block, FC layers, output layer. \n",
    "3. Final architecture will be <b>INPUT --> VGG-16 without Top layers(FC) --> Conv Layer --> Maxpool Layer --> 2 FC layers --> Output Layer</b>\n",
    "4.Print model.summary() and plot the architecture of the model. \n",
    "<a href='https://www.tensorflow.org/api_docs/python/tf/keras/utils/plot_model'>Reference for plotting model</a>\n",
    "5. Train only new Conv block, FC layers, output layer. Don't train the VGG-16 network. \n",
    "\n",
    "</pre>"
   ]
  },
  {
   "cell_type": "code",
   "execution_count": 16,
   "metadata": {
    "execution": {
     "iopub.execute_input": "2022-02-23T07:25:33.191735Z",
     "iopub.status.busy": "2022-02-23T07:25:33.191041Z",
     "iopub.status.idle": "2022-02-23T07:25:33.193793Z",
     "shell.execute_reply": "2022-02-23T07:25:33.193388Z",
     "shell.execute_reply.started": "2022-02-23T05:33:28.547046Z"
    },
    "id": "4-4l5SLmVFGQ",
    "papermill": {
     "duration": 0.045573,
     "end_time": "2022-02-23T07:25:33.193899",
     "exception": false,
     "start_time": "2022-02-23T07:25:33.148326",
     "status": "completed"
    },
    "tags": []
   },
   "outputs": [],
   "source": [
    "#https://vijayabhaskar96.medium.com/tutorial-on-keras-flow-from-dataframe-1fd4493d237c"
   ]
  },
  {
   "cell_type": "code",
   "execution_count": 17,
   "metadata": {
    "execution": {
     "iopub.execute_input": "2022-02-23T07:25:33.277907Z",
     "iopub.status.busy": "2022-02-23T07:25:33.277213Z",
     "iopub.status.idle": "2022-02-23T07:25:33.279782Z",
     "shell.execute_reply": "2022-02-23T07:25:33.279384Z",
     "shell.execute_reply.started": "2022-02-23T05:33:28.559063Z"
    },
    "id": "CVQ2vxnX8kD5",
    "papermill": {
     "duration": 0.046064,
     "end_time": "2022-02-23T07:25:33.279886",
     "exception": false,
     "start_time": "2022-02-23T07:25:33.233822",
     "status": "completed"
    },
    "tags": []
   },
   "outputs": [],
   "source": [
    "img_width, img_height = 224, 224\n",
    "top_model_weights_path = 'bottleneck_fc_model.h5'\n",
    "epochs = 50\n",
    "batch_size = 64\n",
    "STEP_SIZE_TRAIN = 0\n",
    "STEP_SIZE_VALID = 0"
   ]
  },
  {
   "cell_type": "code",
   "execution_count": 18,
   "metadata": {
    "execution": {
     "iopub.execute_input": "2022-02-23T07:25:33.365100Z",
     "iopub.status.busy": "2022-02-23T07:25:33.362960Z",
     "iopub.status.idle": "2022-02-23T07:29:15.295292Z",
     "shell.execute_reply": "2022-02-23T07:29:15.295771Z",
     "shell.execute_reply.started": "2022-02-23T05:33:28.569878Z"
    },
    "id": "UmWcg7Yx5mZt",
    "outputId": "9d756a0c-dfee-4625-db22-ec283cb32442",
    "papermill": {
     "duration": 221.976482,
     "end_time": "2022-02-23T07:29:15.295925",
     "exception": false,
     "start_time": "2022-02-23T07:25:33.319443",
     "status": "completed"
    },
    "tags": []
   },
   "outputs": [
    {
     "name": "stdout",
     "output_type": "stream",
     "text": [
      "Found 36000 validated image filenames belonging to 16 classes.\n",
      "Found 12000 validated image filenames belonging to 16 classes.\n"
     ]
    }
   ],
   "source": [
    "datagen=ImageDataGenerator(rescale=1./255.,validation_split=0.25)\n",
    "\n",
    "train_generator=datagen.flow_from_dataframe(dataframe=df,x_col=\"path\",y_col=\"label\",subset=\"training\",batch_size=32,\n",
    "                                            seed=42,shuffle=True,class_mode=\"categorical\",target_size=(224,224))\n",
    "\n",
    "valid_generator=datagen.flow_from_dataframe(dataframe=df,x_col=\"path\",y_col=\"label\",subset=\"validation\",batch_size=32,\n",
    "                                            seed=42,shuffle=True,class_mode=\"categorical\",target_size=(224,224))"
   ]
  },
  {
   "cell_type": "code",
   "execution_count": 19,
   "metadata": {
    "execution": {
     "iopub.execute_input": "2022-02-23T07:29:15.382759Z",
     "iopub.status.busy": "2022-02-23T07:29:15.382101Z",
     "iopub.status.idle": "2022-02-23T07:29:15.384761Z",
     "shell.execute_reply": "2022-02-23T07:29:15.385153Z",
     "shell.execute_reply.started": "2022-02-23T05:37:52.322274Z"
    },
    "id": "Khou2qXq8vy8",
    "papermill": {
     "duration": 0.049258,
     "end_time": "2022-02-23T07:29:15.385310",
     "exception": false,
     "start_time": "2022-02-23T07:29:15.336052",
     "status": "completed"
    },
    "tags": []
   },
   "outputs": [
    {
     "data": {
      "text/plain": [
       "(36000, 16, 1125, 375)"
      ]
     },
     "execution_count": 19,
     "metadata": {},
     "output_type": "execute_result"
    }
   ],
   "source": [
    "nb_train_samples = len(train_generator.filenames)  \n",
    "num_classes = len(train_generator.class_indices)  \n",
    "STEP_SIZE_TRAIN=train_generator.n//train_generator.batch_size\n",
    "STEP_SIZE_VALID=valid_generator.n//valid_generator.batch_size\n",
    "nb_train_samples,num_classes,STEP_SIZE_TRAIN,STEP_SIZE_VALID"
   ]
  },
  {
   "cell_type": "code",
   "execution_count": 20,
   "metadata": {
    "execution": {
     "iopub.execute_input": "2022-02-23T07:29:15.471637Z",
     "iopub.status.busy": "2022-02-23T07:29:15.470806Z",
     "iopub.status.idle": "2022-02-23T07:29:15.474353Z",
     "shell.execute_reply": "2022-02-23T07:29:15.473905Z",
     "shell.execute_reply.started": "2022-02-23T05:38:41.471037Z"
    },
    "id": "mgvHwMKZ-lYV",
    "papermill": {
     "duration": 0.048776,
     "end_time": "2022-02-23T07:29:15.474468",
     "exception": false,
     "start_time": "2022-02-23T07:29:15.425692",
     "status": "completed"
    },
    "tags": []
   },
   "outputs": [],
   "source": [
    "import tensorflow.keras.backend as K\n",
    "class RateHistory(tf.keras.callbacks.Callback):\n",
    "    def on_epoch_begin(self, epoch, logs=None):\n",
    "        lr = float(K.get_value(self.model.optimizer.lr))\n",
    "        print('\\nEpoch %05d: Learning rate to %s.' % (epoch + 1, lr))  \n",
    "        \n",
    "rate_own=RateHistory()  "
   ]
  },
  {
   "cell_type": "code",
   "execution_count": 21,
   "metadata": {
    "execution": {
     "iopub.execute_input": "2022-02-23T07:29:15.558555Z",
     "iopub.status.busy": "2022-02-23T07:29:15.557861Z",
     "iopub.status.idle": "2022-02-23T07:29:15.559996Z",
     "shell.execute_reply": "2022-02-23T07:29:15.560425Z",
     "shell.execute_reply.started": "2022-02-23T05:37:52.348309Z"
    },
    "id": "9Flmwzhu-leh",
    "papermill": {
     "duration": 0.045726,
     "end_time": "2022-02-23T07:29:15.560552",
     "exception": false,
     "start_time": "2022-02-23T07:29:15.514826",
     "status": "completed"
    },
    "tags": []
   },
   "outputs": [],
   "source": [
    "import os\n",
    "import datetime"
   ]
  },
  {
   "cell_type": "code",
   "execution_count": 22,
   "metadata": {
    "execution": {
     "iopub.execute_input": "2022-02-23T07:29:15.648437Z",
     "iopub.status.busy": "2022-02-23T07:29:15.647903Z",
     "iopub.status.idle": "2022-02-23T07:29:15.851393Z",
     "shell.execute_reply": "2022-02-23T07:29:15.851798Z",
     "shell.execute_reply.started": "2022-02-23T05:37:52.360684Z"
    },
    "id": "AGtyzI5e-lg8",
    "papermill": {
     "duration": 0.251031,
     "end_time": "2022-02-23T07:29:15.851931",
     "exception": false,
     "start_time": "2022-02-23T07:29:15.600900",
     "status": "completed"
    },
    "tags": []
   },
   "outputs": [
    {
     "name": "stderr",
     "output_type": "stream",
     "text": [
      "2022-02-23 07:29:15.657001: I tensorflow/core/profiler/lib/profiler_session.cc:131] Profiler session initializing.\n",
      "2022-02-23 07:29:15.657043: I tensorflow/core/profiler/lib/profiler_session.cc:146] Profiler session started.\n",
      "2022-02-23 07:29:15.710872: I tensorflow/core/profiler/internal/gpu/cupti_tracer.cc:1614] Profiler found 1 GPUs\n",
      "2022-02-23 07:29:15.742635: I tensorflow/core/profiler/lib/profiler_session.cc:164] Profiler session tear down.\n",
      "2022-02-23 07:29:15.742794: I tensorflow/core/profiler/internal/gpu/cupti_tracer.cc:1748] CUPTI activity buffer flushed\n"
     ]
    }
   ],
   "source": [
    "#lrschedule = tf.keras.callbacks.LearningRateScheduler(changeLearningRate)\n",
    "\n",
    "optimizer = tf.keras.optimizers.Adam(learning_rate=0.01) #SGD(learning_rate=0.1, decay=1e-4, momentum=0.9 ,nesterov=True ) \n",
    "\n",
    "#earlystop = tf.keras.callbacks.EarlyStopping(monitor='val_accuracy', min_delta=0.0001, patience=3, verbose=1)\n",
    "\n",
    "filepath= \"/kaggle/working/best_model_1.h5\" #\"model_save/weights-{epoch:02d}-{val_accuracy:.4f}.hdf5\"\n",
    "checkpoint = tf.keras.callbacks.ModelCheckpoint(filepath=filepath, monitor='val_accuracy',  verbose=1, save_best_only=True, mode='auto')\n",
    "\n",
    "log_dir = os.path.join(\"/kaggle/working/logs1\",'fits', datetime.datetime.now().strftime(\"%Y%m%d-%H%M%S\"))\n",
    "tensorboard_callback = tf.keras.callbacks.TensorBoard(log_dir=log_dir,histogram_freq=1,write_graph=True)"
   ]
  },
  {
   "cell_type": "code",
   "execution_count": 23,
   "metadata": {
    "execution": {
     "iopub.execute_input": "2022-02-23T07:29:15.947798Z",
     "iopub.status.busy": "2022-02-23T07:29:15.947282Z",
     "iopub.status.idle": "2022-02-23T07:29:19.421083Z",
     "shell.execute_reply": "2022-02-23T07:29:19.420167Z",
     "shell.execute_reply.started": "2022-02-23T05:37:52.569783Z"
    },
    "id": "r-vfc3C0-yEk",
    "papermill": {
     "duration": 3.527854,
     "end_time": "2022-02-23T07:29:19.421254",
     "exception": false,
     "start_time": "2022-02-23T07:29:15.893400",
     "status": "completed"
    },
    "tags": []
   },
   "outputs": [
    {
     "name": "stderr",
     "output_type": "stream",
     "text": [
      "2022-02-23 07:29:15.980381: I tensorflow/stream_executor/cuda/cuda_gpu_executor.cc:937] successful NUMA node read from SysFS had negative value (-1), but there must be at least one NUMA node, so returning NUMA node zero\n",
      "2022-02-23 07:29:16.084003: I tensorflow/stream_executor/cuda/cuda_gpu_executor.cc:937] successful NUMA node read from SysFS had negative value (-1), but there must be at least one NUMA node, so returning NUMA node zero\n",
      "2022-02-23 07:29:16.084795: I tensorflow/stream_executor/cuda/cuda_gpu_executor.cc:937] successful NUMA node read from SysFS had negative value (-1), but there must be at least one NUMA node, so returning NUMA node zero\n",
      "2022-02-23 07:29:16.086405: I tensorflow/core/platform/cpu_feature_guard.cc:142] This TensorFlow binary is optimized with oneAPI Deep Neural Network Library (oneDNN) to use the following CPU instructions in performance-critical operations:  AVX2 AVX512F FMA\n",
      "To enable them in other operations, rebuild TensorFlow with the appropriate compiler flags.\n",
      "2022-02-23 07:29:16.087610: I tensorflow/stream_executor/cuda/cuda_gpu_executor.cc:937] successful NUMA node read from SysFS had negative value (-1), but there must be at least one NUMA node, so returning NUMA node zero\n",
      "2022-02-23 07:29:16.088495: I tensorflow/stream_executor/cuda/cuda_gpu_executor.cc:937] successful NUMA node read from SysFS had negative value (-1), but there must be at least one NUMA node, so returning NUMA node zero\n",
      "2022-02-23 07:29:16.089332: I tensorflow/stream_executor/cuda/cuda_gpu_executor.cc:937] successful NUMA node read from SysFS had negative value (-1), but there must be at least one NUMA node, so returning NUMA node zero\n",
      "2022-02-23 07:29:17.957231: I tensorflow/stream_executor/cuda/cuda_gpu_executor.cc:937] successful NUMA node read from SysFS had negative value (-1), but there must be at least one NUMA node, so returning NUMA node zero\n",
      "2022-02-23 07:29:17.957988: I tensorflow/stream_executor/cuda/cuda_gpu_executor.cc:937] successful NUMA node read from SysFS had negative value (-1), but there must be at least one NUMA node, so returning NUMA node zero\n",
      "2022-02-23 07:29:17.958682: I tensorflow/stream_executor/cuda/cuda_gpu_executor.cc:937] successful NUMA node read from SysFS had negative value (-1), but there must be at least one NUMA node, so returning NUMA node zero\n",
      "2022-02-23 07:29:17.959272: I tensorflow/core/common_runtime/gpu/gpu_device.cc:1510] Created device /job:localhost/replica:0/task:0/device:GPU:0 with 15403 MB memory:  -> device: 0, name: Tesla P100-PCIE-16GB, pci bus id: 0000:00:04.0, compute capability: 6.0\n"
     ]
    },
    {
     "name": "stdout",
     "output_type": "stream",
     "text": [
      "Downloading data from https://storage.googleapis.com/tensorflow/keras-applications/vgg16/vgg16_weights_tf_dim_ordering_tf_kernels_notop.h5\n",
      "58892288/58889256 [==============================] - 0s 0us/step\n",
      "58900480/58889256 [==============================] - 0s 0us/step\n"
     ]
    }
   ],
   "source": [
    "#https://keras.io/guides/transfer_learning/\n",
    "\n",
    "base_model = tf.keras.applications.VGG16(include_top=False,input_shape=(224, 224, 3), weights='imagenet')\n",
    "\n",
    "base_model.trainable = False\n",
    "\n",
    "inputs = tf.keras.Input(shape=(224, 224, 3))\n",
    "\n",
    "#Base Model\n",
    "\n",
    "x = base_model(inputs, training=False)\n",
    "\n",
    "#Conv Layer\n",
    "x = Conv2D(filters=128,kernel_size=(3,3),strides=(2,2),padding='valid',data_format='channels_last',\n",
    "              activation='relu',kernel_initializer=tf.keras.initializers.he_normal(seed=9),name='ConvL')(x)\n",
    "#MaxPool Layer\n",
    "x = tf.keras.layers.GlobalAveragePooling2D()(x)\n",
    "\n",
    "#FC layer\n",
    "FC1 = Dense(units=64,activation='relu',kernel_initializer=tf.keras.initializers.glorot_normal(seed=32),name='FC1')(x)\n",
    "\n",
    "#FC layer\n",
    "FC2 = Dense(units=32,activation='relu',kernel_initializer=tf.keras.initializers.glorot_normal(seed=33),name='FC2')(FC1)\n",
    "\n",
    "#output layer\n",
    "\n",
    "outputs = Dense(num_classes,activation='softmax',kernel_initializer=tf.keras.initializers.glorot_normal(seed=3),name='Output')(FC2)\n",
    "\n",
    "\n",
    "model = tf.keras.Model(inputs, outputs)\n",
    "\n",
    "model.compile(optimizer=optimizer,\n",
    "                  loss='categorical_crossentropy', metrics=['accuracy'])\n"
   ]
  },
  {
   "cell_type": "code",
   "execution_count": 24,
   "metadata": {
    "execution": {
     "iopub.execute_input": "2022-02-23T07:29:19.517654Z",
     "iopub.status.busy": "2022-02-23T07:29:19.516845Z",
     "iopub.status.idle": "2022-02-23T07:29:19.521784Z",
     "shell.execute_reply": "2022-02-23T07:29:19.522328Z",
     "shell.execute_reply.started": "2022-02-23T05:37:56.671475Z"
    },
    "id": "hcss6Nga-yHC",
    "papermill": {
     "duration": 0.056292,
     "end_time": "2022-02-23T07:29:19.522505",
     "exception": false,
     "start_time": "2022-02-23T07:29:19.466213",
     "status": "completed"
    },
    "tags": []
   },
   "outputs": [
    {
     "name": "stdout",
     "output_type": "stream",
     "text": [
      "Model: \"model\"\n",
      "_________________________________________________________________\n",
      "Layer (type)                 Output Shape              Param #   \n",
      "=================================================================\n",
      "input_2 (InputLayer)         [(None, 224, 224, 3)]     0         \n",
      "_________________________________________________________________\n",
      "vgg16 (Functional)           (None, 7, 7, 512)         14714688  \n",
      "_________________________________________________________________\n",
      "ConvL (Conv2D)               (None, 3, 3, 128)         589952    \n",
      "_________________________________________________________________\n",
      "global_average_pooling2d (Gl (None, 128)               0         \n",
      "_________________________________________________________________\n",
      "FC1 (Dense)                  (None, 64)                8256      \n",
      "_________________________________________________________________\n",
      "FC2 (Dense)                  (None, 32)                2080      \n",
      "_________________________________________________________________\n",
      "Output (Dense)               (None, 16)                528       \n",
      "=================================================================\n",
      "Total params: 15,315,504\n",
      "Trainable params: 600,816\n",
      "Non-trainable params: 14,714,688\n",
      "_________________________________________________________________\n"
     ]
    }
   ],
   "source": [
    "model.summary()"
   ]
  },
  {
   "cell_type": "code",
   "execution_count": 25,
   "metadata": {
    "execution": {
     "iopub.execute_input": "2022-02-23T07:29:19.617853Z",
     "iopub.status.busy": "2022-02-23T07:29:19.617067Z",
     "iopub.status.idle": "2022-02-23T08:37:25.166638Z",
     "shell.execute_reply": "2022-02-23T08:37:25.166119Z"
    },
    "id": "OUXZH0RU-yMO",
    "papermill": {
     "duration": 4085.599043,
     "end_time": "2022-02-23T08:37:25.166780",
     "exception": false,
     "start_time": "2022-02-23T07:29:19.567737",
     "status": "completed"
    },
    "scrolled": false,
    "tags": []
   },
   "outputs": [
    {
     "name": "stderr",
     "output_type": "stream",
     "text": [
      "2022-02-23 07:29:20.027153: I tensorflow/compiler/mlir/mlir_graph_optimization_pass.cc:185] None of the MLIR Optimization Passes are enabled (registered 2)\n"
     ]
    },
    {
     "name": "stdout",
     "output_type": "stream",
     "text": [
      "Epoch 1/15\n",
      "\n",
      "Epoch 00001: Learning rate to 0.009999999776482582.\n"
     ]
    },
    {
     "name": "stderr",
     "output_type": "stream",
     "text": [
      "2022-02-23 07:29:22.031000: I tensorflow/stream_executor/cuda/cuda_dnn.cc:369] Loaded cuDNN version 8005\n"
     ]
    },
    {
     "name": "stdout",
     "output_type": "stream",
     "text": [
      "   1/1125 [..............................] - ETA: 3:12:54 - loss: 2.7892 - accuracy: 0.1562"
     ]
    },
    {
     "name": "stderr",
     "output_type": "stream",
     "text": [
      "2022-02-23 07:29:30.397186: I tensorflow/core/profiler/lib/profiler_session.cc:131] Profiler session initializing.\n",
      "2022-02-23 07:29:30.397227: I tensorflow/core/profiler/lib/profiler_session.cc:146] Profiler session started.\n"
     ]
    },
    {
     "name": "stdout",
     "output_type": "stream",
     "text": [
      "   2/1125 [..............................] - ETA: 7:54 - loss: 3.7571 - accuracy: 0.1094   "
     ]
    },
    {
     "name": "stderr",
     "output_type": "stream",
     "text": [
      "2022-02-23 07:29:30.799696: I tensorflow/core/profiler/lib/profiler_session.cc:66] Profiler session collecting data.\n",
      "2022-02-23 07:29:30.800376: I tensorflow/core/profiler/internal/gpu/cupti_tracer.cc:1748] CUPTI activity buffer flushed\n",
      "2022-02-23 07:29:30.945485: I tensorflow/core/profiler/internal/gpu/cupti_collector.cc:673]  GpuTracer has collected 170 callback api events and 167 activity events. \n",
      "2022-02-23 07:29:30.952917: I tensorflow/core/profiler/lib/profiler_session.cc:164] Profiler session tear down.\n",
      "2022-02-23 07:29:30.974764: I tensorflow/core/profiler/rpc/client/save_profile.cc:136] Creating directory: /kaggle/working/logs1/fits/20220223-072915/train/plugins/profile/2022_02_23_07_29_30\n",
      "\n",
      "2022-02-23 07:29:30.986255: I tensorflow/core/profiler/rpc/client/save_profile.cc:142] Dumped gzipped tool data for trace.json.gz to /kaggle/working/logs1/fits/20220223-072915/train/plugins/profile/2022_02_23_07_29_30/2e6f757348da.trace.json.gz\n"
     ]
    },
    {
     "name": "stdout",
     "output_type": "stream",
     "text": [
      "   3/1125 [..............................] - ETA: 7:23 - loss: 4.4687 - accuracy: 0.0938"
     ]
    },
    {
     "name": "stderr",
     "output_type": "stream",
     "text": [
      "2022-02-23 07:29:31.033333: I tensorflow/core/profiler/rpc/client/save_profile.cc:136] Creating directory: /kaggle/working/logs1/fits/20220223-072915/train/plugins/profile/2022_02_23_07_29_30\n",
      "\n",
      "2022-02-23 07:29:31.042871: I tensorflow/core/profiler/rpc/client/save_profile.cc:142] Dumped gzipped tool data for memory_profile.json.gz to /kaggle/working/logs1/fits/20220223-072915/train/plugins/profile/2022_02_23_07_29_30/2e6f757348da.memory_profile.json.gz\n",
      "2022-02-23 07:29:31.043813: I tensorflow/core/profiler/rpc/client/capture_profile.cc:251] Creating directory: /kaggle/working/logs1/fits/20220223-072915/train/plugins/profile/2022_02_23_07_29_30\n",
      "Dumped tool data for xplane.pb to /kaggle/working/logs1/fits/20220223-072915/train/plugins/profile/2022_02_23_07_29_30/2e6f757348da.xplane.pb\n",
      "Dumped tool data for overview_page.pb to /kaggle/working/logs1/fits/20220223-072915/train/plugins/profile/2022_02_23_07_29_30/2e6f757348da.overview_page.pb\n",
      "Dumped tool data for input_pipeline.pb to /kaggle/working/logs1/fits/20220223-072915/train/plugins/profile/2022_02_23_07_29_30/2e6f757348da.input_pipeline.pb\n",
      "Dumped tool data for tensorflow_stats.pb to /kaggle/working/logs1/fits/20220223-072915/train/plugins/profile/2022_02_23_07_29_30/2e6f757348da.tensorflow_stats.pb\n",
      "Dumped tool data for kernel_stats.pb to /kaggle/working/logs1/fits/20220223-072915/train/plugins/profile/2022_02_23_07_29_30/2e6f757348da.kernel_stats.pb\n",
      "\n"
     ]
    },
    {
     "name": "stdout",
     "output_type": "stream",
     "text": [
      "1125/1125 [==============================] - 459s 400ms/step - loss: 1.8066 - accuracy: 0.4161 - val_loss: 1.4197 - val_accuracy: 0.5506\n",
      "\n",
      "Epoch 00001: val_accuracy improved from -inf to 0.55058, saving model to /kaggle/working/best_model_1.h5\n",
      "Epoch 2/15\n",
      "\n",
      "Epoch 00002: Learning rate to 0.009999999776482582.\n",
      "1125/1125 [==============================] - 237s 210ms/step - loss: 1.3991 - accuracy: 0.5556 - val_loss: 1.3242 - val_accuracy: 0.5912\n",
      "\n",
      "Epoch 00002: val_accuracy improved from 0.55058 to 0.59117, saving model to /kaggle/working/best_model_1.h5\n",
      "Epoch 3/15\n",
      "\n",
      "Epoch 00003: Learning rate to 0.009999999776482582.\n",
      "1125/1125 [==============================] - 233s 207ms/step - loss: 1.2749 - accuracy: 0.5991 - val_loss: 1.2562 - val_accuracy: 0.6102\n",
      "\n",
      "Epoch 00003: val_accuracy improved from 0.59117 to 0.61017, saving model to /kaggle/working/best_model_1.h5\n",
      "Epoch 4/15\n",
      "\n",
      "Epoch 00004: Learning rate to 0.009999999776482582.\n",
      "1125/1125 [==============================] - 233s 208ms/step - loss: 1.2073 - accuracy: 0.6204 - val_loss: 1.2559 - val_accuracy: 0.6154\n",
      "\n",
      "Epoch 00004: val_accuracy improved from 0.61017 to 0.61542, saving model to /kaggle/working/best_model_1.h5\n",
      "Epoch 5/15\n",
      "\n",
      "Epoch 00005: Learning rate to 0.009999999776482582.\n",
      "1125/1125 [==============================] - 237s 210ms/step - loss: 1.1660 - accuracy: 0.6364 - val_loss: 1.2516 - val_accuracy: 0.6109\n",
      "\n",
      "Epoch 00005: val_accuracy did not improve from 0.61542\n",
      "Epoch 6/15\n",
      "\n",
      "Epoch 00006: Learning rate to 0.009999999776482582.\n",
      "1125/1125 [==============================] - 241s 214ms/step - loss: 1.1212 - accuracy: 0.6544 - val_loss: 1.2687 - val_accuracy: 0.6262\n",
      "\n",
      "Epoch 00006: val_accuracy improved from 0.61542 to 0.62617, saving model to /kaggle/working/best_model_1.h5\n",
      "Epoch 7/15\n",
      "\n",
      "Epoch 00007: Learning rate to 0.009999999776482582.\n",
      "1125/1125 [==============================] - 243s 216ms/step - loss: 1.0680 - accuracy: 0.6689 - val_loss: 1.2278 - val_accuracy: 0.6338\n",
      "\n",
      "Epoch 00007: val_accuracy improved from 0.62617 to 0.63375, saving model to /kaggle/working/best_model_1.h5\n",
      "Epoch 8/15\n",
      "\n",
      "Epoch 00008: Learning rate to 0.009999999776482582.\n",
      "1125/1125 [==============================] - 249s 221ms/step - loss: 1.0388 - accuracy: 0.6807 - val_loss: 1.2283 - val_accuracy: 0.6454\n",
      "\n",
      "Epoch 00008: val_accuracy improved from 0.63375 to 0.64542, saving model to /kaggle/working/best_model_1.h5\n",
      "Epoch 9/15\n",
      "\n",
      "Epoch 00009: Learning rate to 0.009999999776482582.\n",
      "1125/1125 [==============================] - 270s 240ms/step - loss: 1.0160 - accuracy: 0.6884 - val_loss: 1.3164 - val_accuracy: 0.6281\n",
      "\n",
      "Epoch 00009: val_accuracy did not improve from 0.64542\n",
      "Epoch 10/15\n",
      "\n",
      "Epoch 00010: Learning rate to 0.009999999776482582.\n",
      "1125/1125 [==============================] - 248s 220ms/step - loss: 0.9898 - accuracy: 0.6963 - val_loss: 1.1587 - val_accuracy: 0.6593\n",
      "\n",
      "Epoch 00010: val_accuracy improved from 0.64542 to 0.65933, saving model to /kaggle/working/best_model_1.h5\n",
      "Epoch 11/15\n",
      "\n",
      "Epoch 00011: Learning rate to 0.009999999776482582.\n",
      "1125/1125 [==============================] - 275s 244ms/step - loss: 0.9637 - accuracy: 0.7046 - val_loss: 1.2319 - val_accuracy: 0.6381\n",
      "\n",
      "Epoch 00011: val_accuracy did not improve from 0.65933\n",
      "Epoch 12/15\n",
      "\n",
      "Epoch 00012: Learning rate to 0.009999999776482582.\n",
      "1125/1125 [==============================] - 240s 213ms/step - loss: 0.9470 - accuracy: 0.7105 - val_loss: 1.1960 - val_accuracy: 0.6624\n",
      "\n",
      "Epoch 00012: val_accuracy improved from 0.65933 to 0.66242, saving model to /kaggle/working/best_model_1.h5\n",
      "Epoch 13/15\n",
      "\n",
      "Epoch 00013: Learning rate to 0.009999999776482582.\n",
      "1125/1125 [==============================] - 233s 207ms/step - loss: 0.9246 - accuracy: 0.7155 - val_loss: 1.1686 - val_accuracy: 0.6620\n",
      "\n",
      "Epoch 00013: val_accuracy did not improve from 0.66242\n",
      "Epoch 14/15\n",
      "\n",
      "Epoch 00014: Learning rate to 0.009999999776482582.\n",
      "1125/1125 [==============================] - 238s 211ms/step - loss: 0.9027 - accuracy: 0.7252 - val_loss: 1.2339 - val_accuracy: 0.6482\n",
      "\n",
      "Epoch 00014: val_accuracy did not improve from 0.66242\n",
      "Epoch 15/15\n",
      "\n",
      "Epoch 00015: Learning rate to 0.009999999776482582.\n",
      "1125/1125 [==============================] - 237s 211ms/step - loss: 0.8893 - accuracy: 0.7274 - val_loss: 1.1628 - val_accuracy: 0.6714\n",
      "\n",
      "Epoch 00015: val_accuracy improved from 0.66242 to 0.67142, saving model to /kaggle/working/best_model_1.h5\n"
     ]
    },
    {
     "data": {
      "text/plain": [
       "<keras.callbacks.History at 0x7fba6a7055d0>"
      ]
     },
     "execution_count": 25,
     "metadata": {},
     "output_type": "execute_result"
    }
   ],
   "source": [
    "model.fit(train_generator,steps_per_epoch=STEP_SIZE_TRAIN,\n",
    "          validation_data=valid_generator,\n",
    "          validation_steps=STEP_SIZE_VALID,\n",
    "          epochs=15,callbacks=[rate_own,checkpoint,tensorboard_callback])"
   ]
  },
  {
   "cell_type": "code",
   "execution_count": 7,
   "metadata": {
    "id": "5F6ll-fi-lmW",
    "papermill": {
     "duration": 6.02666,
     "end_time": "2022-02-23T08:37:36.470518",
     "exception": false,
     "start_time": "2022-02-23T08:37:30.443858",
     "status": "completed"
    },
    "tags": []
   },
   "outputs": [
    {
     "data": {
      "image/jpeg": "[encoded data removed]",
      "text/plain": [
       "<IPython.core.display.Image object>"
      ]
     },
     "execution_count": 7,
     "metadata": {
      "image/jpeg": {
       "height": 700,
       "width": 700
      }
     },
     "output_type": "execute_result"
    }
   ],
   "source": [
    "from IPython.display import Image \n",
    "Image('TF_model1.jpg',width=700,height=700) "
   ]
  },
  {
   "cell_type": "markdown",
   "metadata": {
    "id": "De0UlsaOcAE1",
    "papermill": {
     "duration": 5.589444,
     "end_time": "2022-02-23T08:37:47.329748",
     "exception": false,
     "start_time": "2022-02-23T08:37:41.740304",
     "status": "completed"
    },
    "tags": []
   },
   "source": [
    "### Model-2"
   ]
  },
  {
   "cell_type": "markdown",
   "metadata": {
    "id": "CNXN3EXFcAE5",
    "papermill": {
     "duration": 5.632107,
     "end_time": "2022-02-23T08:37:58.182821",
     "exception": false,
     "start_time": "2022-02-23T08:37:52.550714",
     "status": "completed"
    },
    "tags": []
   },
   "source": [
    "<pre>\n",
    "1. Use <a href='https://www.tensorflow.org/api_docs/python/tf/keras/applications/VGG16'>VGG-16</a> pretrained network without Fully Connected layers and initilize all the weights with Imagenet trained weights.\n",
    "2. After VGG-16 network without FC layers, don't use FC layers, use conv layers only as Fully connected layer.Any FC \n",
    "layer can be converted to a CONV layer. This conversion will reduce the No of Trainable parameters in FC layers. \n",
    "For example, an FC layer with K=4096 that is looking at some input volume of size 7×7×512 can be equivalently expressed as a CONV layer with F=7,P=0,S=1,K=4096. \n",
    "In other words, we are setting the filter size to be exactly the size of the input volume, and hence the output will\n",
    "simply be 1×1×4096 since only a single depth column “fits” across the input volume, giving identical result as the \n",
    "initial FC layer. You can refer <a href='http://cs231n.github.io/convolutional-networks/#convert'>this</a> link to better understanding of using Conv layer in place of fully connected layers.\n",
    "3. Final architecture will be VGG-16 without FC layers(without top), 2 Conv layers identical to FC layers, 1 output layer for 16 class classification. <b>INPUT --> VGG-16 without Top layers(FC) --> 2 Conv Layers identical to FC -->Output Layer</b>\n",
    "4. 4.Print model.summary() and plot the architecture of the model. \n",
    "<a href='https://www.tensorflow.org/api_docs/python/tf/keras/utils/plot_model'>Reference for plotting model</a>\n",
    "5. Train only last 2 Conv layers identical to FC layers, 1 output layer. Don't train the VGG-16 network. \n",
    "</pre>"
   ]
  },
  {
   "cell_type": "code",
   "execution_count": 26,
   "metadata": {
    "execution": {
     "iopub.execute_input": "2022-02-23T08:38:09.449896Z",
     "iopub.status.busy": "2022-02-23T08:38:09.449096Z",
     "iopub.status.idle": "2022-02-23T08:38:09.755914Z",
     "shell.execute_reply": "2022-02-23T08:38:09.755464Z",
     "shell.execute_reply.started": "2022-02-23T05:37:57.829841Z"
    },
    "id": "5mqK0D6yVFGT",
    "papermill": {
     "duration": 6.366385,
     "end_time": "2022-02-23T08:38:09.756068",
     "exception": false,
     "start_time": "2022-02-23T08:38:03.389683",
     "status": "completed"
    },
    "tags": []
   },
   "outputs": [
    {
     "name": "stderr",
     "output_type": "stream",
     "text": [
      "2022-02-23 08:38:09.444869: I tensorflow/core/profiler/lib/profiler_session.cc:131] Profiler session initializing.\n",
      "2022-02-23 08:38:09.444934: I tensorflow/core/profiler/lib/profiler_session.cc:146] Profiler session started.\n",
      "2022-02-23 08:38:09.613547: I tensorflow/core/profiler/lib/profiler_session.cc:164] Profiler session tear down.\n",
      "2022-02-23 08:38:09.613745: I tensorflow/core/profiler/internal/gpu/cupti_tracer.cc:1748] CUPTI activity buffer flushed\n"
     ]
    }
   ],
   "source": [
    "#lrschedule = tf.keras.callbacks.LearningRateScheduler(changeLearningRate)\n",
    "\n",
    "optimizer = tf.keras.optimizers.Adam(learning_rate=0.01) #SGD(learning_rate=0.1, decay=1e-4, momentum=0.9 ,nesterov=True ) \n",
    "\n",
    "#earlystop = tf.keras.callbacks.EarlyStopping(monitor='val_accuracy', min_delta=0.0001, patience=3, verbose=1)\n",
    "\n",
    "filepath= \"/kaggle/working/best_model_2.h5\" #\"model_save/weights-{epoch:02d}-{val_accuracy:.4f}.hdf5\"\n",
    "checkpoint = tf.keras.callbacks.ModelCheckpoint(filepath=filepath, monitor='val_accuracy',  verbose=1, save_best_only=True, mode='auto')\n",
    "\n",
    "log_dir = os.path.join(\"/kaggle/working/logs2\",'fits', datetime.datetime.now().strftime(\"%Y%m%d-%H%M%S\"))\n",
    "tensorboard_callback = tf.keras.callbacks.TensorBoard(log_dir=log_dir,histogram_freq=1,write_graph=True)"
   ]
  },
  {
   "cell_type": "code",
   "execution_count": 27,
   "metadata": {
    "execution": {
     "iopub.execute_input": "2022-02-23T08:38:20.527884Z",
     "iopub.status.busy": "2022-02-23T08:38:20.527042Z",
     "iopub.status.idle": "2022-02-23T08:38:20.867618Z",
     "shell.execute_reply": "2022-02-23T08:38:20.866792Z",
     "shell.execute_reply.started": "2022-02-23T05:37:57.832312Z"
    },
    "id": "iT-NmXzaAWJF",
    "papermill": {
     "duration": 5.827446,
     "end_time": "2022-02-23T08:38:20.867747",
     "exception": false,
     "start_time": "2022-02-23T08:38:15.040301",
     "status": "completed"
    },
    "tags": []
   },
   "outputs": [],
   "source": [
    "#https://keras.io/guides/transfer_learning/\n",
    "\n",
    "base_model = tf.keras.applications.VGG16(include_top=False,input_shape=(224, 224, 3), weights='imagenet')\n",
    "\n",
    "base_model.trainable = False\n",
    "\n",
    "inputs = tf.keras.Input(shape=(224, 224, 3))\n",
    "\n",
    "#Base Model\n",
    "\n",
    "x = base_model(inputs, training=False)\n",
    "\n",
    "\n",
    "#Conv Layer\n",
    "x = Conv2D(filters=256,kernel_size=(7,7),strides=(1,1),padding='valid',data_format='channels_last',\n",
    "              activation='relu',kernel_initializer=tf.keras.initializers.he_normal(seed=9),name='Conv1')(x)\n",
    "\n",
    "#Conv Layer\n",
    "x = Conv2D(filters=128,kernel_size=(1,1),strides=(1,1),padding='valid',data_format='channels_last',\n",
    "              activation='relu',kernel_initializer=tf.keras.initializers.he_normal(seed=9),name='Conv2')(x)\n",
    "\n",
    "x = tf.keras.layers.GlobalAveragePooling2D()(x)\n",
    "\n",
    "outputs = Dense(num_classes,activation='softmax',kernel_initializer=tf.keras.initializers.glorot_normal(seed=3),name='Output')(x)\n",
    "\n",
    "model_2 = tf.keras.Model(inputs, outputs)\n",
    "\n",
    "model_2.compile(optimizer=optimizer,\n",
    "                  loss='categorical_crossentropy', metrics=['accuracy'])"
   ]
  },
  {
   "cell_type": "code",
   "execution_count": 28,
   "metadata": {
    "execution": {
     "iopub.execute_input": "2022-02-23T08:38:31.732977Z",
     "iopub.status.busy": "2022-02-23T08:38:31.730208Z",
     "iopub.status.idle": "2022-02-23T08:38:31.736045Z",
     "shell.execute_reply": "2022-02-23T08:38:31.736566Z",
     "shell.execute_reply.started": "2022-02-23T05:37:57.834763Z"
    },
    "id": "nviEwbS5AXG8",
    "papermill": {
     "duration": 5.572849,
     "end_time": "2022-02-23T08:38:31.736716",
     "exception": false,
     "start_time": "2022-02-23T08:38:26.163867",
     "status": "completed"
    },
    "tags": []
   },
   "outputs": [
    {
     "name": "stdout",
     "output_type": "stream",
     "text": [
      "Model: \"model_1\"\n",
      "_________________________________________________________________\n",
      "Layer (type)                 Output Shape              Param #   \n",
      "=================================================================\n",
      "input_4 (InputLayer)         [(None, 224, 224, 3)]     0         \n",
      "_________________________________________________________________\n",
      "vgg16 (Functional)           (None, 7, 7, 512)         14714688  \n",
      "_________________________________________________________________\n",
      "Conv1 (Conv2D)               (None, 1, 1, 256)         6422784   \n",
      "_________________________________________________________________\n",
      "Conv2 (Conv2D)               (None, 1, 1, 128)         32896     \n",
      "_________________________________________________________________\n",
      "global_average_pooling2d_1 ( (None, 128)               0         \n",
      "_________________________________________________________________\n",
      "Output (Dense)               (None, 16)                2064      \n",
      "=================================================================\n",
      "Total params: 21,172,432\n",
      "Trainable params: 6,457,744\n",
      "Non-trainable params: 14,714,688\n",
      "_________________________________________________________________\n"
     ]
    }
   ],
   "source": [
    "model_2.summary()"
   ]
  },
  {
   "cell_type": "code",
   "execution_count": 29,
   "metadata": {
    "execution": {
     "iopub.execute_input": "2022-02-23T08:38:43.061803Z",
     "iopub.status.busy": "2022-02-23T08:38:43.060265Z",
     "iopub.status.idle": "2022-02-23T09:42:21.442284Z",
     "shell.execute_reply": "2022-02-23T09:42:21.439645Z",
     "shell.execute_reply.started": "2022-02-23T05:37:57.837209Z"
    },
    "id": "CyRz7pI3AWMG",
    "papermill": {
     "duration": 3824.196017,
     "end_time": "2022-02-23T09:42:21.442479",
     "exception": false,
     "start_time": "2022-02-23T08:38:37.246462",
     "status": "completed"
    },
    "scrolled": false,
    "tags": []
   },
   "outputs": [
    {
     "name": "stdout",
     "output_type": "stream",
     "text": [
      "Epoch 1/15\n",
      "\n",
      "Epoch 00001: Learning rate to 0.009999999776482582.\n",
      "   1/1125 [..............................] - ETA: 16:44 - loss: 3.0153 - accuracy: 0.0938"
     ]
    },
    {
     "name": "stderr",
     "output_type": "stream",
     "text": [
      "2022-02-23 08:38:44.221737: I tensorflow/core/profiler/lib/profiler_session.cc:131] Profiler session initializing.\n",
      "2022-02-23 08:38:44.221787: I tensorflow/core/profiler/lib/profiler_session.cc:146] Profiler session started.\n"
     ]
    },
    {
     "name": "stdout",
     "output_type": "stream",
     "text": [
      "   2/1125 [..............................] - ETA: 5:10 - loss: 38.1039 - accuracy: 0.0469"
     ]
    },
    {
     "name": "stderr",
     "output_type": "stream",
     "text": [
      "2022-02-23 08:38:44.525042: I tensorflow/core/profiler/lib/profiler_session.cc:66] Profiler session collecting data.\n",
      "2022-02-23 08:38:44.525444: I tensorflow/core/profiler/internal/gpu/cupti_tracer.cc:1748] CUPTI activity buffer flushed\n",
      "2022-02-23 08:38:44.661942: I tensorflow/core/profiler/internal/gpu/cupti_collector.cc:673]  GpuTracer has collected 166 callback api events and 163 activity events. \n",
      "2022-02-23 08:38:44.669126: I tensorflow/core/profiler/lib/profiler_session.cc:164] Profiler session tear down.\n",
      "2022-02-23 08:38:44.674632: I tensorflow/core/profiler/rpc/client/save_profile.cc:136] Creating directory: /kaggle/working/logs2/fits/20220223-083809/train/plugins/profile/2022_02_23_08_38_44\n",
      "\n",
      "2022-02-23 08:38:44.678150: I tensorflow/core/profiler/rpc/client/save_profile.cc:142] Dumped gzipped tool data for trace.json.gz to /kaggle/working/logs2/fits/20220223-083809/train/plugins/profile/2022_02_23_08_38_44/2e6f757348da.trace.json.gz\n",
      "2022-02-23 08:38:44.686536: I tensorflow/core/profiler/rpc/client/save_profile.cc:136] Creating directory: /kaggle/working/logs2/fits/20220223-083809/train/plugins/profile/2022_02_23_08_38_44\n",
      "\n",
      "2022-02-23 08:38:44.688340: I tensorflow/core/profiler/rpc/client/save_profile.cc:142] Dumped gzipped tool data for memory_profile.json.gz to /kaggle/working/logs2/fits/20220223-083809/train/plugins/profile/2022_02_23_08_38_44/2e6f757348da.memory_profile.json.gz\n",
      "2022-02-23 08:38:44.689228: I tensorflow/core/profiler/rpc/client/capture_profile.cc:251] Creating directory: /kaggle/working/logs2/fits/20220223-083809/train/plugins/profile/2022_02_23_08_38_44\n",
      "Dumped tool data for xplane.pb to /kaggle/working/logs2/fits/20220223-083809/train/plugins/profile/2022_02_23_08_38_44/2e6f757348da.xplane.pb\n",
      "Dumped tool data for overview_page.pb to /kaggle/working/logs2/fits/20220223-083809/train/plugins/profile/2022_02_23_08_38_44/2e6f757348da.overview_page.pb\n",
      "Dumped tool data for input_pipeline.pb to /kaggle/working/logs2/fits/20220223-083809/train/plugins/profile/2022_02_23_08_38_44/2e6f757348da.input_pipeline.pb\n",
      "Dumped tool data for tensorflow_stats.pb to /kaggle/working/logs2/fits/20220223-083809/train/plugins/profile/2022_02_23_08_38_44/2e6f757348da.tensorflow_stats.pb\n",
      "Dumped tool data for kernel_stats.pb to /kaggle/working/logs2/fits/20220223-083809/train/plugins/profile/2022_02_23_08_38_44/2e6f757348da.kernel_stats.pb\n",
      "\n"
     ]
    },
    {
     "name": "stdout",
     "output_type": "stream",
     "text": [
      "1125/1125 [==============================] - 270s 240ms/step - loss: 2.2065 - accuracy: 0.4776 - val_loss: 1.4866 - val_accuracy: 0.5212\n",
      "\n",
      "Epoch 00001: val_accuracy improved from -inf to 0.52117, saving model to /kaggle/working/best_model_2.h5\n",
      "Epoch 2/15\n",
      "\n",
      "Epoch 00002: Learning rate to 0.009999999776482582.\n",
      "1125/1125 [==============================] - 246s 218ms/step - loss: 1.3216 - accuracy: 0.5835 - val_loss: 1.3358 - val_accuracy: 0.5861\n",
      "\n",
      "Epoch 00002: val_accuracy improved from 0.52117 to 0.58608, saving model to /kaggle/working/best_model_2.h5\n",
      "Epoch 3/15\n",
      "\n",
      "Epoch 00003: Learning rate to 0.009999999776482582.\n",
      "1125/1125 [==============================] - 244s 217ms/step - loss: 1.2283 - accuracy: 0.6146 - val_loss: 1.2920 - val_accuracy: 0.6037\n",
      "\n",
      "Epoch 00003: val_accuracy improved from 0.58608 to 0.60367, saving model to /kaggle/working/best_model_2.h5\n",
      "Epoch 4/15\n",
      "\n",
      "Epoch 00004: Learning rate to 0.009999999776482582.\n",
      "1125/1125 [==============================] - 241s 214ms/step - loss: 1.1851 - accuracy: 0.6350 - val_loss: 1.2791 - val_accuracy: 0.6152\n",
      "\n",
      "Epoch 00004: val_accuracy improved from 0.60367 to 0.61517, saving model to /kaggle/working/best_model_2.h5\n",
      "Epoch 5/15\n",
      "\n",
      "Epoch 00005: Learning rate to 0.009999999776482582.\n",
      "1125/1125 [==============================] - 245s 218ms/step - loss: 1.1450 - accuracy: 0.6478 - val_loss: 1.3452 - val_accuracy: 0.6146\n",
      "\n",
      "Epoch 00005: val_accuracy did not improve from 0.61517\n",
      "Epoch 6/15\n",
      "\n",
      "Epoch 00006: Learning rate to 0.009999999776482582.\n",
      "1125/1125 [==============================] - 255s 226ms/step - loss: 1.1089 - accuracy: 0.6590 - val_loss: 1.4075 - val_accuracy: 0.5745\n",
      "\n",
      "Epoch 00006: val_accuracy did not improve from 0.61517\n",
      "Epoch 7/15\n",
      "\n",
      "Epoch 00007: Learning rate to 0.009999999776482582.\n",
      "1125/1125 [==============================] - 240s 213ms/step - loss: 1.0859 - accuracy: 0.6729 - val_loss: 1.4131 - val_accuracy: 0.6013\n",
      "\n",
      "Epoch 00007: val_accuracy did not improve from 0.61517\n",
      "Epoch 8/15\n",
      "\n",
      "Epoch 00008: Learning rate to 0.009999999776482582.\n",
      "1125/1125 [==============================] - 242s 215ms/step - loss: 1.0633 - accuracy: 0.6796 - val_loss: 1.4973 - val_accuracy: 0.5957\n",
      "\n",
      "Epoch 00008: val_accuracy did not improve from 0.61517\n",
      "Epoch 9/15\n",
      "\n",
      "Epoch 00009: Learning rate to 0.009999999776482582.\n",
      "1125/1125 [==============================] - 233s 207ms/step - loss: 1.0291 - accuracy: 0.6901 - val_loss: 1.3713 - val_accuracy: 0.6310\n",
      "\n",
      "Epoch 00009: val_accuracy improved from 0.61517 to 0.63100, saving model to /kaggle/working/best_model_2.h5\n",
      "Epoch 10/15\n",
      "\n",
      "Epoch 00010: Learning rate to 0.009999999776482582.\n",
      "1125/1125 [==============================] - 248s 220ms/step - loss: 0.9927 - accuracy: 0.7008 - val_loss: 1.4123 - val_accuracy: 0.6291\n",
      "\n",
      "Epoch 00010: val_accuracy did not improve from 0.63100\n",
      "Epoch 11/15\n",
      "\n",
      "Epoch 00011: Learning rate to 0.009999999776482582.\n",
      "1125/1125 [==============================] - 284s 252ms/step - loss: 0.9690 - accuracy: 0.7054 - val_loss: 1.2907 - val_accuracy: 0.6588\n",
      "\n",
      "Epoch 00011: val_accuracy improved from 0.63100 to 0.65883, saving model to /kaggle/working/best_model_2.h5\n",
      "Epoch 12/15\n",
      "\n",
      "Epoch 00012: Learning rate to 0.009999999776482582.\n",
      "1125/1125 [==============================] - 270s 240ms/step - loss: 0.9778 - accuracy: 0.7084 - val_loss: 1.3646 - val_accuracy: 0.6507\n",
      "\n",
      "Epoch 00012: val_accuracy did not improve from 0.65883\n",
      "Epoch 13/15\n",
      "\n",
      "Epoch 00013: Learning rate to 0.009999999776482582.\n",
      "1125/1125 [==============================] - 243s 216ms/step - loss: 0.9314 - accuracy: 0.7227 - val_loss: 1.4757 - val_accuracy: 0.6059\n",
      "\n",
      "Epoch 00013: val_accuracy did not improve from 0.65883\n",
      "Epoch 14/15\n",
      "\n",
      "Epoch 00014: Learning rate to 0.009999999776482582.\n",
      "1125/1125 [==============================] - 241s 214ms/step - loss: 0.9317 - accuracy: 0.7204 - val_loss: 1.3285 - val_accuracy: 0.6551\n",
      "\n",
      "Epoch 00014: val_accuracy did not improve from 0.65883\n",
      "Epoch 15/15\n",
      "\n",
      "Epoch 00015: Learning rate to 0.009999999776482582.\n",
      "1125/1125 [==============================] - 237s 211ms/step - loss: 0.9332 - accuracy: 0.7214 - val_loss: 1.3603 - val_accuracy: 0.6488\n",
      "\n",
      "Epoch 00015: val_accuracy did not improve from 0.65883\n"
     ]
    },
    {
     "data": {
      "text/plain": [
       "<keras.callbacks.History at 0x7fba6b3a3190>"
      ]
     },
     "execution_count": 29,
     "metadata": {},
     "output_type": "execute_result"
    }
   ],
   "source": [
    "model_2.fit(train_generator,steps_per_epoch=STEP_SIZE_TRAIN,\n",
    "          validation_data=valid_generator,\n",
    "          validation_steps=STEP_SIZE_VALID,\n",
    "          epochs=15,callbacks=[rate_own,checkpoint,tensorboard_callback])"
   ]
  },
  {
   "cell_type": "code",
   "execution_count": 9,
   "metadata": {
    "id": "TFW_rfyRAWO2",
    "papermill": {
     "duration": 11.630658,
     "end_time": "2022-02-23T09:42:44.085530",
     "exception": false,
     "start_time": "2022-02-23T09:42:32.454872",
     "status": "completed"
    },
    "tags": []
   },
   "outputs": [
    {
     "data": {
      "image/jpeg": "[encoded data removed]",
      "text/plain": [
       "<IPython.core.display.Image object>"
      ]
     },
     "execution_count": 9,
     "metadata": {
      "image/jpeg": {
       "height": 700,
       "width": 700
      }
     },
     "output_type": "execute_result"
    }
   ],
   "source": [
    "from IPython.display import Image \n",
    "Image('TF_model2.jpg',width=700,height=700) "
   ]
  },
  {
   "cell_type": "code",
   "execution_count": null,
   "metadata": {
    "id": "Dn2887MPAWRh",
    "papermill": {
     "duration": 10.852187,
     "end_time": "2022-02-23T09:43:05.864683",
     "exception": false,
     "start_time": "2022-02-23T09:42:55.012496",
     "status": "completed"
    },
    "tags": []
   },
   "outputs": [],
   "source": []
  },
  {
   "cell_type": "code",
   "execution_count": null,
   "metadata": {
    "id": "tXv5uL8IVFGV",
    "papermill": {
     "duration": 10.990406,
     "end_time": "2022-02-23T09:43:28.384236",
     "exception": false,
     "start_time": "2022-02-23T09:43:17.393830",
     "status": "completed"
    },
    "tags": []
   },
   "outputs": [],
   "source": []
  },
  {
   "cell_type": "markdown",
   "metadata": {
    "id": "amKbfojfcAE-",
    "papermill": {
     "duration": 11.328228,
     "end_time": "2022-02-23T09:43:50.520666",
     "exception": false,
     "start_time": "2022-02-23T09:43:39.192438",
     "status": "completed"
    },
    "tags": []
   },
   "source": [
    "### Model-3"
   ]
  },
  {
   "cell_type": "markdown",
   "metadata": {
    "id": "N9AULF-PcAFC",
    "papermill": {
     "duration": 10.888755,
     "end_time": "2022-02-23T09:44:12.196539",
     "exception": false,
     "start_time": "2022-02-23T09:44:01.307784",
     "status": "completed"
    },
    "tags": []
   },
   "source": [
    "<pre>\n",
    "1. Use same network as Model-2 '<b>INPUT --> VGG-16 without Top layers(FC) --> 2 Conv Layers identical to FC --> Output Layer</b>' and train only Last 6 Layers of VGG-16 network, 2 Conv layers identical to FC layers, 1 output layer.\n",
    "</pre>"
   ]
  },
  {
   "cell_type": "code",
   "execution_count": 30,
   "metadata": {
    "execution": {
     "iopub.execute_input": "2022-02-23T09:44:34.328984Z",
     "iopub.status.busy": "2022-02-23T09:44:34.328073Z",
     "iopub.status.idle": "2022-02-23T09:44:34.639516Z",
     "shell.execute_reply": "2022-02-23T09:44:34.640096Z",
     "shell.execute_reply.started": "2022-02-23T05:37:57.839675Z"
    },
    "id": "vJljTcaeVFGY",
    "papermill": {
     "duration": 11.224534,
     "end_time": "2022-02-23T09:44:34.640303",
     "exception": false,
     "start_time": "2022-02-23T09:44:23.415769",
     "status": "completed"
    },
    "tags": []
   },
   "outputs": [
    {
     "name": "stderr",
     "output_type": "stream",
     "text": [
      "2022-02-23 09:44:34.325721: I tensorflow/core/profiler/lib/profiler_session.cc:131] Profiler session initializing.\n",
      "2022-02-23 09:44:34.325815: I tensorflow/core/profiler/lib/profiler_session.cc:146] Profiler session started.\n",
      "2022-02-23 09:44:34.499333: I tensorflow/core/profiler/lib/profiler_session.cc:164] Profiler session tear down.\n",
      "2022-02-23 09:44:34.499511: I tensorflow/core/profiler/internal/gpu/cupti_tracer.cc:1748] CUPTI activity buffer flushed\n"
     ]
    }
   ],
   "source": [
    "#lrschedule = tf.keras.callbacks.LearningRateScheduler(changeLearningRate)\n",
    "\n",
    "optimizer = tf.keras.optimizers.Adam(learning_rate=0.01) #SGD(learning_rate=0.1, decay=1e-4, momentum=0.9 ,nesterov=True ) \n",
    "\n",
    "#earlystop = tf.keras.callbacks.EarlyStopping(monitor='val_accuracy', min_delta=0.0001, patience=3, verbose=1)\n",
    "\n",
    "filepath= \"/kaggle/working/best_model_3.h5\" #\"model_save/weights-{epoch:02d}-{val_accuracy:.4f}.hdf5\"\n",
    "checkpoint = tf.keras.callbacks.ModelCheckpoint(filepath=filepath, monitor='val_accuracy',  verbose=1, save_best_only=True, mode='auto')\n",
    "\n",
    "log_dir = os.path.join(\"/kaggle/working/logs3\",'fits', datetime.datetime.now().strftime(\"%Y%m%d-%H%M%S\"))\n",
    "tensorboard_callback = tf.keras.callbacks.TensorBoard(log_dir=log_dir,histogram_freq=1,write_graph=True)"
   ]
  },
  {
   "cell_type": "code",
   "execution_count": 31,
   "metadata": {
    "execution": {
     "iopub.execute_input": "2022-02-23T09:44:56.897162Z",
     "iopub.status.busy": "2022-02-23T09:44:56.896343Z",
     "iopub.status.idle": "2022-02-23T09:44:57.229204Z",
     "shell.execute_reply": "2022-02-23T09:44:57.228693Z",
     "shell.execute_reply.started": "2022-02-23T05:37:57.842227Z"
    },
    "id": "Jtdlgls0VFGZ",
    "papermill": {
     "duration": 11.749546,
     "end_time": "2022-02-23T09:44:57.229344",
     "exception": false,
     "start_time": "2022-02-23T09:44:45.479798",
     "status": "completed"
    },
    "tags": []
   },
   "outputs": [],
   "source": [
    "#https://keras.io/guides/transfer_learning/\n",
    "\n",
    "base_model = tf.keras.applications.VGG16(include_top=False,input_shape=(224, 224, 3), weights='imagenet')\n",
    "\n",
    "for layer in base_model.layers[:-6]:\n",
    "    layer.trainable = False\n",
    "    \n",
    "\n",
    "inputs = tf.keras.Input(shape=(224, 224, 3))\n",
    "\n",
    "#Base Model\n",
    "\n",
    "x = base_model(inputs, training=False)\n",
    "\n",
    "\n",
    "#Conv Layer\n",
    "x = Conv2D(filters=256,kernel_size=(7,7),strides=(1,1),padding='valid',data_format='channels_last',\n",
    "              activation='relu',kernel_initializer=tf.keras.initializers.he_normal(seed=9),name='Conv1')(x)\n",
    "\n",
    "#Conv Layer\n",
    "x = Conv2D(filters=128,kernel_size=(1,1),strides=(1,1),padding='valid',data_format='channels_last',\n",
    "              activation='relu',kernel_initializer=tf.keras.initializers.he_normal(seed=9),name='Conv2')(x)\n",
    "\n",
    "x = tf.keras.layers.GlobalAveragePooling2D()(x)\n",
    "\n",
    "outputs = Dense(num_classes,activation='softmax',kernel_initializer=tf.keras.initializers.glorot_normal(seed=3),name='Output')(x)\n",
    "\n",
    "model_3 = tf.keras.Model(inputs, outputs)\n",
    "\n",
    "model_3.compile(optimizer=optimizer,\n",
    "                  loss='categorical_crossentropy', metrics=['accuracy'])"
   ]
  },
  {
   "cell_type": "code",
   "execution_count": 32,
   "metadata": {
    "execution": {
     "iopub.execute_input": "2022-02-23T09:45:18.955277Z",
     "iopub.status.busy": "2022-02-23T09:45:18.953873Z",
     "iopub.status.idle": "2022-02-23T09:45:18.960440Z",
     "shell.execute_reply": "2022-02-23T09:45:18.961067Z",
     "shell.execute_reply.started": "2022-02-23T05:37:57.844712Z"
    },
    "id": "4Ek8hNabBRGQ",
    "papermill": {
     "duration": 10.873428,
     "end_time": "2022-02-23T09:45:18.961320",
     "exception": false,
     "start_time": "2022-02-23T09:45:08.087892",
     "status": "completed"
    },
    "tags": []
   },
   "outputs": [
    {
     "name": "stdout",
     "output_type": "stream",
     "text": [
      "Model: \"model_2\"\n",
      "_________________________________________________________________\n",
      "Layer (type)                 Output Shape              Param #   \n",
      "=================================================================\n",
      "input_6 (InputLayer)         [(None, 224, 224, 3)]     0         \n",
      "_________________________________________________________________\n",
      "vgg16 (Functional)           (None, 7, 7, 512)         14714688  \n",
      "_________________________________________________________________\n",
      "Conv1 (Conv2D)               (None, 1, 1, 256)         6422784   \n",
      "_________________________________________________________________\n",
      "Conv2 (Conv2D)               (None, 1, 1, 128)         32896     \n",
      "_________________________________________________________________\n",
      "global_average_pooling2d_2 ( (None, 128)               0         \n",
      "_________________________________________________________________\n",
      "Output (Dense)               (None, 16)                2064      \n",
      "=================================================================\n",
      "Total params: 21,172,432\n",
      "Trainable params: 15,896,976\n",
      "Non-trainable params: 5,275,456\n",
      "_________________________________________________________________\n"
     ]
    }
   ],
   "source": [
    "model_3.summary()"
   ]
  },
  {
   "cell_type": "code",
   "execution_count": 33,
   "metadata": {
    "execution": {
     "iopub.execute_input": "2022-02-23T09:45:41.274943Z",
     "iopub.status.busy": "2022-02-23T09:45:41.273360Z",
     "iopub.status.idle": "2022-02-23T10:49:05.507508Z",
     "shell.execute_reply": "2022-02-23T10:49:05.507894Z",
     "shell.execute_reply.started": "2022-02-23T05:37:57.847174Z"
    },
    "id": "ZoNmsgwvBUfI",
    "papermill": {
     "duration": 3815.168545,
     "end_time": "2022-02-23T10:49:05.508060",
     "exception": false,
     "start_time": "2022-02-23T09:45:30.339515",
     "status": "completed"
    },
    "scrolled": false,
    "tags": []
   },
   "outputs": [
    {
     "name": "stdout",
     "output_type": "stream",
     "text": [
      "Epoch 1/15\n",
      "\n",
      "Epoch 00001: Learning rate to 0.009999999776482582.\n",
      "   1/1125 [..............................] - ETA: 19:49 - loss: 2.9243 - accuracy: 0.1562"
     ]
    },
    {
     "name": "stderr",
     "output_type": "stream",
     "text": [
      "2022-02-23 09:45:42.615946: I tensorflow/core/profiler/lib/profiler_session.cc:131] Profiler session initializing.\n",
      "2022-02-23 09:45:42.616000: I tensorflow/core/profiler/lib/profiler_session.cc:146] Profiler session started.\n"
     ]
    },
    {
     "name": "stdout",
     "output_type": "stream",
     "text": [
      "   2/1125 [..............................] - ETA: 5:37 - loss: 41591.7344 - accuracy: 0.0938"
     ]
    },
    {
     "name": "stderr",
     "output_type": "stream",
     "text": [
      "2022-02-23 09:45:42.954351: I tensorflow/core/profiler/lib/profiler_session.cc:66] Profiler session collecting data.\n",
      "2022-02-23 09:45:42.955556: I tensorflow/core/profiler/internal/gpu/cupti_tracer.cc:1748] CUPTI activity buffer flushed\n",
      "2022-02-23 09:45:43.092929: I tensorflow/core/profiler/internal/gpu/cupti_collector.cc:673]  GpuTracer has collected 232 callback api events and 229 activity events. \n",
      "2022-02-23 09:45:43.099697: I tensorflow/core/profiler/lib/profiler_session.cc:164] Profiler session tear down.\n",
      "2022-02-23 09:45:43.108114: I tensorflow/core/profiler/rpc/client/save_profile.cc:136] Creating directory: /kaggle/working/logs3/fits/20220223-094434/train/plugins/profile/2022_02_23_09_45_43\n",
      "\n",
      "2022-02-23 09:45:43.112351: I tensorflow/core/profiler/rpc/client/save_profile.cc:142] Dumped gzipped tool data for trace.json.gz to /kaggle/working/logs3/fits/20220223-094434/train/plugins/profile/2022_02_23_09_45_43/2e6f757348da.trace.json.gz\n",
      "2022-02-23 09:45:43.125013: I tensorflow/core/profiler/rpc/client/save_profile.cc:136] Creating directory: /kaggle/working/logs3/fits/20220223-094434/train/plugins/profile/2022_02_23_09_45_43\n",
      "\n",
      "2022-02-23 09:45:43.127738: I tensorflow/core/profiler/rpc/client/save_profile.cc:142] Dumped gzipped tool data for memory_profile.json.gz to /kaggle/working/logs3/fits/20220223-094434/train/plugins/profile/2022_02_23_09_45_43/2e6f757348da.memory_profile.json.gz\n",
      "2022-02-23 09:45:43.128606: I tensorflow/core/profiler/rpc/client/capture_profile.cc:251] Creating directory: /kaggle/working/logs3/fits/20220223-094434/train/plugins/profile/2022_02_23_09_45_43\n",
      "Dumped tool data for xplane.pb to /kaggle/working/logs3/fits/20220223-094434/train/plugins/profile/2022_02_23_09_45_43/2e6f757348da.xplane.pb\n",
      "Dumped tool data for overview_page.pb to /kaggle/working/logs3/fits/20220223-094434/train/plugins/profile/2022_02_23_09_45_43/2e6f757348da.overview_page.pb\n",
      "Dumped tool data for input_pipeline.pb to /kaggle/working/logs3/fits/20220223-094434/train/plugins/profile/2022_02_23_09_45_43/2e6f757348da.input_pipeline.pb\n",
      "Dumped tool data for tensorflow_stats.pb to /kaggle/working/logs3/fits/20220223-094434/train/plugins/profile/2022_02_23_09_45_43/2e6f757348da.tensorflow_stats.pb\n",
      "Dumped tool data for kernel_stats.pb to /kaggle/working/logs3/fits/20220223-094434/train/plugins/profile/2022_02_23_09_45_43/2e6f757348da.kernel_stats.pb\n",
      "\n"
     ]
    },
    {
     "name": "stdout",
     "output_type": "stream",
     "text": [
      "1125/1125 [==============================] - 242s 214ms/step - loss: 101.6445 - accuracy: 0.0618 - val_loss: 2.7743 - val_accuracy: 0.0593\n",
      "\n",
      "Epoch 00001: val_accuracy improved from -inf to 0.05933, saving model to /kaggle/working/best_model_3.h5\n",
      "Epoch 2/15\n",
      "\n",
      "Epoch 00002: Learning rate to 0.009999999776482582.\n",
      "1125/1125 [==============================] - 242s 215ms/step - loss: 2.7745 - accuracy: 0.0615 - val_loss: 2.7745 - val_accuracy: 0.0616\n",
      "\n",
      "Epoch 00002: val_accuracy improved from 0.05933 to 0.06158, saving model to /kaggle/working/best_model_3.h5\n",
      "Epoch 3/15\n",
      "\n",
      "Epoch 00003: Learning rate to 0.009999999776482582.\n",
      "1125/1125 [==============================] - 237s 211ms/step - loss: 2.7744 - accuracy: 0.0639 - val_loss: 2.7743 - val_accuracy: 0.0635\n",
      "\n",
      "Epoch 00003: val_accuracy improved from 0.06158 to 0.06350, saving model to /kaggle/working/best_model_3.h5\n",
      "Epoch 4/15\n",
      "\n",
      "Epoch 00004: Learning rate to 0.009999999776482582.\n",
      "1125/1125 [==============================] - 244s 217ms/step - loss: 2.7745 - accuracy: 0.0615 - val_loss: 2.7735 - val_accuracy: 0.0669\n",
      "\n",
      "Epoch 00004: val_accuracy improved from 0.06350 to 0.06692, saving model to /kaggle/working/best_model_3.h5\n",
      "Epoch 5/15\n",
      "\n",
      "Epoch 00005: Learning rate to 0.009999999776482582.\n",
      "1125/1125 [==============================] - 250s 222ms/step - loss: 2.7746 - accuracy: 0.0629 - val_loss: 2.7737 - val_accuracy: 0.0669\n",
      "\n",
      "Epoch 00005: val_accuracy did not improve from 0.06692\n",
      "Epoch 6/15\n",
      "\n",
      "Epoch 00006: Learning rate to 0.009999999776482582.\n",
      "1125/1125 [==============================] - 241s 215ms/step - loss: 2.7746 - accuracy: 0.0619 - val_loss: 2.7746 - val_accuracy: 0.0613\n",
      "\n",
      "Epoch 00006: val_accuracy did not improve from 0.06692\n",
      "Epoch 7/15\n",
      "\n",
      "Epoch 00007: Learning rate to 0.009999999776482582.\n",
      "1125/1125 [==============================] - 248s 220ms/step - loss: 2.7745 - accuracy: 0.0609 - val_loss: 2.7745 - val_accuracy: 0.0616\n",
      "\n",
      "Epoch 00007: val_accuracy did not improve from 0.06692\n",
      "Epoch 8/15\n",
      "\n",
      "Epoch 00008: Learning rate to 0.009999999776482582.\n",
      "1125/1125 [==============================] - 257s 228ms/step - loss: 2.7744 - accuracy: 0.0605 - val_loss: 2.7759 - val_accuracy: 0.0619\n",
      "\n",
      "Epoch 00008: val_accuracy did not improve from 0.06692\n",
      "Epoch 9/15\n",
      "\n",
      "Epoch 00009: Learning rate to 0.009999999776482582.\n",
      "1125/1125 [==============================] - 251s 223ms/step - loss: 2.7744 - accuracy: 0.0626 - val_loss: 2.7738 - val_accuracy: 0.0650\n",
      "\n",
      "Epoch 00009: val_accuracy did not improve from 0.06692\n",
      "Epoch 10/15\n",
      "\n",
      "Epoch 00010: Learning rate to 0.009999999776482582.\n",
      "1125/1125 [==============================] - 239s 212ms/step - loss: 2.7743 - accuracy: 0.0619 - val_loss: 2.7764 - val_accuracy: 0.0618\n",
      "\n",
      "Epoch 00010: val_accuracy did not improve from 0.06692\n",
      "Epoch 11/15\n",
      "\n",
      "Epoch 00011: Learning rate to 0.009999999776482582.\n",
      "1125/1125 [==============================] - 254s 226ms/step - loss: 2.7744 - accuracy: 0.0609 - val_loss: 2.7735 - val_accuracy: 0.0613\n",
      "\n",
      "Epoch 00011: val_accuracy did not improve from 0.06692\n",
      "Epoch 12/15\n",
      "\n",
      "Epoch 00012: Learning rate to 0.009999999776482582.\n",
      "1125/1125 [==============================] - 252s 224ms/step - loss: 2.7745 - accuracy: 0.0620 - val_loss: 2.7747 - val_accuracy: 0.0635\n",
      "\n",
      "Epoch 00012: val_accuracy did not improve from 0.06692\n",
      "Epoch 13/15\n",
      "\n",
      "Epoch 00013: Learning rate to 0.009999999776482582.\n",
      "1125/1125 [==============================] - 249s 221ms/step - loss: 2.7745 - accuracy: 0.0624 - val_loss: 2.7745 - val_accuracy: 0.0635\n",
      "\n",
      "Epoch 00013: val_accuracy did not improve from 0.06692\n",
      "Epoch 14/15\n",
      "\n",
      "Epoch 00014: Learning rate to 0.009999999776482582.\n",
      "1125/1125 [==============================] - 247s 220ms/step - loss: 2.7745 - accuracy: 0.0621 - val_loss: 2.7742 - val_accuracy: 0.0584\n",
      "\n",
      "Epoch 00014: val_accuracy did not improve from 0.06692\n",
      "Epoch 15/15\n",
      "\n",
      "Epoch 00015: Learning rate to 0.009999999776482582.\n",
      "1125/1125 [==============================] - 244s 216ms/step - loss: 2.7744 - accuracy: 0.0616 - val_loss: 2.7753 - val_accuracy: 0.0635\n",
      "\n",
      "Epoch 00015: val_accuracy did not improve from 0.06692\n"
     ]
    },
    {
     "data": {
      "text/plain": [
       "<keras.callbacks.History at 0x7fba5c6b5e10>"
      ]
     },
     "execution_count": 33,
     "metadata": {},
     "output_type": "execute_result"
    }
   ],
   "source": [
    "model_3.fit(train_generator,steps_per_epoch=STEP_SIZE_TRAIN,\n",
    "          validation_data=valid_generator,\n",
    "          validation_steps=STEP_SIZE_VALID,\n",
    "          epochs=15,callbacks=[rate_own,checkpoint,tensorboard_callback])"
   ]
  },
  {
   "cell_type": "code",
   "execution_count": 10,
   "metadata": {
    "id": "INeSUt11BYnc",
    "papermill": {
     "duration": 16.149843,
     "end_time": "2022-02-23T10:49:38.504024",
     "exception": false,
     "start_time": "2022-02-23T10:49:22.354181",
     "status": "completed"
    },
    "tags": []
   },
   "outputs": [
    {
     "data": {
      "image/jpeg": "[encoded data removed]",
      "text/plain": [
       "<IPython.core.display.Image object>"
      ]
     },
     "execution_count": 10,
     "metadata": {
      "image/jpeg": {
       "height": 700,
       "width": 700
      }
     },
     "output_type": "execute_result"
    }
   ],
   "source": [
    "from IPython.display import Image \n",
    "Image('TF_model3.jpg',width=700,height=700) "
   ]
  },
  {
   "cell_type": "markdown",
   "metadata": {
    "id": "KRWdi69GVFGa",
    "papermill": {
     "duration": 16.508493,
     "end_time": "2022-02-23T10:50:11.843042",
     "exception": false,
     "start_time": "2022-02-23T10:49:55.334549",
     "status": "completed"
    },
    "tags": []
   },
   "source": [
    "### Please write your observations or a brief summary of the results that you get after performing transfer learning with reference to model1, model2 and model3"
   ]
  },
  {
   "cell_type": "code",
   "execution_count": 9,
   "metadata": {
    "id": "v3j6IXXmVFGb",
    "papermill": {
     "duration": 16.119207,
     "end_time": "2022-02-23T10:50:44.799803",
     "exception": false,
     "start_time": "2022-02-23T10:50:28.680596",
     "status": "completed"
    },
    "tags": []
   },
   "outputs": [
    {
     "data": {
      "text/html": [
       "<style  type=\"text/css\" >\n",
       "#T_b8997748_94d7_11ec_89e5_38d5474a7753row0_col0,#T_b8997748_94d7_11ec_89e5_38d5474a7753row0_col1,#T_b8997748_94d7_11ec_89e5_38d5474a7753row1_col0,#T_b8997748_94d7_11ec_89e5_38d5474a7753row1_col1,#T_b8997748_94d7_11ec_89e5_38d5474a7753row2_col0,#T_b8997748_94d7_11ec_89e5_38d5474a7753row2_col1{\n",
       "            background-color:  black;\n",
       "            color:  White;\n",
       "            border-color:  white;\n",
       "        }</style><table id=\"T_b8997748_94d7_11ec_89e5_38d5474a7753\" ><thead>    <tr>        <th class=\"blank level0\" ></th>        <th class=\"col_heading level0 col0\" >Model</th>        <th class=\"col_heading level0 col1\" >Val Accuracy</th>    </tr></thead><tbody>\n",
       "                <tr>\n",
       "                        <th id=\"T_b8997748_94d7_11ec_89e5_38d5474a7753level0_row0\" class=\"row_heading level0 row0\" >0</th>\n",
       "                        <td id=\"T_b8997748_94d7_11ec_89e5_38d5474a7753row0_col0\" class=\"data row0 col0\" >Model 1</td>\n",
       "                        <td id=\"T_b8997748_94d7_11ec_89e5_38d5474a7753row0_col1\" class=\"data row0 col1\" >67.14</td>\n",
       "            </tr>\n",
       "            <tr>\n",
       "                        <th id=\"T_b8997748_94d7_11ec_89e5_38d5474a7753level0_row1\" class=\"row_heading level0 row1\" >1</th>\n",
       "                        <td id=\"T_b8997748_94d7_11ec_89e5_38d5474a7753row1_col0\" class=\"data row1 col0\" >Model 2</td>\n",
       "                        <td id=\"T_b8997748_94d7_11ec_89e5_38d5474a7753row1_col1\" class=\"data row1 col1\" >65.88</td>\n",
       "            </tr>\n",
       "            <tr>\n",
       "                        <th id=\"T_b8997748_94d7_11ec_89e5_38d5474a7753level0_row2\" class=\"row_heading level0 row2\" >2</th>\n",
       "                        <td id=\"T_b8997748_94d7_11ec_89e5_38d5474a7753row2_col0\" class=\"data row2 col0\" >Model 3</td>\n",
       "                        <td id=\"T_b8997748_94d7_11ec_89e5_38d5474a7753row2_col1\" class=\"data row2 col1\" >6.69</td>\n",
       "            </tr>\n",
       "    </tbody></table>"
      ],
      "text/plain": [
       "<pandas.io.formats.style.Styler at 0x18ee86a12b0>"
      ]
     },
     "execution_count": 9,
     "metadata": {},
     "output_type": "execute_result"
    }
   ],
   "source": [
    "#https://www.geeksforgeeks.org/set-pandas-dataframe-background-color-and-font-color-in-python/\n",
    "table_values = [[\"Model 1\",\"67.14\"],\n",
    "                [\"Model 2\",\"65.88\"],\n",
    "                [\"Model 3\",\"6.69\"]\n",
    "                ]\n",
    "\n",
    "table_summary = pd.DataFrame(table_values,columns=[ \"Model\", \"Val Accuracy\"])\n",
    "table_summary.style.set_properties(**{'background-color': 'black',                                                   \n",
    "                                    'color': 'White',                       \n",
    "                                    'border-color': 'white'})\n"
   ]
  },
  {
   "cell_type": "code",
   "execution_count": null,
   "metadata": {
    "id": "M0z8x6g5VFGc",
    "papermill": {
     "duration": 16.339139,
     "end_time": "2022-02-23T10:51:18.075372",
     "exception": false,
     "start_time": "2022-02-23T10:51:01.736233",
     "status": "completed"
    },
    "tags": []
   },
   "outputs": [],
   "source": []
  }
 ],
 "metadata": {
  "kernelspec": {
   "display_name": "Python 3",
   "language": "python",
   "name": "python3"
  },
  "language_info": {
   "codemirror_mode": {
    "name": "ipython",
    "version": 3
   },
   "file_extension": ".py",
   "mimetype": "text/x-python",
   "name": "python",
   "nbconvert_exporter": "python",
   "pygments_lexer": "ipython3",
   "version": "3.6.5"
  },
  "papermill": {
   "default_parameters": {},
   "duration": 12380.73997,
   "end_time": "2022-02-23T10:51:38.319517",
   "environment_variables": {},
   "exception": null,
   "input_path": "__notebook__.ipynb",
   "output_path": "__notebook__.ipynb",
   "parameters": {},
   "start_time": "2022-02-23T07:25:17.579547",
   "version": "2.3.3"
  }
 },
 "nbformat": 4,
 "nbformat_minor": 5
}
