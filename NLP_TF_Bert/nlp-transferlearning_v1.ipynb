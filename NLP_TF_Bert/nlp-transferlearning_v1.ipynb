{
 "cells": [
  {
   "cell_type": "markdown",
   "metadata": {
    "id": "5el_8SqFqVAT",
    "papermill": {
     "duration": 0.087165,
     "end_time": "2022-03-03T04:24:25.239477",
     "exception": false,
     "start_time": "2022-03-03T04:24:25.152312",
     "status": "completed"
    },
    "tags": []
   },
   "source": [
    "\n",
    "In this notebook, You will do amazon review classification with BERT.[Download data from [this](https://www.kaggle.com/snap/amazon-fine-food-reviews/data) link]\n",
    "<pre> \n",
    "It contains 5 parts as below.  Detailed instrctions are given in the each cell. please read every comment we have written. \n",
    "    1. Preprocessing \n",
    "    2. Creating a BERT model from the Tensorflow HUB.\n",
    "    3. Tokenization\n",
    "    4. getting the pretrained embedding Vector for a given review from the BERT.\n",
    "    5. Using the embedding data apply NN and classify the reviews.\n",
    "    6. Creating a Data pipeline for BERT Model. \n",
    "\n",
    "<font size=5>instructions:</font>\n",
    "\n",
    "    1. Don't change any Grader Functions. Don't manipulate any Grader functions. \n",
    "    If you manipulate any, it will be considered as plagiarised. \n",
    "    \n",
    "    2. Please read the instructions on the code cells and markdown cells. We will explain what to write. \n",
    "    \n",
    "    3. please return outputs in the same format what we asked. Eg. Don't return List if we are asking for a numpy array.\n",
    "    \n",
    "    4. Please read the external links that we are given so that you will learn the concept behind the code that you are writing.\n",
    "    \n",
    "    5. We are giving instructions at each section if necessary, please follow them. \n",
    "\n",
    "<font size=5>Every Grader function has to return True. </font>\n",
    "</pre>"
   ]
  },
  {
   "cell_type": "code",
   "execution_count": 1,
   "metadata": {
    "execution": {
     "iopub.execute_input": "2022-03-03T04:24:25.459432Z",
     "iopub.status.busy": "2022-03-03T04:24:25.458526Z",
     "iopub.status.idle": "2022-03-03T04:24:25.460031Z",
     "shell.execute_reply": "2022-03-03T04:24:25.460484Z",
     "shell.execute_reply.started": "2022-03-03T03:32:42.134256Z"
    },
    "id": "E6JSKPjKwOLP",
    "papermill": {
     "duration": 0.114941,
     "end_time": "2022-03-03T04:24:25.460696",
     "exception": false,
     "start_time": "2022-03-03T04:24:25.345755",
     "status": "completed"
    },
    "tags": []
   },
   "outputs": [],
   "source": [
    "#in this assignment you need two files reviews.csv and tokenization file\n",
    "#you can use gdown module to import both the files in colab from Google drive\n",
    "#the syntax is for gdown is !gdown --id file_id\n",
    "#please run the below cell to import the required files"
   ]
  },
  {
   "cell_type": "code",
   "execution_count": 2,
   "metadata": {
    "execution": {
     "iopub.execute_input": "2022-03-03T04:24:25.637288Z",
     "iopub.status.busy": "2022-03-03T04:24:25.636557Z",
     "iopub.status.idle": "2022-03-03T04:24:47.271526Z",
     "shell.execute_reply": "2022-03-03T04:24:47.270821Z",
     "shell.execute_reply.started": "2022-03-03T03:32:42.204225Z"
    },
    "papermill": {
     "duration": 21.726447,
     "end_time": "2022-03-03T04:24:47.271676",
     "exception": false,
     "start_time": "2022-03-03T04:24:25.545229",
     "status": "completed"
    },
    "tags": []
   },
   "outputs": [
    {
     "name": "stdout",
     "output_type": "stream",
     "text": [
      "Collecting gdown\r\n",
      "  Downloading gdown-4.4.0.tar.gz (14 kB)\r\n",
      "  Installing build dependencies ... \u001b[?25l-\b \b\\\b \b|\b \b/\b \b-\b \bdone\r\n",
      "\u001b[?25h  Getting requirements to build wheel ... \u001b[?25l-\b \b\\\b \b|\b \bdone\r\n",
      "\u001b[?25h  Preparing metadata (pyproject.toml) ... \u001b[?25l-\b \b\\\b \b|\b \bdone\r\n",
      "\u001b[?25hRequirement already satisfied: six in /opt/conda/lib/python3.7/site-packages (from gdown) (1.16.0)\r\n",
      "Requirement already satisfied: tqdm in /opt/conda/lib/python3.7/site-packages (from gdown) (4.62.3)\r\n",
      "Requirement already satisfied: requests[socks] in /opt/conda/lib/python3.7/site-packages (from gdown) (2.26.0)\r\n",
      "Requirement already satisfied: filelock in /opt/conda/lib/python3.7/site-packages (from gdown) (3.4.2)\r\n",
      "Requirement already satisfied: beautifulsoup4 in /opt/conda/lib/python3.7/site-packages (from gdown) (4.10.0)\r\n",
      "Requirement already satisfied: soupsieve>1.2 in /opt/conda/lib/python3.7/site-packages (from beautifulsoup4->gdown) (2.3.1)\r\n",
      "Requirement already satisfied: charset-normalizer~=2.0.0 in /opt/conda/lib/python3.7/site-packages (from requests[socks]->gdown) (2.0.9)\r\n",
      "Requirement already satisfied: urllib3<1.27,>=1.21.1 in /opt/conda/lib/python3.7/site-packages (from requests[socks]->gdown) (1.26.7)\r\n",
      "Requirement already satisfied: certifi>=2017.4.17 in /opt/conda/lib/python3.7/site-packages (from requests[socks]->gdown) (2021.10.8)\r\n",
      "Requirement already satisfied: idna<4,>=2.5 in /opt/conda/lib/python3.7/site-packages (from requests[socks]->gdown) (3.1)\r\n",
      "Requirement already satisfied: PySocks!=1.5.7,>=1.5.6 in /opt/conda/lib/python3.7/site-packages (from requests[socks]->gdown) (1.7.1)\r\n",
      "Building wheels for collected packages: gdown\r\n",
      "  Building wheel for gdown (pyproject.toml) ... \u001b[?25l-\b \b\\\b \b|\b \b/\b \b-\b \bdone\r\n",
      "\u001b[?25h  Created wheel for gdown: filename=gdown-4.4.0-py3-none-any.whl size=14775 sha256=a38b94f3c81eaf19b1ccf9890ec91429a08585569df12a538027ff440e86185a\r\n",
      "  Stored in directory: /root/.cache/pip/wheels/fb/c3/0e/c4d8ff8bfcb0461afff199471449f642179b74968c15b7a69c\r\n",
      "Successfully built gdown\r\n",
      "Installing collected packages: gdown\r\n",
      "Successfully installed gdown-4.4.0\r\n",
      "\u001b[33mWARNING: Running pip as the 'root' user can result in broken permissions and conflicting behaviour with the system package manager. It is recommended to use a virtual environment instead: https://pip.pypa.io/warnings/venv\u001b[0m\r\n"
     ]
    }
   ],
   "source": [
    "!pip install gdown"
   ]
  },
  {
   "cell_type": "code",
   "execution_count": 3,
   "metadata": {
    "execution": {
     "iopub.execute_input": "2022-03-03T04:24:47.461736Z",
     "iopub.status.busy": "2022-03-03T04:24:47.460875Z",
     "iopub.status.idle": "2022-03-03T04:24:59.040577Z",
     "shell.execute_reply": "2022-03-03T04:24:59.040018Z",
     "shell.execute_reply.started": "2022-03-03T03:33:03.993359Z"
    },
    "id": "NUGbEZafwwzX",
    "outputId": "84e65666-ecdd-4616-9d83-bb502ac7ade6",
    "papermill": {
     "duration": 11.676425,
     "end_time": "2022-03-03T04:24:59.040713",
     "exception": false,
     "start_time": "2022-03-03T04:24:47.364288",
     "status": "completed"
    },
    "tags": []
   },
   "outputs": [
    {
     "name": "stdout",
     "output_type": "stream",
     "text": [
      "/opt/conda/lib/python3.7/site-packages/gdown/cli.py:131: FutureWarning: Option `--id` was deprecated in version 4.3.1 and will be removed in 5.0. You don't need to pass it anymore to use a file ID.\r\n",
      "  category=FutureWarning,\r\n",
      "Downloading...\r\n",
      "From: https://drive.google.com/uc?id=1GsD8JlAc_0yJ-1151LNr6rLw83RRUPgt\r\n",
      "To: /kaggle/working/Reviews.csv\r\n",
      "100%|████████████████████████████████████████| 301M/301M [00:04<00:00, 66.2MB/s]\r\n",
      "/opt/conda/lib/python3.7/site-packages/gdown/cli.py:131: FutureWarning: Option `--id` was deprecated in version 4.3.1 and will be removed in 5.0. You don't need to pass it anymore to use a file ID.\r\n",
      "  category=FutureWarning,\r\n",
      "Downloading...\r\n",
      "From: https://drive.google.com/uc?id=13exfXiyiByluh1PfYK1EyZyizqxeCVG9\r\n",
      "To: /kaggle/working/tokenization.py\r\n",
      "100%|██████████████████████████████████████| 17.3k/17.3k [00:00<00:00, 22.1MB/s]\r\n"
     ]
    }
   ],
   "source": [
    "!gdown --id 1GsD8JlAc_0yJ-1151LNr6rLw83RRUPgt\n",
    "!gdown --id 13exfXiyiByluh1PfYK1EyZyizqxeCVG9"
   ]
  },
  {
   "cell_type": "code",
   "execution_count": 4,
   "metadata": {
    "execution": {
     "iopub.execute_input": "2022-03-03T04:24:59.244585Z",
     "iopub.status.busy": "2022-03-03T04:24:59.243792Z",
     "iopub.status.idle": "2022-03-03T04:25:04.667024Z",
     "shell.execute_reply": "2022-03-03T04:25:04.666552Z",
     "shell.execute_reply.started": "2022-03-03T03:33:11.160218Z"
    },
    "id": "wOtG4cf0qVAZ",
    "papermill": {
     "duration": 5.526584,
     "end_time": "2022-03-03T04:25:04.667198",
     "exception": false,
     "start_time": "2022-03-03T04:24:59.140614",
     "status": "completed"
    },
    "tags": []
   },
   "outputs": [],
   "source": [
    "#all imports\n",
    "import numpy as np\n",
    "import pandas as pd\n",
    "import tensorflow as tf\n",
    "import tensorflow_hub as hub\n",
    "from tensorflow.keras.models import Model\n",
    "import matplotlib.pyplot as plt"
   ]
  },
  {
   "cell_type": "code",
   "execution_count": 5,
   "metadata": {
    "execution": {
     "iopub.execute_input": "2022-03-03T04:25:07.608005Z",
     "iopub.status.busy": "2022-03-03T04:25:07.607051Z",
     "iopub.status.idle": "2022-03-03T04:25:07.614722Z",
     "shell.execute_reply": "2022-03-03T04:25:07.614092Z",
     "shell.execute_reply.started": "2022-03-03T03:33:16.803821Z"
    },
    "id": "OcmiHdAJqVAi",
    "papermill": {
     "duration": 2.848205,
     "end_time": "2022-03-03T04:25:07.614892",
     "exception": false,
     "start_time": "2022-03-03T04:25:04.766687",
     "status": "completed"
    },
    "tags": []
   },
   "outputs": [
    {
     "name": "stderr",
     "output_type": "stream",
     "text": [
      "2022-03-03 04:25:05.674138: I tensorflow/core/platform/cpu_feature_guard.cc:142] This TensorFlow binary is optimized with oneAPI Deep Neural Network Library (oneDNN) to use the following CPU instructions in performance-critical operations:  AVX2 AVX512F FMA\n",
      "To enable them in other operations, rebuild TensorFlow with the appropriate compiler flags.\n",
      "2022-03-03 04:25:05.724837: I tensorflow/stream_executor/cuda/cuda_gpu_executor.cc:937] successful NUMA node read from SysFS had negative value (-1), but there must be at least one NUMA node, so returning NUMA node zero\n",
      "2022-03-03 04:25:05.814026: I tensorflow/stream_executor/cuda/cuda_gpu_executor.cc:937] successful NUMA node read from SysFS had negative value (-1), but there must be at least one NUMA node, so returning NUMA node zero\n",
      "2022-03-03 04:25:05.814728: I tensorflow/stream_executor/cuda/cuda_gpu_executor.cc:937] successful NUMA node read from SysFS had negative value (-1), but there must be at least one NUMA node, so returning NUMA node zero\n",
      "2022-03-03 04:25:07.594872: I tensorflow/stream_executor/cuda/cuda_gpu_executor.cc:937] successful NUMA node read from SysFS had negative value (-1), but there must be at least one NUMA node, so returning NUMA node zero\n",
      "2022-03-03 04:25:07.595789: I tensorflow/stream_executor/cuda/cuda_gpu_executor.cc:937] successful NUMA node read from S"
     ]
    },
    {
     "data": {
      "text/plain": [
       "'/device:GPU:0'"
      ]
     },
     "execution_count": 5,
     "metadata": {},
     "output_type": "execute_result"
    },
    {
     "name": "stderr",
     "output_type": "stream",
     "text": [
      "ysFS had negative value (-1), but there must be at least one NUMA node, so returning NUMA node zero\n",
      "2022-03-03 04:25:07.596556: I tensorflow/stream_executor/cuda/cuda_gpu_executor.cc:937] successful NUMA node read from SysFS had negative value (-1), but there must be at least one NUMA node, so returning NUMA node zero\n",
      "2022-03-03 04:25:07.597154: I tensorflow/core/common_runtime/gpu/gpu_device.cc:1510] Created device /device:GPU:0 with 15403 MB memory:  -> device: 0, name: Tesla P100-PCIE-16GB, pci bus id: 0000:00:04.0, compute capability: 6.0\n"
     ]
    }
   ],
   "source": [
    "tf.test.gpu_device_name()"
   ]
  },
  {
   "cell_type": "markdown",
   "metadata": {
    "id": "LBsay58AqVAo",
    "papermill": {
     "duration": 0.101337,
     "end_time": "2022-03-03T04:25:07.817335",
     "exception": false,
     "start_time": "2022-03-03T04:25:07.715998",
     "status": "completed"
    },
    "tags": []
   },
   "source": [
    "<font size=4>Grader function 1 </font>"
   ]
  },
  {
   "cell_type": "code",
   "execution_count": 6,
   "metadata": {
    "execution": {
     "iopub.execute_input": "2022-03-03T04:25:08.024976Z",
     "iopub.status.busy": "2022-03-03T04:25:08.024348Z",
     "iopub.status.idle": "2022-03-03T04:25:08.027008Z",
     "shell.execute_reply": "2022-03-03T04:25:08.027434Z",
     "shell.execute_reply.started": "2022-03-03T03:33:18.725082Z"
    },
    "id": "aTBvOKFeqVAq",
    "papermill": {
     "duration": 0.109619,
     "end_time": "2022-03-03T04:25:08.027562",
     "exception": false,
     "start_time": "2022-03-03T04:25:07.917943",
     "status": "completed"
    },
    "tags": []
   },
   "outputs": [
    {
     "data": {
      "text/plain": [
       "True"
      ]
     },
     "execution_count": 6,
     "metadata": {},
     "output_type": "execute_result"
    }
   ],
   "source": [
    "def grader_tf_version():\n",
    "    assert((tf.__version__)>'2')\n",
    "    return True\n",
    "grader_tf_version()"
   ]
  },
  {
   "cell_type": "markdown",
   "metadata": {
    "id": "ZTWRqbrBqVAu",
    "papermill": {
     "duration": 0.100722,
     "end_time": "2022-03-03T04:25:08.228128",
     "exception": false,
     "start_time": "2022-03-03T04:25:08.127406",
     "status": "completed"
    },
    "tags": []
   },
   "source": [
    "<pre><font size=6>Part-1: Preprocessing</font></pre>"
   ]
  },
  {
   "cell_type": "code",
   "execution_count": 7,
   "metadata": {
    "execution": {
     "iopub.execute_input": "2022-03-03T04:25:08.435649Z",
     "iopub.status.busy": "2022-03-03T04:25:08.434775Z",
     "iopub.status.idle": "2022-03-03T04:25:12.330460Z",
     "shell.execute_reply": "2022-03-03T04:25:12.329775Z",
     "shell.execute_reply.started": "2022-03-03T03:33:18.741346Z"
    },
    "id": "B3csZKDrqVAv",
    "papermill": {
     "duration": 4.000776,
     "end_time": "2022-03-03T04:25:12.330631",
     "exception": false,
     "start_time": "2022-03-03T04:25:08.329855",
     "status": "completed"
    },
    "tags": []
   },
   "outputs": [
    {
     "name": "stdout",
     "output_type": "stream",
     "text": [
      "<class 'pandas.core.frame.DataFrame'>\n",
      "RangeIndex: 568454 entries, 0 to 568453\n",
      "Data columns (total 10 columns):\n",
      " #   Column                  Non-Null Count   Dtype \n",
      "---  ------                  --------------   ----- \n",
      " 0   Id                      568454 non-null  int64 \n",
      " 1   ProductId               568454 non-null  object\n",
      " 2   UserId                  568454 non-null  object\n",
      " 3   ProfileName             568438 non-null  object\n",
      " 4   HelpfulnessNumerator    568454 non-null  int64 \n",
      " 5   HelpfulnessDenominator  568454 non-null  int64 \n",
      " 6   Score                   568454 non-null  int64 \n",
      " 7   Time                    568454 non-null  int64 \n",
      " 8   Summary                 568427 non-null  object\n",
      " 9   Text                    568454 non-null  object\n",
      "dtypes: int64(5), object(5)\n",
      "memory usage: 43.4+ MB\n"
     ]
    }
   ],
   "source": [
    "#Read the dataset - Amazon fine food reviews\n",
    "reviews = pd.read_csv(r\"Reviews.csv\")\n",
    "#check the info of the dataset\n",
    "reviews.info()"
   ]
  },
  {
   "cell_type": "code",
   "execution_count": 8,
   "metadata": {
    "execution": {
     "iopub.execute_input": "2022-03-03T04:25:12.538098Z",
     "iopub.status.busy": "2022-03-03T04:25:12.537318Z",
     "iopub.status.idle": "2022-03-03T04:25:12.565999Z",
     "shell.execute_reply": "2022-03-03T04:25:12.566552Z",
     "shell.execute_reply.started": "2022-03-03T03:33:22.592413Z"
    },
    "id": "xokNn7qZqVAz",
    "papermill": {
     "duration": 0.134761,
     "end_time": "2022-03-03T04:25:12.566732",
     "exception": false,
     "start_time": "2022-03-03T04:25:12.431971",
     "status": "completed"
    },
    "tags": []
   },
   "outputs": [
    {
     "name": "stdout",
     "output_type": "stream",
     "text": [
      "(568454, 2)\n"
     ]
    },
    {
     "data": {
      "text/html": [
       "<div>\n",
       "<style scoped>\n",
       "    .dataframe tbody tr th:only-of-type {\n",
       "        vertical-align: middle;\n",
       "    }\n",
       "\n",
       "    .dataframe tbody tr th {\n",
       "        vertical-align: top;\n",
       "    }\n",
       "\n",
       "    .dataframe thead th {\n",
       "        text-align: right;\n",
       "    }\n",
       "</style>\n",
       "<table border=\"1\" class=\"dataframe\">\n",
       "  <thead>\n",
       "    <tr style=\"text-align: right;\">\n",
       "      <th></th>\n",
       "      <th>Text</th>\n",
       "      <th>Score</th>\n",
       "    </tr>\n",
       "  </thead>\n",
       "  <tbody>\n",
       "    <tr>\n",
       "      <th>0</th>\n",
       "      <td>I have bought several of the Vitality canned d...</td>\n",
       "      <td>5</td>\n",
       "    </tr>\n",
       "    <tr>\n",
       "      <th>1</th>\n",
       "      <td>Product arrived labeled as Jumbo Salted Peanut...</td>\n",
       "      <td>1</td>\n",
       "    </tr>\n",
       "    <tr>\n",
       "      <th>2</th>\n",
       "      <td>This is a confection that has been around a fe...</td>\n",
       "      <td>4</td>\n",
       "    </tr>\n",
       "    <tr>\n",
       "      <th>3</th>\n",
       "      <td>If you are looking for the secret ingredient i...</td>\n",
       "      <td>2</td>\n",
       "    </tr>\n",
       "    <tr>\n",
       "      <th>4</th>\n",
       "      <td>Great taffy at a great price.  There was a wid...</td>\n",
       "      <td>5</td>\n",
       "    </tr>\n",
       "  </tbody>\n",
       "</table>\n",
       "</div>"
      ],
      "text/plain": [
       "                                                Text  Score\n",
       "0  I have bought several of the Vitality canned d...      5\n",
       "1  Product arrived labeled as Jumbo Salted Peanut...      1\n",
       "2  This is a confection that has been around a fe...      4\n",
       "3  If you are looking for the secret ingredient i...      2\n",
       "4  Great taffy at a great price.  There was a wid...      5"
      ]
     },
     "execution_count": 8,
     "metadata": {},
     "output_type": "execute_result"
    }
   ],
   "source": [
    "#get only 2 columns - Text, Score\n",
    "#drop the NAN values\n",
    "\n",
    "data = reviews[['Text','Score']]\n",
    "print(data.shape)\n",
    "data.head()"
   ]
  },
  {
   "cell_type": "code",
   "execution_count": 9,
   "metadata": {
    "execution": {
     "iopub.execute_input": "2022-03-03T04:25:12.854470Z",
     "iopub.status.busy": "2022-03-03T04:25:12.853314Z",
     "iopub.status.idle": "2022-03-03T04:25:12.863540Z",
     "shell.execute_reply": "2022-03-03T04:25:12.862927Z",
     "shell.execute_reply.started": "2022-03-03T03:33:22.622897Z"
    },
    "papermill": {
     "duration": 0.194867,
     "end_time": "2022-03-03T04:25:12.863695",
     "exception": false,
     "start_time": "2022-03-03T04:25:12.668828",
     "status": "completed"
    },
    "tags": []
   },
   "outputs": [
    {
     "name": "stdout",
     "output_type": "stream",
     "text": [
      "<class 'pandas.core.frame.DataFrame'>\n",
      "RangeIndex: 568454 entries, 0 to 568453\n",
      "Data columns (total 2 columns):\n",
      " #   Column  Non-Null Count   Dtype \n",
      "---  ------  --------------   ----- \n",
      " 0   Text    568454 non-null  object\n",
      " 1   Score   568454 non-null  int64 \n",
      "dtypes: int64(1), object(1)\n",
      "memory usage: 8.7+ MB\n"
     ]
    }
   ],
   "source": [
    "data.info()"
   ]
  },
  {
   "cell_type": "code",
   "execution_count": 10,
   "metadata": {
    "execution": {
     "iopub.execute_input": "2022-03-03T04:25:13.074391Z",
     "iopub.status.busy": "2022-03-03T04:25:13.072805Z",
     "iopub.status.idle": "2022-03-03T04:25:13.074993Z",
     "shell.execute_reply": "2022-03-03T04:25:13.075498Z",
     "shell.execute_reply.started": "2022-03-03T03:33:22.707873Z"
    },
    "papermill": {
     "duration": 0.109325,
     "end_time": "2022-03-03T04:25:13.075647",
     "exception": false,
     "start_time": "2022-03-03T04:25:12.966322",
     "status": "completed"
    },
    "tags": []
   },
   "outputs": [],
   "source": [
    "#no null values present"
   ]
  },
  {
   "cell_type": "code",
   "execution_count": 11,
   "metadata": {
    "execution": {
     "iopub.execute_input": "2022-03-03T04:25:13.362938Z",
     "iopub.status.busy": "2022-03-03T04:25:13.361837Z",
     "iopub.status.idle": "2022-03-03T04:25:13.412668Z",
     "shell.execute_reply": "2022-03-03T04:25:13.413096Z",
     "shell.execute_reply.started": "2022-03-03T03:33:22.716108Z"
    },
    "papermill": {
     "duration": 0.236418,
     "end_time": "2022-03-03T04:25:13.413243",
     "exception": false,
     "start_time": "2022-03-03T04:25:13.176825",
     "status": "completed"
    },
    "tags": []
   },
   "outputs": [
    {
     "name": "stdout",
     "output_type": "stream",
     "text": [
      "(568454, 2)\n"
     ]
    },
    {
     "data": {
      "text/html": [
       "<div>\n",
       "<style scoped>\n",
       "    .dataframe tbody tr th:only-of-type {\n",
       "        vertical-align: middle;\n",
       "    }\n",
       "\n",
       "    .dataframe tbody tr th {\n",
       "        vertical-align: top;\n",
       "    }\n",
       "\n",
       "    .dataframe thead th {\n",
       "        text-align: right;\n",
       "    }\n",
       "</style>\n",
       "<table border=\"1\" class=\"dataframe\">\n",
       "  <thead>\n",
       "    <tr style=\"text-align: right;\">\n",
       "      <th></th>\n",
       "      <th>Text</th>\n",
       "      <th>Score</th>\n",
       "    </tr>\n",
       "  </thead>\n",
       "  <tbody>\n",
       "    <tr>\n",
       "      <th>0</th>\n",
       "      <td>I have bought several of the Vitality canned d...</td>\n",
       "      <td>5</td>\n",
       "    </tr>\n",
       "    <tr>\n",
       "      <th>1</th>\n",
       "      <td>Product arrived labeled as Jumbo Salted Peanut...</td>\n",
       "      <td>1</td>\n",
       "    </tr>\n",
       "    <tr>\n",
       "      <th>2</th>\n",
       "      <td>This is a confection that has been around a fe...</td>\n",
       "      <td>4</td>\n",
       "    </tr>\n",
       "    <tr>\n",
       "      <th>3</th>\n",
       "      <td>If you are looking for the secret ingredient i...</td>\n",
       "      <td>2</td>\n",
       "    </tr>\n",
       "    <tr>\n",
       "      <th>4</th>\n",
       "      <td>Great taffy at a great price.  There was a wid...</td>\n",
       "      <td>5</td>\n",
       "    </tr>\n",
       "  </tbody>\n",
       "</table>\n",
       "</div>"
      ],
      "text/plain": [
       "                                                Text  Score\n",
       "0  I have bought several of the Vitality canned d...      5\n",
       "1  Product arrived labeled as Jumbo Salted Peanut...      1\n",
       "2  This is a confection that has been around a fe...      4\n",
       "3  If you are looking for the secret ingredient i...      2\n",
       "4  Great taffy at a great price.  There was a wid...      5"
      ]
     },
     "execution_count": 11,
     "metadata": {},
     "output_type": "execute_result"
    }
   ],
   "source": [
    "data = data.dropna()\n",
    "print(data.shape)\n",
    "data.head()"
   ]
  },
  {
   "cell_type": "code",
   "execution_count": 12,
   "metadata": {
    "execution": {
     "iopub.execute_input": "2022-03-03T04:25:13.629563Z",
     "iopub.status.busy": "2022-03-03T04:25:13.628800Z",
     "iopub.status.idle": "2022-03-03T04:25:13.703115Z",
     "shell.execute_reply": "2022-03-03T04:25:13.703618Z",
     "shell.execute_reply.started": "2022-03-03T03:33:22.846843Z"
    },
    "papermill": {
     "duration": 0.186026,
     "end_time": "2022-03-03T04:25:13.703797",
     "exception": false,
     "start_time": "2022-03-03T04:25:13.517771",
     "status": "completed"
    },
    "tags": []
   },
   "outputs": [
    {
     "data": {
      "text/plain": [
       "(525814, 2)"
      ]
     },
     "execution_count": 12,
     "metadata": {},
     "output_type": "execute_result"
    }
   ],
   "source": [
    "data.drop(data[data['Score'] == 3].index, inplace = True)\n",
    "data.shape"
   ]
  },
  {
   "cell_type": "code",
   "execution_count": 13,
   "metadata": {
    "execution": {
     "iopub.execute_input": "2022-03-03T04:25:13.914610Z",
     "iopub.status.busy": "2022-03-03T04:25:13.914074Z",
     "iopub.status.idle": "2022-03-03T04:25:14.193317Z",
     "shell.execute_reply": "2022-03-03T04:25:14.193730Z",
     "shell.execute_reply.started": "2022-03-03T03:33:22.929316Z"
    },
    "id": "5GZt7pVkqVA4",
    "papermill": {
     "duration": 0.386807,
     "end_time": "2022-03-03T04:25:14.193905",
     "exception": false,
     "start_time": "2022-03-03T04:25:13.807098",
     "status": "completed"
    },
    "tags": []
   },
   "outputs": [],
   "source": [
    "#if score> 3, set score = 1\n",
    "#if score<=2, set score = 0\n",
    "#if score == 3, remove the rows. \n",
    "\n",
    "def partition(x):\n",
    "    if x < 3:\n",
    "        return 0\n",
    "    return 1\n",
    "\n",
    "data['Score'] = data['Score'].map(partition)"
   ]
  },
  {
   "cell_type": "code",
   "execution_count": 14,
   "metadata": {
    "execution": {
     "iopub.execute_input": "2022-03-03T04:25:14.410198Z",
     "iopub.status.busy": "2022-03-03T04:25:14.409565Z",
     "iopub.status.idle": "2022-03-03T04:25:14.412386Z",
     "shell.execute_reply": "2022-03-03T04:25:14.412782Z",
     "shell.execute_reply.started": "2022-03-03T03:33:23.218831Z"
    },
    "papermill": {
     "duration": 0.115816,
     "end_time": "2022-03-03T04:25:14.412907",
     "exception": false,
     "start_time": "2022-03-03T04:25:14.297091",
     "status": "completed"
    },
    "tags": []
   },
   "outputs": [
    {
     "data": {
      "text/html": [
       "<div>\n",
       "<style scoped>\n",
       "    .dataframe tbody tr th:only-of-type {\n",
       "        vertical-align: middle;\n",
       "    }\n",
       "\n",
       "    .dataframe tbody tr th {\n",
       "        vertical-align: top;\n",
       "    }\n",
       "\n",
       "    .dataframe thead th {\n",
       "        text-align: right;\n",
       "    }\n",
       "</style>\n",
       "<table border=\"1\" class=\"dataframe\">\n",
       "  <thead>\n",
       "    <tr style=\"text-align: right;\">\n",
       "      <th></th>\n",
       "      <th>Text</th>\n",
       "      <th>Score</th>\n",
       "    </tr>\n",
       "  </thead>\n",
       "  <tbody>\n",
       "    <tr>\n",
       "      <th>0</th>\n",
       "      <td>I have bought several of the Vitality canned d...</td>\n",
       "      <td>1</td>\n",
       "    </tr>\n",
       "    <tr>\n",
       "      <th>1</th>\n",
       "      <td>Product arrived labeled as Jumbo Salted Peanut...</td>\n",
       "      <td>0</td>\n",
       "    </tr>\n",
       "    <tr>\n",
       "      <th>2</th>\n",
       "      <td>This is a confection that has been around a fe...</td>\n",
       "      <td>1</td>\n",
       "    </tr>\n",
       "    <tr>\n",
       "      <th>3</th>\n",
       "      <td>If you are looking for the secret ingredient i...</td>\n",
       "      <td>0</td>\n",
       "    </tr>\n",
       "    <tr>\n",
       "      <th>4</th>\n",
       "      <td>Great taffy at a great price.  There was a wid...</td>\n",
       "      <td>1</td>\n",
       "    </tr>\n",
       "  </tbody>\n",
       "</table>\n",
       "</div>"
      ],
      "text/plain": [
       "                                                Text  Score\n",
       "0  I have bought several of the Vitality canned d...      1\n",
       "1  Product arrived labeled as Jumbo Salted Peanut...      0\n",
       "2  This is a confection that has been around a fe...      1\n",
       "3  If you are looking for the secret ingredient i...      0\n",
       "4  Great taffy at a great price.  There was a wid...      1"
      ]
     },
     "execution_count": 14,
     "metadata": {},
     "output_type": "execute_result"
    }
   ],
   "source": [
    "data.head()"
   ]
  },
  {
   "cell_type": "code",
   "execution_count": 15,
   "metadata": {
    "execution": {
     "iopub.execute_input": "2022-03-03T04:25:14.682426Z",
     "iopub.status.busy": "2022-03-03T04:25:14.681588Z",
     "iopub.status.idle": "2022-03-03T04:25:14.684583Z",
     "shell.execute_reply": "2022-03-03T04:25:14.684993Z",
     "shell.execute_reply.started": "2022-03-03T03:33:23.229992Z"
    },
    "papermill": {
     "duration": 0.168792,
     "end_time": "2022-03-03T04:25:14.685156",
     "exception": false,
     "start_time": "2022-03-03T04:25:14.516364",
     "status": "completed"
    },
    "tags": []
   },
   "outputs": [
    {
     "data": {
      "text/html": [
       "<div>\n",
       "<style scoped>\n",
       "    .dataframe tbody tr th:only-of-type {\n",
       "        vertical-align: middle;\n",
       "    }\n",
       "\n",
       "    .dataframe tbody tr th {\n",
       "        vertical-align: top;\n",
       "    }\n",
       "\n",
       "    .dataframe thead th {\n",
       "        text-align: right;\n",
       "    }\n",
       "</style>\n",
       "<table border=\"1\" class=\"dataframe\">\n",
       "  <thead>\n",
       "    <tr style=\"text-align: right;\">\n",
       "      <th></th>\n",
       "      <th>Text</th>\n",
       "      <th>Score</th>\n",
       "    </tr>\n",
       "  </thead>\n",
       "  <tbody>\n",
       "    <tr>\n",
       "      <th>0</th>\n",
       "      <td>I have bought several of the Vitality canned d...</td>\n",
       "      <td>1</td>\n",
       "    </tr>\n",
       "    <tr>\n",
       "      <th>1</th>\n",
       "      <td>Product arrived labeled as Jumbo Salted Peanut...</td>\n",
       "      <td>0</td>\n",
       "    </tr>\n",
       "    <tr>\n",
       "      <th>2</th>\n",
       "      <td>This is a confection that has been around a fe...</td>\n",
       "      <td>1</td>\n",
       "    </tr>\n",
       "    <tr>\n",
       "      <th>3</th>\n",
       "      <td>If you are looking for the secret ingredient i...</td>\n",
       "      <td>0</td>\n",
       "    </tr>\n",
       "    <tr>\n",
       "      <th>4</th>\n",
       "      <td>Great taffy at a great price.  There was a wid...</td>\n",
       "      <td>1</td>\n",
       "    </tr>\n",
       "  </tbody>\n",
       "</table>\n",
       "</div>"
      ],
      "text/plain": [
       "                                                Text  Score\n",
       "0  I have bought several of the Vitality canned d...      1\n",
       "1  Product arrived labeled as Jumbo Salted Peanut...      0\n",
       "2  This is a confection that has been around a fe...      1\n",
       "3  If you are looking for the secret ingredient i...      0\n",
       "4  Great taffy at a great price.  There was a wid...      1"
      ]
     },
     "execution_count": 15,
     "metadata": {},
     "output_type": "execute_result"
    }
   ],
   "source": [
    "reviews = data\n",
    "reviews.head()"
   ]
  },
  {
   "cell_type": "markdown",
   "metadata": {
    "id": "oVe8LlkrqVA6",
    "papermill": {
     "duration": 0.103556,
     "end_time": "2022-03-03T04:25:14.892539",
     "exception": false,
     "start_time": "2022-03-03T04:25:14.788983",
     "status": "completed"
    },
    "tags": []
   },
   "source": [
    "<font size=4>Grader function 2 </font>"
   ]
  },
  {
   "cell_type": "code",
   "execution_count": 16,
   "metadata": {
    "execution": {
     "iopub.execute_input": "2022-03-03T04:25:15.142280Z",
     "iopub.status.busy": "2022-03-03T04:25:15.141637Z",
     "iopub.status.idle": "2022-03-03T04:25:15.144329Z",
     "shell.execute_reply": "2022-03-03T04:25:15.144726Z",
     "shell.execute_reply.started": "2022-03-03T03:33:23.297254Z"
    },
    "id": "7mDXSiJpqVA7",
    "papermill": {
     "duration": 0.118515,
     "end_time": "2022-03-03T04:25:15.144854",
     "exception": false,
     "start_time": "2022-03-03T04:25:15.026339",
     "status": "completed"
    },
    "tags": []
   },
   "outputs": [
    {
     "data": {
      "text/plain": [
       "True"
      ]
     },
     "execution_count": 16,
     "metadata": {},
     "output_type": "execute_result"
    }
   ],
   "source": [
    "def grader_reviews():\n",
    "    temp_shape = (reviews.shape == (525814, 2)) and (reviews.Score.value_counts()[1]==443777)\n",
    "    assert(temp_shape == True)\n",
    "    return True\n",
    "grader_reviews()"
   ]
  },
  {
   "cell_type": "code",
   "execution_count": 17,
   "metadata": {
    "execution": {
     "iopub.execute_input": "2022-03-03T04:25:15.374935Z",
     "iopub.status.busy": "2022-03-03T04:25:15.374165Z",
     "iopub.status.idle": "2022-03-03T04:25:17.841925Z",
     "shell.execute_reply": "2022-03-03T04:25:17.841367Z",
     "shell.execute_reply.started": "2022-03-03T03:33:23.313930Z"
    },
    "id": "xYZ-UB9UqVA-",
    "papermill": {
     "duration": 2.590392,
     "end_time": "2022-03-03T04:25:17.842126",
     "exception": false,
     "start_time": "2022-03-03T04:25:15.251734",
     "status": "completed"
    },
    "tags": []
   },
   "outputs": [],
   "source": [
    "def get_wordlen(x):\n",
    "    return len(x.split())\n",
    "reviews['len'] = reviews.Text.apply(get_wordlen)\n",
    "reviews = reviews[reviews.len<50]\n",
    "reviews = reviews.sample(n=100000, random_state=30)"
   ]
  },
  {
   "cell_type": "code",
   "execution_count": 18,
   "metadata": {
    "execution": {
     "iopub.execute_input": "2022-03-03T04:25:18.059088Z",
     "iopub.status.busy": "2022-03-03T04:25:18.058320Z",
     "iopub.status.idle": "2022-03-03T04:25:18.063476Z",
     "shell.execute_reply": "2022-03-03T04:25:18.062855Z",
     "shell.execute_reply.started": "2022-03-03T03:33:25.816825Z"
    },
    "papermill": {
     "duration": 0.116628,
     "end_time": "2022-03-03T04:25:18.063624",
     "exception": false,
     "start_time": "2022-03-03T04:25:17.946996",
     "status": "completed"
    },
    "tags": []
   },
   "outputs": [
    {
     "name": "stdout",
     "output_type": "stream",
     "text": [
      "(100000, 3)\n"
     ]
    },
    {
     "data": {
      "text/html": [
       "<div>\n",
       "<style scoped>\n",
       "    .dataframe tbody tr th:only-of-type {\n",
       "        vertical-align: middle;\n",
       "    }\n",
       "\n",
       "    .dataframe tbody tr th {\n",
       "        vertical-align: top;\n",
       "    }\n",
       "\n",
       "    .dataframe thead th {\n",
       "        text-align: right;\n",
       "    }\n",
       "</style>\n",
       "<table border=\"1\" class=\"dataframe\">\n",
       "  <thead>\n",
       "    <tr style=\"text-align: right;\">\n",
       "      <th></th>\n",
       "      <th>Text</th>\n",
       "      <th>Score</th>\n",
       "      <th>len</th>\n",
       "    </tr>\n",
       "  </thead>\n",
       "  <tbody>\n",
       "    <tr>\n",
       "      <th>64117</th>\n",
       "      <td>The tea was of great quality and it tasted lik...</td>\n",
       "      <td>1</td>\n",
       "      <td>30</td>\n",
       "    </tr>\n",
       "    <tr>\n",
       "      <th>418112</th>\n",
       "      <td>My cat loves this.  The pellets are nice and s...</td>\n",
       "      <td>1</td>\n",
       "      <td>31</td>\n",
       "    </tr>\n",
       "    <tr>\n",
       "      <th>357829</th>\n",
       "      <td>Great product. Does not completely get rid of ...</td>\n",
       "      <td>1</td>\n",
       "      <td>41</td>\n",
       "    </tr>\n",
       "    <tr>\n",
       "      <th>175872</th>\n",
       "      <td>This gum is my favorite!  I would advise every...</td>\n",
       "      <td>1</td>\n",
       "      <td>27</td>\n",
       "    </tr>\n",
       "    <tr>\n",
       "      <th>178716</th>\n",
       "      <td>I also found out about this product because of...</td>\n",
       "      <td>1</td>\n",
       "      <td>22</td>\n",
       "    </tr>\n",
       "  </tbody>\n",
       "</table>\n",
       "</div>"
      ],
      "text/plain": [
       "                                                     Text  Score  len\n",
       "64117   The tea was of great quality and it tasted lik...      1   30\n",
       "418112  My cat loves this.  The pellets are nice and s...      1   31\n",
       "357829  Great product. Does not completely get rid of ...      1   41\n",
       "175872  This gum is my favorite!  I would advise every...      1   27\n",
       "178716  I also found out about this product because of...      1   22"
      ]
     },
     "execution_count": 18,
     "metadata": {},
     "output_type": "execute_result"
    }
   ],
   "source": [
    "print(reviews.shape)\n",
    "reviews.head()"
   ]
  },
  {
   "cell_type": "code",
   "execution_count": 19,
   "metadata": {
    "execution": {
     "iopub.execute_input": "2022-03-03T04:25:18.276753Z",
     "iopub.status.busy": "2022-03-03T04:25:18.276104Z",
     "iopub.status.idle": "2022-03-03T04:25:18.278629Z",
     "shell.execute_reply": "2022-03-03T04:25:18.279136Z",
     "shell.execute_reply.started": "2022-03-03T03:33:25.835656Z"
    },
    "papermill": {
     "duration": 0.111702,
     "end_time": "2022-03-03T04:25:18.279279",
     "exception": false,
     "start_time": "2022-03-03T04:25:18.167577",
     "status": "completed"
    },
    "tags": []
   },
   "outputs": [
    {
     "data": {
      "text/plain": [
       "'A fairly expensive item but kitty loves it. Ofcourse plain old kitten<br />food does not taste good after eating these treats.'"
      ]
     },
     "execution_count": 19,
     "metadata": {},
     "output_type": "execute_result"
    }
   ],
   "source": [
    "reviews.Text.iloc[51]"
   ]
  },
  {
   "cell_type": "code",
   "execution_count": 20,
   "metadata": {
    "execution": {
     "iopub.execute_input": "2022-03-03T04:25:18.493458Z",
     "iopub.status.busy": "2022-03-03T04:25:18.492620Z",
     "iopub.status.idle": "2022-03-03T04:25:45.077515Z",
     "shell.execute_reply": "2022-03-03T04:25:45.077942Z",
     "shell.execute_reply.started": "2022-03-03T03:33:25.845020Z"
    },
    "id": "CvldQriGqVBB",
    "papermill": {
     "duration": 26.694659,
     "end_time": "2022-03-03T04:25:45.078107",
     "exception": false,
     "start_time": "2022-03-03T04:25:18.383448",
     "status": "completed"
    },
    "tags": []
   },
   "outputs": [
    {
     "name": "stderr",
     "output_type": "stream",
     "text": [
      "100%|██████████| 100000/100000 [00:26<00:00, 3776.08it/s]\n"
     ]
    }
   ],
   "source": [
    "#remove HTML from the Text column and save in the Text column only\n",
    "#reference notebook\n",
    "\n",
    "from tqdm import tqdm\n",
    "from bs4 import BeautifulSoup\n",
    "import re\n",
    "preprocessed_reviews = []\n",
    "#tqdm is used for printing status bar\n",
    "\n",
    "for sentence in tqdm(reviews['Text'].values):\n",
    "    sentence = re.sub(r\"http\\S+\", \" \", sentence)\n",
    "    sentence = BeautifulSoup(sentence, 'lxml').get_text()\n",
    "    sentence = re.sub(\"\\S*\\dS*\", \" \",sentence).strip()\n",
    "    sentence = re.sub('[^A-Za-z]+', \" \", sentence)\n",
    "    \n",
    "    preprocessed_reviews.append(sentence.strip())"
   ]
  },
  {
   "cell_type": "code",
   "execution_count": 21,
   "metadata": {
    "execution": {
     "iopub.execute_input": "2022-03-03T04:25:45.458073Z",
     "iopub.status.busy": "2022-03-03T04:25:45.457061Z",
     "iopub.status.idle": "2022-03-03T04:25:45.465858Z",
     "shell.execute_reply": "2022-03-03T04:25:45.466278Z",
     "shell.execute_reply.started": "2022-03-03T03:33:53.414185Z"
    },
    "papermill": {
     "duration": 0.205596,
     "end_time": "2022-03-03T04:25:45.466432",
     "exception": false,
     "start_time": "2022-03-03T04:25:45.260836",
     "status": "completed"
    },
    "tags": []
   },
   "outputs": [],
   "source": [
    "reviews['Text'] = preprocessed_reviews"
   ]
  },
  {
   "cell_type": "code",
   "execution_count": 22,
   "metadata": {
    "execution": {
     "iopub.execute_input": "2022-03-03T04:25:45.839821Z",
     "iopub.status.busy": "2022-03-03T04:25:45.839108Z",
     "iopub.status.idle": "2022-03-03T04:25:45.842134Z",
     "shell.execute_reply": "2022-03-03T04:25:45.842558Z",
     "shell.execute_reply.started": "2022-03-03T03:33:53.433257Z"
    },
    "papermill": {
     "duration": 0.193307,
     "end_time": "2022-03-03T04:25:45.842690",
     "exception": false,
     "start_time": "2022-03-03T04:25:45.649383",
     "status": "completed"
    },
    "tags": []
   },
   "outputs": [
    {
     "data": {
      "text/html": [
       "<div>\n",
       "<style scoped>\n",
       "    .dataframe tbody tr th:only-of-type {\n",
       "        vertical-align: middle;\n",
       "    }\n",
       "\n",
       "    .dataframe tbody tr th {\n",
       "        vertical-align: top;\n",
       "    }\n",
       "\n",
       "    .dataframe thead th {\n",
       "        text-align: right;\n",
       "    }\n",
       "</style>\n",
       "<table border=\"1\" class=\"dataframe\">\n",
       "  <thead>\n",
       "    <tr style=\"text-align: right;\">\n",
       "      <th></th>\n",
       "      <th>Text</th>\n",
       "      <th>Score</th>\n",
       "      <th>len</th>\n",
       "    </tr>\n",
       "  </thead>\n",
       "  <tbody>\n",
       "    <tr>\n",
       "      <th>64117</th>\n",
       "      <td>The tea was of great quality and it tasted lik...</td>\n",
       "      <td>1</td>\n",
       "      <td>30</td>\n",
       "    </tr>\n",
       "    <tr>\n",
       "      <th>418112</th>\n",
       "      <td>My cat loves this The pellets are nice and sma...</td>\n",
       "      <td>1</td>\n",
       "      <td>31</td>\n",
       "    </tr>\n",
       "    <tr>\n",
       "      <th>357829</th>\n",
       "      <td>Great product Does not completely get rid of h...</td>\n",
       "      <td>1</td>\n",
       "      <td>41</td>\n",
       "    </tr>\n",
       "    <tr>\n",
       "      <th>175872</th>\n",
       "      <td>This gum is my favorite I would advise everyon...</td>\n",
       "      <td>1</td>\n",
       "      <td>27</td>\n",
       "    </tr>\n",
       "    <tr>\n",
       "      <th>178716</th>\n",
       "      <td>I also found out about this product because of...</td>\n",
       "      <td>1</td>\n",
       "      <td>22</td>\n",
       "    </tr>\n",
       "  </tbody>\n",
       "</table>\n",
       "</div>"
      ],
      "text/plain": [
       "                                                     Text  Score  len\n",
       "64117   The tea was of great quality and it tasted lik...      1   30\n",
       "418112  My cat loves this The pellets are nice and sma...      1   31\n",
       "357829  Great product Does not completely get rid of h...      1   41\n",
       "175872  This gum is my favorite I would advise everyon...      1   27\n",
       "178716  I also found out about this product because of...      1   22"
      ]
     },
     "execution_count": 22,
     "metadata": {},
     "output_type": "execute_result"
    }
   ],
   "source": [
    "reviews.head()"
   ]
  },
  {
   "cell_type": "code",
   "execution_count": 23,
   "metadata": {
    "execution": {
     "iopub.execute_input": "2022-03-03T04:25:46.212888Z",
     "iopub.status.busy": "2022-03-03T04:25:46.212108Z",
     "iopub.status.idle": "2022-03-03T04:25:46.214488Z",
     "shell.execute_reply": "2022-03-03T04:25:46.214024Z",
     "shell.execute_reply.started": "2022-03-03T03:33:53.451717Z"
    },
    "papermill": {
     "duration": 0.188622,
     "end_time": "2022-03-03T04:25:46.214595",
     "exception": false,
     "start_time": "2022-03-03T04:25:46.025973",
     "status": "completed"
    },
    "tags": []
   },
   "outputs": [],
   "source": [
    "y = reviews.Score.values"
   ]
  },
  {
   "cell_type": "code",
   "execution_count": 24,
   "metadata": {
    "execution": {
     "iopub.execute_input": "2022-03-03T04:25:46.582860Z",
     "iopub.status.busy": "2022-03-03T04:25:46.582213Z",
     "iopub.status.idle": "2022-03-03T04:25:46.584899Z",
     "shell.execute_reply": "2022-03-03T04:25:46.585338Z",
     "shell.execute_reply.started": "2022-03-03T03:33:53.460321Z"
    },
    "papermill": {
     "duration": 0.188697,
     "end_time": "2022-03-03T04:25:46.585474",
     "exception": false,
     "start_time": "2022-03-03T04:25:46.396777",
     "status": "completed"
    },
    "tags": []
   },
   "outputs": [
    {
     "data": {
      "text/plain": [
       "array([1, 1, 1, ..., 1, 1, 1])"
      ]
     },
     "execution_count": 24,
     "metadata": {},
     "output_type": "execute_result"
    }
   ],
   "source": [
    "y"
   ]
  },
  {
   "cell_type": "code",
   "execution_count": 25,
   "metadata": {
    "execution": {
     "iopub.execute_input": "2022-03-03T04:25:46.956077Z",
     "iopub.status.busy": "2022-03-03T04:25:46.955366Z",
     "iopub.status.idle": "2022-03-03T04:25:47.559276Z",
     "shell.execute_reply": "2022-03-03T04:25:47.558745Z",
     "shell.execute_reply.started": "2022-03-03T03:33:53.471492Z"
    },
    "id": "NsYDd3okqVBF",
    "papermill": {
     "duration": 0.791013,
     "end_time": "2022-03-03T04:25:47.559409",
     "exception": false,
     "start_time": "2022-03-03T04:25:46.768396",
     "status": "completed"
    },
    "tags": []
   },
   "outputs": [],
   "source": [
    "#split the data into train and test data(20%) with Stratify sampling, random state 33, \n",
    "\n",
    "# perform stratified train test split on the dataset\n",
    "from sklearn.model_selection import train_test_split\n",
    "X_train ,X_test ,y_train,y_test = train_test_split(reviews[['Text','len']],y,test_size = 0.2,stratify = y,random_state = 33)"
   ]
  },
  {
   "cell_type": "code",
   "execution_count": 26,
   "metadata": {
    "execution": {
     "iopub.execute_input": "2022-03-03T04:25:47.934468Z",
     "iopub.status.busy": "2022-03-03T04:25:47.933704Z",
     "iopub.status.idle": "2022-03-03T04:25:47.936739Z",
     "shell.execute_reply": "2022-03-03T04:25:47.937138Z",
     "shell.execute_reply.started": "2022-03-03T03:33:54.081678Z"
    },
    "papermill": {
     "duration": 0.192675,
     "end_time": "2022-03-03T04:25:47.937279",
     "exception": false,
     "start_time": "2022-03-03T04:25:47.744604",
     "status": "completed"
    },
    "tags": []
   },
   "outputs": [
    {
     "data": {
      "text/plain": [
       "((80000, 2), (20000, 2), (80000,), (20000,))"
      ]
     },
     "execution_count": 26,
     "metadata": {},
     "output_type": "execute_result"
    }
   ],
   "source": [
    "X_train.shape,X_test.shape,y_train.shape,y_test.shape"
   ]
  },
  {
   "cell_type": "code",
   "execution_count": 27,
   "metadata": {
    "execution": {
     "iopub.execute_input": "2022-03-03T04:25:48.309446Z",
     "iopub.status.busy": "2022-03-03T04:25:48.308713Z",
     "iopub.status.idle": "2022-03-03T04:25:48.311160Z",
     "shell.execute_reply": "2022-03-03T04:25:48.310731Z",
     "shell.execute_reply.started": "2022-03-03T03:33:54.090361Z"
    },
    "id": "-Q6OAcrOqVBI",
    "papermill": {
     "duration": 0.189511,
     "end_time": "2022-03-03T04:25:48.311286",
     "exception": false,
     "start_time": "2022-03-03T04:25:48.121775",
     "status": "completed"
    },
    "tags": []
   },
   "outputs": [],
   "source": [
    "#plot bar graphs of y_train and y_test"
   ]
  },
  {
   "cell_type": "code",
   "execution_count": 28,
   "metadata": {
    "execution": {
     "iopub.execute_input": "2022-03-03T04:25:48.682526Z",
     "iopub.status.busy": "2022-03-03T04:25:48.681688Z",
     "iopub.status.idle": "2022-03-03T04:25:48.886763Z",
     "shell.execute_reply": "2022-03-03T04:25:48.886325Z",
     "shell.execute_reply.started": "2022-03-03T03:33:54.097866Z"
    },
    "papermill": {
     "duration": 0.392098,
     "end_time": "2022-03-03T04:25:48.886889",
     "exception": false,
     "start_time": "2022-03-03T04:25:48.494791",
     "status": "completed"
    },
    "tags": []
   },
   "outputs": [
    {
     "data": {
      "text/plain": [
       "<AxesSubplot:xlabel='0'>"
      ]
     },
     "execution_count": 28,
     "metadata": {},
     "output_type": "execute_result"
    },
    {
     "data": {
      "image/png": "[encoded data removed]",
      "text/plain": [
       "<Figure size 432x288 with 1 Axes>"
      ]
     },
     "metadata": {
      "needs_background": "light"
     },
     "output_type": "display_data"
    }
   ],
   "source": [
    "pd.DataFrame(y_train).value_counts().plot(kind='bar')"
   ]
  },
  {
   "cell_type": "code",
   "execution_count": 29,
   "metadata": {
    "execution": {
     "iopub.execute_input": "2022-03-03T04:25:49.260961Z",
     "iopub.status.busy": "2022-03-03T04:25:49.260164Z",
     "iopub.status.idle": "2022-03-03T04:25:49.423579Z",
     "shell.execute_reply": "2022-03-03T04:25:49.422802Z",
     "shell.execute_reply.started": "2022-03-03T03:33:54.312741Z"
    },
    "papermill": {
     "duration": 0.352779,
     "end_time": "2022-03-03T04:25:49.423765",
     "exception": false,
     "start_time": "2022-03-03T04:25:49.070986",
     "status": "completed"
    },
    "tags": []
   },
   "outputs": [
    {
     "data": {
      "text/plain": [
       "<AxesSubplot:xlabel='0'>"
      ]
     },
     "execution_count": 29,
     "metadata": {},
     "output_type": "execute_result"
    },
    {
     "data": {
      "image/png": "[encoded data removed]",
      "text/plain": [
       "<Figure size 432x288 with 1 Axes>"
      ]
     },
     "metadata": {
      "needs_background": "light"
     },
     "output_type": "display_data"
    }
   ],
   "source": [
    "pd.DataFrame(y_test).value_counts().plot(kind='bar')"
   ]
  },
  {
   "cell_type": "code",
   "execution_count": 30,
   "metadata": {
    "execution": {
     "iopub.execute_input": "2022-03-03T04:25:49.797865Z",
     "iopub.status.busy": "2022-03-03T04:25:49.797102Z",
     "iopub.status.idle": "2022-03-03T04:25:50.505407Z",
     "shell.execute_reply": "2022-03-03T04:25:50.504895Z",
     "shell.execute_reply.started": "2022-03-03T03:33:54.484421Z"
    },
    "id": "Up-z5boWqVBK",
    "papermill": {
     "duration": 0.896769,
     "end_time": "2022-03-03T04:25:50.505549",
     "exception": false,
     "start_time": "2022-03-03T04:25:49.608780",
     "status": "completed"
    },
    "tags": []
   },
   "outputs": [],
   "source": [
    "#saving to disk. if we need, we can load preprocessed data directly. \n",
    "reviews.to_csv('preprocessed.csv', index=False)"
   ]
  },
  {
   "cell_type": "markdown",
   "metadata": {
    "id": "bBtqNGN9qVBM",
    "papermill": {
     "duration": 0.184139,
     "end_time": "2022-03-03T04:25:50.874505",
     "exception": false,
     "start_time": "2022-03-03T04:25:50.690366",
     "status": "completed"
    },
    "tags": []
   },
   "source": [
    "<pre><font size=6>Part-2: Creating BERT Model</font> \n",
    "\n",
    "If you want to know more about BERT, You can watch live sessions on Transformers and BERt. \n",
    "we will strongly recommend you to read <a href=\"https://jalammar.github.io/illustrated-transformer/\">Transformers</a>, <a href=\"https://arxiv.org/abs/1810.04805\">BERT Paper</a> and, <a href=\"https://jalammar.github.io/a-visual-guide-to-using-bert-for-the-first-time/\">This blog</a>.\n",
    "\n",
    "\n",
    "For this assignment, we are using <a href=\"https://tfhub.dev/tensorflow/bert_en_uncased_L-12_H-768_A-12/1\">BERT uncased Base model</a>. \n",
    "It uses L=12 hidden layers (i.e., Transformer blocks), a hidden size of H=768, and A=12 attention heads. </pre>"
   ]
  },
  {
   "cell_type": "code",
   "execution_count": 31,
   "metadata": {
    "execution": {
     "iopub.execute_input": "2022-03-03T04:25:51.252262Z",
     "iopub.status.busy": "2022-03-03T04:25:51.251498Z",
     "iopub.status.idle": "2022-03-03T04:26:03.791621Z",
     "shell.execute_reply": "2022-03-03T04:26:03.791125Z",
     "shell.execute_reply.started": "2022-03-03T03:33:55.211259Z"
    },
    "id": "i8xd2HejqVBN",
    "papermill": {
     "duration": 12.7311,
     "end_time": "2022-03-03T04:26:03.791755",
     "exception": false,
     "start_time": "2022-03-03T04:25:51.060655",
     "status": "completed"
    },
    "tags": []
   },
   "outputs": [
    {
     "name": "stderr",
     "output_type": "stream",
     "text": [
      "2022-03-03 04:25:57.542231: I tensorflow/stream_executor/cuda/cuda_gpu_executor.cc:937] successful NUMA node read from SysFS had negative value (-1), but there must be at least one NUMA node, so returning NUMA node zero\n",
      "2022-03-03 04:25:57.543092: I tensorflow/stream_executor/cuda/cuda_gpu_executor.cc:937] successful NUMA node read from SysFS had negative value (-1), but there must be at least one NUMA node, so returning NUMA node zero\n",
      "2022-03-03 04:25:57.543727: I tensorflow/stream_executor/cuda/cuda_gpu_executor.cc:937] successful NUMA node read from SysFS had negative value (-1), but there must be at least one NUMA node, so returning NUMA node zero\n",
      "2022-03-03 04:25:57.544610: I tensorflow/stream_executor/cuda/cuda_gpu_executor.cc:937] successful NUMA node read from SysFS had negative value (-1), but there must be at least one NUMA node, so returning NUMA node zero\n",
      "2022-03-03 04:25:57.545261: I tensorflow/stream_executor/cuda/cuda_gpu_executor.cc:937] successful NUMA node read from SysFS had negative value (-1), but there must be at least one NUMA node, so returning NUMA node zero\n",
      "2022-03-03 04:25:57.545846: I tensorflow/stream_executor/cuda/cuda_gpu_executor.cc:937] successful NUMA node read from SysFS had negative value (-1), but there must be at least one NUMA node, so returning NUMA node zero\n",
      "2022-03-03 04:25:57.546499: I tensorflow/stream_executor/cuda/cuda_gpu_executor.cc:937] successful NUMA node read from SysFS had negative value (-1), but there must be at least one NUMA node, so returning NUMA node zero\n",
      "2022-03-03 04:25:57.547133: I tensorflow/stream_executor/cuda/cuda_gpu_executor.cc:937] successful NUMA node read from SysFS had negative value (-1), but there must be at least one NUMA node, so returning NUMA node zero\n",
      "2022-03-03 04:25:57.547709: I tensorflow/core/common_runtime/gpu/gpu_device.cc:1510] Created device /job:localhost/replica:0/task:0/device:GPU:0 with 15403 MB memory:  -> device: 0, name: Tesla P100-PCIE-16GB, pci bus id: 0000:00:04.0, compute capability: 6.0\n"
     ]
    }
   ],
   "source": [
    "## Loading the Pretrained Model from tensorflow HUB\n",
    "tf.keras.backend.clear_session()\n",
    "\n",
    "# maximum length of a seq in the data we have, for now i am making it as 55. You can change this\n",
    "max_seq_length = 55\n",
    "\n",
    "#BERT takes 3 inputs\n",
    "\n",
    "#this is input words. Sequence of words represented as integers\n",
    "input_word_ids = tf.keras.layers.Input(shape=(max_seq_length,), dtype=tf.int32, name=\"input_word_ids\")\n",
    "\n",
    "#mask vector if you are padding anything\n",
    "input_mask = tf.keras.layers.Input(shape=(max_seq_length,), dtype=tf.int32, name=\"input_mask\")\n",
    "\n",
    "#segment vectors. If you are giving only one sentence for the classification, total seg vector is 0. \n",
    "#If you are giving two sentenced with [sep] token separated, first seq segment vectors are zeros and \n",
    "#second seq segment vector are 1's\n",
    "segment_ids = tf.keras.layers.Input(shape=(max_seq_length,), dtype=tf.int32, name=\"segment_ids\")\n",
    "\n",
    "#bert layer \n",
    "bert_layer = hub.KerasLayer(\"https://tfhub.dev/tensorflow/bert_en_uncased_L-12_H-768_A-12/1\", trainable=False)\n",
    "pooled_output, sequence_output = bert_layer([input_word_ids, input_mask, segment_ids])\n",
    "\n",
    "#Bert model\n",
    "#We are using only pooled output not sequence out. \n",
    "#If you want to know about those, please read https://www.kaggle.com/questions-and-answers/86510\n",
    "bert_model = Model(inputs=[input_word_ids, input_mask, segment_ids], outputs=pooled_output)\n"
   ]
  },
  {
   "cell_type": "code",
   "execution_count": 32,
   "metadata": {
    "execution": {
     "iopub.execute_input": "2022-03-03T04:26:04.181550Z",
     "iopub.status.busy": "2022-03-03T04:26:04.179963Z",
     "iopub.status.idle": "2022-03-03T04:26:04.189611Z",
     "shell.execute_reply": "2022-03-03T04:26:04.189998Z",
     "shell.execute_reply.started": "2022-03-03T03:34:07.246884Z"
    },
    "id": "lQJsjg6fqVBQ",
    "papermill": {
     "duration": 0.205374,
     "end_time": "2022-03-03T04:26:04.190152",
     "exception": false,
     "start_time": "2022-03-03T04:26:03.984778",
     "status": "completed"
    },
    "tags": []
   },
   "outputs": [
    {
     "name": "stdout",
     "output_type": "stream",
     "text": [
      "Model: \"model\"\n",
      "__________________________________________________________________________________________________\n",
      "Layer (type)                    Output Shape         Param #     Connected to                     \n",
      "==================================================================================================\n",
      "input_word_ids (InputLayer)     [(None, 55)]         0                                            \n",
      "__________________________________________________________________________________________________\n",
      "input_mask (InputLayer)         [(None, 55)]         0                                            \n",
      "__________________________________________________________________________________________________\n",
      "segment_ids (InputLayer)        [(None, 55)]         0                                            \n",
      "__________________________________________________________________________________________________\n",
      "keras_layer (KerasLayer)        [(None, 768), (None, 109482241   input_word_ids[0][0]             \n",
      "                                                                 input_mask[0][0]                 \n",
      "                                                                 segment_ids[0][0]                \n",
      "==================================================================================================\n",
      "Total params: 109,482,241\n",
      "Trainable params: 0\n",
      "Non-trainable params: 109,482,241\n",
      "__________________________________________________________________________________________________\n"
     ]
    }
   ],
   "source": [
    "bert_model.summary()"
   ]
  },
  {
   "cell_type": "code",
   "execution_count": 33,
   "metadata": {
    "execution": {
     "iopub.execute_input": "2022-03-03T04:26:04.564833Z",
     "iopub.status.busy": "2022-03-03T04:26:04.563944Z",
     "iopub.status.idle": "2022-03-03T04:26:04.567374Z",
     "shell.execute_reply": "2022-03-03T04:26:04.566852Z",
     "shell.execute_reply.started": "2022-03-03T03:34:07.261165Z"
    },
    "id": "w3z0OMA5qVBS",
    "papermill": {
     "duration": 0.192781,
     "end_time": "2022-03-03T04:26:04.567490",
     "exception": false,
     "start_time": "2022-03-03T04:26:04.374709",
     "status": "completed"
    },
    "tags": []
   },
   "outputs": [
    {
     "data": {
      "text/plain": [
       "<KerasTensor: shape=(None, 768) dtype=float32 (created by layer 'keras_layer')>"
      ]
     },
     "execution_count": 33,
     "metadata": {},
     "output_type": "execute_result"
    }
   ],
   "source": [
    "bert_model.output"
   ]
  },
  {
   "cell_type": "markdown",
   "metadata": {
    "id": "Ewv4hFCsqVBU",
    "papermill": {
     "duration": 0.187834,
     "end_time": "2022-03-03T04:26:04.940936",
     "exception": false,
     "start_time": "2022-03-03T04:26:04.753102",
     "status": "completed"
    },
    "tags": []
   },
   "source": [
    "<pre><font size=6>Part-3: Tokenization</font></pre>"
   ]
  },
  {
   "cell_type": "code",
   "execution_count": 34,
   "metadata": {
    "execution": {
     "iopub.execute_input": "2022-03-03T04:26:05.337662Z",
     "iopub.status.busy": "2022-03-03T04:26:05.336850Z",
     "iopub.status.idle": "2022-03-03T04:26:06.025789Z",
     "shell.execute_reply": "2022-03-03T04:26:06.026754Z",
     "shell.execute_reply.started": "2022-03-03T03:34:07.271771Z"
    },
    "papermill": {
     "duration": 0.880219,
     "end_time": "2022-03-03T04:26:06.026968",
     "exception": false,
     "start_time": "2022-03-03T04:26:05.146749",
     "status": "completed"
    },
    "tags": []
   },
   "outputs": [
    {
     "name": "stdout",
     "output_type": "stream",
     "text": [
      "Reviews.csv  __notebook__.ipynb  preprocessed.csv  tokenization.py\r\n"
     ]
    }
   ],
   "source": [
    "!ls"
   ]
  },
  {
   "cell_type": "code",
   "execution_count": 35,
   "metadata": {
    "execution": {
     "iopub.execute_input": "2022-03-03T04:26:06.627680Z",
     "iopub.status.busy": "2022-03-03T04:26:06.626997Z",
     "iopub.status.idle": "2022-03-03T04:26:06.630068Z",
     "shell.execute_reply": "2022-03-03T04:26:06.629584Z",
     "shell.execute_reply.started": "2022-03-03T03:34:08.007391Z"
    },
    "id": "tX3VEFjiqVBU",
    "papermill": {
     "duration": 0.28518,
     "end_time": "2022-03-03T04:26:06.630245",
     "exception": false,
     "start_time": "2022-03-03T04:26:06.345065",
     "status": "completed"
    },
    "tags": []
   },
   "outputs": [],
   "source": [
    "#getting Vocab file\n",
    "vocab_file = bert_layer.resolved_object.vocab_file.asset_path.numpy()\n",
    "do_lower_case = bert_layer.resolved_object.do_lower_case.numpy()"
   ]
  },
  {
   "cell_type": "code",
   "execution_count": 36,
   "metadata": {
    "execution": {
     "iopub.execute_input": "2022-03-03T04:26:07.009572Z",
     "iopub.status.busy": "2022-03-03T04:26:07.008766Z",
     "iopub.status.idle": "2022-03-03T04:26:07.030242Z",
     "shell.execute_reply": "2022-03-03T04:26:07.029606Z",
     "shell.execute_reply.started": "2022-03-03T03:34:08.015677Z"
    },
    "id": "Y_iPwa99qVBW",
    "papermill": {
     "duration": 0.214791,
     "end_time": "2022-03-03T04:26:07.030365",
     "exception": false,
     "start_time": "2022-03-03T04:26:06.815574",
     "status": "completed"
    },
    "tags": []
   },
   "outputs": [],
   "source": [
    "import tokenization #- #We have given tokenization.py file"
   ]
  },
  {
   "cell_type": "code",
   "execution_count": 37,
   "metadata": {
    "execution": {
     "iopub.execute_input": "2022-03-03T04:26:07.407668Z",
     "iopub.status.busy": "2022-03-03T04:26:07.406787Z",
     "iopub.status.idle": "2022-03-03T04:26:07.409216Z",
     "shell.execute_reply": "2022-03-03T04:26:07.408714Z",
     "shell.execute_reply.started": "2022-03-03T03:34:08.231011Z"
    },
    "id": "guJMLJ8bqVBY",
    "papermill": {
     "duration": 0.191722,
     "end_time": "2022-03-03T04:26:07.409331",
     "exception": false,
     "start_time": "2022-03-03T04:26:07.217609",
     "status": "completed"
    },
    "tags": []
   },
   "outputs": [],
   "source": [
    "# Create tokenizer \" Instantiate FullTokenizer\" \n",
    "# name must be \"tokenizer\"\n",
    "# the FullTokenizer takes two parameters 1. vocab_file and 2. do_lower_case \n",
    "# we have created these in the above cell ex: FullTokenizer(vocab_file, do_lower_case )\n",
    "# please check the \"tokenization.py\" file the complete implementation\n"
   ]
  },
  {
   "cell_type": "code",
   "execution_count": 38,
   "metadata": {
    "execution": {
     "iopub.execute_input": "2022-03-03T04:26:07.787604Z",
     "iopub.status.busy": "2022-03-03T04:26:07.786834Z",
     "iopub.status.idle": "2022-03-03T04:26:07.890574Z",
     "shell.execute_reply": "2022-03-03T04:26:07.889914Z",
     "shell.execute_reply.started": "2022-03-03T03:34:08.237229Z"
    },
    "id": "qlGFtp2xxzt6",
    "papermill": {
     "duration": 0.294463,
     "end_time": "2022-03-03T04:26:07.890707",
     "exception": false,
     "start_time": "2022-03-03T04:26:07.596244",
     "status": "completed"
    },
    "tags": []
   },
   "outputs": [],
   "source": [
    "# if you are getting error for sentencepiece module you can install it using below command while running this cell for the first time\n",
    "#!pip install sentencepiece\n",
    "tokenizer=tokenization.FullTokenizer(vocab_file,do_lower_case )"
   ]
  },
  {
   "cell_type": "markdown",
   "metadata": {
    "id": "KKkGLhR-qVBd",
    "papermill": {
     "duration": 0.186609,
     "end_time": "2022-03-03T04:26:08.264741",
     "exception": false,
     "start_time": "2022-03-03T04:26:08.078132",
     "status": "completed"
    },
    "tags": []
   },
   "source": [
    "<font size=4>Grader function 3 </font>"
   ]
  },
  {
   "cell_type": "code",
   "execution_count": 39,
   "metadata": {
    "execution": {
     "iopub.execute_input": "2022-03-03T04:26:08.647623Z",
     "iopub.status.busy": "2022-03-03T04:26:08.647002Z",
     "iopub.status.idle": "2022-03-03T04:26:08.649737Z",
     "shell.execute_reply": "2022-03-03T04:26:08.650163Z",
     "shell.execute_reply.started": "2022-03-03T03:34:08.352810Z"
    },
    "id": "2CPu850xqVBe",
    "papermill": {
     "duration": 0.200018,
     "end_time": "2022-03-03T04:26:08.650306",
     "exception": false,
     "start_time": "2022-03-03T04:26:08.450288",
     "status": "completed"
    },
    "tags": []
   },
   "outputs": [
    {
     "data": {
      "text/plain": [
       "True"
      ]
     },
     "execution_count": 39,
     "metadata": {},
     "output_type": "execute_result"
    }
   ],
   "source": [
    "#it has to give no error \n",
    "def grader_tokenize(tokenizer):\n",
    "    out = False\n",
    "    try:\n",
    "        out=('[CLS]' in tokenizer.vocab) and ('[SEP]' in tokenizer.vocab)\n",
    "    except:\n",
    "        out = False\n",
    "    assert(out==True)\n",
    "    return out\n",
    "grader_tokenize(tokenizer)"
   ]
  },
  {
   "cell_type": "code",
   "execution_count": 40,
   "metadata": {
    "execution": {
     "iopub.execute_input": "2022-03-03T04:26:09.034044Z",
     "iopub.status.busy": "2022-03-03T04:26:09.032817Z",
     "iopub.status.idle": "2022-03-03T04:26:09.035364Z",
     "shell.execute_reply": "2022-03-03T04:26:09.035901Z",
     "shell.execute_reply.started": "2022-03-03T03:34:08.363462Z"
    },
    "id": "9crhPylQqVBg",
    "papermill": {
     "duration": 0.199746,
     "end_time": "2022-03-03T04:26:09.036091",
     "exception": false,
     "start_time": "2022-03-03T04:26:08.836345",
     "status": "completed"
    },
    "tags": []
   },
   "outputs": [],
   "source": [
    "# Create train and test tokens (X_train_tokens, X_test_tokens) from (X_train, X_test) using Tokenizer and\n",
    "\n",
    "# add '[CLS]' at start of the Tokens and '[SEP]' at the end of the tokens.\n",
    "\n",
    "# maximum number of tokens is 55(We already given this to BERT layer above) so shape is (None, 55)\n",
    "\n",
    "# if it is less than 55, add '[PAD]' token else truncate the tokens length.(similar to padding)\n",
    "\n",
    "# Based on padding, create the mask for Train and Test ( 1 for real token, 0 for '[PAD]'),\n",
    "# it will also same shape as input tokens (None, 55) save those in X_train_mask, X_test_mask\n",
    "\n",
    "# Create a segment input for train and test. We are using only one sentence so all zeros. This shape will also (None, 55)\n",
    "\n",
    "# type of all the above arrays should be numpy arrays\n",
    "\n",
    "# after execution of this cell, you have to get\n",
    "# X_train_tokens, X_train_mask, X_train_segment\n",
    "# X_test_tokens, X_test_mask, X_test_segment"
   ]
  },
  {
   "cell_type": "code",
   "execution_count": 41,
   "metadata": {
    "execution": {
     "iopub.execute_input": "2022-03-03T04:26:09.418385Z",
     "iopub.status.busy": "2022-03-03T04:26:09.417565Z",
     "iopub.status.idle": "2022-03-03T04:26:09.419413Z",
     "shell.execute_reply": "2022-03-03T04:26:09.419850Z",
     "shell.execute_reply.started": "2022-03-03T03:34:08.371540Z"
    },
    "papermill": {
     "duration": 0.195381,
     "end_time": "2022-03-03T04:26:09.419979",
     "exception": false,
     "start_time": "2022-03-03T04:26:09.224598",
     "status": "completed"
    },
    "tags": []
   },
   "outputs": [],
   "source": [
    "def create_tokens(sent):\n",
    "\n",
    "    tks = tokenizer.tokenize(sent)\n",
    "    tks = tks[0:(max_seq_length-2)]\n",
    "    tks = ['[CLS]',*tks,'[SEP]']\n",
    "\n",
    "    mask_sen = np.array([1]*len(tks)+[0]*(max_seq_length-len(tks)))\n",
    "    seg_sen = np.array([0]*max_seq_length)\n",
    "    token_sen = np.array(tokenizer.convert_tokens_to_ids(tks)+[0]*(max_seq_length-len(tks)))\n",
    "    return token_sen, mask_sen, seg_sen"
   ]
  },
  {
   "cell_type": "code",
   "execution_count": 42,
   "metadata": {
    "execution": {
     "iopub.execute_input": "2022-03-03T04:26:09.803784Z",
     "iopub.status.busy": "2022-03-03T04:26:09.802911Z",
     "iopub.status.idle": "2022-03-03T04:26:09.812576Z",
     "shell.execute_reply": "2022-03-03T04:26:09.812157Z",
     "shell.execute_reply.started": "2022-03-03T03:34:08.381959Z"
    },
    "papermill": {
     "duration": 0.204518,
     "end_time": "2022-03-03T04:26:09.812687",
     "exception": false,
     "start_time": "2022-03-03T04:26:09.608169",
     "status": "completed"
    },
    "tags": []
   },
   "outputs": [
    {
     "data": {
      "text/html": [
       "<div>\n",
       "<style scoped>\n",
       "    .dataframe tbody tr th:only-of-type {\n",
       "        vertical-align: middle;\n",
       "    }\n",
       "\n",
       "    .dataframe tbody tr th {\n",
       "        vertical-align: top;\n",
       "    }\n",
       "\n",
       "    .dataframe thead th {\n",
       "        text-align: right;\n",
       "    }\n",
       "</style>\n",
       "<table border=\"1\" class=\"dataframe\">\n",
       "  <thead>\n",
       "    <tr style=\"text-align: right;\">\n",
       "      <th></th>\n",
       "      <th>Text</th>\n",
       "      <th>len</th>\n",
       "    </tr>\n",
       "  </thead>\n",
       "  <tbody>\n",
       "    <tr>\n",
       "      <th>33523</th>\n",
       "      <td>I had never tried this brand before so I was w...</td>\n",
       "      <td>28</td>\n",
       "    </tr>\n",
       "    <tr>\n",
       "      <th>10855</th>\n",
       "      <td>I love these for a snack I get a nice taste of...</td>\n",
       "      <td>43</td>\n",
       "    </tr>\n",
       "    <tr>\n",
       "      <th>390364</th>\n",
       "      <td>This is my favorite store bought cookie Crumbl...</td>\n",
       "      <td>34</td>\n",
       "    </tr>\n",
       "    <tr>\n",
       "      <th>53902</th>\n",
       "      <td>I must be spoiled because this coffee was very...</td>\n",
       "      <td>41</td>\n",
       "    </tr>\n",
       "    <tr>\n",
       "      <th>467717</th>\n",
       "      <td>the tins are much smaller than I expected but ...</td>\n",
       "      <td>27</td>\n",
       "    </tr>\n",
       "    <tr>\n",
       "      <th>...</th>\n",
       "      <td>...</td>\n",
       "      <td>...</td>\n",
       "    </tr>\n",
       "    <tr>\n",
       "      <th>497346</th>\n",
       "      <td>Love the apple cider wish you could get it in ...</td>\n",
       "      <td>25</td>\n",
       "    </tr>\n",
       "    <tr>\n",
       "      <th>551921</th>\n",
       "      <td>Whenever I visit Chicago I have to stop by Gar...</td>\n",
       "      <td>49</td>\n",
       "    </tr>\n",
       "    <tr>\n",
       "      <th>344823</th>\n",
       "      <td>I started buying YS Organic raw honey about ye...</td>\n",
       "      <td>46</td>\n",
       "    </tr>\n",
       "    <tr>\n",
       "      <th>208175</th>\n",
       "      <td>My order arrived today august th But the produ...</td>\n",
       "      <td>44</td>\n",
       "    </tr>\n",
       "    <tr>\n",
       "      <th>81992</th>\n",
       "      <td>A healthy snack option Such as great taste You...</td>\n",
       "      <td>20</td>\n",
       "    </tr>\n",
       "  </tbody>\n",
       "</table>\n",
       "<p>80000 rows × 2 columns</p>\n",
       "</div>"
      ],
      "text/plain": [
       "                                                     Text  len\n",
       "33523   I had never tried this brand before so I was w...   28\n",
       "10855   I love these for a snack I get a nice taste of...   43\n",
       "390364  This is my favorite store bought cookie Crumbl...   34\n",
       "53902   I must be spoiled because this coffee was very...   41\n",
       "467717  the tins are much smaller than I expected but ...   27\n",
       "...                                                   ...  ...\n",
       "497346  Love the apple cider wish you could get it in ...   25\n",
       "551921  Whenever I visit Chicago I have to stop by Gar...   49\n",
       "344823  I started buying YS Organic raw honey about ye...   46\n",
       "208175  My order arrived today august th But the produ...   44\n",
       "81992   A healthy snack option Such as great taste You...   20\n",
       "\n",
       "[80000 rows x 2 columns]"
      ]
     },
     "execution_count": 42,
     "metadata": {},
     "output_type": "execute_result"
    }
   ],
   "source": [
    "X_train"
   ]
  },
  {
   "cell_type": "code",
   "execution_count": 43,
   "metadata": {
    "execution": {
     "iopub.execute_input": "2022-03-03T04:26:10.197417Z",
     "iopub.status.busy": "2022-03-03T04:26:10.196503Z",
     "iopub.status.idle": "2022-03-03T04:27:08.829036Z",
     "shell.execute_reply": "2022-03-03T04:27:08.830091Z",
     "shell.execute_reply.started": "2022-03-03T03:34:08.401808Z"
    },
    "papermill": {
     "duration": 58.828172,
     "end_time": "2022-03-03T04:27:08.830312",
     "exception": false,
     "start_time": "2022-03-03T04:26:10.002140",
     "status": "completed"
    },
    "tags": []
   },
   "outputs": [
    {
     "name": "stderr",
     "output_type": "stream",
     "text": [
      "100%|██████████| 80000/80000 [00:58<00:00, 1364.64it/s]\n"
     ]
    }
   ],
   "source": [
    "from tqdm import tqdm\n",
    "X_train_tk = []\n",
    "X_train_mask = []\n",
    "X_train_segm = []\n",
    "\n",
    "for sent in tqdm(X_train['Text'].values):\n",
    "    token, mask, seg = create_tokens(sent)\n",
    "    X_train_tk.append(token)\n",
    "    X_train_mask.append(mask)\n",
    "    X_train_segm.append(seg)"
   ]
  },
  {
   "cell_type": "code",
   "execution_count": 44,
   "metadata": {
    "execution": {
     "iopub.execute_input": "2022-03-03T04:27:09.638649Z",
     "iopub.status.busy": "2022-03-03T04:27:09.637829Z",
     "iopub.status.idle": "2022-03-03T04:27:09.866856Z",
     "shell.execute_reply": "2022-03-03T04:27:09.867317Z",
     "shell.execute_reply.started": "2022-03-03T03:35:07.440107Z"
    },
    "papermill": {
     "duration": 0.601119,
     "end_time": "2022-03-03T04:27:09.867477",
     "exception": false,
     "start_time": "2022-03-03T04:27:09.266358",
     "status": "completed"
    },
    "tags": []
   },
   "outputs": [
    {
     "data": {
      "text/plain": [
       "((80000, 55), (80000, 55), (80000, 55))"
      ]
     },
     "execution_count": 44,
     "metadata": {},
     "output_type": "execute_result"
    }
   ],
   "source": [
    "X_train_tk = np.array(X_train_tk)\n",
    "X_train_mask = np.array(X_train_mask)\n",
    "X_train_segm = np.array(X_train_segm)\n",
    "X_train_tk.shape,X_train_mask.shape,X_train_segm.shape"
   ]
  },
  {
   "cell_type": "code",
   "execution_count": 45,
   "metadata": {
    "execution": {
     "iopub.execute_input": "2022-03-03T04:27:10.591847Z",
     "iopub.status.busy": "2022-03-03T04:27:10.590951Z",
     "iopub.status.idle": "2022-03-03T04:27:25.100415Z",
     "shell.execute_reply": "2022-03-03T04:27:25.100872Z",
     "shell.execute_reply.started": "2022-03-03T03:35:07.688483Z"
    },
    "papermill": {
     "duration": 14.87369,
     "end_time": "2022-03-03T04:27:25.101020",
     "exception": false,
     "start_time": "2022-03-03T04:27:10.227330",
     "status": "completed"
    },
    "tags": []
   },
   "outputs": [
    {
     "name": "stderr",
     "output_type": "stream",
     "text": [
      "100%|██████████| 20000/20000 [00:14<00:00, 1378.90it/s]\n"
     ]
    }
   ],
   "source": [
    "X_test_tk = []\n",
    "X_test_mask = []\n",
    "X_test_segm = []\n",
    "\n",
    "for sent in tqdm(X_test['Text'].values):\n",
    "    token, mask, seg = create_tokens(sent)\n",
    "    X_test_tk.append(token)\n",
    "    X_test_mask.append(mask)\n",
    "    X_test_segm.append(seg)"
   ]
  },
  {
   "cell_type": "code",
   "execution_count": 46,
   "metadata": {
    "execution": {
     "iopub.execute_input": "2022-03-03T04:27:25.915743Z",
     "iopub.status.busy": "2022-03-03T04:27:25.914944Z",
     "iopub.status.idle": "2022-03-03T04:27:25.968937Z",
     "shell.execute_reply": "2022-03-03T04:27:25.969394Z",
     "shell.execute_reply.started": "2022-03-03T03:35:22.917859Z"
    },
    "papermill": {
     "duration": 0.461553,
     "end_time": "2022-03-03T04:27:25.969559",
     "exception": false,
     "start_time": "2022-03-03T04:27:25.508006",
     "status": "completed"
    },
    "tags": []
   },
   "outputs": [
    {
     "data": {
      "text/plain": [
       "((20000, 55), (20000, 55), (20000, 55))"
      ]
     },
     "execution_count": 46,
     "metadata": {},
     "output_type": "execute_result"
    }
   ],
   "source": [
    "X_test_tk = np.array(X_test_tk)\n",
    "X_test_mask = np.array(X_test_mask)\n",
    "X_test_segm = np.array(X_test_segm)\n",
    "X_test_tk.shape,X_test_mask.shape,X_test_segm.shape"
   ]
  },
  {
   "cell_type": "markdown",
   "metadata": {
    "id": "kv1-t4OjqVBj",
    "papermill": {
     "duration": 0.402746,
     "end_time": "2022-03-03T04:27:26.776479",
     "exception": false,
     "start_time": "2022-03-03T04:27:26.373733",
     "status": "completed"
    },
    "tags": []
   },
   "source": [
    "#### Example\n",
    "<img src='https://i.imgur.com/5AhhmgU.png'>"
   ]
  },
  {
   "cell_type": "code",
   "execution_count": 47,
   "metadata": {
    "execution": {
     "iopub.execute_input": "2022-03-03T04:27:27.587323Z",
     "iopub.status.busy": "2022-03-03T04:27:27.586699Z",
     "iopub.status.idle": "2022-03-03T04:27:27.589991Z",
     "shell.execute_reply": "2022-03-03T04:27:27.589585Z",
     "shell.execute_reply.started": "2022-03-03T03:35:22.980251Z"
    },
    "id": "dxhggBxwqVBj",
    "papermill": {
     "duration": 0.410763,
     "end_time": "2022-03-03T04:27:27.590131",
     "exception": false,
     "start_time": "2022-03-03T04:27:27.179368",
     "status": "completed"
    },
    "tags": []
   },
   "outputs": [],
   "source": [
    "import pickle"
   ]
  },
  {
   "cell_type": "code",
   "execution_count": 48,
   "metadata": {
    "execution": {
     "iopub.execute_input": "2022-03-03T04:27:28.449641Z",
     "iopub.status.busy": "2022-03-03T04:27:28.448815Z",
     "iopub.status.idle": "2022-03-03T04:27:28.451309Z",
     "shell.execute_reply": "2022-03-03T04:27:28.450866Z",
     "shell.execute_reply.started": "2022-03-03T03:35:22.986547Z"
    },
    "papermill": {
     "duration": 0.409753,
     "end_time": "2022-03-03T04:27:28.451431",
     "exception": false,
     "start_time": "2022-03-03T04:27:28.041678",
     "status": "completed"
    },
    "tags": []
   },
   "outputs": [],
   "source": [
    "X_train_tokens = X_train_tk\n",
    "X_train_mask = X_train_mask\n",
    "X_train_segment = X_train_segm\n",
    "X_test_tokens = X_test_tk\n",
    "X_test_mask = X_test_mask\n",
    "X_test_segment = X_test_segm"
   ]
  },
  {
   "cell_type": "code",
   "execution_count": 49,
   "metadata": {
    "execution": {
     "iopub.execute_input": "2022-03-03T04:27:29.305264Z",
     "iopub.status.busy": "2022-03-03T04:27:29.304276Z",
     "iopub.status.idle": "2022-03-03T04:27:29.518586Z",
     "shell.execute_reply": "2022-03-03T04:27:29.518031Z",
     "shell.execute_reply.started": "2022-03-03T03:35:22.996086Z"
    },
    "id": "xF0idMRDqVBm",
    "papermill": {
     "duration": 0.666244,
     "end_time": "2022-03-03T04:27:29.518718",
     "exception": false,
     "start_time": "2022-03-03T04:27:28.852474",
     "status": "completed"
    },
    "tags": []
   },
   "outputs": [],
   "source": [
    "##save all your results to disk so that, no need to run all again. \n",
    "pickle.dump((X_train, X_train_tokens, X_train_mask, X_train_segment, y_train),open('train_data.pkl','wb'))\n",
    "pickle.dump((X_test, X_test_tokens, X_test_mask, X_test_segment, y_test),open('test_data.pkl','wb'))"
   ]
  },
  {
   "cell_type": "code",
   "execution_count": 50,
   "metadata": {
    "execution": {
     "iopub.execute_input": "2022-03-03T04:27:30.330871Z",
     "iopub.status.busy": "2022-03-03T04:27:30.329987Z",
     "iopub.status.idle": "2022-03-03T04:27:30.332591Z",
     "shell.execute_reply": "2022-03-03T04:27:30.332114Z",
     "shell.execute_reply.started": "2022-03-03T03:35:23.259015Z"
    },
    "id": "Leu1URGzqVBo",
    "papermill": {
     "duration": 0.410826,
     "end_time": "2022-03-03T04:27:30.332704",
     "exception": false,
     "start_time": "2022-03-03T04:27:29.921878",
     "status": "completed"
    },
    "tags": []
   },
   "outputs": [],
   "source": [
    "#you can load from disk\n",
    "#X_train, X_train_tokens, X_train_mask, X_train_segment, y_train = pickle.load(open(\"train_data.pkl\", 'rb')) \n",
    "#X_test, X_test_tokens, X_test_mask, X_test_segment, y_test = pickle.load(open(\"test_data.pkl\", 'rb')) "
   ]
  },
  {
   "cell_type": "markdown",
   "metadata": {
    "id": "sjPv8VkJqVBr",
    "papermill": {
     "duration": 0.407371,
     "end_time": "2022-03-03T04:27:31.147454",
     "exception": false,
     "start_time": "2022-03-03T04:27:30.740083",
     "status": "completed"
    },
    "tags": []
   },
   "source": [
    "<font size=4>Grader function 4 </font>"
   ]
  },
  {
   "cell_type": "code",
   "execution_count": 51,
   "metadata": {
    "execution": {
     "iopub.execute_input": "2022-03-03T04:27:31.963460Z",
     "iopub.status.busy": "2022-03-03T04:27:31.962606Z",
     "iopub.status.idle": "2022-03-03T04:27:32.003449Z",
     "shell.execute_reply": "2022-03-03T04:27:32.002629Z",
     "shell.execute_reply.started": "2022-03-03T03:35:23.265362Z"
    },
    "id": "qekHJgmdqVBs",
    "papermill": {
     "duration": 0.451194,
     "end_time": "2022-03-03T04:27:32.003583",
     "exception": false,
     "start_time": "2022-03-03T04:27:31.552389",
     "status": "completed"
    },
    "tags": []
   },
   "outputs": [
    {
     "data": {
      "text/plain": [
       "True"
      ]
     },
     "execution_count": 51,
     "metadata": {},
     "output_type": "execute_result"
    }
   ],
   "source": [
    "def grader_alltokens_train():\n",
    "    out = False\n",
    "    \n",
    "    if type(X_train_tokens) == np.ndarray:\n",
    "        \n",
    "        temp_shapes = (X_train_tokens.shape[1]==max_seq_length) and (X_train_mask.shape[1]==max_seq_length) and \\\n",
    "        (X_train_segment.shape[1]==max_seq_length)\n",
    "        \n",
    "        segment_temp = not np.any(X_train_segment)\n",
    "        \n",
    "        mask_temp = np.sum(X_train_mask==0) == np.sum(X_train_tokens==0)\n",
    "        \n",
    "        no_cls = np.sum(X_train_tokens==tokenizer.vocab['[CLS]'])==X_train_tokens.shape[0]\n",
    "        \n",
    "        no_sep = np.sum(X_train_tokens==tokenizer.vocab['[SEP]'])==X_train_tokens.shape[0]\n",
    "        \n",
    "        out = temp_shapes and segment_temp and mask_temp and no_cls and no_sep\n",
    "      \n",
    "    else:\n",
    "        print('Type of all above token arrays should be numpy array not list')\n",
    "        out = False\n",
    "    assert(out==True)\n",
    "    return out\n",
    "\n",
    "grader_alltokens_train()"
   ]
  },
  {
   "cell_type": "markdown",
   "metadata": {
    "id": "KnvC6X_wqVBu",
    "papermill": {
     "duration": 0.406101,
     "end_time": "2022-03-03T04:27:32.813998",
     "exception": false,
     "start_time": "2022-03-03T04:27:32.407897",
     "status": "completed"
    },
    "tags": []
   },
   "source": [
    "<font size=4>Grader function 5 </font>"
   ]
  },
  {
   "cell_type": "code",
   "execution_count": 52,
   "metadata": {
    "execution": {
     "iopub.execute_input": "2022-03-03T04:27:33.733242Z",
     "iopub.status.busy": "2022-03-03T04:27:33.732275Z",
     "iopub.status.idle": "2022-03-03T04:27:33.747177Z",
     "shell.execute_reply": "2022-03-03T04:27:33.746547Z",
     "shell.execute_reply.started": "2022-03-03T03:35:23.316853Z"
    },
    "id": "Av4SRMPSqVBv",
    "papermill": {
     "duration": 0.477819,
     "end_time": "2022-03-03T04:27:33.747337",
     "exception": false,
     "start_time": "2022-03-03T04:27:33.269518",
     "status": "completed"
    },
    "tags": []
   },
   "outputs": [
    {
     "data": {
      "text/plain": [
       "True"
      ]
     },
     "execution_count": 52,
     "metadata": {},
     "output_type": "execute_result"
    }
   ],
   "source": [
    "def grader_alltokens_test():\n",
    "    out = False\n",
    "    if type(X_test_tokens) == np.ndarray:\n",
    "        \n",
    "        temp_shapes = (X_test_tokens.shape[1]==max_seq_length) and (X_test_mask.shape[1]==max_seq_length) and \\\n",
    "        (X_test_segment.shape[1]==max_seq_length)\n",
    "        \n",
    "        segment_temp = not np.any(X_test_segment)\n",
    "        \n",
    "        mask_temp = np.sum(X_test_mask==0) == np.sum(X_test_tokens==0)\n",
    "        \n",
    "        no_cls = np.sum(X_test_tokens==tokenizer.vocab['[CLS]'])==X_test_tokens.shape[0]\n",
    "        \n",
    "        no_sep = np.sum(X_test_tokens==tokenizer.vocab['[SEP]'])==X_test_tokens.shape[0]\n",
    "        \n",
    "        out = temp_shapes and segment_temp and mask_temp and no_cls and no_sep\n",
    "      \n",
    "    else:\n",
    "        print('Type of all above token arrays should be numpy array not list')\n",
    "        out = False\n",
    "    assert(out==True)\n",
    "    return out\n",
    "grader_alltokens_test()"
   ]
  },
  {
   "cell_type": "markdown",
   "metadata": {
    "id": "SEj-Eua5qVBx",
    "papermill": {
     "duration": 0.539702,
     "end_time": "2022-03-03T04:27:34.884398",
     "exception": false,
     "start_time": "2022-03-03T04:27:34.344696",
     "status": "completed"
    },
    "tags": []
   },
   "source": [
    "<pre><font size=6>Part-4: Getting Embeddings from BERT Model</font>\n",
    "We already created the BERT model in the part-2 and input data in the part-3. \n",
    "We will utlize those two and will get the embeddings for each sentence in the \n",
    "Train and test data.</pre>"
   ]
  },
  {
   "cell_type": "code",
   "execution_count": 53,
   "metadata": {
    "execution": {
     "iopub.execute_input": "2022-03-03T04:27:35.774076Z",
     "iopub.status.busy": "2022-03-03T04:27:35.773001Z",
     "iopub.status.idle": "2022-03-03T04:27:35.776410Z",
     "shell.execute_reply": "2022-03-03T04:27:35.776830Z",
     "shell.execute_reply.started": "2022-03-03T03:35:23.338484Z"
    },
    "id": "QwOVgQFDqVBy",
    "papermill": {
     "duration": 0.425336,
     "end_time": "2022-03-03T04:27:35.776965",
     "exception": false,
     "start_time": "2022-03-03T04:27:35.351629",
     "status": "completed"
    },
    "tags": []
   },
   "outputs": [
    {
     "data": {
      "text/plain": [
       "[<KerasTensor: shape=(None, 55) dtype=int32 (created by layer 'input_word_ids')>,\n",
       " <KerasTensor: shape=(None, 55) dtype=int32 (created by layer 'input_mask')>,\n",
       " <KerasTensor: shape=(None, 55) dtype=int32 (created by layer 'segment_ids')>]"
      ]
     },
     "execution_count": 53,
     "metadata": {},
     "output_type": "execute_result"
    }
   ],
   "source": [
    "bert_model.input"
   ]
  },
  {
   "cell_type": "code",
   "execution_count": 54,
   "metadata": {
    "execution": {
     "iopub.execute_input": "2022-03-03T04:27:36.614040Z",
     "iopub.status.busy": "2022-03-03T04:27:36.613389Z",
     "iopub.status.idle": "2022-03-03T04:27:36.616159Z",
     "shell.execute_reply": "2022-03-03T04:27:36.616598Z",
     "shell.execute_reply.started": "2022-03-03T03:35:23.345932Z"
    },
    "id": "ZcpkQq1OqVB0",
    "papermill": {
     "duration": 0.432714,
     "end_time": "2022-03-03T04:27:36.616729",
     "exception": false,
     "start_time": "2022-03-03T04:27:36.184015",
     "status": "completed"
    },
    "tags": []
   },
   "outputs": [
    {
     "data": {
      "text/plain": [
       "<KerasTensor: shape=(None, 768) dtype=float32 (created by layer 'keras_layer')>"
      ]
     },
     "execution_count": 54,
     "metadata": {},
     "output_type": "execute_result"
    }
   ],
   "source": [
    "bert_model.output"
   ]
  },
  {
   "cell_type": "code",
   "execution_count": 55,
   "metadata": {
    "execution": {
     "iopub.execute_input": "2022-03-03T04:27:37.543794Z",
     "iopub.status.busy": "2022-03-03T04:27:37.543019Z",
     "iopub.status.idle": "2022-03-03T04:30:30.613304Z",
     "shell.execute_reply": "2022-03-03T04:30:30.613728Z",
     "shell.execute_reply.started": "2022-03-03T03:35:23.355732Z"
    },
    "id": "IxdIlOIBlm7j",
    "papermill": {
     "duration": 173.58563,
     "end_time": "2022-03-03T04:30:30.613907",
     "exception": false,
     "start_time": "2022-03-03T04:27:37.028277",
     "status": "completed"
    },
    "tags": []
   },
   "outputs": [
    {
     "name": "stderr",
     "output_type": "stream",
     "text": [
      "2022-03-03 04:27:37.662351: I tensorflow/compiler/mlir/mlir_graph_optimization_pass.cc:185] None of the MLIR Optimization Passes are enabled (registered 2)\n"
     ]
    }
   ],
   "source": [
    "# get the train output, BERT model will give one output so save in\n",
    "# X_train_pooled_output\n",
    "#this cell will take some time to execute, make sure thay you have stable internet connection\n",
    "X_train_pooled_output=bert_model.predict([X_train_tokens,X_train_mask,X_train_segment])"
   ]
  },
  {
   "cell_type": "code",
   "execution_count": 56,
   "metadata": {
    "execution": {
     "iopub.execute_input": "2022-03-03T04:30:31.441120Z",
     "iopub.status.busy": "2022-03-03T04:30:31.438697Z",
     "iopub.status.idle": "2022-03-03T04:31:53.394831Z",
     "shell.execute_reply": "2022-03-03T04:31:53.395307Z",
     "shell.execute_reply.started": "2022-03-03T03:38:46.893531Z"
    },
    "id": "yZT11BCol4gL",
    "papermill": {
     "duration": 82.370925,
     "end_time": "2022-03-03T04:31:53.395529",
     "exception": false,
     "start_time": "2022-03-03T04:30:31.024604",
     "status": "completed"
    },
    "tags": []
   },
   "outputs": [],
   "source": [
    "# get the test output, BERT model will give one output so save in\n",
    "# X_test_pooled_output\n",
    "X_test_pooled_output=bert_model.predict([X_test_tokens,X_test_mask,X_test_segment])"
   ]
  },
  {
   "cell_type": "code",
   "execution_count": 57,
   "metadata": {
    "execution": {
     "iopub.execute_input": "2022-03-03T04:31:54.394318Z",
     "iopub.status.busy": "2022-03-03T04:31:54.393389Z",
     "iopub.status.idle": "2022-03-03T04:31:54.668671Z",
     "shell.execute_reply": "2022-03-03T04:31:54.667737Z",
     "shell.execute_reply.started": "2022-03-03T03:39:29.667263Z"
    },
    "id": "DL6JVojfqVB8",
    "papermill": {
     "duration": 0.865842,
     "end_time": "2022-03-03T04:31:54.668827",
     "exception": false,
     "start_time": "2022-03-03T04:31:53.802985",
     "status": "completed"
    },
    "tags": []
   },
   "outputs": [],
   "source": [
    "##save all your results to disk so that, no need to run all again. \n",
    "pickle.dump((X_train_pooled_output, X_test_pooled_output),open('final_output.pkl','wb'))"
   ]
  },
  {
   "cell_type": "code",
   "execution_count": 58,
   "metadata": {
    "execution": {
     "iopub.execute_input": "2022-03-03T04:31:55.496325Z",
     "iopub.status.busy": "2022-03-03T04:31:55.494551Z",
     "iopub.status.idle": "2022-03-03T04:31:55.496914Z",
     "shell.execute_reply": "2022-03-03T04:31:55.497343Z",
     "shell.execute_reply.started": "2022-03-03T03:39:30.134521Z"
    },
    "id": "oSQcBdROqVB9",
    "papermill": {
     "duration": 0.412722,
     "end_time": "2022-03-03T04:31:55.497480",
     "exception": false,
     "start_time": "2022-03-03T04:31:55.084758",
     "status": "completed"
    },
    "tags": []
   },
   "outputs": [],
   "source": [
    "#X_train_pooled_output, X_test_pooled_output= pickle.load(open('final_output.pkl', 'rb'))"
   ]
  },
  {
   "cell_type": "markdown",
   "metadata": {
    "id": "ulEXFE7aqVCA",
    "papermill": {
     "duration": 0.405583,
     "end_time": "2022-03-03T04:31:56.310093",
     "exception": false,
     "start_time": "2022-03-03T04:31:55.904510",
     "status": "completed"
    },
    "tags": []
   },
   "source": [
    "<font size=4>Grader function 6 </font>"
   ]
  },
  {
   "cell_type": "code",
   "execution_count": 59,
   "metadata": {
    "execution": {
     "iopub.execute_input": "2022-03-03T04:31:57.136931Z",
     "iopub.status.busy": "2022-03-03T04:31:57.136140Z",
     "iopub.status.idle": "2022-03-03T04:31:57.138939Z",
     "shell.execute_reply": "2022-03-03T04:31:57.139355Z",
     "shell.execute_reply.started": "2022-03-03T03:39:30.139233Z"
    },
    "id": "oHCsW0IvqVCB",
    "papermill": {
     "duration": 0.420737,
     "end_time": "2022-03-03T04:31:57.139487",
     "exception": false,
     "start_time": "2022-03-03T04:31:56.718750",
     "status": "completed"
    },
    "tags": []
   },
   "outputs": [
    {
     "data": {
      "text/plain": [
       "True"
      ]
     },
     "execution_count": 59,
     "metadata": {},
     "output_type": "execute_result"
    }
   ],
   "source": [
    "#now we have X_train_pooled_output, y_train\n",
    "#X_test_pooled_ouput, y_test\n",
    "\n",
    "#please use this grader to evaluate\n",
    "def greader_output():\n",
    "    assert(X_train_pooled_output.shape[1]==768)\n",
    "    assert(len(y_train)==len(X_train_pooled_output))\n",
    "    assert(X_test_pooled_output.shape[1]==768)\n",
    "    assert(len(y_test)==len(X_test_pooled_output))\n",
    "    assert(len(y_train.shape)==1)\n",
    "    assert(len(X_train_pooled_output.shape)==2)\n",
    "    assert(len(y_test.shape)==1)\n",
    "    assert(len(X_test_pooled_output.shape)==2)\n",
    "    return True\n",
    "greader_output()"
   ]
  },
  {
   "cell_type": "markdown",
   "metadata": {
    "id": "oYwS1QbAqVCD",
    "papermill": {
     "duration": 0.408218,
     "end_time": "2022-03-03T04:31:57.953186",
     "exception": false,
     "start_time": "2022-03-03T04:31:57.544968",
     "status": "completed"
    },
    "tags": []
   },
   "source": [
    "<pre><font size=6>Part-5: Training a NN with 768 features</font>\n",
    "\n",
    "Create a NN and train the NN. \n",
    "1.<b> You have to use AUC as metric. Do not use tf.keras.metrics.AUC</b> \n",
    "<b> You have to write custom code for AUC and print it at the end of each epoch</b> \n",
    "2. You can use any architecture you want. \n",
    "3. You have to use tensorboard to log all your metrics and Losses. You have to send those logs. \n",
    "4. Print the loss and metric at every epoch. \n",
    "5. You have to submit without overfitting and underfitting. \n",
    "</pre>"
   ]
  },
  {
   "cell_type": "code",
   "execution_count": 60,
   "metadata": {
    "execution": {
     "iopub.execute_input": "2022-03-03T04:31:59.017911Z",
     "iopub.status.busy": "2022-03-03T04:31:59.016947Z",
     "iopub.status.idle": "2022-03-03T04:31:59.023137Z",
     "shell.execute_reply": "2022-03-03T04:31:59.022592Z",
     "shell.execute_reply.started": "2022-03-03T03:39:30.155214Z"
    },
    "id": "od8PQlYRqVCE",
    "papermill": {
     "duration": 0.421119,
     "end_time": "2022-03-03T04:31:59.023269",
     "exception": false,
     "start_time": "2022-03-03T04:31:58.602150",
     "status": "completed"
    },
    "tags": []
   },
   "outputs": [],
   "source": [
    "##imports\n",
    "from tensorflow.keras.layers import Input, Dense, Activation, Dropout, LSTM\n",
    "from tensorflow.keras.models import Model\n",
    "from tensorflow.keras.regularizers import l2\n",
    "from keras.callbacks import ModelCheckpoint\n",
    "from keras.models import Model\n",
    "from tensorflow.keras.callbacks import LearningRateScheduler\n",
    "import os\n",
    "import datetime\n",
    "from keras.callbacks import EarlyStopping\n",
    "import keras.backend as K"
   ]
  },
  {
   "cell_type": "code",
   "execution_count": 61,
   "metadata": {
    "execution": {
     "iopub.execute_input": "2022-03-03T04:31:59.844529Z",
     "iopub.status.busy": "2022-03-03T04:31:59.843867Z",
     "iopub.status.idle": "2022-03-03T04:31:59.846603Z",
     "shell.execute_reply": "2022-03-03T04:31:59.847009Z",
     "shell.execute_reply.started": "2022-03-03T03:39:30.169502Z"
    },
    "papermill": {
     "duration": 0.418761,
     "end_time": "2022-03-03T04:31:59.847156",
     "exception": false,
     "start_time": "2022-03-03T04:31:59.428395",
     "status": "completed"
    },
    "tags": []
   },
   "outputs": [
    {
     "data": {
      "text/plain": [
       "768"
      ]
     },
     "execution_count": 61,
     "metadata": {},
     "output_type": "execute_result"
    }
   ],
   "source": [
    "X_train_pooled_output.shape[1]"
   ]
  },
  {
   "cell_type": "code",
   "execution_count": 62,
   "metadata": {
    "execution": {
     "iopub.execute_input": "2022-03-03T04:32:00.673877Z",
     "iopub.status.busy": "2022-03-03T04:32:00.669984Z",
     "iopub.status.idle": "2022-03-03T04:32:00.722348Z",
     "shell.execute_reply": "2022-03-03T04:32:00.721885Z",
     "shell.execute_reply.started": "2022-03-03T03:39:30.181999Z"
    },
    "id": "DSnmX3WnqVCG",
    "papermill": {
     "duration": 0.463188,
     "end_time": "2022-03-03T04:32:00.722474",
     "exception": false,
     "start_time": "2022-03-03T04:32:00.259286",
     "status": "completed"
    },
    "tags": []
   },
   "outputs": [],
   "source": [
    "##create an Neural Network and train your model on X_train_pooled_output and y_train\n",
    "# you can start as follows\n",
    "#input_layer=Input(shape=(X_train_pooled_output.shape[1],))\n",
    "#reference notebook\n",
    "\n",
    "input_layer=Input(shape=(X_train_pooled_output.shape[1],))\n",
    "\n",
    "Dnsl = Dense(224,activation='relu',kernel_initializer=tf.keras.initializers.he_normal(seed=30),kernel_regularizer=l2(0.001))(input_layer)\n",
    "\n",
    "Dnsl = Dense(128,activation='relu',kernel_initializer=tf.keras.initializers.he_normal(seed=30),kernel_regularizer=l2(0.001))(Dnsl)\n",
    "\n",
    "Dnsl = Dense(64,activation='relu',kernel_initializer=tf.keras.initializers.he_normal(seed=30),kernel_regularizer=l2(0.001))(Dnsl)\n",
    "\n",
    "Dnsl = Dense(32,activation='relu',kernel_initializer=tf.keras.initializers.he_normal(seed=30),kernel_regularizer=l2(0.001))(Dnsl)\n",
    "\n",
    "output = Dense(2, activation='softmax', name='output')(Dnsl)\n",
    "model = Model(inputs=[input_layer],outputs=[output])"
   ]
  },
  {
   "cell_type": "code",
   "execution_count": 63,
   "metadata": {
    "execution": {
     "iopub.execute_input": "2022-03-03T04:32:01.577141Z",
     "iopub.status.busy": "2022-03-03T04:32:01.574633Z",
     "iopub.status.idle": "2022-03-03T04:32:01.580905Z",
     "shell.execute_reply": "2022-03-03T04:32:01.580507Z",
     "shell.execute_reply.started": "2022-03-03T03:39:30.243540Z"
    },
    "papermill": {
     "duration": 0.415977,
     "end_time": "2022-03-03T04:32:01.581017",
     "exception": false,
     "start_time": "2022-03-03T04:32:01.165040",
     "status": "completed"
    },
    "tags": []
   },
   "outputs": [
    {
     "name": "stdout",
     "output_type": "stream",
     "text": [
      "Model: \"model_1\"\n",
      "_________________________________________________________________\n",
      "Layer (type)                 Output Shape              Param #   \n",
      "=================================================================\n",
      "input_1 (InputLayer)         [(None, 768)]             0         \n",
      "_________________________________________________________________\n",
      "dense (Dense)                (None, 224)               172256    \n",
      "_________________________________________________________________\n",
      "dense_1 (Dense)              (None, 128)               28800     \n",
      "_________________________________________________________________\n",
      "dense_2 (Dense)              (None, 64)                8256      \n",
      "_________________________________________________________________\n",
      "dense_3 (Dense)              (None, 32)                2080      \n",
      "_________________________________________________________________\n",
      "output (Dense)               (None, 2)                 66        \n",
      "=================================================================\n",
      "Total params: 211,458\n",
      "Trainable params: 211,458\n",
      "Non-trainable params: 0\n",
      "_________________________________________________________________\n"
     ]
    }
   ],
   "source": [
    "model.summary()"
   ]
  },
  {
   "cell_type": "code",
   "execution_count": 64,
   "metadata": {
    "execution": {
     "iopub.execute_input": "2022-03-03T04:32:02.405307Z",
     "iopub.status.busy": "2022-03-03T04:32:02.404505Z",
     "iopub.status.idle": "2022-03-03T04:32:03.265374Z",
     "shell.execute_reply": "2022-03-03T04:32:03.264861Z",
     "shell.execute_reply.started": "2022-03-03T03:39:30.255359Z"
    },
    "papermill": {
     "duration": 1.277783,
     "end_time": "2022-03-03T04:32:03.265512",
     "exception": false,
     "start_time": "2022-03-03T04:32:01.987729",
     "status": "completed"
    },
    "tags": []
   },
   "outputs": [
    {
     "data": {
      "image/png": "[encoded data removed]",
      "text/plain": [
       "<IPython.core.display.Image object>"
      ]
     },
     "execution_count": 64,
     "metadata": {},
     "output_type": "execute_result"
    }
   ],
   "source": [
    "from tensorflow.keras.utils import plot_model\n",
    "plot_model(model, 'model.png', show_shapes=True)"
   ]
  },
  {
   "cell_type": "code",
   "execution_count": 65,
   "metadata": {
    "execution": {
     "iopub.execute_input": "2022-03-03T04:32:04.084681Z",
     "iopub.status.busy": "2022-03-03T04:32:04.083772Z",
     "iopub.status.idle": "2022-03-03T04:32:04.091183Z",
     "shell.execute_reply": "2022-03-03T04:32:04.090688Z",
     "shell.execute_reply.started": "2022-03-03T03:39:31.145700Z"
    },
    "papermill": {
     "duration": 0.419045,
     "end_time": "2022-03-03T04:32:04.091321",
     "exception": false,
     "start_time": "2022-03-03T04:32:03.672276",
     "status": "completed"
    },
    "tags": []
   },
   "outputs": [
    {
     "data": {
      "text/plain": [
       "((80000, 2), (20000, 2))"
      ]
     },
     "execution_count": 65,
     "metadata": {},
     "output_type": "execute_result"
    }
   ],
   "source": [
    "from keras.utils import np_utils\n",
    "y_train_enc = np_utils.to_categorical(y_train, 2) \n",
    "y_test_enc = np_utils.to_categorical(y_test, 2)\n",
    "y_train_enc.shape,y_test_enc.shape"
   ]
  },
  {
   "cell_type": "code",
   "execution_count": 66,
   "metadata": {
    "execution": {
     "iopub.execute_input": "2022-03-03T04:32:04.983833Z",
     "iopub.status.busy": "2022-03-03T04:32:04.983020Z",
     "iopub.status.idle": "2022-03-03T04:32:04.989384Z",
     "shell.execute_reply": "2022-03-03T04:32:04.989769Z",
     "shell.execute_reply.started": "2022-03-03T03:39:31.157599Z"
    },
    "papermill": {
     "duration": 0.493691,
     "end_time": "2022-03-03T04:32:04.989914",
     "exception": false,
     "start_time": "2022-03-03T04:32:04.496223",
     "status": "completed"
    },
    "tags": []
   },
   "outputs": [],
   "source": [
    "#https://www.tensorflow.org/api_docs/python/tf/py_function\n",
    "# https://stackoverflow.com/a/46844409 - custom AUC reference 1\n",
    "# https://www.kaggle.com/c/santander-customer-transaction-prediction/discussion/80807  - custom AUC reference 2\n",
    "\n",
    "from sklearn.metrics import roc_auc_score\n",
    "import tensorflow as tf\n",
    "def auc1(y_true, y_pred):\n",
    "    if len(np.unique(y_true[:,1])) == 1:\n",
    "        return 0.5\n",
    "    else:\n",
    "        return roc_auc_score(y_true, y_pred)\n",
    "\n",
    "def aucroc(y_true, y_pred):\n",
    "    return tf.py_function(auc1, (y_true, y_pred), tf.double) #tf.compat.v1.py_func(roc_auc_score, (y_true, y_pred), tf.double)\n",
    "\n",
    "def changeLearningRate(epoch,lr):\n",
    "    if epoch<20:\n",
    "        lr=0.001\n",
    "        return lr\n",
    "    else :\n",
    "        lr=0.0001\n",
    "        return lr"
   ]
  },
  {
   "cell_type": "code",
   "execution_count": 67,
   "metadata": {
    "execution": {
     "iopub.execute_input": "2022-03-03T04:32:06.236313Z",
     "iopub.status.busy": "2022-03-03T04:32:06.235481Z",
     "iopub.status.idle": "2022-03-03T04:32:06.246591Z",
     "shell.execute_reply": "2022-03-03T04:32:06.247031Z",
     "shell.execute_reply.started": "2022-03-03T03:39:31.167575Z"
    },
    "papermill": {
     "duration": 0.577594,
     "end_time": "2022-03-03T04:32:06.247190",
     "exception": false,
     "start_time": "2022-03-03T04:32:05.669596",
     "status": "completed"
    },
    "tags": []
   },
   "outputs": [],
   "source": [
    "lrschedule = tf.keras.callbacks.LearningRateScheduler(changeLearningRate)\n",
    "\n",
    "optimizer=tf.keras.optimizers.Adam(learning_rate=0.001)\n",
    "model.compile(optimizer=optimizer, loss='categorical_crossentropy',metrics=['accuracy',aucroc])\n",
    "\n",
    "#earlystop = EarlyStopping(monitor='val_accuracy', min_delta=0.0005, patience=3, verbose=1)\n",
    "\n",
    "filepath= \"best_model_L1.h5\" #\"model_save/weights-{epoch:02d}-{val_accuracy:.4f}.hdf5\"\n",
    "checkpoint = ModelCheckpoint(filepath=filepath, monitor='val_aucroc',  verbose=1, save_best_only=True, mode='max')"
   ]
  },
  {
   "cell_type": "code",
   "execution_count": 68,
   "metadata": {
    "execution": {
     "iopub.execute_input": "2022-03-03T04:32:07.065761Z",
     "iopub.status.busy": "2022-03-03T04:32:07.065178Z",
     "iopub.status.idle": "2022-03-03T04:34:42.769996Z",
     "shell.execute_reply": "2022-03-03T04:34:42.769563Z",
     "shell.execute_reply.started": "2022-03-03T03:39:31.188741Z"
    },
    "papermill": {
     "duration": 156.117761,
     "end_time": "2022-03-03T04:34:42.770159",
     "exception": false,
     "start_time": "2022-03-03T04:32:06.652398",
     "status": "completed"
    },
    "scrolled": false,
    "tags": []
   },
   "outputs": [
    {
     "name": "stderr",
     "output_type": "stream",
     "text": [
      "2022-03-03 04:32:07.066329: I tensorflow/core/profiler/lib/profiler_session.cc:131] Profiler session initializing.\n",
      "2022-03-03 04:32:07.066375: I tensorflow/core/profiler/lib/profiler_session.cc:146] Profiler session started.\n",
      "2022-03-03 04:32:07.068367: I tensorflow/core/profiler/internal/gpu/cupti_tracer.cc:1614] Profiler found 1 GPUs\n",
      "2022-03-03 04:32:07.362485: I tensorflow/core/profiler/lib/profiler_session.cc:164] Profiler session tear down.\n",
      "2022-03-03 04:32:07.362667: I tensorflow/core/profiler/internal/gpu/cupti_tracer.cc:1748] CUPTI activity buffer flushed\n"
     ]
    },
    {
     "name": "stdout",
     "output_type": "stream",
     "text": [
      "Epoch 1/35\n",
      "  1/625 [..............................] - ETA: 8:49 - loss: 1.4736 - accuracy: 0.8438 - aucroc: 0.4939"
     ]
    },
    {
     "name": "stderr",
     "output_type": "stream",
     "text": [
      "2022-03-03 04:32:08.819394: I tensorflow/core/profiler/lib/profiler_session.cc:131] Profiler session initializing.\n",
      "2022-03-03 04:32:08.819442: I tensorflow/core/profiler/lib/profiler_session.cc:146] Profiler session started.\n"
     ]
    },
    {
     "name": "stdout",
     "output_type": "stream",
     "text": [
      "  2/625 [..............................] - ETA: 2:30 - loss: 1.4870 - accuracy: 0.8516 - aucroc: 0.5247"
     ]
    },
    {
     "name": "stderr",
     "output_type": "stream",
     "text": [
      "2022-03-03 04:32:09.055124: I tensorflow/core/profiler/lib/profiler_session.cc:66] Profiler session collecting data.\n",
      "2022-03-03 04:32:09.056130: I tensorflow/core/profiler/internal/gpu/cupti_tracer.cc:1748] CUPTI activity buffer flushed\n",
      "2022-03-03 04:32:09.206273: I tensorflow/core/profiler/internal/gpu/cupti_collector.cc:673]  GpuTracer has collected 131 callback api events and 124 activity events. \n",
      "2022-03-03 04:32:09.214415: I tensorflow/core/profiler/lib/profiler_session.cc:164] Profiler session tear down.\n",
      "2022-03-03 04:32:09.234000: I tensorflow/core/profiler/rpc/client/save_profile.cc:136] Creating directory: logs/fits/20220303-043207/train/plugins/profile/2022_03_03_04_32_09\n",
      "\n",
      "2022-03-03 04:32:09.239738: I tensorflow/core/profiler/rpc/client/save_profile.cc:142] Dumped gzipped tool data for trace.json.gz to logs/fits/20220303-043207/train/plugins/profile/2022_03_03_04_32_09/5e7bc349c0ac.trace.json.gz\n"
     ]
    },
    {
     "name": "stdout",
     "output_type": "stream",
     "text": [
      " 23/625 [>.............................] - ETA: 17s - loss: 1.2042 - accuracy: 0.8682 - aucroc: 0.7271"
     ]
    },
    {
     "name": "stderr",
     "output_type": "stream",
     "text": [
      "2022-03-03 04:32:09.260983: I tensorflow/core/profiler/rpc/client/save_profile.cc:136] Creating directory: logs/fits/20220303-043207/train/plugins/profile/2022_03_03_04_32_09\n",
      "\n",
      "2022-03-03 04:32:09.262394: I tensorflow/core/profiler/rpc/client/save_profile.cc:142] Dumped gzipped tool data for memory_profile.json.gz to logs/fits/20220303-043207/train/plugins/profile/2022_03_03_04_32_09/5e7bc349c0ac.memory_profile.json.gz\n",
      "2022-03-03 04:32:09.263408: I tensorflow/core/profiler/rpc/client/capture_profile.cc:251] Creating directory: logs/fits/20220303-043207/train/plugins/profile/2022_03_03_04_32_09\n",
      "Dumped tool data for xplane.pb to logs/fits/20220303-043207/train/plugins/profile/2022_03_03_04_32_09/5e7bc349c0ac.xplane.pb\n",
      "Dumped tool data for overview_page.pb to logs/fits/20220303-043207/train/plugins/profile/2022_03_03_04_32_09/5e7bc349c0ac.overview_page.pb\n",
      "Dumped tool data for input_pipeline.pb to logs/fits/20220303-043207/train/plugins/profile/2022_03_03_04_32_09/5e7bc349c0ac.input_pipeline.pb\n",
      "Dumped tool data for tensorflow_stats.pb to logs/fits/20220303-043207/train/plugins/profile/2022_03_03_04_32_09/5e7bc349c0ac.tensorflow_stats.pb\n",
      "Dumped tool data for kernel_stats.pb to logs/fits/20220303-043207/train/plugins/profile/2022_03_03_04_32_09/5e7bc349c0ac.kernel_stats.pb\n",
      "\n"
     ]
    },
    {
     "name": "stdout",
     "output_type": "stream",
     "text": [
      "625/625 [==============================] - 6s 8ms/step - loss: 0.5867 - accuracy: 0.8924 - aucroc: 0.9001 - val_loss: 0.3982 - val_accuracy: 0.9007 - val_aucroc: 0.9265\n",
      "\n",
      "Epoch 00001: val_aucroc improved from -inf to 0.92654, saving model to best_model_L1.h5\n",
      "Epoch 2/35\n",
      "625/625 [==============================] - 5s 7ms/step - loss: 0.3548 - accuracy: 0.9086 - aucroc: 0.9357 - val_loss: 0.3530 - val_accuracy: 0.8996 - val_aucroc: 0.9330\n",
      "\n",
      "Epoch 00002: val_aucroc improved from 0.92654 to 0.93297, saving model to best_model_L1.h5\n",
      "Epoch 3/35\n",
      "625/625 [==============================] - 5s 8ms/step - loss: 0.3051 - accuracy: 0.9108 - aucroc: 0.9384 - val_loss: 0.2830 - val_accuracy: 0.9149 - val_aucroc: 0.9321\n",
      "\n",
      "Epoch 00003: val_aucroc did not improve from 0.93297\n",
      "Epoch 4/35\n",
      "625/625 [==============================] - 4s 6ms/step - loss: 0.2802 - accuracy: 0.9132 - aucroc: 0.9403 - val_loss: 0.2586 - val_accuracy: 0.9199 - val_aucroc: 0.9369\n",
      "\n",
      "Epoch 00004: val_aucroc improved from 0.93297 to 0.93689, saving model to best_model_L1.h5\n",
      "Epoch 5/35\n",
      "625/625 [==============================] - 4s 7ms/step - loss: 0.2556 - accuracy: 0.9172 - aucroc: 0.9431 - val_loss: 0.2499 - val_accuracy: 0.9175 - val_aucroc: 0.9372\n",
      "\n",
      "Epoch 00005: val_aucroc improved from 0.93689 to 0.93725, saving model to best_model_L1.h5\n",
      "Epoch 6/35\n",
      "625/625 [==============================] - 4s 6ms/step - loss: 0.2448 - accuracy: 0.9175 - aucroc: 0.9439 - val_loss: 0.2329 - val_accuracy: 0.9218 - val_aucroc: 0.9399\n",
      "\n",
      "Epoch 00006: val_aucroc improved from 0.93725 to 0.93993, saving model to best_model_L1.h5\n",
      "Epoch 7/35\n",
      "625/625 [==============================] - 5s 7ms/step - loss: 0.2361 - accuracy: 0.9187 - aucroc: 0.9452 - val_loss: 0.2578 - val_accuracy: 0.9093 - val_aucroc: 0.9417\n",
      "\n",
      "Epoch 00007: val_aucroc improved from 0.93993 to 0.94166, saving model to best_model_L1.h5\n",
      "Epoch 8/35\n",
      "625/625 [==============================] - 4s 7ms/step - loss: 0.2330 - accuracy: 0.9184 - aucroc: 0.9457 - val_loss: 0.2236 - val_accuracy: 0.9219 - val_aucroc: 0.9411\n",
      "\n",
      "Epoch 00008: val_aucroc did not improve from 0.94166\n",
      "Epoch 9/35\n",
      "625/625 [==============================] - 4s 6ms/step - loss: 0.2279 - accuracy: 0.9191 - aucroc: 0.9457 - val_loss: 0.2332 - val_accuracy: 0.9131 - val_aucroc: 0.9410\n",
      "\n",
      "Epoch 00009: val_aucroc did not improve from 0.94166\n",
      "Epoch 10/35\n",
      "625/625 [==============================] - 4s 6ms/step - loss: 0.2217 - accuracy: 0.9209 - aucroc: 0.9471 - val_loss: 0.2214 - val_accuracy: 0.9176 - val_aucroc: 0.9430\n",
      "\n",
      "Epoch 00010: val_aucroc improved from 0.94166 to 0.94298, saving model to best_model_L1.h5\n",
      "Epoch 11/35\n",
      "625/625 [==============================] - 5s 8ms/step - loss: 0.2209 - accuracy: 0.9202 - aucroc: 0.9478 - val_loss: 0.2149 - val_accuracy: 0.9195 - val_aucroc: 0.9427\n",
      "\n",
      "Epoch 00011: val_aucroc did not improve from 0.94298\n",
      "Epoch 12/35\n",
      "625/625 [==============================] - 4s 7ms/step - loss: 0.2192 - accuracy: 0.9204 - aucroc: 0.9481 - val_loss: 0.2471 - val_accuracy: 0.9105 - val_aucroc: 0.9444\n",
      "\n",
      "Epoch 00012: val_aucroc improved from 0.94298 to 0.94438, saving model to best_model_L1.h5\n",
      "Epoch 13/35\n",
      "625/625 [==============================] - 4s 6ms/step - loss: 0.2152 - accuracy: 0.9219 - aucroc: 0.9490 - val_loss: 0.2355 - val_accuracy: 0.9141 - val_aucroc: 0.9446\n",
      "\n",
      "Epoch 00013: val_aucroc improved from 0.94438 to 0.94461, saving model to best_model_L1.h5\n",
      "Epoch 14/35\n",
      "625/625 [==============================] - 4s 7ms/step - loss: 0.2150 - accuracy: 0.9208 - aucroc: 0.9488 - val_loss: 0.2519 - val_accuracy: 0.9056 - val_aucroc: 0.9423\n",
      "\n",
      "Epoch 00014: val_aucroc did not improve from 0.94461\n",
      "Epoch 15/35\n",
      "625/625 [==============================] - 5s 8ms/step - loss: 0.2090 - accuracy: 0.9238 - aucroc: 0.9496 - val_loss: 0.2201 - val_accuracy: 0.9187 - val_aucroc: 0.9450\n",
      "\n",
      "Epoch 00015: val_aucroc improved from 0.94461 to 0.94502, saving model to best_model_L1.h5\n",
      "Epoch 16/35\n",
      "625/625 [==============================] - 4s 6ms/step - loss: 0.2120 - accuracy: 0.9226 - aucroc: 0.9499 - val_loss: 0.2296 - val_accuracy: 0.9143 - val_aucroc: 0.9445\n",
      "\n",
      "Epoch 00016: val_aucroc did not improve from 0.94502\n",
      "Epoch 17/35\n",
      "625/625 [==============================] - 4s 7ms/step - loss: 0.2097 - accuracy: 0.9229 - aucroc: 0.9502 - val_loss: 0.2039 - val_accuracy: 0.9240 - val_aucroc: 0.9457\n",
      "\n",
      "Epoch 00017: val_aucroc improved from 0.94502 to 0.94568, saving model to best_model_L1.h5\n",
      "Epoch 18/35\n",
      "625/625 [==============================] - 5s 7ms/step - loss: 0.2083 - accuracy: 0.9233 - aucroc: 0.9503 - val_loss: 0.2164 - val_accuracy: 0.9211 - val_aucroc: 0.9410\n",
      "\n",
      "Epoch 00018: val_aucroc did not improve from 0.94568\n",
      "Epoch 19/35\n",
      "625/625 [==============================] - 4s 7ms/step - loss: 0.2083 - accuracy: 0.9230 - aucroc: 0.9508 - val_loss: 0.2602 - val_accuracy: 0.8984 - val_aucroc: 0.9460\n",
      "\n",
      "Epoch 00019: val_aucroc improved from 0.94568 to 0.94604, saving model to best_model_L1.h5\n",
      "Epoch 20/35\n",
      "625/625 [==============================] - 4s 7ms/step - loss: 0.2067 - accuracy: 0.9239 - aucroc: 0.9512 - val_loss: 0.2047 - val_accuracy: 0.9240 - val_aucroc: 0.9454\n",
      "\n",
      "Epoch 00020: val_aucroc did not improve from 0.94604\n",
      "Epoch 21/35\n",
      "625/625 [==============================] - 5s 7ms/step - loss: 0.1933 - accuracy: 0.9298 - aucroc: 0.9535 - val_loss: 0.1990 - val_accuracy: 0.9258 - val_aucroc: 0.9485\n",
      "\n",
      "Epoch 00021: val_aucroc improved from 0.94604 to 0.94851, saving model to best_model_L1.h5\n",
      "Epoch 22/35\n",
      "625/625 [==============================] - 4s 7ms/step - loss: 0.1930 - accuracy: 0.9292 - aucroc: 0.9539 - val_loss: 0.1992 - val_accuracy: 0.9265 - val_aucroc: 0.9489\n",
      "\n",
      "Epoch 00022: val_aucroc improved from 0.94851 to 0.94890, saving model to best_model_L1.h5\n",
      "Epoch 23/35\n",
      "625/625 [==============================] - 5s 7ms/step - loss: 0.1924 - accuracy: 0.9293 - aucroc: 0.9540 - val_loss: 0.1994 - val_accuracy: 0.9258 - val_aucroc: 0.9489\n",
      "\n",
      "Epoch 00023: val_aucroc improved from 0.94890 to 0.94892, saving model to best_model_L1.h5\n",
      "Epoch 24/35\n",
      "625/625 [==============================] - 4s 6ms/step - loss: 0.1919 - accuracy: 0.9306 - aucroc: 0.9544 - val_loss: 0.1975 - val_accuracy: 0.9268 - val_aucroc: 0.9495\n",
      "\n",
      "Epoch 00024: val_aucroc improved from 0.94892 to 0.94953, saving model to best_model_L1.h5\n",
      "Epoch 25/35\n",
      "625/625 [==============================] - 4s 6ms/step - loss: 0.1910 - accuracy: 0.9302 - aucroc: 0.9542 - val_loss: 0.1965 - val_accuracy: 0.9272 - val_aucroc: 0.9496\n",
      "\n",
      "Epoch 00025: val_aucroc improved from 0.94953 to 0.94962, saving model to best_model_L1.h5\n",
      "Epoch 26/35\n",
      "625/625 [==============================] - 5s 8ms/step - loss: 0.1905 - accuracy: 0.9304 - aucroc: 0.9542 - val_loss: 0.1990 - val_accuracy: 0.9263 - val_aucroc: 0.9493\n",
      "\n",
      "Epoch 00026: val_aucroc did not improve from 0.94962\n",
      "Epoch 27/35\n",
      "625/625 [==============================] - 4s 6ms/step - loss: 0.1901 - accuracy: 0.9305 - aucroc: 0.9548 - val_loss: 0.1963 - val_accuracy: 0.9266 - val_aucroc: 0.9500\n",
      "\n",
      "Epoch 00027: val_aucroc improved from 0.94962 to 0.94996, saving model to best_model_L1.h5\n",
      "Epoch 28/35\n",
      "625/625 [==============================] - 4s 7ms/step - loss: 0.1900 - accuracy: 0.9308 - aucroc: 0.9547 - val_loss: 0.1956 - val_accuracy: 0.9275 - val_aucroc: 0.9501\n",
      "\n",
      "Epoch 00028: val_aucroc improved from 0.94996 to 0.95009, saving model to best_model_L1.h5\n",
      "Epoch 29/35\n",
      "625/625 [==============================] - 4s 7ms/step - loss: 0.1888 - accuracy: 0.9312 - aucroc: 0.9549 - val_loss: 0.2040 - val_accuracy: 0.9241 - val_aucroc: 0.9495\n",
      "\n",
      "Epoch 00029: val_aucroc did not improve from 0.95009\n",
      "Epoch 30/35\n",
      "625/625 [==============================] - 5s 8ms/step - loss: 0.1898 - accuracy: 0.9304 - aucroc: 0.9550 - val_loss: 0.1971 - val_accuracy: 0.9265 - val_aucroc: 0.9504\n",
      "\n",
      "Epoch 00030: val_aucroc improved from 0.95009 to 0.95035, saving model to best_model_L1.h5\n",
      "Epoch 31/35\n",
      "625/625 [==============================] - 4s 7ms/step - loss: 0.1886 - accuracy: 0.9308 - aucroc: 0.9553 - val_loss: 0.1943 - val_accuracy: 0.9276 - val_aucroc: 0.9503\n",
      "\n",
      "Epoch 00031: val_aucroc did not improve from 0.95035\n",
      "Epoch 32/35\n",
      "625/625 [==============================] - 4s 7ms/step - loss: 0.1885 - accuracy: 0.9314 - aucroc: 0.9556 - val_loss: 0.1964 - val_accuracy: 0.9258 - val_aucroc: 0.9503\n",
      "\n",
      "Epoch 00032: val_aucroc did not improve from 0.95035\n",
      "Epoch 33/35\n",
      "625/625 [==============================] - 4s 6ms/step - loss: 0.1885 - accuracy: 0.9307 - aucroc: 0.9558 - val_loss: 0.1964 - val_accuracy: 0.9268 - val_aucroc: 0.9506\n",
      "\n",
      "Epoch 00033: val_aucroc improved from 0.95035 to 0.95065, saving model to best_model_L1.h5\n",
      "Epoch 34/35\n",
      "625/625 [==============================] - 4s 6ms/step - loss: 0.1876 - accuracy: 0.9312 - aucroc: 0.9557 - val_loss: 0.1941 - val_accuracy: 0.9273 - val_aucroc: 0.9507\n",
      "\n",
      "Epoch 00034: val_aucroc improved from 0.95065 to 0.95071, saving model to best_model_L1.h5\n",
      "Epoch 35/35\n",
      "625/625 [==============================] - 4s 7ms/step - loss: 0.1870 - accuracy: 0.9311 - aucroc: 0.9558 - val_loss: 0.1976 - val_accuracy: 0.9250 - val_aucroc: 0.9502\n",
      "\n",
      "Epoch 00035: val_aucroc did not improve from 0.95071\n"
     ]
    },
    {
     "data": {
      "text/plain": [
       "<keras.callbacks.History at 0x7f96631fe090>"
      ]
     },
     "execution_count": 68,
     "metadata": {},
     "output_type": "execute_result"
    }
   ],
   "source": [
    "log_dir = os.path.join(\"logs\",'fits', datetime.datetime.now().strftime(\"%Y%m%d-%H%M%S\"))\n",
    "tensorboard_callback = tf.keras.callbacks.TensorBoard(log_dir=log_dir,histogram_freq=1,write_graph=True)\n",
    "\n",
    "model.fit([X_train_pooled_output],y_train_enc,epochs=35, \n",
    "            validation_data=([X_test_pooled_output],y_test_enc), \n",
    "            batch_size=128,\n",
    "           callbacks=[checkpoint,tensorboard_callback,lrschedule])"
   ]
  },
  {
   "cell_type": "code",
   "execution_count": 69,
   "metadata": {
    "execution": {
     "iopub.execute_input": "2022-03-03T04:34:45.233142Z",
     "iopub.status.busy": "2022-03-03T04:34:45.232281Z",
     "iopub.status.idle": "2022-03-03T04:34:45.262731Z",
     "shell.execute_reply": "2022-03-03T04:34:45.262004Z",
     "shell.execute_reply.started": "2022-03-03T03:42:05.970901Z"
    },
    "papermill": {
     "duration": 1.151911,
     "end_time": "2022-03-03T04:34:45.262854",
     "exception": false,
     "start_time": "2022-03-03T04:34:44.110943",
     "status": "completed"
    },
    "tags": []
   },
   "outputs": [],
   "source": [
    "model.save('best_bert.hdf5')"
   ]
  },
  {
   "cell_type": "markdown",
   "metadata": {
    "id": "kcILeYZI9pxm",
    "papermill": {
     "duration": 1.098092,
     "end_time": "2022-03-03T04:34:47.499001",
     "exception": false,
     "start_time": "2022-03-03T04:34:46.400909",
     "status": "completed"
    },
    "tags": []
   },
   "source": [
    "<Pre><font size=6>Part-6: Creating a Data pipeline for BERT Model</font> \n",
    "1. Pipeline is a way to codify and automate the workflow.\n",
    "2. Download the test.csv file from here <a href=\"https://drive.google.com/file/d/1QwjqTsqTX2vdy7fTmeXjxP3dq8IAVLpo/view?usp=sharing\">here</a> </pre>\n"
   ]
  },
  {
   "cell_type": "code",
   "execution_count": 70,
   "metadata": {
    "execution": {
     "iopub.execute_input": "2022-03-03T04:34:49.698077Z",
     "iopub.status.busy": "2022-03-03T04:34:49.697190Z",
     "iopub.status.idle": "2022-03-03T04:34:49.699217Z",
     "shell.execute_reply": "2022-03-03T04:34:49.699583Z",
     "shell.execute_reply.started": "2022-03-03T03:42:06.016597Z"
    },
    "id": "_74n3sgFjvlM",
    "papermill": {
     "duration": 1.102265,
     "end_time": "2022-03-03T04:34:49.699722",
     "exception": false,
     "start_time": "2022-03-03T04:34:48.597457",
     "status": "completed"
    },
    "tags": []
   },
   "outputs": [],
   "source": [
    "#there is an alterante way to load files from Google drive directly to your Colab session\n",
    "# you can use gdown module to import the files as follows\n",
    "#for example for test.csv you can write your code as !gdown --id file_id (remove the # from next line and run it)"
   ]
  },
  {
   "cell_type": "code",
   "execution_count": 71,
   "metadata": {
    "execution": {
     "iopub.execute_input": "2022-03-03T04:34:52.372025Z",
     "iopub.status.busy": "2022-03-03T04:34:52.371236Z",
     "iopub.status.idle": "2022-03-03T04:34:59.637795Z",
     "shell.execute_reply": "2022-03-03T04:34:59.637149Z",
     "shell.execute_reply.started": "2022-03-03T03:42:06.023622Z"
    },
    "papermill": {
     "duration": 8.366976,
     "end_time": "2022-03-03T04:34:59.637964",
     "exception": false,
     "start_time": "2022-03-03T04:34:51.270988",
     "status": "completed"
    },
    "tags": []
   },
   "outputs": [
    {
     "name": "stdout",
     "output_type": "stream",
     "text": [
      "Requirement already satisfied: gdown in /opt/conda/lib/python3.7/site-packages (4.4.0)\r\n",
      "Requirement already satisfied: six in /opt/conda/lib/python3.7/site-packages (from gdown) (1.16.0)\r\n",
      "Requirement already satisfied: beautifulsoup4 in /opt/conda/lib/python3.7/site-packages (from gdown) (4.10.0)\r\n",
      "Requirement already satisfied: requests[socks] in /opt/conda/lib/python3.7/site-packages (from gdown) (2.26.0)\r\n",
      "Requirement already satisfied: tqdm in /opt/conda/lib/python3.7/site-packages (from gdown) (4.62.3)\r\n",
      "Requirement already satisfied: filelock in /opt/conda/lib/python3.7/site-packages (from gdown) (3.4.2)\r\n",
      "Requirement already satisfied: soupsieve>1.2 in /opt/conda/lib/python3.7/site-packages (from beautifulsoup4->gdown) (2.3.1)\r\n",
      "Requirement already satisfied: idna<4,>=2.5 in /opt/conda/lib/python3.7/site-packages (from requests[socks]->gdown) (3.1)\r\n",
      "Requirement already satisfied: charset-normalizer~=2.0.0 in /opt/conda/lib/python3.7/site-packages (from requests[socks]->gdown) (2.0.9)\r\n",
      "Requirement already satisfied: urllib3<1.27,>=1.21.1 in /opt/conda/lib/python3.7/site-packages (from requests[socks]->gdown) (1.26.7)\r\n",
      "Requirement already satisfied: certifi>=2017.4.17 in /opt/conda/lib/python3.7/site-packages (from requests[socks]->gdown) (2021.10.8)\r\n",
      "Requirement already satisfied: PySocks!=1.5.7,>=1.5.6 in /opt/conda/lib/python3.7/site-packages (from requests[socks]->gdown) (1.7.1)\r\n",
      "\u001b[33mWARNING: Running pip as the 'root' user can result in broken permissions and conflicting behaviour with the system package manager. It is recommended to use a virtual environment instead: https://pip.pypa.io/warnings/venv\u001b[0m\r\n",
      "Note: you may need to restart the kernel to use updated packages.\n"
     ]
    }
   ],
   "source": [
    "pip install gdown"
   ]
  },
  {
   "cell_type": "code",
   "execution_count": 72,
   "metadata": {
    "execution": {
     "iopub.execute_input": "2022-03-03T04:35:01.850630Z",
     "iopub.status.busy": "2022-03-03T04:35:01.849862Z",
     "iopub.status.idle": "2022-03-03T04:35:04.826129Z",
     "shell.execute_reply": "2022-03-03T04:35:04.826578Z",
     "shell.execute_reply.started": "2022-03-03T03:42:13.381393Z"
    },
    "papermill": {
     "duration": 4.085227,
     "end_time": "2022-03-03T04:35:04.826744",
     "exception": false,
     "start_time": "2022-03-03T04:35:00.741517",
     "status": "completed"
    },
    "tags": []
   },
   "outputs": [
    {
     "name": "stdout",
     "output_type": "stream",
     "text": [
      "/opt/conda/lib/python3.7/site-packages/gdown/cli.py:131: FutureWarning: Option `--id` was deprecated in version 4.3.1 and will be removed in 5.0. You don't need to pass it anymore to use a file ID.\r\n",
      "  category=FutureWarning,\r\n",
      "Downloading...\r\n",
      "From: https://drive.google.com/uc?id=1-5MbEY9-gDX-XAB7dfYH4KO2rU06gh9e\r\n",
      "To: /kaggle/working/test.csv\r\n",
      "100%|██████████████████████████████████████| 62.1k/62.1k [00:00<00:00, 62.1MB/s]\r\n"
     ]
    }
   ],
   "source": [
    "!gdown --id 1-5MbEY9-gDX-XAB7dfYH4KO2rU06gh9e"
   ]
  },
  {
   "cell_type": "code",
   "execution_count": 73,
   "metadata": {
    "execution": {
     "iopub.execute_input": "2022-03-03T04:35:07.362766Z",
     "iopub.status.busy": "2022-03-03T04:35:07.361920Z",
     "iopub.status.idle": "2022-03-03T04:35:07.368937Z",
     "shell.execute_reply": "2022-03-03T04:35:07.368524Z",
     "shell.execute_reply.started": "2022-03-03T03:42:15.894459Z"
    },
    "id": "lQcoHbUKjgvF",
    "papermill": {
     "duration": 1.113762,
     "end_time": "2022-03-03T04:35:07.369074",
     "exception": false,
     "start_time": "2022-03-03T04:35:06.255312",
     "status": "completed"
    },
    "tags": []
   },
   "outputs": [],
   "source": [
    "#read the csv file\n",
    "test_df= pd.read_csv('test.csv')"
   ]
  },
  {
   "cell_type": "code",
   "execution_count": 74,
   "metadata": {
    "execution": {
     "iopub.execute_input": "2022-03-03T04:35:09.578999Z",
     "iopub.status.busy": "2022-03-03T04:35:09.578336Z",
     "iopub.status.idle": "2022-03-03T04:35:09.581198Z",
     "shell.execute_reply": "2022-03-03T04:35:09.581621Z",
     "shell.execute_reply.started": "2022-03-03T03:42:15.907041Z"
    },
    "papermill": {
     "duration": 1.118612,
     "end_time": "2022-03-03T04:35:09.581757",
     "exception": false,
     "start_time": "2022-03-03T04:35:08.463145",
     "status": "completed"
    },
    "tags": []
   },
   "outputs": [
    {
     "data": {
      "text/html": [
       "<div>\n",
       "<style scoped>\n",
       "    .dataframe tbody tr th:only-of-type {\n",
       "        vertical-align: middle;\n",
       "    }\n",
       "\n",
       "    .dataframe tbody tr th {\n",
       "        vertical-align: top;\n",
       "    }\n",
       "\n",
       "    .dataframe thead th {\n",
       "        text-align: right;\n",
       "    }\n",
       "</style>\n",
       "<table border=\"1\" class=\"dataframe\">\n",
       "  <thead>\n",
       "    <tr style=\"text-align: right;\">\n",
       "      <th></th>\n",
       "      <th>Text</th>\n",
       "    </tr>\n",
       "  </thead>\n",
       "  <tbody>\n",
       "    <tr>\n",
       "      <th>0</th>\n",
       "      <td>Just opened Greenies Joint Care (individually ...</td>\n",
       "    </tr>\n",
       "    <tr>\n",
       "      <th>1</th>\n",
       "      <td>This product rocks :) My mom was very happy w/...</td>\n",
       "    </tr>\n",
       "    <tr>\n",
       "      <th>2</th>\n",
       "      <td>The product was fine, but the cost of shipping...</td>\n",
       "    </tr>\n",
       "    <tr>\n",
       "      <th>3</th>\n",
       "      <td>I love this soup. It's great as part of a meal...</td>\n",
       "    </tr>\n",
       "    <tr>\n",
       "      <th>4</th>\n",
       "      <td>Getting ready to order again. These are great ...</td>\n",
       "    </tr>\n",
       "  </tbody>\n",
       "</table>\n",
       "</div>"
      ],
      "text/plain": [
       "                                                Text\n",
       "0  Just opened Greenies Joint Care (individually ...\n",
       "1  This product rocks :) My mom was very happy w/...\n",
       "2  The product was fine, but the cost of shipping...\n",
       "3  I love this soup. It's great as part of a meal...\n",
       "4  Getting ready to order again. These are great ..."
      ]
     },
     "execution_count": 74,
     "metadata": {},
     "output_type": "execute_result"
    }
   ],
   "source": [
    "test_df.head()"
   ]
  },
  {
   "cell_type": "code",
   "execution_count": 75,
   "metadata": {
    "execution": {
     "iopub.execute_input": "2022-03-03T04:35:11.787305Z",
     "iopub.status.busy": "2022-03-03T04:35:11.786403Z",
     "iopub.status.idle": "2022-03-03T04:35:11.789183Z",
     "shell.execute_reply": "2022-03-03T04:35:11.788653Z",
     "shell.execute_reply.started": "2022-03-03T03:42:15.920068Z"
    },
    "papermill": {
     "duration": 1.110114,
     "end_time": "2022-03-03T04:35:11.789306",
     "exception": false,
     "start_time": "2022-03-03T04:35:10.679192",
     "status": "completed"
    },
    "tags": []
   },
   "outputs": [],
   "source": [
    "from tqdm import tqdm\n",
    "from bs4 import BeautifulSoup\n",
    "import re"
   ]
  },
  {
   "cell_type": "code",
   "execution_count": 76,
   "metadata": {
    "execution": {
     "iopub.execute_input": "2022-03-03T04:35:14.043294Z",
     "iopub.status.busy": "2022-03-03T04:35:14.042384Z",
     "iopub.status.idle": "2022-03-03T04:35:14.044582Z",
     "shell.execute_reply": "2022-03-03T04:35:14.044057Z",
     "shell.execute_reply.started": "2022-03-03T03:42:15.926835Z"
    },
    "papermill": {
     "duration": 1.148886,
     "end_time": "2022-03-03T04:35:14.044694",
     "exception": false,
     "start_time": "2022-03-03T04:35:12.895808",
     "status": "completed"
    },
    "tags": []
   },
   "outputs": [],
   "source": [
    "def get_wordlen(x):\n",
    "    return len(x.split())"
   ]
  },
  {
   "cell_type": "code",
   "execution_count": 77,
   "metadata": {
    "execution": {
     "iopub.execute_input": "2022-03-03T04:35:16.688618Z",
     "iopub.status.busy": "2022-03-03T04:35:16.687560Z",
     "iopub.status.idle": "2022-03-03T04:35:16.690473Z",
     "shell.execute_reply": "2022-03-03T04:35:16.689874Z",
     "shell.execute_reply.started": "2022-03-03T03:42:15.936337Z"
    },
    "papermill": {
     "duration": 1.485988,
     "end_time": "2022-03-03T04:35:16.690633",
     "exception": false,
     "start_time": "2022-03-03T04:35:15.204645",
     "status": "completed"
    },
    "tags": []
   },
   "outputs": [],
   "source": [
    "def preprocessing(test_data):    \n",
    "    preprocessed_reviews = []\n",
    "    for sentence in tqdm(test_data['Text'].values):\n",
    "        sentence = re.sub(r\"http\\S+\", \" \", sentence)\n",
    "        sentence = BeautifulSoup(sentence, 'lxml').get_text()\n",
    "        sentence = re.sub(\"\\S*\\dS*\", \" \",sentence).strip()\n",
    "        sentence = re.sub('[^A-Za-z]+', \" \", sentence)\n",
    "        preprocessed_reviews.append(sentence.strip())\n",
    "    \n",
    "    test_data['Text'] = preprocessed_reviews\n",
    "    test_data['len'] = test_data.Text.apply(get_wordlen)\n",
    "    test_data = test_data[test_data.len<50]\n",
    "    \n",
    "    return test_data"
   ]
  },
  {
   "cell_type": "code",
   "execution_count": 78,
   "metadata": {
    "execution": {
     "iopub.execute_input": "2022-03-03T04:35:18.956242Z",
     "iopub.status.busy": "2022-03-03T04:35:18.955321Z",
     "iopub.status.idle": "2022-03-03T04:35:18.957248Z",
     "shell.execute_reply": "2022-03-03T04:35:18.957648Z",
     "shell.execute_reply.started": "2022-03-03T03:42:15.946816Z"
    },
    "papermill": {
     "duration": 1.105186,
     "end_time": "2022-03-03T04:35:18.957789",
     "exception": false,
     "start_time": "2022-03-03T04:35:17.852603",
     "status": "completed"
    },
    "tags": []
   },
   "outputs": [],
   "source": [
    "def load_bert_model():\n",
    "    ## Loading the Pretrained Model from tensorflow HUB\n",
    "    tf.keras.backend.clear_session()\n",
    "\n",
    "    # maximum length of a seq in the data we have, for now i am making it as 55. You can change this\n",
    "    max_seq_length = 55\n",
    "\n",
    "    #BERT takes 3 inputs\n",
    "\n",
    "    #this is input words. Sequence of words represented as integers\n",
    "    input_word_ids = tf.keras.layers.Input(shape=(max_seq_length,), dtype=tf.int32, name=\"input_word_ids\")\n",
    "\n",
    "    #mask vector if you are padding anything\n",
    "    input_mask = tf.keras.layers.Input(shape=(max_seq_length,), dtype=tf.int32, name=\"input_mask\")\n",
    "\n",
    "    #segment vectors. If you are giving only one sentence for the classification, total seg vector is 0. \n",
    "    #If you are giving two sentenced with [sep] token separated, first seq segment vectors are zeros and \n",
    "    #second seq segment vector are 1's\n",
    "    segment_ids = tf.keras.layers.Input(shape=(max_seq_length,), dtype=tf.int32, name=\"segment_ids\")\n",
    "\n",
    "    #bert layer \n",
    "    bert_layer = hub.KerasLayer(\"https://tfhub.dev/tensorflow/bert_en_uncased_L-12_H-768_A-12/1\", trainable=False)\n",
    "    pooled_output, sequence_output = bert_layer([input_word_ids, input_mask, segment_ids])\n",
    "\n",
    "    #Bert model\n",
    "    #We are using only pooled output not sequence out. \n",
    "    #If you want to know about those, please read https://www.kaggle.com/questions-and-answers/86510\n",
    "    bert_model = Model(inputs=[input_word_ids, input_mask, segment_ids], outputs=pooled_output)\n",
    "    \n",
    "    return bert_model"
   ]
  },
  {
   "cell_type": "code",
   "execution_count": 79,
   "metadata": {
    "execution": {
     "iopub.execute_input": "2022-03-03T04:35:21.178980Z",
     "iopub.status.busy": "2022-03-03T04:35:21.178102Z",
     "iopub.status.idle": "2022-03-03T04:35:21.179784Z",
     "shell.execute_reply": "2022-03-03T04:35:21.180301Z",
     "shell.execute_reply.started": "2022-03-03T03:42:15.959488Z"
    },
    "papermill": {
     "duration": 1.122362,
     "end_time": "2022-03-03T04:35:21.180440",
     "exception": false,
     "start_time": "2022-03-03T04:35:20.058078",
     "status": "completed"
    },
    "tags": []
   },
   "outputs": [],
   "source": [
    "\n",
    "\n",
    "def load_tokenizer():\n",
    "    \n",
    "    # if you are getting error for sentencepiece module you can install it using below command while running this cell for the first time\n",
    "    #!pip install sentencepiece\n",
    "    vocab_file = bert_layer.resolved_object.vocab_file.asset_path.numpy()\n",
    "    do_lower_case = bert_layer.resolved_object.do_lower_case.numpy()\n",
    "    tokenizer=tokenization.FullTokenizer(vocab_file,do_lower_case )\n",
    "    \n",
    "    return tokenizer"
   ]
  },
  {
   "cell_type": "code",
   "execution_count": 80,
   "metadata": {
    "execution": {
     "iopub.execute_input": "2022-03-03T04:35:23.804579Z",
     "iopub.status.busy": "2022-03-03T04:35:23.803413Z",
     "iopub.status.idle": "2022-03-03T04:35:23.805406Z",
     "shell.execute_reply": "2022-03-03T04:35:23.806520Z",
     "shell.execute_reply.started": "2022-03-03T03:42:15.973119Z"
    },
    "papermill": {
     "duration": 1.493078,
     "end_time": "2022-03-03T04:35:23.806738",
     "exception": false,
     "start_time": "2022-03-03T04:35:22.313660",
     "status": "completed"
    },
    "tags": []
   },
   "outputs": [],
   "source": [
    "def create_tokens(sent):\n",
    "\n",
    "    tks = tokenizer.tokenize(sent)\n",
    "    tks = tks[0:(max_seq_length-2)]\n",
    "    tks = ['[CLS]',*tks,'[SEP]']\n",
    "\n",
    "    mask_sen = np.array([1]*len(tks)+[0]*(max_seq_length-len(tks)))\n",
    "    seg_sen = np.array([0]*max_seq_length)\n",
    "    token_sen = np.array(tokenizer.convert_tokens_to_ids(tks)+[0]*(max_seq_length-len(tks)))\n",
    "    return token_sen, mask_sen, seg_sen"
   ]
  },
  {
   "cell_type": "code",
   "execution_count": 81,
   "metadata": {
    "execution": {
     "iopub.execute_input": "2022-03-03T04:35:26.115143Z",
     "iopub.status.busy": "2022-03-03T04:35:26.114589Z",
     "iopub.status.idle": "2022-03-03T04:35:26.118339Z",
     "shell.execute_reply": "2022-03-03T04:35:26.117896Z",
     "shell.execute_reply.started": "2022-03-03T03:42:15.983376Z"
    },
    "papermill": {
     "duration": 1.109565,
     "end_time": "2022-03-03T04:35:26.118458",
     "exception": false,
     "start_time": "2022-03-03T04:35:25.008893",
     "status": "completed"
    },
    "tags": []
   },
   "outputs": [],
   "source": [
    "def load_tks_mask_segm(data,tokenizer):\n",
    "    X_train_tk = []\n",
    "    X_train_mask = []\n",
    "    X_train_segm = []\n",
    "\n",
    "    for sent in tqdm(data['Text'].values):\n",
    "        token, mask, seg = create_tokens(sent)\n",
    "        X_train_tk.append(token)\n",
    "        X_train_mask.append(mask)\n",
    "        X_train_segm.append(seg)\n",
    "        \n",
    "    X_train_tk = np.array(X_train_tk)\n",
    "    X_train_mask = np.array(X_train_mask)\n",
    "    X_train_segm = np.array(X_train_segm)\n",
    "    \n",
    "    return X_train_tk,X_train_mask,X_train_segm"
   ]
  },
  {
   "cell_type": "code",
   "execution_count": 82,
   "metadata": {
    "execution": {
     "iopub.execute_input": "2022-03-03T04:35:28.624327Z",
     "iopub.status.busy": "2022-03-03T04:35:28.623456Z",
     "iopub.status.idle": "2022-03-03T04:35:28.625417Z",
     "shell.execute_reply": "2022-03-03T04:35:28.625843Z",
     "shell.execute_reply.started": "2022-03-03T03:42:15.995860Z"
    },
    "papermill": {
     "duration": 1.220011,
     "end_time": "2022-03-03T04:35:28.625983",
     "exception": false,
     "start_time": "2022-03-03T04:35:27.405972",
     "status": "completed"
    },
    "tags": []
   },
   "outputs": [],
   "source": [
    "from sklearn.metrics import roc_auc_score\n",
    "import tensorflow as tf\n",
    "def auc1(y_true, y_pred):\n",
    "    if len(np.unique(y_true[:,1])) == 1:\n",
    "        return 0.5\n",
    "    else:\n",
    "        return roc_auc_score(y_true, y_pred)\n",
    "\n",
    "def aucroc(y_true, y_pred):\n",
    "    return tf.py_function(auc1, (y_true, y_pred), tf.double) #tf.compat.v1.py_func(roc_auc_score, (y_true, y_pred), tf.double)\n",
    "\n",
    "def changeLearningRate(epoch,lr):\n",
    "    if epoch<20:\n",
    "        lr=0.001\n",
    "        return lr\n",
    "    else :\n",
    "        lr=0.0001\n",
    "        return lr"
   ]
  },
  {
   "cell_type": "markdown",
   "metadata": {
    "id": "-zii6hgejdhQ",
    "papermill": {
     "duration": 1.100254,
     "end_time": "2022-03-03T04:35:33.065672",
     "exception": false,
     "start_time": "2022-03-03T04:35:31.965418",
     "status": "completed"
    },
    "tags": []
   },
   "source": [
    "<Pre>1. You have to write a function that takes the test_df,trained model and the required parameters as input. \n",
    "2. Perform all the preproceesing steps inside the function.\n",
    "- Remove all the html tags\n",
    "- Now do tokenization [Part 3 as mentioned above]\n",
    "- Create tokens,mask array and segment array\n",
    "- Get Embeddings from BERT Model [Part 4 as mentioned above] , let it be X_test\n",
    "- Print the shape of output(X_test.shape).You should get (352,768)\n",
    "3. Predit the output of X_test with the neural network model which we trained earlier.\n",
    "\n",
    "4. Return the occurences of class labels from the function.\n",
    "The output should be the count of datapoints classified as 1 or 0.\n",
    "\n",
    "</pre>"
   ]
  },
  {
   "cell_type": "code",
   "execution_count": 83,
   "metadata": {
    "execution": {
     "iopub.execute_input": "2022-03-03T04:35:35.304956Z",
     "iopub.status.busy": "2022-03-03T04:35:35.304041Z",
     "iopub.status.idle": "2022-03-03T04:35:41.897172Z",
     "shell.execute_reply": "2022-03-03T04:35:41.897906Z",
     "shell.execute_reply.started": "2022-03-03T03:42:16.013532Z"
    },
    "id": "g9g6C_kgjcan",
    "papermill": {
     "duration": 7.735826,
     "end_time": "2022-03-03T04:35:41.898143",
     "exception": false,
     "start_time": "2022-03-03T04:35:34.162317",
     "status": "completed"
    },
    "tags": []
   },
   "outputs": [
    {
     "name": "stdout",
     "output_type": "stream",
     "text": [
      "Model: \"model\"\n",
      "__________________________________________________________________________________________________\n",
      "Layer (type)                    Output Shape         Param #     Connected to                     \n",
      "==================================================================================================\n",
      "input_word_ids (InputLayer)     [(None, 55)]         0                                            \n",
      "__________________________________________________________________________________________________\n",
      "input_mask (InputLayer)         [(None, 55)]         0                                            \n",
      "__________________________________________________________________________________________________\n",
      "segment_ids (InputLayer)        [(None, 55)]         0                                            \n",
      "__________________________________________________________________________________________________\n",
      "keras_layer (KerasLayer)        [(None, 768), (None, 109482241   input_word_ids[0][0]             \n",
      "                                                                 input_mask[0][0]                 \n",
      "                                                                 segment_ids[0][0]                \n",
      "==================================================================================================\n",
      "Total params: 109,482,241\n",
      "Trainable params: 0\n",
      "Non-trainable params: 109,482,241\n",
      "__________________________________________________________________________________________________\n"
     ]
    }
   ],
   "source": [
    "bert_model = load_bert_model()\n",
    "bert_model.summary()"
   ]
  },
  {
   "cell_type": "code",
   "execution_count": 84,
   "metadata": {
    "execution": {
     "iopub.execute_input": "2022-03-03T04:35:44.152087Z",
     "iopub.status.busy": "2022-03-03T04:35:44.151123Z",
     "iopub.status.idle": "2022-03-03T04:35:44.423769Z",
     "shell.execute_reply": "2022-03-03T04:35:44.424262Z",
     "shell.execute_reply.started": "2022-03-03T03:42:22.556397Z"
    },
    "papermill": {
     "duration": 1.396956,
     "end_time": "2022-03-03T04:35:44.424447",
     "exception": false,
     "start_time": "2022-03-03T04:35:43.027491",
     "status": "completed"
    },
    "tags": []
   },
   "outputs": [
    {
     "name": "stderr",
     "output_type": "stream",
     "text": [
      "100%|██████████| 352/352 [00:00<00:00, 1311.78it/s]\n"
     ]
    }
   ],
   "source": [
    "X_test_tokens, X_test_mask, X_test_segment = load_tks_mask_segm(test_df,tokenizer)"
   ]
  },
  {
   "cell_type": "code",
   "execution_count": 85,
   "metadata": {
    "execution": {
     "iopub.execute_input": "2022-03-03T04:35:46.714151Z",
     "iopub.status.busy": "2022-03-03T04:35:46.713464Z",
     "iopub.status.idle": "2022-03-03T04:35:46.716236Z",
     "shell.execute_reply": "2022-03-03T04:35:46.716648Z",
     "shell.execute_reply.started": "2022-03-03T03:42:22.831912Z"
    },
    "papermill": {
     "duration": 1.121508,
     "end_time": "2022-03-03T04:35:46.716792",
     "exception": false,
     "start_time": "2022-03-03T04:35:45.595284",
     "status": "completed"
    },
    "tags": []
   },
   "outputs": [
    {
     "data": {
      "text/plain": [
       "((352, 55), (352, 55), (352, 55))"
      ]
     },
     "execution_count": 85,
     "metadata": {},
     "output_type": "execute_result"
    }
   ],
   "source": [
    "X_test_tokens.shape, X_test_mask.shape, X_test_segment.shape"
   ]
  },
  {
   "cell_type": "code",
   "execution_count": 86,
   "metadata": {
    "execution": {
     "iopub.execute_input": "2022-03-03T04:35:49.004435Z",
     "iopub.status.busy": "2022-03-03T04:35:49.003061Z",
     "iopub.status.idle": "2022-03-03T04:35:49.006963Z",
     "shell.execute_reply": "2022-03-03T04:35:49.007525Z",
     "shell.execute_reply.started": "2022-03-03T03:42:22.839597Z"
    },
    "papermill": {
     "duration": 1.186315,
     "end_time": "2022-03-03T04:35:49.007713",
     "exception": false,
     "start_time": "2022-03-03T04:35:47.821398",
     "status": "completed"
    },
    "tags": []
   },
   "outputs": [
    {
     "data": {
      "text/plain": [
       "[<KerasTensor: shape=(None, 55) dtype=int32 (created by layer 'input_word_ids')>,\n",
       " <KerasTensor: shape=(None, 55) dtype=int32 (created by layer 'input_mask')>,\n",
       " <KerasTensor: shape=(None, 55) dtype=int32 (created by layer 'segment_ids')>]"
      ]
     },
     "execution_count": 86,
     "metadata": {},
     "output_type": "execute_result"
    }
   ],
   "source": [
    "bert_model.input"
   ]
  },
  {
   "cell_type": "code",
   "execution_count": 87,
   "metadata": {
    "execution": {
     "iopub.execute_input": "2022-03-03T04:35:51.458362Z",
     "iopub.status.busy": "2022-03-03T04:35:51.457661Z",
     "iopub.status.idle": "2022-03-03T04:35:51.460378Z",
     "shell.execute_reply": "2022-03-03T04:35:51.460785Z",
     "shell.execute_reply.started": "2022-03-03T03:42:22.850935Z"
    },
    "papermill": {
     "duration": 1.116291,
     "end_time": "2022-03-03T04:35:51.460921",
     "exception": false,
     "start_time": "2022-03-03T04:35:50.344630",
     "status": "completed"
    },
    "tags": []
   },
   "outputs": [
    {
     "data": {
      "text/plain": [
       "<KerasTensor: shape=(None, 768) dtype=float32 (created by layer 'keras_layer')>"
      ]
     },
     "execution_count": 87,
     "metadata": {},
     "output_type": "execute_result"
    }
   ],
   "source": [
    "bert_model.output"
   ]
  },
  {
   "cell_type": "code",
   "execution_count": 88,
   "metadata": {
    "execution": {
     "iopub.execute_input": "2022-03-03T04:35:53.740813Z",
     "iopub.status.busy": "2022-03-03T04:35:53.739985Z",
     "iopub.status.idle": "2022-03-03T04:35:55.879116Z",
     "shell.execute_reply": "2022-03-03T04:35:55.879679Z",
     "shell.execute_reply.started": "2022-03-03T03:42:22.860633Z"
    },
    "papermill": {
     "duration": 3.312651,
     "end_time": "2022-03-03T04:35:55.879886",
     "exception": false,
     "start_time": "2022-03-03T04:35:52.567235",
     "status": "completed"
    },
    "tags": []
   },
   "outputs": [
    {
     "data": {
      "text/plain": [
       "(352, 768)"
      ]
     },
     "execution_count": 88,
     "metadata": {},
     "output_type": "execute_result"
    }
   ],
   "source": [
    "X_test_p=bert_model.predict([X_test_tokens,X_test_mask,X_test_segment])\n",
    "X_test_p.shape"
   ]
  },
  {
   "cell_type": "code",
   "execution_count": 89,
   "metadata": {
    "execution": {
     "iopub.execute_input": "2022-03-03T04:35:58.501495Z",
     "iopub.status.busy": "2022-03-03T04:35:58.500642Z",
     "iopub.status.idle": "2022-03-03T04:35:58.544390Z",
     "shell.execute_reply": "2022-03-03T04:35:58.543933Z",
     "shell.execute_reply.started": "2022-03-03T03:42:25.463486Z"
    },
    "papermill": {
     "duration": 1.183146,
     "end_time": "2022-03-03T04:35:58.544517",
     "exception": false,
     "start_time": "2022-03-03T04:35:57.361371",
     "status": "completed"
    },
    "tags": []
   },
   "outputs": [],
   "source": [
    "model_bert = tf.keras.models.load_model('best_bert.hdf5',custom_objects={'aucroc':aucroc},compile=False)"
   ]
  },
  {
   "cell_type": "code",
   "execution_count": 90,
   "metadata": {
    "execution": {
     "iopub.execute_input": "2022-03-03T04:36:01.060733Z",
     "iopub.status.busy": "2022-03-03T04:36:01.059941Z",
     "iopub.status.idle": "2022-03-03T04:36:01.147822Z",
     "shell.execute_reply": "2022-03-03T04:36:01.148387Z",
     "shell.execute_reply.started": "2022-03-03T03:42:25.520523Z"
    },
    "papermill": {
     "duration": 1.474812,
     "end_time": "2022-03-03T04:36:01.148552",
     "exception": false,
     "start_time": "2022-03-03T04:35:59.673740",
     "status": "completed"
    },
    "tags": []
   },
   "outputs": [],
   "source": [
    "y_prob = model_bert.predict(X_test_p) \n",
    "y_classes = y_prob.argmax(axis=-1)"
   ]
  },
  {
   "cell_type": "code",
   "execution_count": 91,
   "metadata": {
    "execution": {
     "iopub.execute_input": "2022-03-03T04:36:03.428953Z",
     "iopub.status.busy": "2022-03-03T04:36:03.428414Z",
     "iopub.status.idle": "2022-03-03T04:36:03.432799Z",
     "shell.execute_reply": "2022-03-03T04:36:03.433208Z",
     "shell.execute_reply.started": "2022-03-03T03:42:25.614838Z"
    },
    "papermill": {
     "duration": 1.14559,
     "end_time": "2022-03-03T04:36:03.433355",
     "exception": false,
     "start_time": "2022-03-03T04:36:02.287765",
     "status": "completed"
    },
    "tags": []
   },
   "outputs": [
    {
     "data": {
      "text/plain": [
       "array([0, 1, 0, 1, 1, 1, 0, 1, 1, 1, 1, 1, 0, 1, 1, 0, 1, 1, 1, 1, 1, 1,\n",
       "       1, 1, 1, 1, 1, 1, 1, 1, 0, 1, 1, 1, 1, 1, 0, 1, 1, 1, 0, 1, 1, 1,\n",
       "       0, 1, 1, 1, 1, 1, 1, 1, 1, 0, 0, 1, 1, 1, 1, 1, 1, 1, 1, 1, 1, 1,\n",
       "       1, 1, 1, 1, 1, 1, 1, 1, 1, 1, 1, 1, 1, 1, 1, 0, 1, 1, 0, 0, 1, 1,\n",
       "       1, 1, 1, 1, 1, 1, 1, 1, 0, 1, 1, 1, 1, 1, 1, 1, 1, 1, 1, 1, 1, 1,\n",
       "       1, 1, 1, 1, 1, 1, 1, 1, 1, 1, 1, 1, 0, 1, 1, 1, 1, 1, 1, 1, 1, 1,\n",
       "       1, 1, 1, 1, 1, 1, 1, 1, 1, 0, 1, 1, 1, 1, 1, 1, 1, 1, 1, 1, 1, 1,\n",
       "       1, 1, 1, 1, 1, 1, 1, 1, 1, 1, 1, 1, 1, 1, 1, 1, 1, 1, 1, 1, 0, 1,\n",
       "       1, 1, 1, 1, 0, 1, 1, 1, 1, 1, 1, 0, 1, 1, 1, 1, 1, 1, 1, 1, 1, 1,\n",
       "       1, 1, 1, 1, 1, 1, 1, 1, 1, 1, 1, 1, 1, 1, 1, 1, 1, 1, 1, 1, 1, 1,\n",
       "       1, 1, 1, 1, 1, 1, 1, 0, 1, 1, 0, 1, 0, 1, 1, 0, 1, 1, 1, 0, 1, 1,\n",
       "       1, 1, 1, 0, 1, 1, 1, 1, 0, 1, 1, 1, 1, 1, 1, 0, 0, 1, 1, 0, 1, 1,\n",
       "       1, 1, 1, 1, 1, 1, 1, 0, 1, 1, 1, 1, 1, 1, 1, 0, 1, 1, 1, 1, 1, 1,\n",
       "       1, 1, 1, 1, 1, 0, 1, 1, 1, 1, 1, 1, 1, 1, 1, 1, 0, 1, 1, 1, 1, 0,\n",
       "       1, 1, 1, 1, 1, 1, 1, 1, 1, 1, 1, 1, 1, 1, 1, 1, 1, 1, 0, 0, 1, 1,\n",
       "       1, 1, 1, 1, 1, 1, 1, 1, 1, 1, 1, 1, 1, 1, 1, 1, 1, 1, 1, 1, 1, 1])"
      ]
     },
     "execution_count": 91,
     "metadata": {},
     "output_type": "execute_result"
    }
   ],
   "source": [
    "#Output of Xtest ,occurences of Class Labels\n",
    "y_classes"
   ]
  },
  {
   "cell_type": "markdown",
   "metadata": {
    "papermill": {
     "duration": 1.113098,
     "end_time": "2022-03-03T04:36:10.149616",
     "exception": false,
     "start_time": "2022-03-03T04:36:09.036518",
     "status": "completed"
    },
    "tags": []
   },
   "source": [
    "1) Preprocessed the data\n",
    "\n",
    "2) Got the embeddings from bert model.\n",
    "\n",
    "3) Bert model is state of the art model, in first interation, it started giving train and test accuracy above 88 % .\n",
    "\n",
    "4) In each iteration, it's started reducing the loss and inceasing accuracy and ROC_AUC."
   ]
  },
  {
   "cell_type": "code",
   "execution_count": null,
   "metadata": {},
   "outputs": [],
   "source": []
  }
 ],
 "metadata": {
  "kernelspec": {
   "display_name": "Python 3",
   "language": "python",
   "name": "python3"
  },
  "language_info": {
   "codemirror_mode": {
    "name": "ipython",
    "version": 3
   },
   "file_extension": ".py",
   "mimetype": "text/x-python",
   "name": "python",
   "nbconvert_exporter": "python",
   "pygments_lexer": "ipython3",
   "version": "3.6.5"
  },
  "papermill": {
   "default_parameters": {},
   "duration": 720.240273,
   "end_time": "2022-03-03T04:36:16.846420",
   "environment_variables": {},
   "exception": null,
   "input_path": "__notebook__.ipynb",
   "output_path": "__notebook__.ipynb",
   "parameters": {},
   "start_time": "2022-03-03T04:24:16.606147",
   "version": "2.3.3"
  }
 },
 "nbformat": 4,
 "nbformat_minor": 5
}
